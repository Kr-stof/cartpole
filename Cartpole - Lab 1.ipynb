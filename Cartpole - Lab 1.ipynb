{
  "cells": [
    {
      "cell_type": "markdown",
      "metadata": {
        "id": "view-in-github",
        "colab_type": "text"
      },
      "source": [
        "<a href=\"https://colab.research.google.com/github/Kr-stof/cartpole/blob/main/Cartpole%20-%20Lab%201.ipynb\" target=\"_parent\"><img src=\"https://colab.research.google.com/assets/colab-badge.svg\" alt=\"Open In Colab\"/></a>"
      ]
    },
    {
      "cell_type": "code",
      "source": [
        "!apt-get install -y xvfb python-opengl > /dev/null 2>&1\n",
        "!pip install gym pyvirtualdisplay > /dev/null 2>&1\n",
        "!pip install gym pyvirtualdisplay > /dev/null 2>&1\n",
        "!apt-get install -y xvfb python-opengl ffmpeg > /dev/null 2>&1\n",
        "!pip install pygame==2.5.2 --only-binary :all:\n",
        "!pip install gym==0.25.2 --no-deps\n",
        "!pip install gym[classic_control] --no-deps\n",
        "!apt-get update > /dev/null 2>&1\n",
        "!apt-get install cmake > /dev/null 2>&1\n",
        "# !pip install --upgrade setuptools 2>&1\n",
        "!pip install ez_setup > /dev/null 2>&1"
      ],
      "metadata": {
        "id": "NkYLj16aPFMv"
      },
      "id": "NkYLj16aPFMv",
      "execution_count": null,
      "outputs": []
    },
    {
      "cell_type": "markdown",
      "source": [
        "## Importing Dependencies & Defining Helper Functions"
      ],
      "metadata": {
        "id": "KrRR2n7Kwuu0"
      },
      "id": "KrRR2n7Kwuu0"
    },
    {
      "cell_type": "code",
      "source": [
        "import gym\n",
        "from gym import logger as gymlogger\n",
        "from gym.wrappers import RecordVideo\n",
        "gymlogger.set_level(40) # error only\n",
        "import tensorflow as tf\n",
        "import numpy as np\n",
        "import random\n",
        "import matplotlib\n",
        "import matplotlib.pyplot as plt\n",
        "%matplotlib inline\n",
        "import math\n",
        "import glob\n",
        "import io\n",
        "import base64\n",
        "from IPython.display import HTML\n",
        "from IPython import display as ipythondisplay\n",
        "\n",
        "def show_video():\n",
        "  mp4list = glob.glob('video/*.mp4')\n",
        "\n",
        "  if len(mp4list) > 0:\n",
        "    mp4 = mp4list[0]\n",
        "    video = io.open(mp4, 'r+b').read()\n",
        "    encoded = base64.b64encode(video)\n",
        "    ipythondisplay.display(HTML(data='''\n",
        "    <video alt=\"test\" autoplay loop controls style=\"height: 400px;\">\n",
        "      <source src=\"data:video/mp4;base64,{0}\" type=\"video/mp4\" />\n",
        "    </video>\n",
        "    '''.format(encoded.decode('ascii'))))\n",
        "  else:\n",
        "    print(\"Could not find video\")"
      ],
      "metadata": {
        "id": "URnI7divv0_N"
      },
      "id": "URnI7divv0_N",
      "execution_count": null,
      "outputs": []
    },
    {
      "cell_type": "markdown",
      "source": [
        "## Loading CartPole Environment"
      ],
      "metadata": {
        "id": "C8wIP62OxvSm"
      },
      "id": "C8wIP62OxvSm"
    },
    {
      "cell_type": "code",
      "source": [
        "env = gym.make(\"CartPole-v1\")"
      ],
      "metadata": {
        "id": "UDFkMTgfxosn"
      },
      "id": "UDFkMTgfxosn",
      "execution_count": null,
      "outputs": []
    },
    {
      "cell_type": "markdown",
      "source": [
        "### Action Space\n",
        "\n",
        "We can check the action and observation space of this environment. Discrete(2) means that there are two valid discrete actions: 0 & 1."
      ],
      "metadata": {
        "id": "oNbNYqCPx5KK"
      },
      "id": "oNbNYqCPx5KK"
    },
    {
      "cell_type": "code",
      "source": [
        "print(env.action_space)"
      ],
      "metadata": {
        "id": "hzMiKcgpx6CK",
        "outputId": "a4a41a0f-16d2-422e-811d-6320f67b0c85",
        "colab": {
          "base_uri": "https://localhost:8080/"
        }
      },
      "id": "hzMiKcgpx6CK",
      "execution_count": null,
      "outputs": [
        {
          "output_type": "stream",
          "name": "stdout",
          "text": [
            "Discrete(2)\n"
          ]
        }
      ]
    },
    {
      "cell_type": "markdown",
      "source": [
        "### Observation Space\n",
        "\n",
        "| Num | Observation           | Min                 | Max                |\n",
        "| :-: | :-------------------: | :-----------------: | :----------------: |\n",
        "| 0   | Cart Position         | -4.8                | 4.8                |\n",
        "| 1   | Cart Velocity         | -INF                | INF                |\n",
        "| 2   | Pole Angle            | ~ -0.418 RAD (-24°) | ~ 0.418 RAD (-24°) |\n",
        "| 3   | Pole Angular Velocity | -INF                | INF                |"
      ],
      "metadata": {
        "id": "iwG-sTXS_S6S"
      },
      "id": "iwG-sTXS_S6S"
    },
    {
      "cell_type": "markdown",
      "source": [
        "The observation space is given below. The first two arrays define the min and max values of the 4 observed values, corresponding to cart position, velocity and pole angle, angular velocity."
      ],
      "metadata": {
        "id": "xhdDH2qEyKQc"
      },
      "id": "xhdDH2qEyKQc"
    },
    {
      "cell_type": "code",
      "source": [
        "print(env.observation_space)"
      ],
      "metadata": {
        "id": "VKv1a-0Hx8ma",
        "outputId": "77e479e0-bcf7-4969-f3a2-4ce938401c7a",
        "colab": {
          "base_uri": "https://localhost:8080/"
        }
      },
      "id": "VKv1a-0Hx8ma",
      "execution_count": null,
      "outputs": [
        {
          "output_type": "stream",
          "name": "stdout",
          "text": [
            "Box([-4.8000002e+00 -3.4028235e+38 -4.1887903e-01 -3.4028235e+38], [4.8000002e+00 3.4028235e+38 4.1887903e-01 3.4028235e+38], (4,), float32)\n"
          ]
        }
      ]
    },
    {
      "cell_type": "markdown",
      "source": [
        "We call each round of the pole-balancing game an \"episode\". At the start of each episode, make sure the environment is reset, which chooses a random initial state, e.g., pole slightly tilted to the right. This initialization can be achieved by the code below, which returns the observation of the initial state."
      ],
      "metadata": {
        "id": "B-qsTJwAyyA5"
      },
      "id": "B-qsTJwAyyA5"
    },
    {
      "cell_type": "code",
      "source": [
        "observation = env.reset()\n",
        "print(\"Initial observations:\", observation)"
      ],
      "metadata": {
        "id": "DK7EMtbHyMiq",
        "outputId": "8c90eef7-b5ea-4bbc-e8f1-6cf09d88bf1b",
        "colab": {
          "base_uri": "https://localhost:8080/"
        }
      },
      "id": "DK7EMtbHyMiq",
      "execution_count": null,
      "outputs": [
        {
          "output_type": "stream",
          "name": "stdout",
          "text": [
            "Initial observations: [-0.03120268  0.02169537  0.04616714  0.00295623]\n"
          ]
        }
      ]
    },
    {
      "cell_type": "markdown",
      "source": [
        "### Reward\n",
        "\n",
        "For the CartPole environment, there are two possible actions: 0 for pushing to the left and 1 for pushing to the right. For example, we can push the cart to the left using code below, which returns the new observation, the current reward, an indicator of whether the game ends, and some additional information (not used in this project). For CartPole, the game ends when the pole is significantly tilted or you manage to balance the pole for 500 steps. You get exactly 1 reward for each step before the game ends (i.e., max cumulative reward is 500)."
      ],
      "metadata": {
        "id": "4A_m-Or6y-Mw"
      },
      "id": "4A_m-Or6y-Mw"
    },
    {
      "cell_type": "code",
      "source": [
        "observation, reward, done, info = env.step(0)\n",
        "print(\"New observations after choosing action 0:\", observation)\n",
        "print(\"Reward for this step:\", reward)\n",
        "print(\"Is this round done?\", done)"
      ],
      "metadata": {
        "id": "KNSEXXFiy7OL",
        "outputId": "39d52b5c-dbfb-43a8-f75e-e52d3fa9ddb7",
        "colab": {
          "base_uri": "https://localhost:8080/"
        }
      },
      "id": "KNSEXXFiy7OL",
      "execution_count": null,
      "outputs": [
        {
          "output_type": "stream",
          "name": "stdout",
          "text": [
            "New observations after choosing action 0: [-0.03424992 -0.3698063   0.05242307  0.6167362 ]\n",
            "Reward for this step: 1.0\n",
            "Is this round done? False\n"
          ]
        }
      ]
    },
    {
      "cell_type": "markdown",
      "source": [
        "### Starting State\n",
        "\n",
        "All observations are assigned a uniformly random value in (-0.05, 0.05)."
      ],
      "metadata": {
        "id": "qqH5-PzczbxR"
      },
      "id": "qqH5-PzczbxR"
    },
    {
      "cell_type": "markdown",
      "source": [
        "### Episode End\n",
        "\n",
        "The episode ends if any one of the following occurs:\n",
        "Termination: Pole Angle is greater than ±12°\n",
        "Termination: Cart Position is greater than ±2.4 (center of the cart reaches the edge of the display)\n",
        "Truncation: Episode length is greater than 500."
      ],
      "metadata": {
        "id": "H9gs2pkYnDDq"
      },
      "id": "H9gs2pkYnDDq"
    },
    {
      "cell_type": "markdown",
      "source": [
        "### Example\n",
        "\n",
        "Now we can play a full round of the game using a naive strategy (always choosing action 0), and show the cumulative reward in the round. Note that reward returned by env.step(*) corresponds to the reward for current step. So we have to accumulate the reward for each step. Clearly, the naive strategy performs poorly by surviving only a dozen of steps."
      ],
      "metadata": {
        "id": "XKolGAJPnEAv"
      },
      "id": "XKolGAJPnEAv"
    },
    {
      "cell_type": "code",
      "source": [
        "observation = env.reset()\n",
        "cumulative_reward = 0\n",
        "done = False\n",
        "while not done:\n",
        "  observation, reward, done, info = env.step(0)\n",
        "  cumulative_reward += reward\n",
        "print(\"Cumulative reward for this round:\", cumulative_reward)"
      ],
      "metadata": {
        "id": "-jibTfhdzS4y",
        "outputId": "b7888eb5-0b22-4e31-c5fb-568ece2f7492",
        "colab": {
          "base_uri": "https://localhost:8080/"
        }
      },
      "id": "-jibTfhdzS4y",
      "execution_count": null,
      "outputs": [
        {
          "output_type": "stream",
          "name": "stdout",
          "text": [
            "Cumulative reward for this round: 10.0\n"
          ]
        }
      ]
    },
    {
      "cell_type": "markdown",
      "source": [
        "## Task 1: Development of an RL Agent"
      ],
      "metadata": {
        "id": "ooWeqivxWu49"
      },
      "id": "ooWeqivxWu49"
    },
    {
      "cell_type": "markdown",
      "source": [
        "### Deep Q-Network\n",
        "\n",
        "I have decided to opt for the implementation of the DQN RL algorithm as it is the most optimal algorithm from the ones covered in the lecture for this task for the reasons listed below.\n",
        "- The env has a continuous State Space, which Q-Learning cannot handle without discretization.\n",
        "- DQN allows generalization across continuous inputs."
      ],
      "metadata": {
        "id": "K8XkH4hvTDa0"
      },
      "id": "K8XkH4hvTDa0"
    },
    {
      "cell_type": "markdown",
      "source": [
        "#### DQN Theoretical Background"
      ],
      "metadata": {
        "id": "OZt55A8zpbg4"
      },
      "id": "OZt55A8zpbg4"
    },
    {
      "cell_type": "markdown",
      "source": [
        "- *Note: Observation and State may be use interchangably throughout the project.*\n",
        "- My implementation is based on the following algorithm, Deep Q-Learning using Experience Replay, i.e., storing a fixed number of the most recently collected\n",
        "transitions for training.\n",
        "- The algorithm is a modified version of the Q-Learning algorithm included in the lecture notes.\n",
        "- I will be referring back to this algorithm throughout the explaination of my code.\n",
        "- **Summary of logic which will be adapted from the algorithm:**\n",
        "  - *Note: Preprocessing the observation sequence is not required for CartPole, as image input is not involved.*\n",
        "  - `Q` Represents the agent's action-value function approximator (DQN), estimating Q(s, a), i.e., the expected return from taking action a in state s.\n",
        "  - `D` Replay memory used to store past transitions (state, action, reward, next state, done).\n",
        "  - `EPSILON` Controls exploration in ε-greedy policy (random VS best action).\n",
        "  - For each timestep, the agent:\n",
        "    - Selects action `a[t]` and observes reward `r[t]`, next state `s[t + 1]` and `done[t]` flag.\n",
        "    - Stores the transition (`s[t]`,`a[t]`,`r[t]`,`s[t + 1]`, `done[t]`) in replay memory `D`.\n",
        "    - Periodically, the agent samples previously stored transition data from memory `D` (Prioritized Experience Replay is used instead of random sampling, this means an extra variable `priority[t]` will be added into replay memory in my implementation).\n",
        "    - For each transition (`s[j]`,`a[j]`,`r[j]`,`s[j + 1]`, `done[j]`) `y[j]`, i.e., the TD target is computed:\n",
        "      - If `done[j]` is true (i.e., next state is terminal):\n",
        "        - `y[j] = r[j]`\n",
        "      - If `done[j]` is false:\n",
        "        - `y[j] = r[j] + GAMMA * max(Q(s[j + 1], a)`\n",
        "      - Compute the loss as the MSE between the TD target and the predicted Q-Value for the taken action:\n",
        "        - `loss = (y[j] - Q(s[j], a[j]))^2`\n",
        "      - Finally, compute TD Error for Prioritized Experience Replay, and update `priority[j]` in the replay memory:\n",
        "        - `td_error = y[j] - Q(s[j], a[j])`\n",
        "        - `priority[j] = td_error + 1e-6`"
      ],
      "metadata": {
        "id": "xw8ZaQEqlrls"
      },
      "id": "xw8ZaQEqlrls"
    },
    {
      "cell_type": "markdown",
      "source": [
        "![dqn_algorithm.PNG](data:image/png;base64,iVBORw0KGgoAAAANSUhEUgAAArcAAAFjCAYAAAAn2iPTAAAAAXNSR0IArs4c6QAAAARnQU1BAACxjwv8YQUAAAAJcEhZcwAADsMAAA7DAcdvqGQAAP+lSURBVHhe7P0HVBRXA7iNC+suiqioyWuMJppGTF4ToyR2Y42aqDEaa6ImikZjj72BIAoWxIK9G42S2BXFv70X5GcFwb/0D0E9Uj7Al+W3u+f57hZggWUBS0L0PufMOTA7c+e2mfvMnTt3yiCRSCQSiUQikbwkSLmVSCQSiUQikbw0SLmVSCQSiUQikbw0SLmVSCQSiUQikbw0SLmVSCQSiUQikbw0SLmVSCQSiUQikbw0SLmVSCQSiUQikbw0SLmVSCQSiUQikbw0SLmVSCQSiUQikbw0SLmVSCQSiUQikbw0SLmVSCQSiUQikbw0SLmVSCQSiUQikbw0PFe53bhxI/Pnz5eLXOQiF7nIRS5ykYtcnmrZtGmTySyfjucqt19//TXvvPOOXOQiF7nIRS5ykYtc5PJUi94nnwU5LEEikUgkEolE8tIg5VYikUgkEolE8tIg5VYikUgkEolE8tLwguVWw519uwjOMP2bBzVxwSc5fvy4WE4SHJtpWv+C0T3i0u+LWLLzJqmmVQVQxxF8Uh8vsZwMItpi/F8c6feOsut0LFrT//9utKTFhRB0/jxBIXGklShRWlIjLxIcrTH9/w8g6sLlk8Ek/oNRsIQ67jIngxPFGVY42tQILt+8/5LUI0EpLYu/n1JwXkgkEkkp5sXKbfpBBteqStcNCehMq3LJIu7YRL6wt6FMGSUtFkb+LY2wOnAINRVlsFF+yoxgs8ZBl8Slg6e5r49oVhynXFtR2bYMZZRf4Bn6d8QsnYijK/it2ydUU5blnVGnhP5b5smdAywe3Yrq+nRUeJ82vfrRr8/3dG7TlOYdf2TSiuNEPTFt/I+hIfaoF/0afcQX3X9lhtc83EZ154u6jejrdYTYItplTfRJVo5sRlWFHV02Fnob8sLJ8O9FZUUNBgf8TTdfxSID/16VUdQYjMVo6VK4tmU4jRzL8tqAvRQn5rqUG+z06s+nFcX5aFuN+p370K+fqFf9+tK7eyca13agXIfVPDJt/09QOssCMsMO4jO0MdXE9cK20oe0792XXt91oOlnzrTt78aft9NNWz47peW8kEgkktLMC5RbHQ9/704VWxvKNfXmjiU/VB/n17cVf6vcakIX07aqAmWtvmyLz1ZuLVGbe/D2p1O5YpKurHO/4VT2b5JbbQQHF3kwe9p3vKs/ZhmFVbk1kLmLH6rYomy+gIic6GURf3I+3d6xw+HjAWwM+ackQOTn1r7UKV+H3pvCMPfsrIgt9Hnbnjp9txJVRLbq7vvRVvUPN+KZsVw6HkRClun/UkJm7CWOByWIEs9Gx/0L57mbfdOgDWH256piy60BXQLL26koY9eFjWmmdSZ0D3Yw4Iflxpu/f4pSWhYGMv6gRwUbVG2W5eSR7vFJJjQoh+I/3dkc9/wyrlScFxKJRFKKeXFyq41iSRt7bMoIWSvrxPhzFlRNL7e1/1651aPLTCMtp4HUkXR6Oo0r21L2v/+Q3GaTuZ+f/2NbTLk1bqtssZDIfNHT3F1Bp2q2qD4cw/F8kvJ3oIvbQFdxA1Hpm7UWZEhH3JpvcFRUpev6OAs9+mY8XEUH2YgXC/XtxXRoMIJj2ZVGe4e5jUootySz7ms7Ibdd2VSg3mRwJziE59cH+ZLx5C/6Ogq5betHQk6l1nJvXlOUNuX5Zv1j07rngDwvJBKJxCovTG41N2bTs+f3ONvphx3Y8kb/3aSYfsvBotw+4e6+Obh068aPw4fQo2NnBo6ZzNSpU5m5OdiwBVkxHPUZyYCfhjFm2ED6j1hAYLTRVnUJR/Fy6UWP7t3pMcCX81EBePRrjXOjXiw+fYZVI/oafuveazI743RkXZ5NY0e9UJbBtnJd2nXvjduhpDxyO/vcSRa5dKJRfWfaD1nO5WR965VO0JpR/NBDhNW9F1N3hXBqYX9a1/+Ies36sOhCKtqHJ/Hu04JP/utMh2FrCC6qLVIHMrSmPj+eTW5F7hM841PRqDrQcVV8jkCm39mL7/SRDBk2ifn+1zAkI4d07uz1ZfrIIQybNB//a8mm/bQkhx5mtedGLieFsHfRFIb/Mp55u24XIjpa7ng1RiUa9I6rH1iUV92DNXSyFyLQaK7lHv1sLDbihcVToEvm9p4V+C5bxtypU1iwPzyn11iXHsWpjXPZcPExN/09GDXKlzMJ97l+YAVua86THnuS1TNHMHTMAg6Z6pIezePbBKzyZFOQaZ06sch99Gjun2H9PA9mTJyMu58/J67fIzb+AWkFhmNoiT68lNnus3Cft5ZTsVnEn1nHPP3/HvNZezxS1AMdydf/ZNFsT9adfSj+0/D4dgCrPDehj9aT2+vp61QOW8fGDHLzwPegOJdy5HYPj0L2smjqcIaM8mLvPWuqW5jcZnDqr/0YHnToHhK0fTGe+vjNWc6+kATuHl7JXHdPFvsH81i/jTaZ0MOr8dx4mST9sacM55fx89iV7/F8YfXRYlkliVTnLwsDhdUHNYnXD7DCbQ3n02M5uXomI4aOYcGhaLPeboEmkfObvJnlOo2J03zYE5JqVmet1LX8WJRbDddm1jech99uSjKtM5F+h72+0xk5ZBiT5vtzLTvxxck7C+eFLvk2e1b4smzZXKZOWcD+cGPNfxK2n6We7sxyn8ty/yvGuGnjubDZBw/vjVx4WGiKJBKJ5F/LC5LbTE5P6InHtRjWfFPZ0HtrU6kjq2LzXUgLyK2OhB39qFXWhvLt/IjTaYlY2EKIki3VWo1h6cE74sIczdY+tVEqP2byJaF/6otM+kiJ8u0+bI0xmlLKlm442Ihj2n9My85t+OJtOxGHsnw85Qrqo8N4S2HWI5v5mLNTRAMk4lj2wzEcFQKS/ERIb7bc2lbjs15TWbF1Eb3eKUsZG6UI55Kxgcw6z3gnsU7IaM3mA5i4cCN+Az8UjZmNiE9bfvp1Mr4bF/J9HZFGGxWfuQZbfQHo+cmtiNrpMbwn8tGx704heDru7x5Frwn7ic7UknTJjWYVK9HYI8h4DN19do/qxYT90WRqk7jk1oyKlRrjEfQ/koI2M6pZNRTl6vHdsOFM8JzLpG5O2Cuq0nrhjbyiYCCFTd/aY1PWid/OFfzVQNY5fhP5ZmMvJKrAHY8Z+RvxQuOpT4WaS64NqCLkQi9huhg/2jnWZeJ5oYaPgtgyuhlVbO1o9MMERg3vR6P3WzJhzTx6iLJRftyNsZPnsWHrMlzqV6BCiwWEiTzVxpxgqYszlW0r0/tPvSxkcu/YQqv76NHGbqW3Uxvm38lCl3qeKfpH01U/p89obwJyhsKYkbyPn2uVxbG3v9BIgTaCZe0qofx0BjnDwrOuML39z+xO1hJzYikuzpXFzVhv9NHSqZM4Of4jVLUGsychieQMsZNJbis692TM5AVs2r6CIQ0csHN250ahldAkt6r2LAqJIipKLJHhXDvkTqfO8wjPrmfqEJZ89Rpla/7MvlQh3vuH0WnkQe7rf9clEbR5FM2qKShX7zuGDZ+A59xJdHOyF3nQmoU39HWi8Pr4P4tl1Zq5gUfzlYU+mMLrQ+a9YyzsUQeFuE50GzuZeRu2ssylPhUqtGBBdkGlnGP2Nx0ZHxAnzssscUNYH1WV9izV/261rlmggNw+EeXkRacaZalYfwLHkg1bGdDd382oXhPYH52JNukSbs0qUqmxB0H/K07eCfKfF+pLuDaoQls//Y2sjhi/djjWnYio+oInXJzyibheNsH7bnYBipLe1o92HpbOX4lEIvn382LkNmU3Q3ou4p64lqbsHsAb+hezhNw5u9/MK3cF5FaIUVf9UAYhi0MOG8Qrc09/44saNVwML89kHHKhlpBT26o/sMvQxj1hZ78q2Ip9ag8/auipy9zZD0cht2WU9Zl5TYMmKoCFrgsJiNZaGG6g4baHs1FuLQ5LcMb9ln5lJvt/+o84ThlUX63C0OGhuY7bZ0oR/7L8d+oVQ9rUR34xxK+MsjFeBhvQx89RpMmGcp03FOy9Nuc5yq32zlwaKctg12kNj9WnGVO3MdNOhBAaGkpoyGlcmyhR1BnJCXEQtRDhuo2ncSJE/CZ+DzntShOlgjojT4g4aInU32DYd2ZD9pNVTTgLW4oG983BHDR5Rg7aKHxaijxRNmTWzUIsSnMTtwZiG9WXLIq2IHvZ5GvErcczlYMjG+I8LtDYo6w+wi+1ytFqcaxo7vXR8qGlUkXzBREiRdmksrGLndm4ZXFz5ddWpLUbW0zeoA33ponKTKiK3EdLuFdj7N7+leOGAtQRv7wd5ct/zbpCn0xrCJpWD9WbP7Pf1GOa4t+HauWEkJhETBs6jwFTz5nqhDiGdxNUJrnV7391utj/7eEFhiU4dv+d7MM+Xvc15ew6srrQt8JMclv2HdoPGc7w4WIZNoQfO9bltaZeuXIr0EatpfPr5ak/cg6/9prFRfMZRbSRLGyhwl7U99wqs5CW9greHHyQJ0XUR8tlJdbnKwvr9UGU1MYu2Cmbs8A0KF2XoB+rak83Q0GJPJ/xGXUGHSC7k1oXt4vxPUewVVy4igq7ACa5VbzZmO+7t6fhO1WoIm6Axi8O4G6e2VbUnB5Tl8bTThCiT3toCKddm6BU1GGkIfFF5J1+RX65TT3IyIbOjAs09u4arkHlWrHY1Jmgi1vLN44qPp1x1SSzj/ljYC+Wx1g59yQSieRfzAuQW9HYb+hH37Wmx+Hqs4wz9G6WQfGuaLzMZaiA3Ko5OuwtFGVs+c9P+w1jBZ/82YfKQlRtDW+GZ3HuNyfK6sOqnS0Pao4Nf1vsY5JTcfXOkVu7b1ifzyZLLrfZ26k55PKmUW7bLDM+os2RWyX1Z14zyu2JkdQxyG12o5rJ3gGvGfaz67jG+tvmz7Pn9tIk6pa1NYy5TA+aRj0HZ4Ys9sPPz2xZeYBQtVGsHJyHsNj8N7GsPBAq4qAjelFLVBV74Z9TdlqifFqiVDZiboFxBUls6Fwem7IfWOm5PcvY98tiU74rm1K1xAcd5uDBg6blEJeiTY/O8zTiRcUzGzXxF/1ZtWgULauoaOwVbhAkXdxS2gix6b7NvAJmsOVbO1GeS8l+3ydtU1fsVF+x8oFxhTZyIS3yyG1R+2i45S7qk0MXNpgK2/C0oGIXNuZ7Mm2ONsybpuWr0fMPvdJouOHRhupCSD5zuy7+y+LijAHMMdxk6THdcBRDbs3H3D75qw+OqlzZK0ghwxK04Sz6zSeP3OrjELGyE1UV1ejjn+8k00WzqKWKir38jTKmx3TTo2w0l1uXrNXHwspKBJGnLIquDxlbvhXl0oaluQVFVzsVX618gE6cu6717WnlG2O8TuWhuHXNDLOe2/tJJxn/aXkUr3dgaUi+rTVBTKvngPOQxXnC9fNbyQFD4q3nneF0yy+32ajjuei/ikWjWlJFlX1zrSedo8PfQVlzIHtFUekebuGnAZtILJhwiUQieSl4/nKrvcvCTp/QunsvevUyLl2d36CsXjZtX6f3drPuKwtjbrVRfzDAqTxKp+EcjIli58/vUFbxGq28g8TF3kxk3x/LGYM7qTk1+l3DOsW7ozkl2odcue3MhldSboV8+rainK0j321+xP8Ch1KzXGuW5B8WYkBN4NCalGu9BIs/W5Rb0Zb/0YMKFkXJJHc25em0ppAxt4micS5nIxrrOaKxzuDAb81wdnY2LU0YtuOBccM8jXhR8RRbROxmcu9+uO4JJyPzKMNq2f0Dciv2idhA97cq8/nUMySJ9F2d1RrnUYeM41ELQxfLyg4VqfT1WuJTAhjZx5tdbs6UrzuRC0kBjB7oZza7xNPKbd+nk1tRimmPkwo8wk4/O4UvHO1waDyba+aV1ZKgib/+6FEBVfMFhAZYq4+FlVX+sii6PliVW8O5ZkejOXcM9SMvRYddgHzDEtQ3F9C6ii3l643hqHnBG45bjtZLjE8UClBE3hmKroDcqonYPZne/VzZE55BpriZqmVnLrci70L1N08VabsskvsbBjH0L7NxEhKJRPKS8dzlNitoBh2GHDA+Gjahi1lOewf9i2U2VGi9OHfqqsJeKPtzFJ2+Hoqb93zmL1rNnqsPTA2r/hFve8oLcVXU/IUjhgbVKJ0Kfdid1hgalldebpOPMMJJSblPp3BetJCa667UVzrQzi86T0OuiQgk8HYm113ro3Roh190nl+JCAzktsaS3OqIWdyK8qabifxoo1bS0VGBY5f1FmdLSFjXmUqKKnRea6nXzIx8PbdW45l5HY/PK1JvWpChHIzDEv4ZuRV7EbdzMoNGzcB97iLWHgzNefRdODoebfueavYtmTSzP0P/fITmng8tK9Sh368DcNmqf5Esm0Lk9q0XJbdGtBEb8VgbZvwn9SRThUydODmdBkKamnndyK2vlgRNF8PiVuV5d/QpMqzWR02xe26t19si5FZzC/eG4hz53CPvGOQnt7h47XGRYRegwJhbLTFbe1GrrIIa367NnaLN0GOsxKGdH3mDjiAw8HaReWfI43xyq7nuwecV6zEtyHgQw7CEfHKr/3jNjt7/QVX3Z34dOIaAvO/2SSQSyUvFc5bbJHb/5IxL/oGYukRWdShvfLGsrBNjT5sGoan1vWtGuW02/55oDrREr/+W/5StTNvZJ7kZdpe79yKJT8rMadh1j/cxqLb+kXYHVumfq+nus7ydHTbKdxgSYOyN0D9+1Q9lKKMS2zw0rMoh6+w43jdIqzOzQ/SNgXH8ol5ubd/oz66YsyxZfJgHBbbLJGDwG0a5bb3EKDaaYGZ+apTbT2ZcNUiV+vivvG2Q26bM0w86Fvvt+bGqcb8Oq8gXnbyk+9NbNJCG2SUGHcyREotk7qKfo5DbPPPc6kgN9ee3pq9T6cMf2HjHpBtZQcysr0LxWium+F8hLi2D+ItrGD3MD/2w2KygmdRXKXit1RT8r8SRlhHPxTWjGeanHyNtklv7zuTMZqS9h2+bGrTyCTWkuSAa7m38nrft3+HH7XnfTs+K8mfg++Wp3XsLEZZ3zkGXuIJ2ohH/xjS2xGo8U4W4lFdQZ+hhw5fn0m5609pB3HS4XkOt1aGLXUwrVTm6bTFv1dMM42dVbUzlKUhe97UQonasMD2z1d71pokQse+3Z9fpovfJODOF5t8u4GrcI1KfZJlJaRHoP3pSsyx2n0zjsj7TdPGs7lSRsjUH5YzFNaLlrr7OOnyPMVpaQud8gcqxJ9tF4jMfJJKcFcJsZyWO/Xbmyu2OnjjoXyzKO74gl5x5bgsO5yHlEvM6NGRYoD60ZI7+1p3Jp/SRyuDc5E8oV6kF3jdM9c0kaPad1+eMG9Xe86VNjVb4hBoqnNX6aLmsCpaF9XorSko/5lbI7ZLcguJrIbftViSKMtEQMq85FWwdqPfzSk6FJZAYdgSfkTPZJ25Sigq7AOlb+c7eBmXLReQMI9clcXT0x5SzrYDzlNOm8fZZBM2sj0r/NGqKP1fi0siIv8ia0cPwMyS+iLwT5D8vUsXNVXlFHYYeNtR8bnq3FuVcH9drakTVzyHrmhsN7crynpBkq9cWiUQi+Zfz/ORWSOZh17bUVJbng86/4XfyvrFRFyK0f/5YOtZRGuRW33tb3ul7Fp+P5dKSzrxd1ihzlZxHsS/6CUd+qWUYYqAfo5uz2Ch5vcFA1t4yXpLTri7nh09q8Gl/H9Yt/JFPatSn/+rrht5i3f0juLWtYQzDthKf/TiPw9ldJOlX8Ov+Piq9+No40GD4HsPqrBsLaF1VYXjpy+6tb/G7dJYVPZywM21Xf8ifhFxdSVe9VItwbR2bMD4gjKCVPfmwvLFH2v4TF3aG3WBjLydj+LaV+XzsAUIvLs3ZT1G9Da5Hc6fmykEbx6l13kzu/jEV9PsajuHMjzN82Hcn/8NgISlhh1g25kv+IyTaxv49Wvf6gX59etKtw5e0aN+bcUsCCM/X85Z+dSk9nCpR1sYGG9HYvtvJjUBjF5P+V64u7YFTJRFP8btthXfp5BZo6oEyya3qfdoNcGG8pzczBnaml+cp40t1haIh5uAsvnf+iCa9fsNzkQ/uY3rRpO5nfO95hNiCycqDNv4Cmye15nVbBTU7e/BXsH6ogpV4amPZ2q82dkJWajXsgIvPNma1dkBZ7VN6e29h/biWVBNhvdF+GptPR4rGPYvo4150FTdXihqdcN8fwsOIQNy+qo5CUYNOHke4E3aGjWOb4ij2e+vbOey9mVjkPpHC75IPj+PTyrY59d22bHmqvtuSX7aGFXi0nxc15yc2ouvq3EfWj//oS7MJ2S+S6ckk6sxGxjZ1xFbxFt/O2cvNJP2UdkJcHFTUcO7O2PVnueQ/liYiDora3Zl39B5J4Yfw7CLOLVtHmk/YS1i++09SbrJ7/kDqG75QVokPWn1Hnx8HMKB/P77v3JKPXldhW6U3/g8jCZzVkVp1B7PHMDtJFlF//cQH4jy2c+rJghNxOYKmer8dA1zG4+k9g4Gde+F5Krf3ubD6qHtwmc0FykqkOip/WegHMBdeH7Kij+PVVaRXXy7u+wl5GEGg21dUVyio0cmDI/qCyopk19jmVFeJNNvYUrFuL5ZcNvaGWj8n8pIZfpglw5tQ1Vb/xcBP+NHrDy5lD2jNvIZXS1FWtlX5YrAPR/TXovSrLBXXl0oiz2zEcSu82wm3QNNXHIvIO0vnhX52jn617bB1qEXDDi74bJtluLGr9mkfVlwzq3G6WBa3bcDU7MdTEolE8pLyAl4oeza0UdtxqfcfXnvrHd55R7/UoVY1exSiEajSd6dpKz0aUmNuEnQjhtTncK3WpERz81ooCfkb/ZcKDSmxd4l8qJ8czAKaFGLvRvLwifmvZsMS0tK4HxHN4yLENA+6JE5ObmiYms22UjNmB+V5dfzpsBhPPU94EJkbP11aPBHx6ZbT+sLQEnfAg2kbrhB15xoXz5zg6OGD7Nm6iCFdfuNwEV1murRkUszrs0hrclrxUpD5IIq4PDv/Q5g9Wk9Lu09E9ONCpL6I+lhcCq0PxUOXkUBE1CMyLe3+jGFbQ5MSy93Ih+Q93Yqbd/l48oDInG11pMVHEJ+eL84ZgYzpPQ/DKCuJRCJ5iSldcquNZEUHRxw6rDSOac1GG4dfuwq8MfigaYXk78PyC2UlQpfIsZltqKG0QVmzAx7H7wsFfDnRxa7m6xpd2ZB/ZgTdYw4sXMm1V6HTzEzQXup7xRfBC8g7TZZ+aIyWyFX9+GmTqYdYIpFIXmJKl9zqHrLH5QMq1PoGj7/OcONOOHduXuDAitF83caFrTlvZUj+PkyzH5TrxBqrb8MVTVrYAZZM+pmuX7bg60FT8FqynhN53qr596OL20z36iqqN+rPtIWrWL9hDcvmTWfsqBlsufaKvMWjf1nLWUm5TkW8QCkpyHPOO23UMtpWVOH4Vm3eaeNN9ncgJBKJ5GWm1A1L0I8pjL8awB9rluG7aDHL1mzlwIUIUuSjtH8AHQkXNjFrxE8MHDiIsXM3cDRMvmZdFOrYs2yaM55hg10YPX0eq3ZdISF30OzLjS6BC5tmMeKngQwcNJa5G44iq0wxeRF5p4lk3+xfGTZ5NecfyT5biUTyalAK5VYikUgkEolEInk6pNxKJBKJRCKRSF4anqvczpo1CxcXF7nIRS5ykYtc5CIXucjlqRZ3d3eTWT4dz1Vud+/ezbp16+QiF7nIRS5ykYtc5CKXp1r0PvksyGEJEolEIpFIJJKXBim3EolEIpFIJJKXhpdHbtVxXD4ZTKLVqXDVxF0+SbD1jfKgTY3kYnA0OXsU6zilDG0qkReDiZbTBD9fMhO5ffYQu3Zs4/ctW9n+114OBp4mODr1pf1IRbF4weeILuESO7dsZtOmzWzZF8zjPF/4ekTwvm384f8nf/lv54+dF4iX0whKJBLJK0Xpklv1PY6scuP7D8thU8aWak1+YcEfF00/WifDvxeVFTUYHGDl+6YZ/vSqrKDG4ADD9+qtoonm5MqRNKuqwK7LRrK/OF+s45QaNESfXMnIZlVR2HVhY3YiJM+ELukK66cN4ce+fen+RXUU9h/RefDP9OncjI/eqIDCxo4ajX9i0ekHr+TXoF74OZIWy61LfzDM2ZEKqvrMDDa36AzirgXg2cmJ5mPWExgcK9ZIJBKJ5FWiFPbcagmd8wVKm8r0/rMEH6DMjOXS8SASzL/Ao7vPhfN3c3tdhdLGXjpOUJ6NrCD292uryiO3Fo9TqtFx368tKim3zwVd/G6GNv+OZXf0X2XI4uy497GrN42gnEqWQcSh2XzzlhLbio2ZHVz41xt09y9w/mX86l6xzsVn5PFW3DwWM6S2kreHBuYT2AwOeMzhzKvy4QyJRCKR5KFUym3EguYobV9jwN5n6flRc3txBxqMOCb+eloesqpDPrn9F/JwVQcpt8+FLC5792XwulumOpXB9u8rUqHLBpIM/+eSeXk69VUKag4JtFz/1LdZ3KEBI469Cgb2PM7FvGQedsfjRDrX3RqgqtqdLQ/M+sizLuA9e5/ssZVIJJJXlH+H3KoTuX5gBW5rzpMee5LVM0cwdMwCDkXndg1pHt8mYJUnm4L0655we31fnMrZ4th4EG4evhyM1Oo34nbAKjw3BQlNMaFL5vaeFfguW8bcqVNYsD9c7J1NQbnNexxBykU2zp5lmOM3d3Fnrv/NnIY8/c5efKePZMiwScz3v0ZyYc+qdelEndrI3A0XeXzTH49Ro/A9k2R4tF1YGNrkUA6v9mTj5SRC9i5iyvBfGD9vF7fNPttZUG51JN/ewwrfZSybO5UpC/YTbkj0E8L2L8XTfRbuc5fjfyXBcGxt/AU2+3jgvfECDy3EXfM4lKPrZ7P4cCIpIXvwmTgUl3FLOJUgNk4LYf/SmYwcOpp5AWZjlwWF5osop9Cj65m9+DCJKSHs8ZnIUJdxLDmlj08aISKOM0cOZfS8gLzjiJ9EcGy9D97uUxg/1YsNJ6Jyy9JS3v7/LrF3qSfu+vJa7s8VfXxF/Yu/sBkfD282Xnho3LcwNLdwdy5HvWlBBXsktXfxbqJE1WFVwTx7cpv1fZ0oZ+tI40FuePgeRF89DT9FHGO9jzfuU8Yz1WsDJ6KKeHqhSeT8Jm9muU5j4jQf9oSkGspMjy75NntW+LJs2VymTlnAfmMhC7Qkhx5mtedGLieFsHfRFIb/Mp55u26TW20KqyPZaEg8vwnvWa5MmzgNnz0hpJoOXOS5GKKvE8+Q7+LsveI1i79EfdZG+9HOwZ4WC++KEIxow5fisfHVHBIikUgkkn+F3GZy79hCetRRoPy4G2Mnz2PD1mW41K9AhRYLCBMtmjbmBEtdnKlsmz2UQYc66STjP1JRa/AeEpKSyVDHcGKpC86Vbanc+0+T9Ki55NqAKm39iBctoS5GNJSOdZl4PltL88ptweOIdXd9GTH9FAkZWWg0GVyd3QQHlROjjqWIX3Xc3z2KXhP2E52pJemSG80qVqKxR1DBHizdI4K2jKZZFVvsGv3AhFHD6dfofVp7Xye2kDD+lxTE5lHNqKYQgvXdMIZP8GTupG442Suo2nohN0z+nV9u1ZdcaVClLX7GROPXzpG6E88b4/TkIlM+UaJs4s3dnBdxktnWrx0e2QGao4ni9JrBfKIsS51O43D32cAucbPQ30nFa22HMXPqXNbu3M/vE5rj6NCGJQaLs5YvGqJOr2GwiEPZOp0Y5+7Dhl1Csvo7oXqtLcNmTmXu2p3s/30CzR0daLMk0ig1yaeY3qwhA3ZECfXRkXJlPu2rV6Op21khXYXl7U3+34tTRNyVNPHOlSOSt9GvnUdO/hVK8ha+q1SNfjvN7iSy0SXg19aOKv12FuxB1KlJOjmej1S1GLwngaTkDIMcJ5+aTrOGA9gRJQ6sS+HK/PZUr9YUt7M5dyV5STnH7G86Mj4gTuyfRfCM+qiqtGep/qRQX8K1QRXa+sWL3NAR49cOx7oTOa/WkRS0mVHNqqEoV4/vhg1ngudcJnVzwl5RldYLbxhu/KzWEVI4N/sbOo4PIE5EPCt4BvVVVWi/NIys4pyLYp8nz5Lv2kj8Zq0mzmCvSfzZ7z8oP5rMJcN+Oh5s9mCJPg8kEolE8kryLxmWkMrGLnYomy8gwtBm6UjQjyO178YWU7uvDfemicpsnK7mKtPrqXh7uNmjUG043k1UZnKbysGRDXEeF2jssVIf4Zda5Wi1OFYcQU/Bntv8x9E9vsH1aGNDmnVrHi0qqXAaeVQ0/wL1acbUbcy0EyGEhoYSGnIa1yZKFHVGcqKA3Qq0Ufi0VKLKSaegiDC0kQtpobKn84bHph00hC9sKUTlTQYfNMYxv9ymHhxJQ+dxBBoTzZFfalGu1WJiDYnWEbf2GxxVnzLjqskyHv/BwF7LiTFmSkEyAxj8hpKPJl8y9YhruDr9E5SOvdiRZlgBj9bQ0a4C3beJgxaZL5kEDH7DTFj0xTldyJAjvXIDZE1HOyp03ybKTkPwzPrYN5rDnRyn0RDi+YVItzPuN4RNWcpbPbo41n7jiOrTGeQmdyC9lseY6kDhqE+N4t2KHVhl6HnMR5ZI4/tV6boh0WI4+vTUU73N8OxhCZpgZta3p9GcO7mypwnB8wtR/5zd0SchLxqCZnxGnUEHyM4RXdwuxvccwdZ7IoTUg4xs6Mw4YyGLqv0Ltcq1YrGhkLVELmwhzp/O5FabcBa2tEfx5mD01cZaHdEEzeCzOoM4kHtgdo3vyYit9wxxL9a5+Az5TtIfuAsJz86SzNNjeF9Zk5/36St4Bgdme3HeFKZEIpFIXj3+JXKbwZZv7VC1WWrqrYG0TV2xU33FStNYO6PkFSW3kSxsYS632aiJv+jPqkWjaFlFRWOvcJNgWJDb/MfJJus2C76sjMppBEeSjas0QdOo5+DMkMV++PmZLSsPEJoTKTNEg7+0jQp7IWzZoRcVhi56ES1VFenlnxsfbZQPLZVKGs29Y/i/sDG36viL+K9axKiWVVA19iI826rSjzL8HSU1B+4Vkq7j4ZafGLDJsqQZUB9mSE0V9aZfNQmHlnCvxqiq9mdPdhE+2UZ3exVtlsWTVWS+qDk8pCaqetO5ajIYbbgXjVVV6Z8bINu624s6sYz4/6u/aVEa8s28l1RzaxYNlSq+XBRtMW+zST86nHeEHA3cK25JdA/Z8tMANiUWpVgars38lAotFuaVZRNpR4ZT99MJnClk4Gd+uTUIodJeyH+eFHBrVkOUqi9ZFJ0vPprruAoZbuVbhAyq47nov4pFo1pSRdUYL0Mh64he1BJVxV7kVhstUT4tUSobMTf3DsFCHdFw3VXcSLTyLfRmp1jnouDp8l3IbOBsPE+ahSRuAuY0KkflzmuJzzyP1+z9crytRCKRvMK88nKrjtjN5N79cN0TTkbmUYbVsnsKudUQuqg1jionRmSbrUAdOJSa5VqzxNglWjQWBKyoMCzJLU/+oEcFFc0XRBj+LSC36gh2T+5NP9c9hGdkcnRYLezM5VakPtS7KeUrtmVZ5H02DBrKX7nJKkhJ5HZpHP8rMl9KIreiTmQFM+MTJaq2ftw3D/LRajrYKUV5hlnM2xy0oXg3LU/FtsuIvL+BQUP/wlpyDeifAjR1oOm87LqSiy75FBPbdGT+tey4FiS/3GqCZ/CJEPG2fvfzyOqj1R2wUwopzf+YXR3I0Jp2eXt686AmYvdkevdzZU94BplHh1HLzprc6qtNDyqomrNAb+uF1hE1gUNrYpenlzwvxZXbp8p3sgia58HOPDdqOuLXfkPlco3w2LcIj81yvK1EIpG8yrz0cvuWNbnVXMfj84q5LwQZhiWUXG41dxbTxlGF06+BOY1zZnwc9/+PK/WVDrTzi84jIJqIQAJvm6zNHEs9t9eth2FJbnUxi2lV/l1GnzKmPK/carju8TkVc6avMj5yziu3IoxHO+j9HxV1f/6VgWMCzF40skAJ5TariDTp41QiudUls7WHI4rX+/GXYTyIEcM+djUZcljsY01uhQo92tGb/6jq8vOvAxkTYDW1BrTh82jm+CU++bpt1dEHcf1xMIsv6/u8C8cot2/lDktI3koPRwWv9/vLOKTFgDEf7WoOQZ+EPOhfZmuopNznHnmHLDy5xcVrqaLeePB5xXpMM81RZhiWYFVudcQsbkX5d0dzSm2tjmi45d4QZbnP8ch7YG5dvGY4T4p1Lhooeb7rh5es8FiTcx3IIXUfP72ppKZTL3zMK7JEIpFIXjlKpdwa57mtRO+cljfNMOZW1WZJTqOWvO5rIbftWGF6jKm9q3+s68D32037aEOZ84UKx57bRYObyYPEZHSmN9gdvt9uFJzUTXQtr6DO0MOGRjntpjetHZTUd72GWivC1SWyop2Q22/W5whHweOEs6x9FVQfDCcwp9spgyPzfDibHsTM+ioUr7Viiv8V4tIyiL+4htHD/Lhp7gXZ6GJZ3EpFuW5bcmUyy3oYRrm1p/P67MGTWu75tqFGKx9CDcfQkbiinZDbb1hvSEQqm7qWR1FnKIeNica7tQPK+q5cU2vNhCyLa24NsSv7npDk/GaVj8wAXGoIuc2ZNUDLHVGGKse+7MwuwoytfFdeReslseiKSJNhzK1LDSG3ufPHau/M4QuVI31zA2Trd+VRtV5iGAeafnIsH9pVocu6OFMahKwt/4oazbyMLyhZyltzsq7h1tCOsu8JuSsiufobhFsezlT9eo3hRUS0KURe3IPf9F8ZNn09Vx7l5mJhaEON6em5XRRC5gMSk/9fTo79ELsqXViXXcl1MSz/qgbNvIwveeVFQ8i85lSwdaDezys5FZZAYtgRfEbOZJ+44UsVN3/lFXUYaixkbnq3xkFZH9drarQ6k9zadya32tzDt00NWvmEipCt15GskHk0r2CLQ72fWXkqjITEMI74jGTmPmOPabHOReMvJcx3fTGuYfwcC7NTCG2+OLEudk7j5XhbiUQiecUpXXKbFcHx9XPo85HpC2VNf8V3x1mij3vRtZYCRY1OuO8P4WFEIG5fVUehqEEnjyPcCTvDxrFNcbRV8Na3c9h7Uz/raBaXhZw5qGrg3H0sG6+EcGbjWJo62qJ461vm7L0pGt1YtvarjZ0QhFoNO+Dis41Z+ka82qf08TvC6c2TaP262L5mZzz+CiYzKv9xHhG95huq2iqp03EkU6ZOZeqUCYz4oSXvtZlnmG0g/epSejhVoqyNDTa2FXi3kxuBll5A0j3g8uZxtKwmjvdGe6ZtPk2kqbG3FoZRblW8324ALuM98Z4xkM69PDllmH/KOL3SpNavY6uoSWePvwh+8H+J3dqP2nZCTmo1pIOLD9tm6cWnGp/2WcE1MzHQxS6mbYOpXCloErlkRnF65UDqKm1xbDGBP4Lukxi8g4ktq4hj1qb7/MOEPQgncN531FYoeKOTB/tvJ1lJUyZRp1cysK4SW8cWTPgjiPuJweyY2JIqIt9rd5/P4bAHhAfO47vaok680QmP/bdJ0mVyZ+twWnzcjIGzV7B64Vj69XUlIE4UgpW8zUVH7OK2NJh6xYI4maMhdP0APhH1SOlYkw8+qk+TDn0Y5bWNS/fz9ktaJeuykDoHVDWc6T52Izf0g0Qz77B1eAs+bjaQ2StWs3BsP/q6BqBPgkWyItk1tjnVVTaUsbGlYt1eLLmst1F91d5Kv9p22DrUomEHF3y2zTLcuFX7tA8rrmUa5Vb1Pu0GuDDe05sZAzvTy/OUadoybRF1JIvIXWNpXl0lzlMbbCvWpdeSy4YbxILniIVz0ZDYbIqZ75rbbJvmQpdP/0PVup0Y5nOM/MNz9TOX9B55wELPvEQikUheJUphz+3zJJMHUXGkWG01n/AgMprHJqnTpcUTEZ+e27P0XNCQEnuXyIdPniFcy2HkDktII+1+BNHZCSmCJw8ic7fVpREfEU96vshlBI6h97xQoToviueRL/nJIjkmgvi0ksY6g8AxvZkX+uJSW4DMB0TFpRSUuqxkYkR5FDcJuowEIqIekZk/E588IDL6sanXV0davMgXQyGbDUtIS+N+RG79N6fIOqLLICEiikcFDmyJws7FfyDfJRKJRPJS85LL7cuPxRfKngkNWVlCVrSRrOr3E5ss9TK/TGiyMCZ3Ff1+2sTLnlwjll8o+1t5JfNdIpFIJH8HUm7/5WhuueOsLEenNY9Ma54FLVHL2lJR5chbtd+hjbelsZ4vEdoolrWtiMrxLWq/0wbvIr8e8LKgfynMGWW5TjyXalNSXtl8l0gkEsnfgZTbfzG6hAtsmjWCnwYOZNDYuWw4GmZ9VoNioIncx+xfhzF59XmK8V7UvxwNkftm8+uwyaw+/+g5Do0ozehIuLCJWSN+YuDAQYydu4GjYc9aa0rKq5jvEolEIvm7kHIrkUgkEolEInlpkHIrkUgkEolEInlpeHnkVh3H5ZPBJFqdGUFN3OWTBFvfKA/a1EguBkfnvtFerOOUEv41cdWSGnmR4OgXHFFdKvfO7sP/zwCC4osxqeoLQB13mZPBibn16e8gI4rTWxbgOXchC+bNwWO2D39ceficZ8Eo3rmlTY3g8s37L3AGjqckI5ag4Mh8H5n4N1Hya5vhvIu4zM37cqYKiUTyclG65FZ9jyOr3Pj+Q9M8t01+YcEfF00/WifDvxeVFTUYHGBFWjL86VVZQY3BARSpNppoTq4cSbOqijxfKCvWcUoJ/4a4aqJPsnJkM6oq7OiS833gF4D6Fn4/DmTBidOs7FUbVU0XDv3t2ZKBf6/KKGoM5u8pkiwi906j+1cDWHg8JqfOa+IOM6llPb71u1n0eVBcijq3dClc2zKcRo5leW3A3ud33GcmlVt/TqXdm2Wx+2olpg8e/vsoybVNoEu5xpbhjXAsa/4lSIlEInk5KIU9t9lfKMv7idsiyYzl0vEgEsxfvNbd58L5u2a9ZJnEXjpOUJ6NrCD292ub9/O7Fo9TStDdv8D5u2Y9N6U4rubo7vvRVvUi5VbHo63d+U8TL8L0nVQZ4Zw+GZpbpi8MHfcvnCdvkVzieFDC3zALRQbXlnbBqcEoDlkwNs01Vz6r1Azv5za/rKVzK1/6tSHM/lxVyuRWTwrrv7FD9W+W25Je2wTakNl8ripCbgtcQyUSiaT0UyrlNmJBc5S2z9qjoOb24g40GJH/e/Yl4SGrOuST29KK+jaLOzRgxLF/4YPVh6vo8ELlNouz4z6gfPMFRPyNT2DVtxfTocEI/v4i0fFg3xCcHJsw52YhsqM+zojadji73zKteP4USL/2DnMblUa5TWNT13+73JYc7Z25NLIqt8/jGiqRSCR/P/8OuVUncv3ACtzWnCc99iSrZ45g6JgFHIrObbg1j28TsMqTTUH6dU+4vb4vTuVscWw8CDcPXw5GCqvRPOZ2wCo8NwXl9pzpkrm9ZwW+y5Yxd+oUFuwPN/t8Z0G5zXscQcpFNs6exaxZ5os7c/1v5jQI6Xf24jt9JEOGTWK+/zWSrTSguuTb7Fnhy7Jlc5k6ZQH7w/P2XmsSz7PJexau0yYyzWcPIakisCe3Wd/XiXK2jjQe5IaH70GMyc0XVwNPiDi2Hh9vd6aMn4rXhhNE5RxCTeL1A6xwW8P59FhOrp7JiKFjWHAo2kpPo4bYE6vxcp+F++zF7Ag2Tu2kjjrGai8P5m28YBAGq+nKI7ep3Dm4UoTnzqL990Rt0BBzZhO+nu64L9hDuFkXUrHyVXML/zmuDHCuSNnanfjNbRazV5/i/x9ykJVeIsxF+7mnz6uYM2zy9cTdfQF7TAdRJ17nwAo31pxPJ/bkamaOGMqYBYcwq3YCDYnnN+E9y5VpE6fhsycEY5Gsp69TOWwdGzPIzQPfg5GGtDy+HcAqz03kLZIIjq33wdt9CuOnerHhRFRuHSxG3S9A2jF+fV/FO8OOCG0rhKxLTPpIyes/7TetMEMbzeGls3EX9Xje2lPEZsVzZt08w/8e89dyPFLUbHHeXP9zEbM913FW/83efOeWxfTnyO0eHoXsZdHU4QwZ5cXee4XJlY70qFNsnLuBi49v4u8xilG+Z0iyWp+KWYc1cZzeMI9Zbm7MXrkP70755dbKeSLSGnp0PbMXHyYxJYQ9PhMZ6jKOJacSRIzTCNm/lJkjhzJ6XgCFDSPXRh9m6Wx3ZrnPY+2pWLLiz7Bunv5/D+avPY4xi6/z56LZeK47a/osspU6b+naJtDcP8P6eR7MmDgZdz9/Tly/R2z8A9JEvHLkds8jQvYuYurwIYzy2ouxOAq5hmZGEbh2CSvWrWG530q2n7tvON8lEomkNPEvkNtM7h1bSI86CpQfd2Ps5Hls2LoMl/oVqNBigeExszbmBEtdnKlsmz2UQYc66STjP1JRa/AeEpKSyVDHcGKpC86Vbanc+0+TPKi55NqAKm39iNc3mDF+tHOsy8Tz2VqaV24LHkesu+vLiOmnSMjIQqPJ4OrsJjionBh1LEX8quP+7lH0mrCf6EwtSZfcaFaxEo09giz3hKgv4dqgCm394sWeOmL82uFYdyLZ0Uk5N5tvOo4nIE60TFnBzKivokr7pYT9XzVJJ8fzkaoWg/ckkJScgdpCXCGZU9Ob0XDADqJEC6hLucL89tWp1tSNsyKBmfeOsbBHHRTKj+k2djLzNmxlmUt9KlRowQLD8/xC0ITh00ovjyM4kZOwVH7v2465t0Vci0hXgZ5b9WnGvKek5pDDpnxSG3pela8PZJ+h4S1JvmaRlnSfrb2roHJ248rDxySlZopapub0mPdQ1hzCYdNO6rPj+ED5OgP1B8m8x7GFPaijUPJxt7FMnreBrctcqF+hAi0WhIn99aRwbvY3dBwfgLFIZlBfVYX2S8P4v+okTo7/CFWtwexJSCI5Q03MiaW4OFfGtnJvcovkFNObNWTAjigRUx0pV+bTvno1mrqdFTlYdN0viI6Etd9QUVmXSZesCPCTXfxQtSxvDz9mWpGX5H0/U6usI739Mwz/ayOW0a6Skk9nBOc8os66Mp32P+8mWVvw3NIVSL/BpgxyW9G5J2MmL2DT9hUMaeCAnbM7N7IDzUHHo6AtjG5WBVu7RvwwYRTD+zXi/dbe3MwovD4Vqw5nXmdZtxb033JX1AKR55c9aeVoaya31s4TDVGn1zD4EyVl63RinLsPG3btYUV/J1SvtWXYzKnMXbuT/b9PoLmjA22W6G9qLJHMvp9rUdaxN8YsFte9Ze2opPyUGcE5OcyV6e35eXey+NtKnbeQ/3q0sVvp7dSG+XdEzUo9z5QG5VBU/Zw+o70JEBc8o9xWxLnnGCYv2MT2FUNo4KDvzb8hytjCNVSTzvHRX9BzywPxq0jBsbF0mXQ2702DRCKRlAL+JcMSUtnYxQ5lzmNl0YD7tUVl340tJh/ShnvTRGUmcpqrTK+nMjTeOcKjDce7icqsAUjl4MiGOI8LNH78QH2EX2qVo9XiWMPF21LPbf7j6B7f4Hq0sfnKujWPFpVUOI08KrRHoJe0uo2ZdiKE0NBQQkNO49pEiaLOSDMJNCP1ICMbOjMu0DipvvrIL9Qq14rFsSI2miBmfFaHQQey++J0xO0aT88RW409j1enU0/1NsPNnoHnj6smeCb17Rsx505uc6sJ8eQLIZbGBk1EYWMX7JTNWWB6fq9L0I+HtadbdkYXQuqBQdRUvsuok6YyS/qTYS5bjLJgLV168sut5jpun6nM5FbDrVkNUWXLbUnzVUjinv5VUTX2Ijwn6Rquu32GykxuNbdm0VBlkls9qRvpYqek+YIIo6DoEgxjsO27bTHUB03QDD6rM4jcIolj1/iejNhq7HG+Or0eqreHmw1L0BLu3QRVjtxqCJ5ZH/tGc8gtEg0hnl+gsnPG3WB8Rdf9vCSz5Tv9jcavHLeYF0ayLk/mI6U9nVYnmtbkQ9S3aeL8efPn/abe3xT8+1SjXBNvk1RrCZ03gKnnTAcpcG5ZSL9Jbh27/85j06rH676mnF1HVlv8UpqWKJ+WKFW59dFAEfXJeh3WcndRKxybepvVhUes7pjbc1v0eZJJwOA3UH40mez7B/3594nSkV47sivDI9aIMCt031boh1U0QdPEOfsmP+837ZPiT59q5Wjibbp50oYyb8BUDFlcVJ0vkP+irnk1xu7t7HqgI355O8qX/5p1psw3yq0j3X/PKQ3WfV0Ou46rRewF+a+hIj6eX1Smmed1jD5+jwP7rkm5lUgkpY5/idxmsOVb0fi0WUqcyYfSNnXFTvUVK03PEbWRC2lRpNxGsrCFeQOQjZr4i/6sWjSKllVUNPYKNzYuluQ2/3GyybrNgi8ro3IawRF9R4vA0Hg5ODNksR9+fmbLygOE5kTKAup4LvqvYtGollRRNcZLtMKa666iwW2Fb4wpA/JhUW7zxNUoVkr77mwzdsYZ0dxiVkMlqi8XES2CztjyrcjXNizNzWi62qn4auUDdNp4gg4f5OBB03LoEtHZRZR1xSBDbwzYLTRIR+LGoYzel8++LKTLQAnltuT5+pRym7GFb0Xa2yyNM93smI/NFPu7CjFt5YvlIrEst5ELW+TKrUFIlNgLAcpbJCIeShVfLooW/xVd9/OguYlbA6UQlDVGQbGIPm6foHTszDr9IwuLaAnzbkr5aj35Q+8+mht4tKmOo+oz3K4L6c66yIwBc7iV3clY4NwqXG7Nx9w++auPCDOfvOYgbuCWthEiL+psvtPNQCH1yWod1kXj+2U53hh8MCcOecu1OOeJmsNDaqKqN52rpvRrw71orKpK/z05KWNbd3tRbssMT4Usog3Du2l5qvX8wyD7mhsetKnuiOozN4xZPIMBc26JnBS/FVXnLeS/4RPLDl3YYKoI6qPDeKtiFzYmGf8vOOb2CX/1EcfPvpEqcA1VEzynKZUUlajb3YMDEZYKRSKRSP55Xnm5VUfsZnLvfrjuCScj8yjDatk9hdxqCF3UWjTSTozINluBOnAoNcu1Zkl2D2WRqInYPZne/VzZE55BpmiMatkZG21DWHZ5e5PMKVpuNQTPEEKjaovfffP4PGJ1BzuUQvz0PXJWxSDjAL81c8bZ2bQ0GcaOHMHScm9RKyo4dmXD/UiWD53K6Rx7KDxdBkootyXP1xcht2oCh9bELk+vqznFkFtNMDM+EcLU1o+8RbKaDnZKUQ/DxD8ll1u9hFXq7Z9TxwuQsp9BtcpTb9K5PFKdH13sSjpUrMTXa+NJCRhJH+9duDmXp+7ECyQFjGagX5TpPBE8tdz2fQq5tV6frNbhrHP85qSkWp6X2vLetBR9npREbnPLrSA6Yld2oGKlr1kbn0LAyD5473LDuXxdJl5IImD0QPyijGkqss5buLZpIzbQ/a3KfD71DEnaDK7Oao3zqEM8NgVhUW77WpNbge4R55f8wCeOCmwrfszATXdyf5NIJJJSwksvt29Zk1shUR6fV6TetCDRFAsMwxJKLreaO4tp46jC6ddAstU2Mz6O+//HlfpKB9r5RedKgEATEUigfixqPjTXPfi8Yj2mBRl/MzxuNTXamlvuNFSW43MP4/CBbJ7cusg1ETmj3L5lRW4heWsPHBWv0+8vw6AJI9pwvBrbGURSn9tWxcC4plB0D3+nezV7mo8czdA513PiaS1dBoohtzfcGuT23Op7sUuQr8WW2xtuNChBz+0t94Yoy32OR54Bo0+4dfGaqC8muXvLityK2rK1hyOK1/uRt0iEKNnVZMhhQ4mUTG7F9vt/egO7L30NPfH6YQ23Azaz/q/LppeSUjn1Wz1ea+zGhewn6IUhRGbb99WwbzmJmf2H8ucjDfd8WlKhTj9+HeDC1uy3nPQUJrfm6X9OcltUfbL+9CFMxEGJsuEsbuYUm3m5Fuc8eV5yq8/ibXwvzpmWk2bSf+ifPNLcw6dlBer0+5UBLltzXiQrss5bkFuxkridkxk0agbucxex9mCoSGkuxZXbnGuoLpHgq8bjZ8WfwLvr2ygrd2Nz4Y8IJBKJ5B+hVMqtcZ7bSvT2z75MpxnGHaraLMlpKJLXfS0asHasSDSu0N71pom4+H+/3bSPNpQ5X6hw7LldNOeZPEhMFg3bXcNjYIfvtxsbgFTR6JVXUGfoYYO8pt30prWDkvqu11BrRbjiYr6inZDbb9Ybx9AKCh4nnGXtq6D6YDiBOZ22GRyZ58PZ9CBm1leheK0VU/yvEJeWQfzFNYwe5mfWsOaSKqSlvKIOQw8bYsNN79Y4KOvjek2NNiuEec0rYOtQj59XniIsIZGwIz6MnLnP0CBrQ+fwhcqRntvFvpkPSEzWFYxr+knGfmhHlS7rcvJRF7Ocr2o0w+uGceRcmn68ohCDJbkZzddCDNqtSCxSbvXpDvzlbcrat2KRmaxYTZchm1fQTsjtN+tNuayLY2kbO8q3mE+Y4YWeYBZ3fgNF5e/Zrm+ds0qWr4ZGu09llM4e5LqvUZzsyrdgvvEgBC/uzBuKyiK/TAqQph9zK+R2SbbcJrPua1EP261AX+00IfNoXsEWh3o/s/JUGAmJYRzxGcnMffobAWM9Vjn2xFgkiSTrtNzVP/J2EOnIKZKxfGhXhS7rso+hI2b5V9Ro5oWxSIqu+/lRX53F59WaMOfWE6L8fdkckkFWxBZW7okmyLcr9VpM4nAxv0qVfnAwNcva8cm0y4axlbr41XSqWJaag7LH4prIf25ZSr+ow7OdlTj225krtzt6irrQBO/cuw4zdMQuboWqXDe2mA1cLao+Wa/D4qZkTmOxf026rw83SlvGVWY2FMLbxDQOt8jzJJMAlxpCbqdh8mshisbzr+9OU8GKc2Hrd+VRtV6C9QcM6RwcXJOydp8w7bIhh4lf3YmKZWsyKHssrp6i6nyB/BcxODOF5t8u4GrcI1Kf6F9XzIsmZDbOSkf67cyV2x09HXLzIf819P85y+yhXjnnkDZiAc0dv2GtxZssiUQi+ecoXXKbFcHx9XPo85HpC2VNf8V3x1mij3vRtZYCRY1OuO8P4WFEIG5fVUehqEEnjyPcCTvDxrFNcbRV8Na3c9h7Uz+oLIvLbg1xUNXAuftYNl4J4czGsTR1tEXx1rfM2XtTXJ1j2dqvNna2DtRq2AEXn23Mai0u7tU+pY/fEU5vnkTr18X2NTvj8VcwmVH5j/OI6DXfUNVWSZ2OI5kydSpTp0xgxA8tea/NPO6KBiL96lJ6OFWirI0NNrYVeLeTG4EJlhsD/dvN/WrbCYGtRcMOLvhsm2WQ7Wqf9mHFtSyyIncxtnl1VDZlRFgVqdtrCZf17buerMu4NXRAVcOZ7mM3ciXEUp6IZvnOVoa3+JhmA2ezYvVCxvbri2tAnLE3Jvo4Xl1rGfPVfT8hDyMIdPuK6goFNTp5cEQ/P1ERaK7OpFXPTQb5y8ZauvyOnGbzpNa8LuJZs7MHfwU/EHvoSNg9lLoVhAi99RGNe3iw3aMdr73bCpeFJ4grSb5q47n0hwedRf2xqdCQoSv3EGR63KxL2M3QuhVQOr7FR4174LHdg3avvUsrl4WciBB10asrtQxpd2d/yEMiAt34qrqxHnociRQhZBG5ayzNq6tEfbXBtmJdei25bLhR0pN12Y2GDipqOHdn7MYrhJzZyNimjtgq3uLbOXu5qZ/TSkjDna3DafFxMwbOXsHqhWPp19eVAH0iRfhF1X3LRaIhatc42n/Zk76D3TgWdZfL+2fQ2bkTI5ed4b5eTp6kGaaDKhL1eSY26srqHEN7zB99mzEh+0UyPZlRBc8tQZ70rz/LJf+xNKkstqndnXlH75EUfgjPLqK+2TrSfMJewrKtzICOB5c3M65lNZFfb9B+2mZORxolzFp9WhoQWHQdzgxj6xBnqtpV4q3PmtPxh5kMaeFIzUa9mPr7NcMxCj9PMok6vZKBdZXYOrZgwh9B3E8MZsfEllQRdbh29/kcDntAeOA8vqstyu0NUVf23zZMX1YY6vMTadR1da4EP/6Dvs0mGF8kM6PQOl9I/icfHsenIr9typShjL5+li1P1Xdb8svWMDKTb+I/tgmVDXGex9F7SYQf8qSLqGu2js2ZsFc/JCbfNTT4ErNbfUj70X7sDgxgw8Te9F8WnCPTEolEUloohT23z5NMHkTFkWK1EX/Cg8hoHht6yUSTmhZPRHx6gV6OZ0NDSuxdIh8+KTrcJw+IjH5s6CXTN/Bp8RHEp5vvpSMjIYKoR5kFw8p8QFRcijha0WQlx4h0phmk9vmSQaolayoyXQXRx/FeTLIhPdr0NDIKbF6CfC2MrGRi7sWQbDwIaQUPUjS6DBIioniUWXDfzAdRxFmvgCaySI4ReZL2HEtE1Ic7Fw7h//s2dh+cRadO2Y/I0zk7Zza7sy3cKqKskvPWKU1KMmnFzKbip7+EPEV9yo8mNY7w8Puk68T+KakWz4UXd56YoUsjOU8eiXqdnFZInS5undcSd8CDaRuuEHXnGhfPnODo4YPs2bqIIV1+wzDipViYX0N1aDTiqPpz5k4YsakvoFwlEonkOfCSy61EIjGQtJavK33Ad9PcGd/rC5qMOV7oFFWSfz+62NV8XaMrG0wzI+Sge8yBhSu5Jr1UIpG8xEi5lUheBbKuMLN+OWxsylKt6QxOWHtOLvnXo4vbTPfqKqo36s+0hatYv2ENy+ZNZ+yoGWy5Jm9rJBLJy42UW4nkFUGXEsm1a5HGIRiSlx517Fk2zRnPsMEujJ4+j1W7rpBQ9LB5iUQi+dcj5VYikUgkEolE8tIg5VYikUgkEolE8tJQSuU2jbtHN+E7dw4LVu/j+uMX+q5yyVHHcflkMIkv6vFuRixBwZG5H5/4h9FmFZwjs1joHnF17xY2b9rEps3bORtbeDnqkq5z4PfNbBLbbt5+FiubmtCRePMkx48fNywnzoeRLIeRSiQSiUTyylMK5TaFExM+pYKiGt3WXGFV18rYOY3kSLGmLfp7yPDvRWVFDQYHFHs+nWKSyq0/p9LuzbLYmb6W9M+hIS3+GgcXD+bzhmM4+VSm/YT7IZfYPbY9tf5jR9N5dy1PqSQk+JhbK2oo36an33Eu34rN+4EAi+h4FBKIz3c1UZQpg6L2rxyX4wklEolEInnlKX1ym7KN7pVsKKP8lBlXrjKroQqbSl+zJr4UdctlxnLpeBAJprlxny8prP8m91Og/wxaYg4uwsN3Gwc92lL+mcQxg4OzXfnt28rU+uWIhd5oHUlnNrNqcnscarpwqET3C8bP2Sql3EokEolEIjFR6uRWGzGfZsoyQm7rM/OaBs3je9yOLrof7+Uh73fu/2nSNnXF/lnEMesCXrN3cmJiXey/WlUwTann+X3HJfz7v07l77aQf1pO60i5lUgkEolEkpdSJbe6xL1M/fq/VLEVcmvryMftu/Pz0iuGrxBlxRzFZ+QAfho2hmED+zNiQSDRhp5THQlHvXDp1YPu3XswwPc8UQEe9GvtTKNeiwkq7NuQ6XfY6zudkUOGMWm+P9eyB2xqkwk9vBrPjZdJCtnLoinD+WX8PHbdzp0bUvP4NgGrPNkUlNt1mxkVyNolK1i3Zjl+K7dzzvSJVz1PIo6x3scb9ynjmeq1gRNR+SKlieP0hnnMcnNj9sp9eHfKL7fp3Nnry/SRQxg2aT7+15KfbgzsU/Cscqu9uxSPjQkkrupAhboTuZintzudS79v42rKWcZ9YM+Xi6IsD1swJ/Uq68Z0p2VDZ9r8NJ9tM5oVlNusGI76jGTAT8MYM2wg/UcsINBYWSQSiUQikbzklK6eW+0THp6cQD1Dz+1/GX8inoeparTRW+lTW4ny48lcEgKjvjiJj5RK3u6zlRiDDaWwpZuD4fv+9h+3pHObL3jbzoYyZT9mypWCUqO7v5tRvSawPzoTbdIl3JpVpFJjD4L+l0TQ5lE0q6agXL3vGDZ8Ap5zJ9HNyR5F1dYsvJGFNuYES12cqWxbmd5/miQ1/Tijv+jJFoONJnNsbBcmnTUeN/nUdJo1HMCOKPG/LoUr89tTvVpT3M6aBhFnXmdZtxb033IXtVDWlMuetHK0zZVb3X12j+rFhP3RZGqTuOTWjIqVGuMRVIhtalJ5EB9PXFyc9SX+Po/Si1TJZ5RbHQ+3eLD4jhb1kV94q3IP/jCbPz7j6ja2Xk5HEzaXRuXrMS2oiDf0sm6woFUVbG0q4DxuL8GXdjCusSO25nKrjWZrn9oolR8z2VhZmPSRqDtv92GrsbJIJBKJRCJ5iSl1wxI01934zGxYgn7M5iGXWijK2FL1h10YdPLJTvpVsaWMojbDj+rXZLKzn6OQ2zIo68/kmkZDVMBCXBcGEF3AZ9ScHlOXxtNOEBIaSmhoCKddm6BU1GHkCSFD2kgWtlBh33kDj017aMIX0tJewZuDDxqOrw33pokqV261oZ58UbkZntczjP/fO8C+a0JmNcHMrG9Pozl3cnskNSF4fqHCztmdGxotdxe1wrGpN+E5Gzxidcfcnlv16THUbTyNEyH6uIYSctqVJkoFdUaesDibQsalVYz79VeGDx9uffl1BFO3hpj2Kpxnk9sMDnp6cU5khWG4if3nzA4xJVRI/R9bzpMqBPjB2q+pWHNIkd+7T9szgOq2ZbAp/xUrE/TmryViQfM8PbcZh1yopSiDbdUf2GWsLKJuCCEuo6D28KPG+iORSCQSieSlpfTLbdY5fnMqSxm9nPx63Ch06mMMf1sh1pXlv1OviBW5cmv3zXpS9NsUhiaIafUccB6yGD8/P7NlJQdCRei6aBa1VFGxl3+uCGmj8GmpRNloLneEm2kjF9LCTG5RBzOnaSUUlerS3eMAEabVBglW2tN9m1F6jWi4NashStWXLIqMxPfLcrwhpDnX68zH3GoImlYPB+chLM4TVz9WHgi1KLfPm2eS26yLeM/eh6Gz9skufqj2BoMO6FOq5rb/Js4YhoJksGfAf3Ds/jvJ+u0KJYsLEz6krChj2zddOGSIT/4xt1mc+83JsE3uMAU1x4a/bZhRoex/p2KhI18ikUgkEslLROmXWzORfX/sGcP4W9SnGP2ufp2Cd0efEivM5LbzButyqw5kaM1ytF4Sa3ncqiW5FX/90aMCquYLiLAktwLdo/Ms+eETHBW2VPx4IJvuqNEEz+ATpYq2fvfzHOvR6g7YKRvjdfO0EHcl1QbsLURu1QQOrUm51kuItRjZF8+zyK1xvG2iMe2aa4Ze7DZL41Df+YuNxx8Z1+tvXj6wp5VvtOXyyMGYF4Zpv94ezjGLcmsmsu+P5YyxsnBq9LvG/d4dzamnkXSJRCKRSCT/Gkq/3OriWd6+vBBXBTWzp5JSH8LlTSG3NhXotCZBrCiB3Gqu41pfiUM7v7xDFjQRBAbetiy3uhgWtypvEGn98fPLrS4xmKuGwLKIP+FN17eVVO62mUfJW+nhqOD1fn+ZxUlLuFdj7PSP4TPCmNtIibLhLG7mDDfN23N73bU+Sod2+OWNLBGBgdzO2SeX9DPz+fG7bnz77bfWl27dcVl9w7RX4Ty93OaOtzWSItJVkfdHbWHHhiMkmkxWaxpvO/2qhcTkQUuo5+cGkbVx7MOfhs7w/HKrI355e8rbiP9r/sIRY2XhkMubQm5tqNBpDYbRDBKJRCKRSF5aSp/cBs/kU73c6l8Gu6zvetPxeN8gape1oXyHVQYp0t1fTjs7G5TvDCHA8Cz7CX/1qWyQW5XY5qF+VaFkETSzPirFa7Sa4s+VuDQy4i+yZvQw/PSGaZJb+87rc8bcau/50qZGK3xCjQKmvasfbuDA99uNcqu5MYehXreFcuoxjgN1/GatkNN0To79ELsqXVgXZ7IqIcrLv6pBM68bIiYabs1pTHlFTbqvDzeKe8ZVZjYUwtvEOA43K2gm9VUKXms1Bf8rcaRlxHNxzWiG+d00He/FkrqxC/Y5PaW56BL2Manb93gcT7Lc46p7xI4JrmZSnMWZMe9T3smFPTlzFut4sKYTFWsOJbAY89tqQrxpam9DGcU7DDuSJrI6jm29jL25tm8M4qAoDt3jfQyqXRab8h1YZawsLG9nh43yHYYYK4tEIpFIJJKXmNIltymXWNHnY0PPWxkbJe98M5k1ZxKEAqVxdfkPfFLjU/r7rGPhj59Qo35/Vl/Xj+bUcf+IG21r6IcpCMmp9Bk/zjts4UUyM9KvsrSHE5WEMNvY2FLh3U64BeqPIzDJrer9dgxwGY+n9wwGdu6F56mHht8zo86wcWxTHG0VvPXtHPbeTEJzczatPmzPaL/dBAZsYGLv/iwLNvX7Zt5h6/AWfNxsILNXrGbh2H70dQ0gLjt+mWFsHeJMVbtKvPVZczr+MJMhLRyp2agXU3+/JjZI5+rSHjhVEsJmY4NthXfp5Bb4gnsg9R9WWMWMqeMZ0LwWDpWd6PTrZKbN+iOnh1kb6kvbN6rzzuAdxjG1OWi5t8udYd2dedPxPdq6eLA3Sp9YUU5rBvLDRuN0X+obv+M6YThd/lsFh1pfMmjiHHbftVZoejK5s2kAH1WwRVnViS++/I7RPzqjUlaixgeN6OF2yJCvaVeX88MnNfi0vw/rFv4o6k19+q++ni+eEolEIpFIXkZKXc+tVTSpxNwM4kZM6nPptdSkxHI38iFPzEXRbFhCWtp9IqIfG8f5WkOnQSPCyEqO4U5YLKmWIpeVTExEPGmF+JsmNY7w8Puk64TKp6QaBDAPmhRi70byME9k/2F099m0cuffLo269FhuXLzCvSQN2sfx3E+3lCcaUmNuEnQjxnJ5SCQSiUQieSn5d8nt34HFF8okltA92MXybdEFRVwikUgkEonkH0LKbX40t3B3VlKu0xoemVZJLKBLJGD+Es6YvkUhkUgkEolEUhqQcmuOLoELm2Yx4qeBDBw0lrkbjhImB2oWQjop8nm/RCKRSCSSUoaUW4lEIpFIJBLJS4OUW4lEIpFIJBLJS4OUW4mk1KElOeQIW1etZH9IMSYALi7pt9jtt5wth2/xSI4okUheTVJvcuFGinHqy2dAE3GZoOyv8UgkpQwptyVBHcflk8EkWhUDNXGXTxJsfaM8aFMjuRgcnTu9WbGOI3kp0T0icGITGvZZweUHRU5CV3KyEjjr041PW7hy2uqn/F4QGbEEBUcaP1giebHIvC4GGcQGBRNZokzS8ejyRcJK6fVZ9+gyFwuLXEYQy8bP50zyc5BS9W1WjXHj0AMpuJLSx6snt+p7HFnlxvcflsOmjC3VmvzCgj8umn60ToZ/LyorajA4wEpvWoY/vSorqDE4gCL73DTRnFw5kmZVFdh12Uj2xAPFOo7kpUT3YDUdKzVnQcQLnGDNMCOII923pZlW/B2kcuvPqbR7syx2hk9Lm1ZLXgAyr4tD6q0/mdruTcrafcXKEmVSCjsXrTR8QbI0krJzESstRi6FoxP743Xt+d3uaKM34OKymVhZxySljFe051ZL6JwvUNpUpvefJZjNNjOWS8eDSDDvUNPd58L5u2Yflcgk9tJxgvJsZAWxv19bVR65tXgcySuBLnYxrSt2ZM2LnIdOF8viVhXp+EIPYokU1n9jh0oK19+AzOvikLL+G+xUJZRb9UkWL7lY9Md9/hHUnFy8hIsWIpd11Y3OQ/fyfD9Cnsm5ie0Zsl9+2lxSunhl5TZiQXOUtq8xYO+z9I6qub24Aw1GHHuGR38PWdUhn9xKXln+Nrlt/U/IbRqbukrh+nuQeV0c0jZ1LbHcam764Xsww/RfKUNzEz/fgxSMXQYBQ5sz6vjzfxqoCZlNm66riZf1TFKKkHKbLbfqRK4fWIHbmvOkx55k9cwRDB2zgEPRubfAmse3CVjlyaYg/bon3F7fF6dytjg2HoSbhy8HI7X6jbgdsArPTUG5d/a6ZG7vWYHvsmXMnTqFBfvDzb5+VlBu8x7HSGZUIGuXrGDdmuX4rdzOufu5V5L0O3vxnT6SIcMmMd//GtaGUz11OOpoTm5YwGyP2Xh4LmPPueNs3HKGFBHrOwdX4uXuzqL990TOaog5swlfT3fcF+wh3GzoV2HhqxOvc2CFG2vOpxN7cjUzRwxlzIJDmGW9QEPi+U14z3Jl2sRp+OwJIdUsfiXJg2y0KeGc2evPXwFBxJWSESDW5VZHesxlDu4+Sog+gaJe3Tm+j4BL0SX7BHIJ5FaXfJs9K3xZtmwuU6csYH94ds1Vk3j9ACvc1nA+PZaTq2cyYugYFhyKztujpYnj9IZ5zHJzY/bKfXh3siZcWpJDD7PacyOXk0LYu2gKw38Zz7xdt3PSp0uP4tTGuWy4+Jib/h6MGuXLmSR9YOnc2evL9JFDGDZpPv7Xkk0vzDxLmOIsjzjGeh9v3KeMZ6rXBk5E5XvSo0nk/CZvZrlOY+I0H/aEpJq9qFNYnASZUQSuXcKKdWtY7reS7efu5/z21OdoifJaYCUO4kDs9Z3OyCHDmDTfn2t5LwZEn9zAgtke4nrgybI95zi+cQtnUiD1zkFWeolzf9F+7ukvhzFn2OTribv7AvbkvRhYDr8Y12E9msTzbPKeheu0iUzz2UNI3ouBlbhriDu9gXmz3HCbvZJ93p1KILcakiMu8ddvAxmx5RwRacXZ5+9DkxzBpb9+Y+CILZyLSDOrh4LMQwz5pD+7CrtQaFMIP7MX/78CCCrpxVB9ilH/7cLah6UrPySvNlJuDXKbyb1jC+lRR4Hy426MnTyPDVuX4VK/AhVaLCBMXKS1MSdY6uJMZdvsoQw61EknGf+RilqD95CQlEyGOoYTS11wrmxL5d5/mgRWzSXXBlRp62e4s9XF+NHOsS4Tz2f39eaV24LHEaQfZ/QXPdliuAAnc2xsFyad1V/sddzfPYpeE/YTnakl6ZIbzSpWorFHkOWe5KcNJ+MyXm2d6bMpzDCOWPdoP4NFXqnaLDPeratPM+Y9JTWHHDYdV83ZcR+gfH0g+wzXSSvhZ97j2MIe1FEo+bjbWCbP28DWZS7Ur1CBFgvCREnpSeHc7G/oOD6AONE+ZgXPoL6qCu2X6n8vYR6YyLiykMHDVnAuNoWU6CN4TlxJaCHvYFhFk8qD+Hji4uKsL/H3eZRuaRxcXnTRvnxZsRNrk0wrclBzZ+dClu67RXzoavq0GoLH3LnsCDqCe/N36bmtwA6Fo4tnWZuKdFhdhNyqL+HaoApt/eJFLuuI8WuHY92J6Ktu5r1jLOxRB4XyY7qNncy8DVtZ5lKfChVasEB/wujJvM6ybi3ov+WuiL2OlMuetHK0LUS4dCQFbWZUs2ooytXju2HDmeA5l0ndnLBXVKX1whtkPgpiy+hmVLG1o9EPExg1vB+N3m+N9/VYdo/qxYT90WRqk7jk1oyKlRrjEfS/pw/zphCZU9Np1nAAO6LEOaJL4cr89lSv1hS3s6bb0JRzzP6mI+MD4oT2ZBE8oz6qKu1Zqk+/7n4hcdLXynSOj/6CnlseiFSLM/HYWLpMOmu8KXjac7REea2n8Djo7u9mVK8J7I/ORJt0CbdmFanU2AND1MngsldbnPtsIsx4MWD/YFEPVG1YZrwYcHrMeyhrDuGw6QRUnx3HB8rXGWi8GFgJv+jrsJ6Uc7P5puN4AowXA2bUV1Gl/VLD79bjnsn1Zd1o0X8Ld8X/upTLeLZyxLZIuc0i5tAchg9zZd3Ri6zyXMylWwfx6v89kw+a3RCUhOd43ciKOcSc4cNwXXeUi6s8WXzpFge9+vP95INk3xdpbrjxRQsvy+OEM66wcPAwVpyLJSUlmiOeE1lZoothKr93fx8X+Y6IpBQh5TZnWEIqG7vYoWy+AOO7PDoS/Nqisu/GFlNbpg33ponKTDo1V5leT8Xbw82GJWjD8W6iMpPbVA6ObIjzuEBjT5H6CL/UKkerxbGmi2LBntv8x9GGevJF5WZ4Xjc+bNLeO8C+a6IZ0ktl3cZMOxFCaGgooSGncW2iRFFnJCdyIpTL04Wj4abH5zh+6WPKFz36R57lcuVWcx23z1Rmcqvh1qyGqLLltqh4pm6ki52S5gsijDKrSzCMQ7bvtsWQJ5qgGXxWZxAHst9/0sWxa3xPRmy9h7aEeWBA95AN3zXgN4M0iMbh3AQaOE/nvPFfdJkJXNw4hXGrb4qUWCfj0irG/forw4cPt778OoKpW0NMexWGjse7+lO73hQumeKSjfbeWjzWm/In6wIT6zrScVU82rQTzO4/kk23s3fQkZlwkY1TxrFaCJpl1JwY8R7v/3I4p85ZJPUgIxs6My7Q2N2jPvILtcq1YrHp7ZHUjV2wU+a+/KZL8KOtyp5uhhNGy91FrXBs6m3WoD5idUfrPbeRC1uIc64zGx6bVmnCWdjSHsWbgzkoTgdtlA8tlarcuiJQnx5D3cbTOBEiyl/UgZDTrjRRKqgz8oRI6dOFiSaYmfXtaTTnjtm6EDy/EOeqszs3NBqCZnxGnUEHxNlgRBe3i/E9R7D1ntZ6nLShIpzKNPO8bnx8rL3HgX3XDGL5dOfoU+R1oXHQy2ldGk87QYj+OKEhnHZtglJRh5HihNLc9OBzxy/xMXvhUf9ov1yO3Gq47vYZKjO51dyaRUNVttxaD7/I67AmiBmf1WFQ7sWAuF3j6TliK/e01sPW3l0khL8p3maG92h1xyJ6bjXc3diLL74TN7/66GUew8fXON5WF7eM9u8NNl2XinPe5fK8rhuauxvp9cV3QkYNkeOYj69xvK24Ri5r/x6DTfmUuftHanReb2G8rY6HG76jwW+mm6usc0xo4Mz07IthMa8nJ0c60WF5gul/ieSfR8ptjtxmsOVb0Ri0WUqc6TqXfzyWNnIhLYqU20gWtjCX22zUxF/0Z9WiUbSsoqKxV7ip0bQgt/mPow5mTtNKKCrVpbvHASKyDx80jXoOzgxZ7Iefn9my8oDxQpyfpwkn4yazGtpRe4ReFLJ5wtbu5Ystt0XGM2ML39qpaLM0TlxK9ZiPFxSNpWt97Fv5EmOh/SlxHujRxeLXrgKOH3dhuNty9t40e1ycfo2/Vv2O/+QWfPDrcbM0v1gybu9l0YQ+dOo+kT9CjWJjjjbmDuGmR4q6xFV0rNwSH/0wmHykX/uLVb/7M7nFB/x63ErsU6+xfuR3dP15OksDwkwrC0Edz0X/VSwa1ZIqqsZ4meQgY8u34vxow9LcE4auohy/WvkAnS4a3y/L8cbgg4befiNFjQPVEb2oJaqKvfDPOXm0RPm0RKlsxNw7WtFmL6WNEOju27I3EJI5rR4OzkNYbF7+Yll5IFSU39OEKbbQ32Aq9evMy8JYr5WqL1l07//gKuS3lW9Mbt3Joag4qQme05RKikrU7e7BgewTUc/TnKP/e5q8LiQOQh6n1XPAecjivMfxW8kBUS9vivTb1R6R58bxydbulC+u3FoNX7+D9euw5ror9e1b4Wv5YmAl7P8R7fsl5d4QNzS5mVTkmFtt5Ao61mrPsihjndcEL8EnwFQnMg8yqGZ9ZgRrin/ePU9EW7OiYy3aL4sytiXihmyJT4DxZkXUhIODalJ/RrAoEWM6/9Pnr3xtkh4dsX7tqOD4MV2Gu7F87808Q12Kl64sLk+pT1NxIyiRlBak3P4NcquO2M3k3v1w3RNORuZRhtWyK5ncCnSPzrPkh09wVNhS8eOBbLojmsjAodQs15olJZiHpcThZAYw+A0l7489Y7yzN1AyuS0ynlblVk3g0JrYNZqD8JACPE0e6FHf24v7zx1xrl2JsuWcGH4wyUxSdDxY2RGnv1Fu0aQQdX4zY9o356dNd8zyuiAZu/vzRr0pXC5sI90DVnZ0strIZt5aww8tOjJu8wViUgvvkYnYPZne/VzZE55B5tFh1LIrptxmneM3JyXVBux9RrkVte2PHlRQGXuIC4qosX6Ua72kkOmIniZMvSfM4BOlirZ+eR87P1rdATulyIObAQytaZe3ZzeHouIk0D3i/JIf+MRRgW3Fjxkoyjy7tEp8jj5VXgssxUEdKNJVjtZLsp8smZNJwOA3UL4/ljNmda9Ecms1fD3Wr8OGfLBrxBzLFwMrYWdx7jcnlNUGkHPJF1iXW3ETtOhLHDutxvitAh0xaxey9ZFxW23UIr6s0onVCaZ9i3HePU8Mx3cUxzd9SEEXs5aFWx8Z066NYtGXVei0OsHwf/qWbrzWc4cFuRWo77HX/Wc6OtemUtlyOA0/iGnIuZEi05XF2XEf0dw73PS/RPLPI+X2OcjtW9bkVoifx+cVqTctyHAHbRyWUDK51SUGczVav3UW8Se86fq2ksrdNpOg78VQOtDOLzpPA6uJCCTwdkFheapwrp1hglNZ0VAvJjrngifk9jvrwxJuuDXI7bktKp5F9Nzecm+IstzneNwwT9MTbl28xuMS5oHIBM6t82VnqKl1Fg384WF1ccoj78WX2/Qz8/nxu258++231pdu3XFZfcO0V+FkXZ7Cf//zA7sKdt6ayOL0mA+omdNLpyXyzBnydOIW2Rilsr1nNRrOsj7sQnPdg88r1mNakHErw7CE4sqtNoy5jZQoG84i92nm08itEIrFrSj/7mhOieRY6rnV9+wrHdrhZ6jb2WiICAzktuZpwhQkb6WHkL7X+/1F7rcutIR7NcZOL27pt3BvqKTc5x7krZa3uHjtsfU4ZSUSfNVYX7PiT+Dd9W2Ulbux+ZGIy9OcozdulzyvxXlgMQ4J13Gtr8ShnR95ox5BYOA1LkxwEjeDrVmcezEQcvud9WEJN9xokNNzay382+KPInpub7nTUFmOzz1u5Km7T25d5Npja2HfIGxuI5TKhswye7xuXW41XHNtwNs517Vk/H1WGV6UE2cDV12debf/LnLeoyqB3D6P64bmmisN3s7N52R/H1YZI4f6qivO7/Znlyly6sNDeOfr1eQdZa8j8dw6fHeGmq59Oh4dHkZdp7w3L0WnK5ODg+vQdYOcDkxSenhl5dY4z20leue0eGmGsV6qNktyLqrJ674WF752rDDdGWvv6h9VOvD9dtM+2lDmfKHCsed2oQuZPEhMFo36XbybiAvs99uNcpsqGvzyCuoMNY5vTLvpTWsHJfVdr6HWinBFI7OinZDbb9bnNKL5j6O5MYehXrdNF3OjmDt+s5YHmUHMrK9C8VorpvhfIS4tg/iLaxg9zM+skcvl6cLJ5PyEuqJReI8B2yMMF/ms+4f49WNlrtzq4ljaxo7yLeYTJi6KupRgFnd+A0Xl79muH/KVVUQ80/RjboXcLsmW22TWfS3Kot0KQ4+JJmQezSvY4lDvZ1aeCiMhMYwjPiOZuU/fQ1iyPNDem0/r6g2ZdCLbHtVcntYBl33mn+v6B3puTehnS2iVf7YEIeCHJreh1dSTqNUXmfyRPa2zx2ynHGH+whM5N0YGimqMTLMlFPVCWapo+Msr6jD0sKHmctO7NQ7K+rheU6Ovumn6MbdCapbknjB8Lcqx3YpEETdxUzKnsdi/Jt3XhxvzMeMqM4UQKpuYjw01xySi9p1Znz0+VnsP3zY1aOUTaqi3hvxRlaPbltzXvrOCZlJfpeC1VlPwvxJHWkY8F9eMZpifXt6fLkyhH5wc+yF2VbqwLjt9uhiWf1WDZl43hAxoCJnXnAq2DtT7eSWnwhJIDDuCz8iZ7BOiZDVOmhvMGeolxNsYrDZiAc0dv2GtXt6e6hx9irwuNA6ZBM2sj0rxGq2m+HMlLo2M+IusGT0MP3FCZZ6fQF2lkvcGbCfCeDHg0K8fo8yRWx1xS9tgV74F840XA4IXd+YNRWVxPTNcDKyGX+R1WBPCvOYVsHWox88rTxGWkEjYER9GztwnJN562Jpbc2gsrsU1u68n3JhJXJ0pbpyVTfKMwzUn8+x46reaZ3yZLfM4i5dcFikQEnh8Em3aTOaoqRfXQAnk9rmQeZbx9Vsxzxg5ji9eYniao3t0nElt2jD5qKkXV6Dv5W3jPJ2rpvI2IM6D+a2r03DSCZETRtSXp9HBZZ/ZDZ2gyOvJA1Z9/Qnjc8bpSiT/PK+e3GZFcHz9HPp8ZPpCWdNf8d1xlujjXnStpUBRoxPu+0N4GBGI21fVUShq0MnjCHfCzrBxbFMcbRW89e0c9t7Uv52exWW3hjioauDcfSwbr4RwZuNYmjraonjrW+bsvSkuILFs7VcbO9EI1mooJMpnG7NaO6Cs9il9/I5wevMkWr8utq/ZGY+/gsmMKngczc3ZtPqwPaP9dhMYsIGJvfuzLNgovulXl9LDqRJlbWywsa3Au53cCMx+TJaPpw1H9+gkbuIiqLRVUeWdBnw9dgPuncx6bsUlNGH3UOpWUOL41kc07uHBdo92vPZuK1yEeMWJa2+h4WdFc9yrK7UUCmp0cmd/yEMiAt34qrqxLDyORIrws4jcNZbm1VWizGywrViXXqKRyRa6kuQBmjC2z/Fk7e6TnDtzmG2+U5ngexrzNkqfnn9SbgtMBaaLZ0vvz/jabR3L3TzYuHEKXX5cyIHDO1ju8ztX8rREgmLKbVFTgWljt9Kvtp0QiVo07OCCz7ZZhhuzap/2YWlAIF5daxnPD/f9hDyMINDtK6obytGDI/rvmWaGsXWIM1XtKvHWZ83p+MNMhrRwpGajXkz9/ZrpKOaYRFT1Pu0GuDDe05sZAzvTy/OUoXdM9+Aym8e1pJo4N95oP43NpyNNvdfpXF3aA6dKZbERdcC2wrt0cgvEWAWeNkxB5h22Dm/Bx80GMnvFahaO7Udf1wBDfTaQFcmusc2prrKhjI0tFev2YsnlnFpZeJw0N5nd6kPaj/Zjd2AAGyb2pv+yYMPN8FOf6yXNaytxEAdiaQ8nKpUVxxHpqvBuJ9wCjY+39TdaJ91aU11pi6rKOzT4eiwb3DuZ9dyKTRJ2M7RuBZSOb/FR4x54bPeg3Wvv0splISeMF4NCws8q8jqsr1ZZkbsY27w6KpsyIh8qUreXkLrci0HhcRclG7Z1CM5V7aj01mc07/gDM4e0wLFmI3pN/T3flGHZpHNt1XD6j/Flx4aJjPH4g/ULpjDW7Q9uZb/Tls3fLbeC9GurGN5/jGjDRF0Z48Ef6xcwZawbf+SPnCaI6V90zhnCYERD2PY5eK7dzclzZzi8zZepE3w5nfdiWHS69NOMNfiZfYU+bZJI/n5e0Z7b50kmD6LiSDG/Iy7AEx5ERvPYdGOrS4snIj7ddMEtBjoNGrFxVnKMkOxYCg6R1JASe5fIh0+sh/lM4WhIjo3iwRP9L/nG3JrQh3svJtnQ66RNTyOjQCDFjGdh6DJIiIjiUaalvUsStobU+DvcvHmXxIKRFJQyuTWQxeOoCBKNnoMmKYrw2FTDY+UCPCe5NfDkAZHRj8XR9ehIi48gPr1kpadJjSM8/D7pOrF/SiFxNmA2hCAtjfsRuedMsdCkEHs3koeGOprNM4apJyuZmIh40gqJuC4jgYioR1iulpbjpDGeiMTcCSPW/ER8xnO9JHldaBxMaFJiuRv5kDxRN6FJjiXqgTEOecfcmtCHey+GZOPFgDQL55m18ItGR0ZCBFGPMi3ng7WwNanEhYdzX9RjXVoKqYVnUi6ZiZx2G4+PvrPBtKoA/4DcGskk8bQb431uklRo5DTc8mhLz80PC+SXJjWeOzdvcjcxw2JeFpWuzBOjaTU8MKf3VyIpDUi5lTwFluX2pUBzh/3LFjKt24dUb+LC3MVbOJent+PFootdYpDboqagLQzNnf0sWziNbh9Wp4nLXBZvOWd6GcYMvdz+I5/fLQozETVJ/LPzIsKUmGNRbl86Utnlu6qQ4TTFPO9eIKm7fFlVWORM6BK2M6jXokLTYIki06V7yA6XXizOnoRYIiklSLmVlBzDNE8qs7koJc+NtF388MZ/mXzpBfb+ZBzj1/dr8vOB0mZ7+pcHnVGW6/QcPz/8IsKU5CJuHny/RGU23/FLifokS5Ya57ctfag5uWSpcX5bq2iJ3DSMkduy3214dlJOzGTw/Ku5Q3kkklKClFtJidCl3GLfsukMGziAgYPGMv9AEXOkSkqIlrgD0+jW4Qdc1+7n6v3n2JyqY7m0ayXT+3eh96zAnK8XlQ50JFzYxKwRPzFw4CDGzt3A0TDzF7yehhcRpiQHXQq39i1j+rCBDNDn7/wDhL2sz6Yzwwm5VzrVVj8sITzkXvHEW/eY04umsurqs58H2qhdzPLYQ4zs4JCUQqTcSiSlkiySY8OJSX6OLYc2ibioRNILHZcnkUheftSkpT0HUX+SYXwBUSIphUi5lUgkEolEIpG8NLzCcpvG3aOb8J07hwWr93H98cv0bEVLVlYJnzlnxXH12BECAwOtLkdO3CSxqKzSJXLz5HGOH9cvJzgfZvZ5W4lEIpFIJJIXyCsqtymcmPApFRTV6LbmCqu6VsbOaSRH8syE/5zIiuBEwLU83+t+YWjSiL92kMWDP6fhmJMlmsYqeXsf3ncewKwVW9m5dz8HdrvR3rEsb3ady879B9i/90/Wz+7FR2/2Y2dRz6J0jwgJ9OG7mgrKlFFQ+x+YUksikUgkEsmryasptynb6F7JhjLKT5lx5SqzGqqwqfQ1a17AVDapO3rxekO3vJ/ofBFoYzi4yAPfbQfxaFu+hEKZhP+EMewy+/CBNtSTz1Wv0X+32Rsi2kiWjJlr8ctfBTB8hlgp5VYikUgkEsnfyispt9qI+TRTlhFyW5+Z1zRoHt/jdnT+z808D9QcG16H2sOO/o1yp/+mvH3JhPLxn8xZov9UaTY6Eld1xL5CJ9aYf3NdE8KS+Tsp1nu2Um4lEolEIpH8A7xycqtL3MvUr/9LFVsht7aOfNy+Oz8vvWKYRiUr5ig+Iwfw07AxDBvYnxELAok2vFSqI+GoFy69etC9ew8G+J4nKsCDfq2dadRrMUEFHtNn8uDuLW5d38eYepVp632Bm7ejePy3vKVecrnVxlwlOM/natPZ+UM1VI3mcMd8fK02luDg+4WOn029uo4x3VvS0LkNP83fxoxmBeW28DyWSCQSiUQieXZevZ5b7RMenpxAPUPP7X8ZfyKeh6lqtNFb6VNbifLjyejnz1dfnMRHSiVv99lqmscvhS3dHLApY4P9xy3p3OYL3razoUzZj5lyJZ+daeM5v309a71784F9Q4b4rWP9pkOEWuzy1JD6IJ74uDjirC7x3H+UbuVzmtk8Rc9tftSnGP2uig/GnS32pOVZNxbQqootNhWcGbc3mEs7xtHY0TaP3BadxxKJRCKRSCTPxis5LEFz3Y3PzIYlQAaHXGqhKGNL1R92Gefue7KTfkLWyihqM/yofk0mO/s5Crktg7L+TK5pNEQFLMR1YQDRhYhZ6vaevO7szi1rPbYZl1g17ld+HT6c4VaXXxkxdSshRfb+Prvcam574Jx/vK1V0tgzoDq2QvzLf7USQyewNoIFzc17bouTxxKJRCKRSCTPhpRbvdxmneM3p7J5H6GrjzH8bf3b/mX579QrYkWu3Np9s54U/TZWUXN0WB3eG1WyWQuenWeVWx33V3xF+fzjba2RdYEJH+rzz5Y3XQ4Zj5t/zG2x8lgikUgkEonk2ZByq5dbM8l6f+wZ46N4w6N541RW744+JVaYyW3nDUXLreYaMz/7D33/ehEvqlnjWeU2jb/6Vi043tYa6kCGmqb9env4MctyW6w8lkgkEolEInk2pNzq5VYXz/L25YW4Kqj5yxFTr+IhXN4U4mVTgU5rEsSKksmtLm4ZbRw7sNLwjF5D+NnzxFuSxfQzzP/xO7p9+y3fWl260d1ldTGmFHtGuVWfZGSdko23RRuK5+d6kbXBsc+fGAYz5JfbYuWxRCKRSCQSybPxaspt8Ew+1cut/mWwy3qF0/F43yBql7WhfIdVJAof1d1fTjs7G5TvDCEgWb/XE/7qU9kgtyqxzUP9KiuoD7vw1qfTCDK48594rbpRfFl8JlLZ2MU+twc1Bx0J+ybR7XsPjicVPtxAc9ONBqrX+LHY4231aAjxboq9TRkU7wzjSJpw27ht9DL05tryxqCDIveKk8cSiUQikUgkz8arJ7cpl1jR52PKCxErY6PknW8ms+ZMglCvNK4u/4FPanxKf591LPzxE2rU78/q6/opDnTcP+JG2xp6WSuDbaXP+HHe4UJfJNOji/udvk0HsPLADpYt20P4U3WjlgBdEmdWzWDq+AE0r+VAZadO/Dp5GrP+uGnaQEuob1veqP4Og3fkm7ZBl8jxpdOZMnkcA7+sTcUKr+PcawyTJrvy+/ViRjzzDpsGfEQFWyVVnb7gy+9G86OzCmWlGnzQqAduh+LERtbyWCKRSCQSieTZeSV7bq2iSSXmZhA3YlLNPmrwdGhTY7kXly7UuPSgu7+JlTtflEzqSI+9wcUr90jSaHkcf590S4l/jnkskUgkEolEYo6U21cKHQ92LWebtS5niUQikUgkkn8xUm5fIXSJAcxfcoZU0/8SiUQikUgkLxtSbl8l0lNIleMAJBKJRCKRvMRIuZVIJBKJRCKRvDRIuZVIJBKJRCKRvDRIuS2VqIm7fJLgRGtjCLSkRlzm5v1S8HKYJomwy7d5+JTTQmiSwrh8+2Hhs0qo47h8Mpg82aFNJfJiMNE564qTZ6WUAml5FckgNiiYyBc9Zd4LRB13mZPBiXIGEIlEIvmHkXL73NESd2IBvT40fY2r00z8rz0m+cYu5vR0wk7/oYO3O+O6/jQxBi/VkXJ9BzO/fgtllcYMW3+FpDR/elVWUGNwAJmGMPOiS7nGluGNcCz7GgP2Wtri70LH/TPL6F/PnrLvjOJUScVEd58zy/pTz74s74w6VegX1TL8e1FZUYPBAfq0aog+uZKRzaqisOvCxuy34zKs51nppJC0vGKk3vqTqe3epKzdV6x8UJomzisJGfj3qoyixmAM1VQikUgk/xhSbl8QGafG8EFZBW8PO8IT0zpS9vJTTQVlncZzPo/JCUn060STWTdMvT6ZxF46TlCC2TfNhAheOH83p1dIGzKbz1X/tNzqyeLM2PdRPo3c6sk6w9j3lVbllsxYLh0PIjc79PnVFlUeIbSQZ/rtLpznbqnuSrOUlmfh35DmgqSs/wY71b9Jbgvmc2bsJY4HJfxNXyKUSCQSSWFIuX1RaG4z+3Mliho/sS/NtE40excn1qWsohZDDpl93lb3kM19v2NJZGFDDNTcXtyBBiNyP6mrvTOXRqVEbs/95oTqqeX2HL85qazLrQUerupQpBCqby+mQ4MRHHuaeP2NFCctxeXfkub8pG3q+q+S239rPkskEsmrgJTbF4aWu/ObY2dblR5bH2FssnXEr/wKextbXu/jT7JhnVgbv5qePddwP7td1zzmdsAqPDcFCXV8wu31fXEqZ4tj40G4efhyUEhwjtzueUTI3kVMHT6EUV57uVeo62pJDj3Mas+NXE4KYe+iKQz/ZTzzdt0m+3tluvQoTm2cy4aLj7np78GoUb6cSdJH6gkRx9bj4+3OlPFT8dpwgqic7uhcuT1y9xjLJg9h8AhXVp+KNxt7qCP59h5W+C5j2dypTFmwn/Ds/XPk9gh3jy1j8pDBjHBdzan43L01j28TsMqTTUG5fWIFhDBPnokY315PX6dy2Do2ZpCbB74HQwjZvxRP91m4z12O/xX9J5dFrsRfYLOPB94bLxQ9Zlibxv3wECIeFmI0mVEErl3CinVrWO63ku3n7pvKXZB+h72+0xk5ZBiT5vtzLTn3YBbl1sr2+uEMiec34T3LlWkTp+GzJ4RU8XPBNEeKUreALpnbe1bgu2wZc6dOYcH+8NynC/kotE5YCUOdeJ0DK9xYcz6d2JOrmTliKGMWHCI6T5emhrjTG5g3yw232SvZ592pgNw+iTjGeh9v3KeMZ6rXBk7kVjpR3KEcXT+bxYcTSQnZg8/EobiMW8KpBLF/Wgj7l85k5NDRzAuINquH+bFSLw2UJJ81PL4dwCrPTZhVU30iOLbeB2/3KYyf6sWGE1G5ea1O5PqBFbitOU967ElWzxzB0DELOJQ3oyyjSyf6UgD7TkdgdpsskUgkEoGU2xeINmoJbcrbUrHjKuL1bbY2At/OX/JlQ3tsK3dhvb4hFs1i5OLv6LfF9EKVNoYTS11wrmxL5d5/ioZQhzrpJOM/UlFr8B4SkpLJEK21UW4r4txzDJMXbGL7iiE0cLDD2T17aIM5OpKCNjOqWTUU5erx3bDhTPCcy6RuTtgrqtJ64Q0yHwWxZXQzqtja0eiHCYwa3o9G77fG++YjTk1vRsMBO4gSba4u5Qrz21enWlM3zhpkzCi3ytfq06HPL8wQjXj/Rv+hrKoO/bbFGORKfcmVBlXa4qfPBF0Mfu0cqTvxvLGn1iC3Sl6r34E+v8wQItOfRv8pi6pOP7bFCImPOcFSF2cq21am95+55pFHCAvkmTiMOomT4z9CVWswexKSSNZn2pOLTPlEibKJN3dzrC+Zbf3a4XGjcKHIij6Ix4/d6DfajYUr1rPzygPTL+akc3z0F/Tc8sBQjsnHxtJl0lmDaOvu72ZUrwnsj85Em3QJt2YVqdTYgyCTI+eXW+vbp3Bu9jd0HB9AnEhSVvAM6quq0H5pGP/XUpoLoOaSawOqtPUz1EldjB/tHOsyMe84GQO6QutERuFhZN7j2MIe1FEo+bjbWCbP28DWZS7Ur1CBFgvCTLKdyfVl3WjRfwt3xS66lMt4tnLE1kxuk09Np1nDAewwVjquzG9P9WpNcdNXOk0Up9cM5hNlWep0Goe7zwZ2CdHuL26SXms7jJlT57J2535+n9AcR4c2hT4RsVovS5TPamJOLMXFubI4r3uTU02TTzG9WUMG7IgS9UBHypX5tK9ejaZuZ0kVeXDv2EJ61FGg/LgbYyfPY8PWZbjUr0CFFgsIsxxlA+p7O/i1a38WHAnl7sllTO/fCqf+O6XkSiQSiQkpty8SXTwrOzhgU64FC+9p0dz2pEPf3wld3xVHW3taL45Eq72Dd+cB+Gd34+rRhuPdRJUjamiuMr2eireH5x+W4Ej33x+b1jxm3dflsOu4mkemNXkREr2wBSr7zmzI3kUTzsKW9ijeHMxBcSBtlA8tlSqaL4gwSYjYJHgm9e0bMedObmurCfHkC1W2SJvk9vUf2ZU9/CL1BKOcylLWaQIXhJukHhxJQ+dxBBq6iNUc+aUW5VotJlbvMSa5ff3HXeTuPgqnsmVxmnDBIIfacG+aqKzIrZ78eSZidnV6PVRvDzd7dKwjbu03OKo+ZcZVk8w+/oOBvZYTY3SqAuji/mTA++/Sd3ucQVoLRRuK5xeVaeZ53SgZ2nsc2HdNxF/N6TF1aTztBCGhoYSGhnDatQlKRR1GnjBGLG9arG+vCZrBZ3UGcSA7s3Rx7BrfkxFb74kys5Tm/KRycGRDnMcFGnvs1Uf4pVY5Wi2OtZg+S3WiyDBSN9LFTpm7jy4Bv7Yq7LttMXwdT3t3Ea0cm+Idnhvio9Udc3tuNcHMrG9Pozl3co+pCRH5q8LO2Z0bemfPDGDwG0o+mnzJUEeM5f0JSsde7MjOm0dr6GhXge7bsp9N5MVavSx5PmsJ926CKkduNQTPrI99oznknjoaQjy/EGXtjLshEals7GKHsvkCIowZRYJ+/LV9N7Zk1+t86BJ38dMHnzD6RIppRQLL21WgofstEbpEIpFI9Ei5faHoSFzfhco2ShrOCubi9DYM3JmCLtmfPq/Zovp8NteD3OgwaI+h0c9BG8nCFsWRW/Mxt0/4q48jqpyGMj86ohe1RFWxF/45jqglyqclSmUj5ooWWBe3lDYqeyED2RsYG2ylfXe2mXcLaW4xq6ES1ZeLiNZZGnObxeXJH1FW1YrFBoM1oo6/iP+qRYxqWQVVYy8MbmNpzG3WZSZ/VBaVSTS0kQtpUaTc5ssziwIiSD/K8HeU1By4F1ESPNzyEwM2JRqlrACZHB/xDso6fVm2/yAHDwZw+EJkIT1kaoLnNKWSohJ1u3twIMIUV00Q0+o54DxkMX5+fmbLSg6EGiOWJy1Wt8/guqsQpla+hch4ceQ2GzXxF/1ZtWgULauoaOwVniuSZhSsE+YUEkbGFr61U9FmafYNQRqbutqh+molD3SiHvp+Sbk3xA2V2RAa8zG3hpsZpf6YeSodt2Y1RKn6kkXRIlT1YYbUVFFv+lWT1Im66tUYVdX+7Mk5JbbR3V7EY1l8IeVrpGC91DxFPptuHrPl1nCzpcS++7Y89UVzaxYNxc3Cl4uixX8ZbPlW5EubpcSZjmN97LGa8xPqYt9sfu6TB/VRhtX5gDGnTTdr2egeER7+wGKZSiQSycuOlNsXzaOtdK9iS9n3WtOmqQsHDL1E6RwcXBNFWSc6dmqJy758PUtPK7d9Syq3Yq8/elBB1ZwFYqeCIqMheMYnQija4pczIFjPI1Z3sEMpRCBMa0ludSQsb4dK1Yal+ke+6gh2T+5NP9c9hGdkcnRYLeysya2hN0plaPT1uz9XuRXNfah3U8pXbMuyyPtsGDSUv8x7zc3R5/sndrw/cA2HAgMJDDzCsSvRpvAtIITi/JIf+MRRgW3Fjxm46Q5qdSBDa5aj9RLLPaN68qTF6vZqAofWxC5Pb6A5xZNbdcRuJvfuh+uecDIyhRzVsiux3FoNw6rcmnr6qw3A/F1Ic6nTBM/gEyGAbf3MxiwLHq3ugJ2yMV76Z/YlkduceOSj0Hr5NPmcT241wcz4RNwAtvXLHUuv59FqOtgpRV6FiX9KKLdZF5jgVI7P3HKHHunzqv4bP7Ir3yUkM/AXPurxe864folEInmVkHL7wknmz76vY1tGQe3hR3PEKPPkKN5VlMG2xiAO5O8KLERu33rucqsjZnEryr872iCmlkQmeWsPHBWv0+8v02NQPdpwvBrbUXPIYTJNwxLyyq2WsLmNKP/xFC5nabju8TkV600jyNAiGx//WpVbbRhzG5Xn4ymXjcMSnkVu3yooerpHO+j9HxV1f/6VgWMCcl6oK4ChB9m+gGRZRJdI8NVog9xlxZ/Au+vbKCt3Y3PCdVzrK3Fo50e0ebloIoQs3zb8mbfn1tr217nl3hBluc/xMDzWzuYJty5eI9VKmnMQ4Xt8XpF604KMgmQYUlBCuS0qDKtya6wbSmVDZt3MTUMeqUveSg9xg/B6v7/IrXVGebWrOYTD+ir/zHJrrV5qniKf88mtOO+39nBE8Xo/8p46XjS2q8kQQyJKKLdP/qKP43/4aX92AvXnb2scv1rBfc19Ll64a1yrzeTy1AZ8Of8uWRaCkUgkkpcdKbd/A2l7B/KG8gPGnTUzjqwrTPlYyRs/7SsoV9q7hkeaDt9vN4qaNpQ5X6hw7LldNKyZPEhMJitkNs5KR/rtzJXbHT0dDC9LmQ1lNMMkt/adWZ895lZ7D982NWjlE2oQBF3sYlqpytFti1mM0k8y9kM7qnRZl9MA62KW81WNZngZXsIyyW2dEZiGkOpbcBa2fo/vt+h7H1OF2JRHUWcoh/XylnYT79YinvVduabWojPJbZ0RJ3LFPXwhrd/7ni2mIQ3au/rH1A58vz1bsHQkrmgnhPAb1meLQ/48E7IROucLVI492S6Om/kgkdwJB7K45tYQu7LvMfpUdv5Z4gnHR3zAR+OzXzKyguYGc4Z6cdvkQtqIBTR3/Ia1DzIJmlkfleI1Wk3x50pcGhnxF1kzehh+BrnLn5Ysq9trQubRvIItDvV+ZuWpMBISwzjiM5KZ+/QvsllLs4nUTXQtr6DO0MOGoTBpN71p7aCkvus11NqCJmSxThQVRpp+zK2QyiXZUpnMuq+FxLVbQaJYobk1h8Zi/5rd1xNuyNgMrs4UMqlsYhqHm87JsR9iV6UL63IrHcu/qkEzrxuGGx79mFuXGkJuswVbpP2OIe192ZldTTK28l15VSG94NbrZVaJ81nLXf0QHofvya6m6SfH8qFdFbqsy84HIaPLv6JGMy+M7y+mGcbcqtosyTm3ktd9LeS2HSv0GZUffW9wAydGZd9Fpl5k5heVqT9T5Hv0Wrw3xaNLusKOJdPoXOddvp3hy/J9IeKKIZFIJK8WUm7/DjIOMbzjdK7kGRan4bZnZ1z25n+eGMWZjWNp6miL4q1vmbP3pliZxWUhYw6qGjh3H8v6s5fwH9uEyrYKanefx9F7SYQf8qRLLQW2js2ZsFf/yDM/JrlVvU+7AS6M9/RmxsDO9PI8ZZgCS/fgMpvHtaSaCPON9tPYfDoyp1HMvLOV4S0+ptnA2axYvZCx/friGhAnmng9Oh4cmkKb996jucssfJfMZ+bQHxm++qrpBTEtsVv7UdtOiEKthnRw8WHbrNY4KKvxaZ8VXMt8wKEpbXjvvea4zPJlyfyZDP1xOKuvGvfOjDrDxrFNcRTxeuvbOey9+Yj4C5uZ1Pp1bBU16ezxF8ExERbyTOTaZTcaOqio4dydsRtv5Bn7qJe2tg2mcsW8Y84CuqRz+PzUlwlrDnIsYBt+85ZxOE+XqgnNTWa3+pD2o/3YHRjAhom96b8s2Cja6VdZ2sOJSmVtsLGxpcK7nXAL1E9Fpi2YFn2PXaHb68kictdYmldXYVPGBtuKdem15LJBMg2/WkmzAW0sW/vVxs7WgVoNO+Dis41Zeqmr9il9VuhfgMul0DphLYylAQR6daWWQkGNTu7sD3lIRKAbX1VXoKjRCY8jkSKATMK2DsG5qh2V3vqM5h1/YOaQFjjWbESvqb8bpz3LvMPW4S34uNlAZq9YzcKx/ejrGkCcPuvFOXJ65UDqKm1xbDGBP4Lukxi8g4ktq4h8rE33+YcJexBO4LzvqC3i8UYnD/bfTtLH3Iwi6mVWSfL5CiFnNjK2qaM4/lt8O2cvNw1T6GVyZ+twWnzcjIGzV7B64Vj69XUlwJCILKKPe9FVnLP6fHHfH8LDiEDcvqqOQlGDTh5HLHyKWEf87hF0cVnO/j3r8Jq1En/f7rRwWcXGub4EPjLWEJI2093JRX4pTSKRvLJIuf1b0JKcpH99KS+6tCSS8wivNTJ5EBVHShEyVjhmwxLS0rgfEc3jYh/bSFZyDBHxaSapzY+apJgw7kQn5xGkbJ48iCQ6+4C6NOIj4kk3zxB1EjFhd4gufoYUi8wHUcRZyLSMwDH0nhdaSFryoyPz4T1CwhLyxjkPOjQa8WNWMjF3wohNLXhMTUosdyMf8qTQMPJidXtdBgkRUTzKLPhjYWnO5QkPInPLX5cWL8o1vUD9tM5zCEOTSlx4OPdFpurSUki1VBj6/BR1Ja14BVViiqyXz5TP2WSRLG7A4p9TIjQpMYSGJ5puPrWkxNzjfnZvtSAzwAWn7zaR/YBGIpFIXjWk3L4yWH6h7NVCQ5Z+EKI2klX9fmKTYZ5hieRlQj8euCFfzo9Am3WbXbstzXstkUgkLzdSbl8Z9C/JOKMs14k1lifCfcnRErWsLRVVjrxV+x3aeJvGbkokLxVawv260mXyZtb6rOa4froRiUQiecWQcvtKoCPhwiZmjfiJgQMHMXbuBo6GFTpHwEuLJnIfs38dxuTV58keniiRvHxoyUhOLfolSIlEInlJkXIrkUgkEolEInlpkHIrkUgkEolEInlpkHIrkUj+NaTevMCNlGcYU5J6kws3Cs5cUmw0EVwOKuxzzf8kGiIuBxnmEZZIJJJXHSm3pQltqmigbnL/BU17VDzUxF0+SXBiKXrHWuRL5MVgouVr3/8yMog6vYUFnnNZuGAeczxm4/PHFR5aqt/aOM6fvmOa3soyGUHLGD//TMEPU5ihe3SZi2GFVJSMIJaNn88ZawEUiZrbq8bgdkj/MYd/CF0SV7f64uM7h7m/38j5CIz69irGuB3C0sfNJBKJ5FVCym2pQEfKtS0Mb+RI2dfyfnP/byfDn16VFdQYHGBVNP4eNESfXMnIZlVRmH9qV1LqyYrcy7TuXzFg4XFisiuSJo7Dk1pS71s/bmav0z3kxoVQUjIDGTV4LQ8zY7h0OargTBYpR5nY34trRbwllbJzESstfqIvhaMT++NVVADFQRvNBhcXNpu+oPe3okvk4Oh29FsfgUb3mM29WjHrerbMa4ne4ILLZktfZJNIJJJXBym3/yC6+xc4fze3YQqZ/Tmqf1puhdLGXjpOUEJpmShLx32/tqiem9yK8C6cJyfbJc+djGtL6eLUgFGWejc113D9rBLNvEON/+viObZgJC6jx/DDgCFMGvoLrn/l78HN4qpbZ4buTTb9XxhqTi5ewkULVTfrqhudh+6lqBCKS+a5ibQfsv+5hVc8dMRu6s6HnVcTY8hYNadGOdFy/j1x9TCReY6J7Yew/++NmEQikZQqpNz+U6hvs7hDA0Ycy+5J0nJnbqNSILelj4erOjw3uVXfXkyHBiPIyXbJc0X3YB9DnBxpMudmIfMIqzk+ojZ2zu6m/58QeXQFrhOH8m2X/kycsZCdN5LySnFGAEObj+J4UeeF5iZ+vgcLfnJYrAkY2pxRRQZQAjQhzG7TldV/5zyyqQdxqfMuw49mf4Ulk30Dq/P+6NNmea0RN8lt6Lo6vuCNhUQikbwiSLl9gTyJOMZ6H2/cp4xnqtcGTkSZGqUnt1nf14lyto40HuSGh2iQI7W5crvnUQh7F01l+JBReO29l7cXK/0Oe32nM3LIMCbN9zd+h1+PLp2oUxuZu+Eij2/64zFqFL4nrxOwdDbus9yZt/YUsVnxnFk3z/C/x/y1HNd/vF6XzPU/FzHbcx1nH4qwNI+5HbAKz01BuQ1mZhSBa5ewYt0alvutZPu5+7kNZ2HxscRThmNRbq0eV0Pi+U14z3Jl2sRp+OwJIVX8/OT2evo6lcPWsTGD3DzwPRiZ2+NlCZGn0ZcC2Hc6woIw/X1kJtzm/IlD7A0I5oEui4Rrh/nLfx/nItNMG8Rz9fBO/tx/nqgC0xdnkRi0l83r1vP73svEmUm9NjmW8HuRREVGEB4WZ8gjXUoc4XcjiIy4y934tBIKUhrHfn0f1TvDOGKKWkGyuDTpI5Sv/2T8VxvOnlW7CE06xm8jNvMo7jirfr+UM45UT+ahIXzSf1eedfnRJEdw6a/fGDhiC+ci8sU78xBDPunPrsIC0KYQfmYv/n8FEBRXXAHW95r+ly5rH5ZYInXp0VwK2MfpCAu16kkyyRajoCNm+VdUfncUJ7PLUBeD75f21JsWJGp8LupTo/hvl7XoT2eJRCJ5FZFy+4JIPjWdZg0HsCNKKKIuhSvz21O9WlPczgpD06lJOjmej1S1GLwngaTkDNE4meS2ojM9x0xmwabtrBjSAAc7Z9xvGJsu3f3djOo1gf3RmWiTLv1/7P0HVFTX+v8B/wRnMFaMSdSrSUyRq7l6iXLtFTVqYsVYYqImikaiWGIXBcUCgggoCthrIjF2UVxWbIjIq6KguKTJosmS8lL+M/POnPV5zxT60FTUJOez1ric4Zx9djt7f/ezn703Tt0b0LCLM2H/L52wvbPo3tgEs87fM9/ejvGdP6evawTpx3+iZW1zxgboO1JNzCb6N5Tx32XhhR2i6pYDA346QqYmgYsbbbFqZEKjsX+gl+K5XJjVidF79VPMmefnMHThVZ3wLTc+Rq2iLx5OaXFb8fVZXFv1DYPmBZIoJlAVvgxLeWMGbHzE/0+ZwaV5bZG3nMLRlAwy88r3TVA+OcgvwybgfjaKx5c24TChDxYT/qy+yFVnk5aURGJiYsWfpGTSc41JbYGM8EN4TLEShc1kPHd4sf9KLClPDjP1y44sOnqGbV4HuRGfyqN9P9DGyoEbheJIxV3vydjve0SeoCb53EIGdLfjz6f65+RHnWLziu9o16A2LYb6EyVmh/LOaro2Mqf9qF9ZH1iJ+C+FkLKNbxrIaLPwpq5cjZPP4e/fpfZHdobvBtQP+G33VVEel0bNPadO9HSJNhoXVcJp1thNx3H7OUL8VuN18z6nXCbw7aJTJBvEnfqeE516umDUFTfvFuunTGfLtadkZcVzdvUCfLUZUQWy99nwuW11fNOVPDn4C8MmuHM26jGXNjkwoY8FE/401Cp1OE4d6lC313r99+Jo4vDqW5dmk46QkZ9Pvvbz/CDfNanL4K2l3D+y92HzuS2BVY+YhISExN8KSdzWBGIntdyyLp3XPCzqkNWRrO4k103HarWq+rYD7eQfYVfaLcHchn3PDT89387XdcwY5K89L1dJ8Ow2dFl6kcioKKKiIgl27IrMtBUzL4phiJ2fRy8Z8h7uxBTvxNVhLG0n518/nTAIhywCxjWhTldXHumu0xC1biJLrhnioYnGtau8SNxqosR4N6L76rt6Yad5wsnjd0TxUkl8SvMS4ZQUtxVfrw5bxpetJnOyQCUJiRyeN5oZ+7V+idpz99shF4VVRW4JQuphfmzdnlkXsww/pLC5fz06rrxfwkImpEcTnWZMMRWRd9OPub/8gp2dXcWfX2awZH+k4a6yqG4u4otG7Zl/sSBhSoKmtqBhx+XcKJilzj/EuCb/YXGoQVqKeezew4xGYwIMojyTPcPNsVpRPB0aEvaP5bN2Mwl6LpBzfT2LthjKqJpk7h1Jg9of88uFCjJXFcqitjLqDvY3/FAZCo780JwhO8o6kaof72JMp5GiGNU+T8F5D0+9v61Y5psGfMYUQyVQHPmB5kN2GPGPFXi2cyQdftUPslBdY34HKxyuF5PmQjrR0WlF73ExlJdmYjFwMylVspAKpB7+kdbtZ1FUrTbTv15HVt4vKI0cwveswPngA8P3YmTuYUSD+liOW8iSJUt0n4Wj2/OOrANOhsFvIcpLzLQYyOaqRUxCQkLib4ckbmsATbQrXWV1sTlQXCKoub+iIzJ5bzbEC+WL2+I+t1qxYi6nh3sMGp1IrY/VVC98fHyKfXw5qe3cxQ59o7WcujYHDBbXAjQ8cu3GO01G85tWNKvv4WzdFHP5lzhpV1mrQlg2cQ2F/asmlvU9i4lbUUSFr+lGQ9OGtLFx5mSMIfTK4lOGFw+nhLit8Po87jpaUrePp2HBTWmqIm6VXJ/fhrrd3XhcoGiU55jeqjWzg4vbIxUE/dyWUftez8odVehiUdzaUFSltNPin/L+hKNFlkPFcSY1+5SZhfPW4lVpsSRkaVCkPuDK6QCW93+PVjMuiHcXQ3jOWft2fPL1LyxyDXrBraTURDh1QGY2iK3asVg5aOt9e5k5Q7YnGX6pjBx2D/uAcYdK1mptPd0yqCUDNsXphac4oPT2CDSIcgWnJrfA0jA7kbN7GB+MO1TqvdAi8NSnP/XMv2ConRObj0WU2WZMEfQzbUftM7pwTFsmlt3W8LDi8Y0e5XXmt6lLd7fHhUJZeW46rVrPpkS1KgfV9XlYvNOD9bEFd2vrcnvq/Hc5d0ppW+0AYrFlN9ZUKWISEhISfz8kcVsDqMOXiR24nH4+xXxKRdL9B2Im64LLI02Vxe13BeJWGcS0FnXo613ONj/lilvxT099GdigIV9vSyIrcCbjXA/jZPUObRbcICNwFpN8DAJBSxlxKyKkc937e9qbm2LS4Asm7X6IsrL4GOMFwykhbiu8XknQtBaYdS5PcFRB3KpuMN+iDl863dMJIy3a8rRs9kMxn00BjSKUJR164/ZYVfX0vwRaIfWfd8fyR2GhaMXtZ/xr8qlS4vaTYpZzgfTr3tiOGM1cr8PciE7g8OSWtLI7X1LcaskI4Pt/vY/1+vtl/2ZAmZVFfrmJFcWtdvDWcCwBZVWkgSxOiM9/p91CrlXZNJzL3hHvMfpgyUA1cRvobT4Yf8OpBULCNtbvT9eXhSaODb0bM9g/Rfc9d+8I3ht90Ii4FVE+4djKnxhk9TENa9fBwu4UGYY0ChoFoUs60FsUpCoj6VZdnUvbHq7G3R1KoboxH4s64oCy0MqqJnyZJc1+qNiXuADF8Uk0bTGVMwWFo45ghZU5fT2LxHIhqqvMbdsD16pETEJCQuJviCRua4LM/YwSBdz74w+J3XkBGqJdumCm7aBENaIXtx9WXdyq7+JoKaN+fx/ii/dZ6hiCgh6IPXH54lYrKg9824S6vRayfMI0/khX88SjF/VajeeXibbsL77ypLS4FVIJvx2v60BVSRdxHfYRskYj2JNSSXxK8xLhlLTcVnT9Xe6vFAVWnf/hXGKqNp/7IXfILhC3H1YgbnXW8g/48URBIQgkePXF/KstJKuTCbnxiIxbB/FeOoRWnw5nmedmjkcWyssy5F5x44eRIxg+fHjFnxE22PrfM9xVlhcRt8LT7Qx9/3N+PlNgd1Rw2rYFH4viNj/pHhEFx1mJ9eP8+tUcurodm0+/ZN6lolqrRZ10hhVTZ+N96Ag7Vv3EgO+2UGhALEbeiR9pZtYbz3h9uNkPAtmz4xChhvqVfflX2r3XBacbZT1ry0fJmamf8LXONacI9R1HOnxUJPYyAzzwe6KPlPK2I1afTuCw4bnKM1P55Gt/SoYgkHptO55/Rhn8g8WBwJnptLGYwxXxByHjFge9lzKk1acMX+bJ5uORRflsQHFqCq2G7azSdmD5h8Zh/sGPFFWrBLz6mvPVlmTUySHcqGRvOuXZn2n15TLCDZflB8+mzb9ncM7gh14CxSmmtBrGztczqSAhISHx1iGJ2xohl0tz/o1Z46FsTywQEAls/qo53V3u6TpTTdQaOsnNGf272Dsp0kjNVBG5ygqZ+Xj+LOgA8w8yur6Mrq7axTQqwpZbIjd9jz6LA7iVmENeUghbZ03HJ0Ls8YSnePWRU2fEXqOWoFyxI25R24z2S0N1zxeS/BmsXUg0ucAX14DmMa5dRfH47e96cau+x5ppLjwwdKqaGHd6mH/DtjRFxfEpzQuHI4qQLf1FcfsNO3Saq+J8UEeuo0c9E+q3+wnfy49ISX3EWY+ZLD+uXXSjIWpNJ+Tmo9Fne2rZ067U4SzrYIH9ZYNqyg5headGWC6/gzJ+G6679dPpGXtssKjWYqKXQ3VzIW0bjylmFVVyceanNP/pZDFxe4yJTT9hhkHcasVXs7rioKBAq4oDF58B5nz481myL23BT6eU8ri3ZQ6rL2pVksCzk7ZYfDqegwX1Vh2Ba++OzLqor1VZ+0fResqpcqygt1nxvyZ0XXOf/LgAPPdEkqeKYa/vUeLDPBnWricLzyTrBjhVR0PcBmusHG4XWtJ1KK4yz7IP63SO4woueHmjdTUW0i+w0NqaRecMVlwRrZXX2sqB28UD0DzBrW9TOi68WOhfrAxdykDb40UD0ow92FiUtzBLIM3va9rPu24QxyJCCscXjuBb5wuF1t8CtNb/Dhb2FFWr5XRqZMnyO0rit7myW7ulmO5+G8Z7hOgvKoaQ7Mc3HRfqfYqVd1jd93/YB5XaMs2AkObH1+3nUdx1WEJCQuKfhCRuawrFQ/bb9eSL7pNYtcWf9XPG851jIIkFPbsqFKeO9ZE3t8Jmzg6u3gxgTtdGmJh+jM26czzJiOb06qG0NDXBvMd8jj0S5UTubTaOsqBh7VrUqmVCvU8H4xSUgiCkEbpnLr2amGDabABL9wQTW7pDVl5nQedh+BeeqvSc377rzvyChWRaFHFc2TWHbuZiOB8OZ82xCJ24WdXn3wyY5cORoEB2LhjLhE3henFTXnx0gZXihcLRkHRjDwv7vi/mSwuGOB8iXOsQWuFzVcQenkOPpnJq/V8tTBq0YYx3KAUGLlWoEx3ry2luZcOcXfeMLJwSSDoyg6G2mzlxdDsuK3wJ8LShp60fu9Z6EpSufYqCQFsLRu4uWPlXkwiknPNkjo0l7zb4jAE/OxHwIJZAt1kM+485DS2+Zsbqozx6eJhVvwzCoqE5/xk+C7dTCWhyw/D+thPWM/w5deEU+zaKeR/gQJcvR7LQaRsnT7gxdYglTet9xJh94vXatB+dxn8avkOTdsOZ4fwn94Pn0faL+dzQCSUlQT+3qTDd6rjDzB3Qm9HfTcHpfByPQ0+wbIgVg2du4kqyVl3mk5NTQqZWijrMgU5D/CkwNBeQe8cPuwmz8Ty4kwWznflthzuL5zjx2/1SlmF1GA6dhhS6MOhR8+j3NazedoRL165w5oAnS+Z7EqwrXz2KQFHoj9wtvinGUHB6agd+Ol6sBmmi8OzXjKafTOFg6RGmkMSRGUOx3XyCo9tdWOErin+bntj67WKtZxC6x6oj8bB+H/P/LtbfU4JMzi/6gfn7j+M3fzIL/nhSJKpLod06rcNPx19oUaCEhITE3wFJ3NY0qkwSYpLIMWauUqQRl5hV0iJVBdRZT3kc+6wC/0djCORklnyWOiuTnErDEFCrxYu06Xj4iKfZZWNbtfi8qnCKqPB6IY+UmDjSFWX/qEiLIzGr4lxXZyUQFZ1qsIpqyEp4QnKBuVJ9G4eOvXGL0aB6cJgjpVerv2UI+ak8fhhPpiGamvwcKtgFrQTa6fDPhu3UWzOV15jXrhdujx5y9PDtcsWVVvilPbzB6YB9HDhyihWDB7PRYAnOvbqGVUeMzaVXgPo+zv1Gs8foxq0KUoOdmOcRQUa5aVJz37kfo/eU3ZNWnZ3Ew4gIHqfmlfqb1oWlI73dYtCoHnD4SJEPtg7FRWb1sSOojIIUSN7ty59GHWnVYj2KIjrVMPLUZJHwJLmUFVxF2K5dhv+XJo/k6McU3G4cBRdn9cGubMQkJCQk/jFI4lZCorpoovEZNpRFe7bh4X+B13lI1Wsn/xZuk37G69Bh9mx2Y7r11yzw92RXSElJVj4ZbPu6Ia1HLmXlvDF06jqbC1VZQVUCgZTfJzNmg/G9brMPe+JXyeIpIeV3Jo/ZUKXFX3o0RPsMY+iiPWzz8OdCiUIWeHbQljFej8rGR0jj8OYDJf3Bq4PmCfu2nTF8qT7Cs4PYjvEybPMnISEh8c9EErcSEi+CJo/M7GIuHX9rVORkGSybmlwx3dVx5lRxa7kldWrVonaTbiy7aNxPtFI0seyePpMDBb7AhSi55L1R74taIRpid09n5oHEajxfQ15mtviEUmRdZPkUN26XsaAKpAa64X2lmpbpQkQRH7iR3XdftF5lcXH5FNzKRkxCQkLiH4UkbiUkJGoWIYvYO3eILfCLeEGE58FsWOLH7RKWXwXRkeX7n5ZAeE7whiX4lQygemjiOLzCmaMJxk2juVnaPTlenLycHKPW6crREHd4Bc5Htb7TEhISEv9sJHErISHx10GZQ051DMdlUJLzUgHkk1dVj4zXTP7bGjEJCQmJ14wkbiUkJCQkJCQkJP42SOJW4u1BmUjopXBSX272+jWiJDH0EuF/nQgb0JAdG0J4/F8t3lUg7ylh4bFl/WSrijqDR6EPMLoxg8Sr4WXL6A2R9zSM8NjyY61MDOVSeOpLuaVISEi8GiRx+8oRyLr3Jy4T/kuDWv+HSRNLhowbz/jx4ue7sdgM7sLH9eswsNSJSxJi5xEwhkamzZlifNf8t4+8AMY0MqX5lNd3mMPLoo6/hO/M7rxrasZQ3ZFvfxeyuf/HEvr/qzZmX/mi3Q65eggkX9nEhHZ1qf1J0WELEq+Sly2jN0T2ff5Y0p9/1TbjK1/tYTDGyCNgTCNMm08p59APCQmJ14kkbmsIIWUz/eX/h9nQXSVPABObxrSDE/l+c3I5jeTrRUi+wfVKjv6sKco8W/GUmxfCSHkpn8rXiYKnNy8Q9teJsA4h2Yd+8uqIW1H43bjOG6om1SCLHd+YIX9h4aTiypzPkUnitgZ52TJ6Q2Tt4BszeQXiVtt83eRCWErVFjdKSEjUKJK4rSkyt/O1mShuh+0uJW5F8h4SHvkSK7ZfFcoHeA3swIzzb6Anf5PP/qfzzI+B1RC3ygdeDOwwg7e/qHLYPezlxO21Xy2QS+K2BnnZMnpD5OxmWCXiVkJC4u1BErc1RXniNu8yh04k6RtI4Rlhv3uxeuUKVq7ZzPHIFB6f8WXtytV4BYTzvKAVzX3IMU8HZk6dzkK3AO5kFm9e1aRe343rCkeWLliKx9FIssU/Zz88ha/LSlZuOMETjXhVwhV2e65m5Up3jkarIf8BO76zoI6JOV0mO+HseYpYwx5CuQ+P4ekwk6nTF+IWcIcSjyuFkPmAo1s82bRpLUsWu3MiuuSKbXXqdXa7rsBx6QKWehwlUhu5cp6tfv6AQL/V7A4rbvvIJ+b8DjxcV7J43hJcdl4krvARSlLvnmSL01au5z7lkv9yZkybjfvp+CpYTwRy428SeDyYmBc9zEn9nAeBfqzeHaZ/njKVuye34LT1OrlPL+G/fAbTZrtzOr6S2JRXvmL4Ued2sMrrDKlZkRz1WMA027l4X9YeNZxD5ImNLJ85jVnrAtG7z2bz8JQvLitXsuHEEzRi3Ui4shvP1WI9cD+Ktth1lBG3ApkPjrLFcxOb1i5hsfsJCoox/8EOvrOog4l5FyY7OeN5Kla/1VR+DOd3eOC6cjHzlriw82Jc0UlbQi5xl3exdmcIzyMCcLa3x/OKsf1ty39ulctWnUjwznWscHJile9xXAdXJpwqqk9F4vbs4/NsWjSVKTMc8b+cVMyPUkFc0Da8t2xn62YffH+/RnLhs3J5eMwTh5lTmb7QjYA7mYY0i3Ut7jK71u4k5HkEAc722HteJOK8v1hW4ru/youD4em6a5Vx5/F3cWbdrhuGNJQXZlmE3Dgu71rLzpDnRAQ4Y2/vyZUM7dXGwtAQf2Yjq7TPX7eNy09VJF3Zzjrtd2c3tl3Q+sSK5XP3DzasWs32q/rT3cp/342l8Qq6x1e3jPJjuXLsFLd1MyJKksICOXwilKRqDThevm6pE4PZuW4FTk6r8D3uyuAKxa2a5w8C8Vu9m4LmS/08inM7VuF1JpWsyKN4LJiG7VxvLqeIIeREcmLjcmZOm8W6wPhi9auieGtRk3xlB+ucl7Fg0Up8Ai5y98lTktJyCsOoTvutK7eEUE4dOUek9kIhk4cXjhN4M16sNRISf10kcVtTGMStfMAGIuPiiBM/sdF3OL1yMEPWFTtpSRmJ91fvUbvFTxwXhV/miekMnnmKZMMFQvIR7MfM50S8Ak3GTZy6N6BhF2fCdA19FtdWfcOgeYEkii2bKnwZlvLGDNioPTlJSfDsz5C1mMoZQ6egvDqX1rL3mXRcIQasJOPSPNrKWzLlaAoZmXli4yiQfMSeMfNPEK/QkHHTie4NGtLFOUwMzQjKmzh2aEw/H61YF0jw6Y95mwVcN1ycdW0V3wyaR6A+ciyzlNN4wEYe/f/KPluZcJGNtlY0MmnE2D8KWvNMLjt0p+PEg8SJHYaQdQu3AU1p0s2Jq6IuUzw5z/pRrTCVfcGIOYtYt3M/m2wtqVevJ+4VHdGkfMLBX4Yxwf0sUY8vsclhAn0sJvBndUSuJoGLG22xamRCo7F/iJJJwZPz6xnVyhTZFyOYs2gdO/dvwtayHvV6upd7YlT55asmLngrU9rLqN1qMHNXerDzsNjpTRDF13v9mL58CWu3/cmJffPpYV4fa2+D6FQGM/szGS2mnjGUmZKrc1sje38S2mLXUUrcKm860qFxP3y0p3AJCfj0N6fNguu6+wVlBpfmtUXecgpHUzLI1J7bm3kZh+4dmXgwThQDAlm33BjQtAndnK6KA6t0wvbOontjE8w6f898ezvGd/6cvq4RxTpwPRU9t0plq7jLphE9mbD3sXiPGI/Q1fQxN6lAOFVcnwrErew9SwaO+5llonCf0PkDastbMf6Afv/Y3Auz6DR6rz78zPPMGbqQq1oxIyRzxH4M80/Eo9BkcNOpOw0adsE57P+RHraXWd0bY2LWme/n22M3vjOf93UlQvEIjz4NqP3xDC4WvmDZ7PuuP2sfiLlVbpiFFxcipIexd1Z3GpuY0fn7+djbjafz531xvfu0/DAyj/NTy9qYjw1AV/U1MWzq3xDZf5cRXlBYqls4DPiJI5ni/8t934Xy05hb3TLKJshjHafFOtXvi4ms8nRj/9UQdk/8gi6O4YZrKudl65bi7iZG9JzA3sfiHUIWoav7YG5SnrjVkHBxI7ZWjTBpNBZd86WOI3jrFNrLatNq8FxWeuzk8NEtTLCQ816/6SxfspZtf55g3/wemNe3xttgWago3trnPN0/FgtrNx6qBLKvL6ZDHVPe/d84ZrkGkiRUs/0Wf33453o2Hr9PUpQ/4/pMxXntWg6GnWVlj08ZfSDDcJ2ExF8PSdzWFAZxW/uTAUy1s8NO/Eyf+gOD2rxHN5eSx4hq4rYx5P13sJy5hl/GrCCkUGRpBWobuiy9SGRUFFFRkQQ7dkVm2oqZYm+oDlvGl60mc7LANCwkcnjeaGbs11vt7jp9ibyYuFXfX0FHuUHcar/fdqCd/CPsCuabtcKoTReWXowUnyU+LzIYx64yTFvNLNb5FiP7FDM7WjE3SD/GV579mZZ1+uD1VGyY1WEs+7IVk4siR+LheYyesV9vSS79bBFNtCtd5UXiVh2+HMu6nVnzsCi31JGr6SQKM6uV+rP+s3cNxUzWA/cY/TVCitaftC4j9pYz5S6kcvjH1rSfdVEcGuh+IGVzf+p1XMn94upLFGnR0WklyqkMmmhcu8oN4lZLNruGmiHr4Y4+OmLYPv2Q1x2B8ehUXL5iF0vglGbI2i7iZoE1SMy39jJzxhwsyNd0tg4yo57NAb2lRX0Xpy/lxcStmvsrOiKvQNxmn5pJR6u56ItRydmfW1KnjxfaYtTef9uhHfKP7AxuCWrCl1tSt/MaiopFTeTqTsjNrFh5T8xETRwevWTIC/PBOBU/t7Ky1fB4gyg4urkWO1I3HX8xL8oTTpXXJ4O4ff8HDhdkb/ZF7C1qU9tiPjdUGqLEdDbqvpq7ejXIk5PHuSOWjTJ4Nm26LOVipLYco4gMdqSrzJRWMy+KKdMQ59ELmbwoLQVkn5xMC9mn2F8yFE7GH0y31YvnisMsiybOg14yOT3cYwrrbcVhqAlbKpbtv37ihCG9WQHjaFKnK64GkaeJWsfEJdf0z6vofTeaxuqXkTb9LhvvoxTT0rNeOxZcE5+ljmSb3WTcgwvEliimo6NJK5mVJXipuqV5zIY+5nRzLdZOp/szqELLrYZo167IC8StFkUgU5rJaLvopsEirH2X2iMzH0PR67tVDLceNgf0eVphvMX2xqWLGR/9ckFfHkISm/u/wztfb+e57vLqtd+aJ9tw3mGoK6obLGhjziC/JDQ5F1k1YSa7HxgaHS0VtodKnqWVN6MgoEgJYdfiufhHFG9gJSRqFknc1hTluCVoojfwq0fpM/I1xPgO5l3TJowL0EsuHaJAXNquPlZTvfDx8Sn28eVkVB53HUWR0ceTBKOtSvXFrTpsKe3qWzHVq/izxI/vSaKMNI6FKJMICfBjg30vGsu74CL2ZOq7jqKQ6IOn8cgZF7ex6+lZKG71nYWsrg0HiltU1fdZ0VEUTr03EC8Gnbd3OGZyazYWHMtaiW+c8vp82tTtjtvjghJQcm56K1rPDi4xJakI+pm2o/ahNViViyaW9T2Li9s89g4XO27rjRRFZ5gYv6/wNaq2Kipfbb4oOTO1BfJ2Dtw29AuaaBe6yN9lwtECpZrPAZu64jM3oTX2vIi4LUCZFEKA3wbsezVG3sXFIEhKiVudoJdRVxTTJYtFrFuisOq9IV7szxLZaC3XXVPQz1eE8edWUrZCPJ6969BsyqliO1VU5M9ZlfpkzOdWReiittSW60WcMnwN3Rqa0rCNDc4nYwzp04vE+lZT8SpRjj74nowSy0Ec2G20Fgc54rNLZ4jqllgH5DSbeEQcbAmk7prGrOPacqkszLIIiRuxFgWaTeFDKg9D88iVbu80YfRvWnmk5p6zNU3N5XzpdFf8piJk2UTWlBj1iRh537Uipkwaq11G4i0Zj3iUoiFzvw1NrFaUHHAWoAji57aj2Ffhy6nnReqWOt6T3nWaMeVUUawr97nVELu+Z0lxqzzD1BZy2jncFvNSi1gHXbogf3cCRa/vAWzqyrHeZHBVM2A03mJdXWklo/7QneIQQXeV2HZ9SIOhu9DK/uq235qEh0TrNbU45vdjUKNeeBT4ppWiwvZQFMYOM/3ReluUJvfOIfz2BbCoZ2t+uWCs1kpI1AySuK0pyvO5FXJ4nlFcRunJvbqYTuZm1O+yijsFbYAyiGkt6tDX+6mRBlVJ0LQWmJWwoBWn+uJWGTSNFnX64l1g3qgUJTFHFjF2vCNHo/NQnJtOSzN9Z6cLy6yklaw4lYtbNeHL2iOT98OnyKlRJB3/gWbIxAZfa1yqnrhVcWO+BXW+dEJrYNSh1rpLNOOHw4ZWXkTQKAhd0oHebo9RVZQVLytuKyxfLdURt4Znvoi4VcZwZNFYxjseJTpPIXaYLTErT9xq86u9KAb7+RTzNRVJ92egmYwuLo/EDKyiuK3wuZWUreoav1rIaDLxWBWFU1XqkzFxq7fsy7Xx0I0eBNKve/N9e3NMTRrwxaTdPFTq38U6fb0LLYMlqUDcioLnyYY+1DMfxs7kWDZPW0KwLkGVhVmWsuK2CmEIT/Ed2ICGX28jKSuQmeNcOexkxTttFnAjI5BZk3yIK3yFy3/fjaax2mVUgIKgqR/yyQyDhbI4ggZF6BI69HbjcUUv50vULcW1X7GQNWHisaJY17i43ZioD7fCeGuI2WnDh43+x5IrGWjybrOirxX2p5/r7q1++11E3pEJNGu3mNCyXVPl7aEobpfO8DMqbnUIafgOspDErcRrRRK3NUV54laH2EjtcmZbge9g9iWWiB3GxUsOdHinAd1d7ukbdVGoOFqKI/X+PsQXdjAi6hiCgu5yf2VHZHX+h3OhUtOSz/2QO2hPuC8jbu850aGMuP2wyHKrtbbK6tPfJ16MYRHqmCCCtD6ApVDfdeZ/DdqxNEz/N900paGzU99fSUdZHf7nrHcfKCD/fgh3RE1V+tlaSopbMQv3j8Lc9H3GHypmzTZMzWnFmzYV1RO3+RwaZ84HP54o7GyFBC/6mn/FlmQ1ySE3EDJucdB7KUNafcrwZZ5sPh5ZrGMuxUtbbisq3wfif16NuL3n1KECcSvWE+f/0aDdUvTFqJ8KLSNuPyxwS8hk/yhR2L0/npLFIsbLrAVTz4gPqZK4rey5lZSt5hFrO8uQdVxB0WxnxcKp8vpkTNxqeLS2M+98oe34BVLDb+vLSpXERddhfCRrxIg9KbpZFFn9/viULEhigoJ4oK5I3IrZ9WwfNk3q0mPmLKat0VpMtYj5U2GYhq/FMGa5rTwMUawf+JYmdXuxcPkEpv2RjvqJB73qtWL8LxOx3a9fSKalovddG06ZNL5AGenQzmi0f58xB0vOLIgvJ7cOerN0SCs+Hb4Mz83HiTT6cr5c3fr/PVpLZ5mMjiuK+Ym/FnFbebzRJPLnosnYL1vJ2g3bOBVV1LtUt/0uQkXw7Na0KLSwi2m5ckW3yLdK7aEkbiXeQiRxW0MU7nP7zQ6Db2cRWTfXMbDjdIJ0rUQm5361YdFlbSOVx7VF7anTsCeu97QNgYqw5ZbITd+jz+IAbiXmkJcUwtZZ0/ERewt15Dp61DOhfruf8L38iJTUR5z1mMny49oGWN/ZmL3TE7dH4nBcyCLcawjNTBvx7e/6BlETtYZOcnNG/y52Ioo0UtNCWW4px/S9PiwOuEViTh5JIVuZNd2nWOdURLYo3N4xbcW0M9pOKIcI177Ul1nieEeJRhXJuh71MKnfjp98L/MoJZVHZz2Yufy4rlMr8+xMAc1jV7qKjfO3vxt6h9xLzPm3GY2Hbi8Ui0LCZr5q3h2Xe3oTQ47Wd07spLwLLtANKuT035JqpBPSWu86YGF/2SD8sglZ3olGlsu5o4xnm+tu3a9k7MHGwrbyzdg1j3VT9PW//d0g4nJ0Prdya+/C+GZu/1qMX3+2pJaNTWXlq7VgBdo2F8VtQWcnPvKhPt+++7OgB81j/8h3kBdY53TC0ox3erqhL/ZwvIY0w7TRtxiKHSF1i1g3zfhmh7ZmZoti4x1MW01DX4wRuPatj8zSUcwTjZiHGqLWdEJuPhp9UaWSeGEO/zZrzNDtBmuT+G/C5q9o3t0FXbEIT/HqI6fOiL0VrLiu7LmVla2a+2u6iPWvBTY7ovXlmXeb5R1FMdW1uI9nMSqtTwZx26rYAi9R/K7v+xnf7tVa18WBwpppuBQIBU0M7j3M+WZbGqqw5VjKTXmvz2ICbiWSk5dEyNZZTPfRCiSBp159kNcZwV6jGZJH0M8fUbtuHzYU88mtOMyyCE+96COvw4hiD6lSGLmnmNKiNmbtl+otd0IS/oMbULvF5EJfXC0Vvu+CsTS+QBmJ6HyHG4mCXGcpL00Ge2wssK3w5XzJuqW+z5ou4v0tbNgRra8IebeXi4N1GV2L++GWQMNjrdtLffE9K3g1FYHYNhfF7dIwQ15reKh7l76j6PXdz8h35IbZm8rinceVxT0Y7n6bxPRs8kubUVVhVW+/hXROL7Kmz5JLKJUhLGpbl75ehhmkrLO4rb8oxsZAmfZQRWrkTW5cv8517efKdn4avZiT1wzfr9/gdozWycaAJG4l3gCSuK0BsiKO4DbJUn9CWcPW9Bk5jh8mTmTC+G8Z0qst78tNaDw2gGxlLEErBtGyzRSOJmibTBVxh36kde1amFmMxv1iotjx3GbjKAsair/VqmVCvU8H4xSk3QpKi4rYw3Po0VROrf+rhUmDNozxDi1slISUI0xrUw+Z+Ye07TIK59+d6f/ep/SxXc/FRPF5qlCcOtZH3twKmzm7uJenfdxGRlk0pHYt8Xkm9fh0sBNB5QzJNU/3M/5jM1HAtqTjQFs8Dqygb30ZTf47ji13VKhiDzOnR1PkYj7UMmlAmzHehBZErtSzb0VeYdecbpibmPLh8DUci9AvHlE83I9dzy/oPmkVW/zXM2f8dzgGJuo6GFX8BVyGtcTUtDmDV54g8lkMQU5f0dTUlOaDnTlr5KhMIekIM4basvnEUba7rMA3wBObnrb47VqLZ5Dek00RaIvFyN36RRrloYjjyq45dDM3wfTD4aw5Fk78BReGtTTFtPlgVp6I5FlMEE5fNdXHz/ksRk/uLLd8FcQF+zKpjQwT857M/y2M5NRwDi7oRWMxjz62cePMozSig9Yx8mPxmc0G43ziARmiyEg5Mo029WSYf9iWLqOc+d25P+992gdbscOKf3qDPQv78r4YRoshzhwKT+bp/vF8bCYOklp2ZKCtBwdWaEVLE/47botusZQq1ImO9eU0t7Jhzq57Yher4OF+O3p+0Z1Jq7bgv34O479zJFBbp8SOLHTPXHo1EfOl2QCW7gkm1qgO0a78Lv+5tx5XoWwVj9g/1Yp3zRry4Zc9GPT9cqb2NKdF5zEs2XfH8JySVFSfxMiTdnox1p99Rg/bFXh6u7F82g/Y+d8WpZwWNRGr+vDvAbPwORJE4M4FjJ2wiXCdUMnl9sZRWDSsLZaj+C7W+5TBTkGkiOWRFrqHub2aYGLajAFL9xBsJEPUonjqM3o3JcdA5YVp+HMxBHFgumduL5qI5dpswFL2BMcaLGxVCUPJ9QWdGeZf5B7z/Lfv6D7fsJDMQPnv+1hc9+4wnsYXKKP8Iz/QvOtaIvWFUhKtYLQYye4KX86Xr1uKR/uZavUuZg0/5Mseg/h++VR6mreg85gl7LtT2vNUfFev7GJON3Mx/R8yfM0xIpJjCPadRBuZCeY95/NbWDKp4QdZ0KuxeM3H2Lid4VFaNEHrRvKx+Nxm4nNPPEiv5F3M5Mzc/9LIpBb/93//x/+J7UXtd97l014/s187khWpcvstDmD2jv2Sr522s9nJmV27FjP0h/WcPHOQzR77uFXMIlOmPRSyuHt0G/5+fvhpP1uWMMR6Iu4F3/382X0htmjwJIlbiTeAJG7/IqiznvI49hn5RtophDxSYuJIVxj5o9ggJjxJIFPb0mhyyckrdY0ijbjErKKGSIearKePiX2WXzT6Lo/8NGLjn4syW4tATlIMSbnF7xLIS4khLl1RNiyjzzaOKjOBmKQcgwh5SdRZJERFk2rofzVZCTxJLjClaKfhO9LbLQaN6gGHj5R0q6gpKizfF0CbX08SMnVx1+TmULrYS5OfFkv8c30pav3Ck2KSKF6MirQ4ErNK54SKzASxvHNevFQqe25VUGcnEh2dLN4n1r+s7CrVkYrrk5KMhEc8jM801OsiBLXWDqtN90MePdU6/5RCrFtPH8fyrNoFmUd2Tjk17YXDLEYlYQg5mZQoXvH6zBwj11b6vhunWmUktgtJ6aVzXo/WnaljbzdiNCoeHD5S5DtvhJevW2qyE6OJTs5FEO/Pyn4lrU+llBtvTSInnZey81YcD++EcOXiOc6cOsr+DVMZ+qveTUtPVdtvFc/jYkg1NH3qjDiixTpdMpVVaA8ltwSJtxBJ3EpIlEBDtM8whi7awzYPfy4YnRqVkJB4E2iifRg2dBF7tnngf6HkDgN/bwSe+n9N82E7dTsjFEd4fpL1vnfKis5XQhXawwrErfrhCTatX8qIfzelq+1avPZeKzU7ISFRM0jiVkKiDBryMrNLTMlKSEi8HWjyMsn+x72cAol7bGgqb0rnCUtZ77eDnVs3sc5hDvbL9nKnfOf2V0Al7WFlllsJiTeAJG4lJCQkJCTeepQ8vbqbNfOmM8V2Fg7r/Dh8K+XND8KFTO7fjSnjwiMh8SaRxK2EhISEhISEhMTfBkncSkhISEi8frIjuHGv2JZRbwJ1DKFhxrYNlJCQ+CsjidsaRpn+mNs3b/M4XTt5JJCemFTBxvYSEm8ZeU8JC4+V/I9rCiGd0JBHNbQY6M0ipIcS8qiclOWFsWmeG1cy37SsVPLAbzZOp8s7nEFCQuKviCRuawohhTPL+tPWcih2ixZiN7Yf3bp344vuDtz6O/ZkEn8zsrn/xxL6/6s2ZhUelSrxUmT9yQbf8g4G+GuT9ecGfI2e1JDFuQUTcCk8Z/wNo4lnp60te17g2FoJCYm3E0nc1hB5gba0eKc3GwoPZleTeHImX370Y9ExqJUhJHPj+uO/pVVH4q9AFju+qeSoVImXQnnJC++Qv+NSHCWXvLwxljTVbSeGTDtG6aMQ3iSKawsYMPXEWxUnCQmJF0cStzWC/shSmVkfPAvFrZZcTtlNZuuzqigFJQ+8BtJhxnlpSljiDZHD7mGSuK051ET4eHIqz/D174Q6Ah/PU5RNWh6B03pgf6GqI/zXhDqSVdbD8Jf2tZaQ+FsgidsaIuu30ZibmPC+9Squphc1mOqEKKKLnddO7kOOeTowc+p0FroFcEfng5bPgx3fYVHHBPMuk3FyFjvA2IonLjVZ0Vw5FsChwDAS37J+48XQkBV9hWMBhwgMSyx2+s7LIJAbf5PA48HEvDJBIYaZEMqpI+eI1JadkMnDC8cJvBkvDmVeP0LmA45u8WTTprUsWezOiegCD28lqXdPssVpK9dzn3LJfzkzps3G/XR8yS181IkE71zHCicnVvkex3VwBeJWk0nUGX9W7wolI/IYGxbb8fO8dRx+UJByMW/iLrNr7U5CnkcQ4GyPvecVMnRh5fLwmCcOM6cyfaEbAXcyDT6PGjKjzuC/ehehGZEc27AYu5/nse7wg8L8FHLjuLxrLTtDnhMR4Iy9vSdXdIHmE3N+Bx6uK1k8bwkuOy8SV8rBXZ16nd2uK3BcuoClHkeJzC6WMKPvogFFHEHbvNmyfSubfXz5/VqyIb4K4oK24b1lO1s3++D7+zWSi91WLupMYm4e4tdJM9h7LQZjh4H9VVFnxnDz0K9MmrGXazE5hnwyoDjN1PYTOFzey6HJIvrKMQIOBRL2WhsyJZft/8PQbc9KxldCQuIviSRuawrlPTwHfIBprVqYtbRm7p47hk69CCH5CPZj5nMiXoEm4yZO3RvQsIszYUoBZcYl5rWV03LKUVIyMsmrwDch79Z6pkzfwrWnWWTFn2X1Al+iXrsvg5rstCSSEhNJrPCTRHJ6biU+hnncWj+F6Vuu8TQri/izq1ngG2X42wuifMLBX4Yxwf0sUY8vsclhAn0sJvDnS4lcJQ//XM/G4/dJivJnXJ+pOK9dy8Gws6zs8SmjD5Q+S6iGUd7EsUNj+vloT24SSPDpj3mbBVxXipriyXnWj2qFqewLRsxZxLqd+9lka0m9ej1xf2QoDcVdNo3oyYS9j8WUCWSFrqaPuYlxcStkELbHnu5NTKnTbiTT7eazeu1CRljUxfTdvqy/pyA9bC+zujfGxKwz38+3x258Zz7v60qEKpkj9mOYfyIehSaDm07dadCwC85h/4+MsD3Yd2+CaZ12jJxux/zVa1k4woK6pu/Sd/09FOlh7J3VncYmZnT+fj72duPp/HlfXCPSuezQnY4TDxInqnUh6xZuA5rSpJsTV7P1Uc66topvBs0jMFF8OVThLLOU03jARrTJL/9d1N6Zy4VZnRi9V7/oKPP8HIYuvKobFORemEWn0Xv1+ZN5njlDF3K1Ii8DVQKn19gx3XE750L8WO11k/unXJjw7SJOVUkVv1rU2WkkJRl7T0t+kpLTya34pRWTdpo1dtNx3H6OEL/VeN28zymXCXy76FSh4Fffc6JTTxeMuuLm3WL9lOlsufaUrKx4zq5egO9rbMiy99nwuW3gKxpIS0hIvEkkcVuTKJ5wxOEbPq9Xi/+rJadFv2WcTixo1ZUEz25Dl6UXiYyKIioqkmDHrshMWzHzotijqm/j0E7OR3aVuCUIz9g5sgO/GnpU1bX5dLBy4HpFHWxNkHcTv7m/8IudHXYVfn5hxpL9RFbQZwnPdjKyw68GkaDi2vwOWDlc1/3thRBSOfxja9rPukiW/gdSNvenXseV3H+JvlPzZBvOO2L0Ql11gwVtzBnkl4Qm5yKrJsxk94PXXAjZp5jZ0Yq5QXqzmPLsz7Ss0wcvw0KZ7F1DMZP1wD1GXweFFB/6yesyYq9W/Wl4vKEP5t1ciwmPdPwHVWS5jWV9Tzl1h+zkueEndfR6etU15V9TTpEvhhnn0QuZvOiZWpTBs2nTZSkXI7X1PorIYEe6ykxpNfOiWNc1xK7vibzuEHYWBcr6XqJo/tcUTuWLj43zoJdMTg93Q95rLwlfjmXdzqx5WPQcdeRqOsnNsFp5D7U6jGVftmLyyYJpE4HEw/MYPWM/TzSVvIuaKFZ3akT31Xf10+yaJ5w8fkesmRqiVneiUffV3NX/gScnj3OnvGJXP2bXmE6MFAdq2ndacd4DT51TqhiXTQP4bMpJik/q1Dx53PSbyy+/GHtPS35+mbGE/RW8tOrHuxjTaaQoRnUp47yHp97fVkhk04DPmGLId8WRH2g+ZIcR31aBZztH0uFX/aBBbMiY38EKh9fYkCkvzcRi4GbppC0Jib8Bkrh9DeQ/OcbSfi2Q1arFO/+Zy3mtwhI726Xt6mM11QsfH59iH19OajuIKovbp/j0r4f5F0Oxc9rMsYiC6d0CBNKjo0kr6vNLoHyWRrm78QgKUkJ2sXiuPxGvz4AiJsmH/vXM+WKoHU6bjxFROoJCOtHRaYXCpjKU1+fTpm533B4X3KHk3PRWtJ4dXHJKvprhahIeEm2YXhVS/RjUqBce5biPCOnRRJdfCKSVXwgoUkLYtXgu/lUtBGUSIQF+bLDvRWN5F1wMajVv73DM5NZsTDQ8K2c3w8zkfOWbhiDE49m7Ds1EUVpkuarE51a8Z0MvOQ3GBBRtb6eJw6OXDFnntTzUiKJto7UoVG04UHiBmrCl7ahvNRWvEvXeB9+TWtEnEL+hF/IGYwgoClQvkmWdWSuKVyFxI9aiKLcpDFRDtKsoRrXPKW6JV99nRUcZ8t4bePL/cRTFbx88E4wkpLJ3UYxV+JpuNDRtSBsbZ07GFEYMZfgaujU0pWEbG5xPxlSwzZ8o2rcMouWATejd8NWEe3sQaIiv4tRkWlguI7ygiCusi0qepZV+zwt4gfrysoiDnC2DWjJgU5w+vupwvD0CDf62Ck5NboHlsnDdwtic3cP4YNwhI/kk8NRHHHCaf8FQOyc2H4so2y7VcJ6oQhdj2W2NWG8NP0hISPxlkcRtTaBJ5lF0qYZWGc32kf/CtFZdBvoli9+DmNaiDn29nxpvkKsqbkWUonhe+dMgrD5uSO06FtidyigKUxHEz21Hsc/oMmAVNxxm4m/UVJHLnUN+7AtYRM/Wv3Chski8UpQ8ObaSnwZZ8XHD2tSxsONUMZ8ORdDPtB21r4orm8U0zregzpdO3Cvo18TOd5llM34o5fhXvXBLkndkAs3aLSbUqKFJQdDPbRllvBBQ3XBgpn+K0XqQe+cQfvsCWNSzNb9UWghKYo4sYux4R45G56E4N52WZlUUt6pr/Goho8nEYy8nbsX//TaqHvIe7sQYFbdKgqa1oE5fb4zvvGRM3Iqh/jaKegYLcFlxKwrFZe2RyfvhU2JqPx3/gWbIurgQETiNFmYlLbuFVPYuahGF1XXv72lvbopJgy+YtPuh4b0UB4/Xvfm+vTmmJg34YtJuHhorJlH0b+htzmB/w4EBQgLb1u9H744vivcNvWk82L/QalhhXVTdwGFm0bXFqV59eTVo4jbQ23ww/qn6CAkJ21i/P12fTl26G4vp1tfv3L0jeG/0QeODAOUTjq38iUFWH9Owdh0s7E6VcOWq6TxRXZ1L2x7FZy4kJCT+qkjitiZQheAwzomwUkJHef4XPjKV0WnNQ7E/voujpYz6/X2IL96YqmMICnpQKG4/rEjcCqlc2+7Jn1GGB4kd8JnpbbCYc0VvkRQ0KEKX0KG3G49VRlp9rfBbOgO/CubhhDRfBllUQdzmXsHth5GMGD6c4RV+RmBj618kNEshpF5ju+efFCXpDNPbWDDniv4HQaMgdEkHers9xmiSypDPoXHmfPDjiULRJiR40df8K7Ykq0kOuaH/rdrhFkdF8OzWtCi0emqIvXIFvRFXQKMIZUmH3rg9Vuk7/FKobixlhp9xcatDSMN3kEWlYkV915n/NWjH0jB95urcEqoqbjWPWNtZhqzjimJW+hcQt6Jo8+rzDp/OuizWW+OW27uOlsjq98enZMUnJiiIB2pj4lYgwasP73w6i8tiFpQVt5C5fxTmpu8z/pDe8USHJhqXLma0mHqG3Psr6Sirw/+c7+ksiAXk3w/hzvNK3kXxPQu/Ha+zGKqSLuI67CNkjUawR1SmqeG39feokrjoOoyPZI0YsSddd3sJ1Hdw7PARU88YyjAzAA+/J3orpPI2jlafMuGwfjFTpXVRFHJLZ/iVP31exfoivrRccfuBkSOMvaclPyNsbPEv56VV33Gkw0dTKUqaB35P9BmpvO2I1acTOGzYIUZ5ZiqffO0vDjuKI+bjte14/hmlb7fE7+lnptPGYg6G1/615Ini1BRaDdv5QoNbCQmJtwtJ3NYEwjP8BjWhk8NVg4+nFrGD3jyA+maWLNepXhVhyy2Rm75Hn8UB3ErMIS8phK2zpuOjVReaKNZ0kmM++neyRcmUllp2yk3zxI2+TTuy8GLBXKyS0KUDsT0uPlXI4NZBb5YOacWnw5fhufk4kWVWSrxCcftK0PDErS9NOy6kKEmhLB1oiz5JtzjovZQhrT5l+DJPNh+PNIhJgZTjCxnxrTMXSq/a01n1OmBhrxVbWrIJWd6JRpbLuaOMZ5vr7grCFUNOOc7CEd/ifKGYNVyLOJA4vciaPksuoVSGsKhtXfp6GSx/WWdxW39RfJJAxq2DeC8dQqtPh7PMczPHyxbCKxO32buH8Y5pK6ad0frQ5hDh2pf6Mksc7yjRiIHnaH1uRXHrXSBuM7fztShu+2/RWhPV3F/TRby/BTY7ovV5lXeb5R1Fwdu1HGuWQdzWHbKj0OdW88QT6+Z98NAtBBJ4KopSeZ0R7C1mJFeFLcdSbsp7fRYTcCuRnLwkQrbOYrpPhBgLg7itO4QdRYHiad2cPh5ROmEqPPWij7wOI4oHmnuJOf82o/HQ7RQkT0jYzFfNu+NyT3zf1JGs61EPk/rt+Mn3Mo9SUnl01oOZy4+Lwr2Sd1F9jzXTXEThrQ9XE+NOD/Nv2Jam4t6aabgU/QH3HuZ8sy1N/70ECq7Os6TPukc6Qau44IW31swv1qMLC62xXnROZ8WtqC4W8srE7StCcZV5ln1Yp1uYqOCCl7duBkNIv8BCa2sWnTNYcUW0Vl5rKwduG7JMh1i+bn2b0nHhRYMrg/a1X8pA2+O69vP15IlAmt/XtJ933SCwJSQk/spI4rZGUHLuF0v+09OabybNZ9UGb9wWjOLL1t2w21esYc69zcZRFjSsXYtatUyo9+lgnIIKRI6KUKeO1Jc3x8pmDrvuFTT7xVA/4vc1q9l25BLXrpzhgOcS5nsGG6Y6tWSwx8YC28CirkCVGsnNG9e5fl37ucL2n0az+OQ1w/fr3LgdQ1axDuL1ilttkn5nzeptHLl0jStnDuC5ZD6ewUWdIxl7sLGwpViSRDREefajWdNPmHKwpKuBFiHpCDOG2rL5xFG2u6zAN8ATm562+O1ai2eQwYZkNFwx5ChP+jVryidTDhZuRaVDSGLv2C/52mk7m52c2bVrMUN/WM/JMwfZ7LGPW8UMiBl7bLAovgpblUrkzRuFeX5l+0+MXnySa4bv12/cJqZkIVRJrGie7mf8x2aigGtJR3FA4HFgBX3ry2jy33FsDAzCZVhLTE2bM3jlCSKfxRDk9BVNTU1pPtiZs7Fi2IpH7J9qxbtmDfnwyx4M+n45U3ua06LzGJbsu2N4SjEM4lb+eX8m2s5jtesyJg0Zw+rLWgukKBZC9zC3VxNMTJsxYOkegmMLciCX2xtHYdGwtljva2FS71MGOwUZhIlB3Mo/p/9EW+atdmXZpCGMWX0ZrfFPSAtlz9xeNDExpdmApewJji3MV8XD/dj1/ILuk1axxX89c8Z/h2Ngot46KqKKPcycHk2R1/o/apk0oM0YUYQZdlKo8F1UR7Cqz78ZMMuHI0GB7FwwlgmbwskXpXbEqj78e8AsfI4EEbhzAWMnbCLc6Jy7SO4d/OwmMNvzoBjGbJx/24H74jk4/Xa/5EKyMnVRRWrkTW4U1I8r2/lp9GJOXjN8v36D2zFZRe/I6xa3Irl3/LCbMBvPgztZMNuZ33a4s3iOE7/dL7VETh2GQ6chhS4MetQ8+n0Nq7cd4dK1K5w54MmS+Z4EF9tCsebzRMHpqR346biRdlZCQuIvhyRua4i85CSDv5iKjNg73LoXR0Y57ao66ymPY5+RX7y916EgLS6RrOJWjjKoyU56SETEY1LzSgWgCMTWYiS7CyxgYlOfdfco2/z98PPTfrawZIg1E90Lvvvhv/sCscWe97rFrQ51NkkPI4h4nErZJNliMXJ3oaWwOELybnz/LCtudaizSIiKJtXQOWqyEniSXKRCKgpXe1Lcbt8/S4pbHSqex8WQaghGnRFH9NPsQjGlR0GgrQUjiwoBIesuR7f5F+b5liVDsJ7oXvjdz383F0oWQtXFSn4asfHPxZhpEchJiiEpt0zFqhB1diLR0cnkCuL9WaXTU4xibgk5OcnEFD63iohl8vRxLM9KVPxibgk5OSTHxPO8mqY0VWYCMUk55cRbIC8lhrh0RZHwKYbxd1FArRZ/UGWS8PART7OLykZQa23NKjITHvJILPsKX1UDitRgnOZ5EJFh/OoydVHI4u7RbfgX1I8tSxhiPRH3gu9+/uy+EFv07DcgbvUoSA12Yp5HBOUkTUTNfed+jN5Tdj9ZdXYSDyMieJyaV+ZvNZ4niovM6mNHkKRtJST+Fkji9m+M+rYDHXu7EaNR8eDwESN+rm+bW0JlqLnt0JHebjFoVA84fKS4/6RA2uHNHCjhNFlVKgpXmweH2XxA73NZbbS+0x174xajQfXgMEeM+C2+KreE147RBWUvi/EFZX8rsg/j6RddTn2quC7qeNvcEoqRfdgTv0pWZAkpvzN5zIZqLNyq6TwReHbQljFeepcRCQmJvz6SuP0bo4n2YdjQRezZ5oH/Be3G/qWpSNyqeXhiE+uXjuDfTbtiu9aLvdcMK73fGBqifYYxdNEetnn4c6HYUZlCaiBu3lcomGWuHuWHq11MFOjmzZUXC1hbCPgMG8qiPdvw8L+AsdM9KxK36ocn2LR+KSP+3ZSutmvx2nuNEjO6bxL1fVZayagzeGupBUIvg5r7K62Q1RnM1lcX6FuF8pI3G3WbwBqjgrpYQAVC7s3WFyWXvDfq97etEA2xu6cz80BiFduTGs6TrIssn+LG7UKXBwkJib86krj9m6PJyyS7XANO5Zbbtw8NeZnZhsVhxcjNoths8QtQTrjkkvVyAWsLgczyC6FCcfvWIqRwY/cKZvw4iUmT57B25zkeleMRUnUEUm7sZsWMH5k0aTJz1u7k3MsH+tahiI7kSYUCsLy6aKAyK+UbQ0F05JOquaYIzwnesAS/21Ut3xrKE00ch1c4czRBstlKSPydkMTtPxqBzPt3iammT6PEq0XIvM9dqRAkqoqQyf27MVUTkW81SnJyXlEqXjhP8sn7u7q/SEj8g5HErYREMbIjbnCv+E4FEm8cdUwoYW+NL4aEhISExNuOJG5rGGX6Y27fvM3jdO2EmkB6YtIrXHzz10WZGMql8NSyC0OKo0wk9FI4qS/pFVBV8sI2Mc/tSvnHEYsI6aGEPHpNEXqLea35oHyA32wnThs9SaIUr7TOKEh9cJXThw9yYN9e9v9+iGOngggOjydbmsWWkJCQeGuRxG1NIaRwZll/2loOxW7RQuzG9qNb92580d2BW/94bZRHwJhGmDafUmZf2eLkBYyhkWlzplR00asi6xwLJrhwp3zXWB1Zf27AVzqf87XngyZ+J7a2e8o5sreIV1JntAeg7FjK1B++4zubTjQ1rUvbIVP4adwQurdtRj3TWpg178KPG4KNn9wmISEhIfFGkcRtDZEXaEuLd3qzIa5AAKhJPDmTLz/6kePF+l0h+QbXH79+tfumnluA4ulNLoSllPCRKxMnxVNuXggjpcadC1XcdhrCtGOVHbyp5JKXdxVWg//deRP5oODaggFMPVFJGb1snRGSODKtByM3PdQtXlJdncvnZkVHGmvJiznNqm8+RGbSgC6rwstf5CQhISEh8UaQxG2NoCFqTSdkZn3wLBS3WnI5ZTeZrYZz1rXTrV4DOzDj/GvuHt/UcyviTcYpL5BpPey5UJmxTx2Bj+epwiNC/7G8oXxQR67Cepi/0e3UXhWqUFe+m7Kd+4ZqmPf7tzSoN5SdGfrvhShCcbCUY9piKkGSupWQkJB4q5DEbQ2R9dtozE1MeN96FVeLHSOpTogiWnsiZf4DdnxnQR0Tc7pMdsJZFAuxBh2cH3OeHR6urFw8jyUuO7kYV+SlK+TGcXnXWnaGPCciwBl7e0+u6I9CI/fhMTwdZjJ1+kLcAu4Y9x01+lyB3LjL7Fq7k5DnEQQ422PveUV3wpqQ+YCjWzzZtGktSxa7cyK6IC5KUu+eZIvTVq7nPuWS/3JmTJuN++n4YtZYBXFB2/Desp2tm33w/f0aybo4qXn+IBC/1bsJ015cTl6onz8g0G81u3UXFZBPzPkdeLiuZPG8JbjsvEhR9lQlTmVRnJ5K+wmHjZxAVoQ6M4abh35l0oy9XIvJeXXbdgm5xN8M5HhwzKsRi/mxXDl2its606WSpLBADp8IJekVCbAay4eqoLyM/X+Gsq1gcGiEMnVGmcrdk1tw2nqd3KeX8F8+g2mz3TkdX1GNKEC/526ddkspZrg1oOGxa1dk8oH4VRAfCQkJCYnXjyRuawrlPTwHfIBprVqYtbRm7p47huN4DQhKMi7No628JVOOppCRmadbXJV52YHuHSdyME7sfIUsbrkNoGmTbjhdzUZID2PvrO40NjGj8/fzsbcbT+fP++IaoSL5iD1j5p8gXqEh46YT3Rs0pItzWNkp0zLPzSElbC+zujfGxKwz38+3x258Zz7v60pE3k0cOzSmn4/2AAiBBJ/+mLdZwHUxUMWT86wf1QpT2ReMmLOIdTv3s8nWknr1euL+SK/Scy/MotPovXq/xMzzzBm6kKsqDQkXN2Jr1QiTRmP5QytMjeSFMuEiG22taGTSiLG6i7RkctmhOx0nHkSfPbdwG9CUJt2cELOnSnEqi5p7Tp3o6WL8xChVwmnW2E3Hcfs5QkTR5HXzPqdcJvDtolMGof7iKJ8c5JdhE3A/G8XjS5twmNAHiwl/voTIzSbIYx2nb7nR74uJrPJ0Y//VEHZP/IIujuGGa16MmsyHqpPNPpvPsS3Hn1ZTps4oeHJ+PaNamSL7YgRzFq1j5/5N2FrWo15Pd8qtEoVksndkQ5qMN3b0skCKTz/MGo/nT+nIVgkJCYm3Cknc1iSKJxxx+IbP69Xi/2rJadFvGacTi3pU7fG47eQfYVcwFa8OZ7llXTqveVgktNSRrO4kx8xqpe74XE2cB71kcnq4xxRdowxmdpsuLL0YSVRUFFGRwTh2lWHaaiYXjVjsyjxXDCnOoxcyeQ/cY4r1+NmnmNnRirlB+q5defZnWtbpg5dhVU/2rqGYyYruEVJ86Cevy4i92uO8NESt7kSj7qu5q+v8NTw5eZw7OoOZhmjXrsgLxK1I2TiJV0W70lVeJG7V4cuxrNuZNQ+L5WHkajrJzbBaqT+Ss+I4GUPBkR+aM2RHWV9O9eNdjOk0Et8obZwUnPfw1PuZColsGvAZU05qTfAvhpB6mB9bt2fWxSzDDyls7l+Pjivv69LxQmT8gcvG+yjFOtKzXjsWXBPLTaw/2+wm4x5cel696tRkPlQPJZdmWjBwc4rhe1lK1xmtIN411AxZD3f0VUIvSuV1R1BulShAayn+tAEDjR6woSJ49ue8O2zn23NinISEhISEDkncvgbynxxjab8WyGrV4p3/zOW8Qc+UFnS6jllWF5sDxU1Bau6v6CgKz95siBdEPbERa1Gs2Rwo6LzFK8KW0q6+FVO9fPDxKfbxPYlOj5SirJAUSNxoLXb4NhQLtghlEiEBfmyw70VjeRdcDKvk8/YOx0xuzcZEQ++es5thZnK+8k3TiQFl+Bq6NTSlYRsbnE/GFNsCTUPs+p6Vi9vY9fQsFCp6QSzTxrFE9txnRUcZ8t4bELOn0jiVJYfdwz5g3KFSCdfEsmVQSwZsihOfLCIOPLw9Ag1WVQWnJrfAcll4oRAV0qOJTisS3RWj5Pr8NtTt7sbjgluU55jeqjWzg3Xqv5DqhCtkPOJRiobM/TY0sVrBfaMqWSA9OpoqR/VV5oPyGWnl7rMmoEgJYdfiufhHlCfvVYQutqSbOPgrj5J1Rksee4ebIbfeSFGVGCbWka/wrWSrA/Wd5fy3Xk/WFx/wFZBzFrs2/2X+leKVUUJCQkLibUAStzWBJplH0ZklxZQymu0j/4VprboM9EvW/VRa0KnDl9FeJqefT3KJe9P9B2ImE0XlI41RcasMmkaLOn3xrmyfJANVF7dKYo4sYux4R45G56E4N52WZlUXtzohdd2b79ubY2rSgC8m7eah7pEvIm7VhC9rL4r8fviUmAdPx3+gGbIuLrpp5uqL21z2jniP0QdLJBxN3AZ6mw/G32CWExK2sX5/uj4MTRwbejdmsH+BRU9B0M9tGbWvst0WDKhuMN+iDl866a3NWrRlb9nsBw6XmP+uZrg6xHumfsgnMy6UdUnRogji57ajqGqQrzIfVDccmFl4bUly7xzCb18Ai3q25pcLRmMuouLq3Lb0cI02fC/LqxO32sFUN+p3W0eZHc+ETC4vsGaQ2x0xxRISEhISbxuSuK0JVCE4jHPSL5YqhvL8L3xkKqOTwfKkF3QfFgm6zP2MMjfl/fGHMBh3RcRO1qULZi2mckbsSY1abu86YimrT3+feL11zYA6JoigB2WtYGWeK8oNY+JWfdeZ/zUo2gZJ55ZQZXErkBp+m3jtpaokLroO4yNZI0bsSRd/KE/cFo9TWaGSuX8U5qbvM/5QUe6gicalixktpp7RCY3qi1slZ6Z+wtf+2ngVob7jSIePxDwvKJoAD/ye6NOtvO2I1acTOKxbSCSgUYSypENv3B6rynlGKfIPMc78A348USCNBBK8+mL+1RaS1cmE3His+63a4WpRh7G0/fuMOWhkzl3QoAhdQofebjxWVS3EV5kPqhtLmWF0it+AkIbvIIsKxK2CU1NaMWxn+cr8lYlbsV6t625Ob49i7j9alPGccvyBKV6hSAfZSUhISLydSOK2JhCe4TeoCZ0crhYTqaKA2TyA+maWLDeoXk3UGjrJzRn9u3Y1VBqpmf9fLs35N2aNh7K9oCcWEtj8VXO6u9zTrfgXnnrRR16HEXuLmfhUYSzXbkv0Xh8WB9wiMSePpJCtzJrug7EZ3rLPVfPUqw/yOiMoHmy2KALeMW3FtDNaoZRDhGtf6ssscbyjRCNGL0fr3yoKSe+CuGZu52tRSPbfkiqmVs29NdNwKRDXmhjce5jzzbY07Rf9SvP63/K7QYOUjZMolh5r3TTq823BRbmXmPNvMxoP3V4oVISEzXzVvDsu9/R5WnGcjKEhboM1Vg63C62oOhRXmWfZh3W6VUcKLnh5Eyo+Qki/wEJraxad01ovBTJuHcR76RBafTqcZZ6bOR5ZJFhTji9kxLfOXCixklBEHc6yDhbYXzaIuOwQlndqhOXyO6J22obr7sQXC1dE55PdqD8+pffL0h5McNCbpUNa8enwZXhuPk5RkCkcXziCb50vlFz0qOWl86GIlxa34t/9vm7PvOv6sjZGmToj1lutz63c2ruwzmRu/1qsI/3ZUoGzrPq+M1bvfs1WXT5qyIoN4aiPA79Md2DHLYPlWkJCQkLirUQStzWCknO/WPKfntZ8M2k+qzZ447ZgFF+27obdvsiiqUxVKE4d6yNvboXNnF3c07rvKR6y364nX3SfxKot/qyfM57vHAPRrkMT0kLZM7cXTUxMaTZgKXuCYwvDyr29kVEWDaldqxa1TOrx6WAnglLK6YJLPHcHFy/vYW6vJpiYNmPA0j0Ex+pD1Tzdz/iPzTCp35KOA23xOLCCvvVlNPnvODYGBuEyrCWmps0ZvPIEkc9iCHL6iqampjQf7MzZ2DwiVvXh3wNm4XMkiMCdCxg7YRPh+QriruxiTjdz8XkfMnzNMSK0iqpUXtyKvMKuOd0wF9P64fA1HIvQL4hSPNyPXc8v6D5pFVv81zNn/Hc4BibqrGuq+AuVxMm4aFKHOdBpiH+ZhUG5d/ywmzAbz4M7WTDbmd92uLN4jhO/3S+5gCpjjw0WtoFF5apDQ5RnP5o1/YQpB0v4GogIJB2ZwVDbzZw4uh2XFb4EeNrQ09aPXWs9CTJsHVf9cCH/yA8077qWyBLmxgIy2GNjUXa3AU0Unv2a0fSTKRgJ8sXzQZVK5M0bXL9+Xfe5sv0nRi8+yTXD9+s3bhNT3PxZmbhVnGZqh584Xo6bqyKudJ1JJf6CC8NammLafDArT0TyLCYIp6+a6uuI81mMVQl11A4mthfrp8ycFq3bYtl1IOPsXThwM9m4q4eEhISExFuFJG5riLzkJIMVTEVG7B1u3Ysjw1jPqEgjLjGrpNVQiyqThJgkcoyKlPJQk/X0MbHP8iu3LJX33NLkpxEb/1xnNdaKspykGJJyKw1dh6BWi3eoyEx4yKOn2ZU/q6pxElFlJhCTlKMTtS+N+j7O/Uazx+h+pQpSg52Y5xFBhtGIKQi0tWDk7ueG7yURknfj+6cRxSiizkogKjrVIAY1ZCU8IbnA4Pii4Yp5mJRejmVTEYitxUiMBymQvNuXcqIqUv18ELLucnSbP35+frrPliVDsJ7oXvjdz383F2KLBVaJuFVcnEUfuyDDYjYJCQkJCQnjSOJWQkIUdim/T2bMBuN73WYf9sSvzKoiA+rbOHTsjVuMBtWDwxzR7tdWiEDa4c0c0DkeV5MaCFfr19yxtxsxGhUPDh/RbS1XiCgsD28+oPeRLocXzwc9L+WWIDzjoO0YvHTuERISEhISEuUjiVsJCS2aWHZPn8mBAsfMQpRc8t6o39fVGJpofIYNZdGebXj4XyhxNKyQGoib9xWMLO2qnBoIVxPtw7Chi9izzQP/C9qDOQoQSA10w/tKRSG+eD4UUJG4VT88wab1Sxnx76Z0tV2L195rJdxEsi4uZ4rbbYOVW0JCQkJConwkcSshYUB4HsyGJX7cLjE1ryA68onBLaMcNHlkZhuxNuZmkV3WgFl1aiBcTV4mxoOszG3kJfLBQKWW23LQxB1mhfNREiSjrYSEhIREFZDErYREcZQ55FSo4CReFCHzPndjXiBz8/OKHQAiISEhISFRMZK4lZCQkJCQkJCQ+NsgiVsJCQmJt5ZsIm7ckw6MeNtRxxAaVt5e2hISEq8bSdzWMMr0x9y+eZvH6VpfRIH0xKQ3PMWqITs2hPD4l3EGfQ3kPSUsPPbt31dUmUjopXBSq5OdRu5RZzwi9MGz19Q5inUgJpSI5FfvxCpkP+Hq8QD+CAwj6W1c/VWl8lKSGHqJ8GoVak2QR9imebhdKXWUdymE9FBCHr3l7/PrRkgnNORRlbYVfDUoeeA3G6fT5Z2EaAQhmydXjxPwRyBhb8vLokjlwdXTHD54gH179/P7oWOcCgoW+4vsV7PtooTEa0IStzWFkMKZZf1pazkUu0ULsRvbj27du/FFdwduvaF+SB1/Cd+Z3XnX1Iyhu15oDf9rIJv7fyyh/79qY/aVLxUe//8WkBcwhkamzZlS+mCECihxj5DMlU0TaFe3Np/YX65xMS9k3WGvXWfMa7/HxGOvtkNV3vfhh0nuXAz2ZczHclrYnn7rdjeoUnnlBTCmkSnNp5Q+QOP1knVuARNc7lRaJ7L+3IBveVu0/VPJ+pMNvsa39qsxNPHstLVlz9MqNFrK+/j8MAn3i8H4jvkYeQtbTr/ByiZk3GLH0qn88N132HRqimndtgyZ8hPjhnSnbbN6mNYyo3mXH9kQXA3xLiHxBpHEbQ2RF2hLi3d6syGuoHlVk3hyJl9+9CPH32QjluxDP/nbLG61ZLHjGzPkfwFxi+IpNy+EkVKddVKl71FdYc7nspcSt0LyDa4/rtqoSRO5iv/JX7G4FdLZb/MBXV0e6QRFXnQwl6KM1DFRzN+4/vg1WtRKYay8ysRJwdObFwirVqG+YlS3cRoyjWOZhu/louSSl3f5W7T9Q1Fe8sL7DWSK4toCBkw9QcXFJpC+34YPurqg27Y5L5rgS1EvtmXgK0BIOsK0HiPZ9FDb+qi4OvdzzNotJazwhcgj5vQqvvlQhkmDLqwKf+vn0yQkJHFbM2iIWtMJmVkfPAvFrZZcTtlNZqvRk7BeE8/8GPjWi9scdg/7i4jbV4HqGr9ayF9c3Cof4DWwAzPOV+1uzcO1dH7V4lZ1lbmt36GHe0wF1jIlD7wG0mHG+RcW8a+etzFO2sHxNHrYX6jccqyOwMfzlHRqWwnURPh4cupNZIo6klXWw/A3ttFzIVoB2Zp3ergTU/7L8ppQEer6HVO23zfU/zx+/7YB9YbuRH/geRGKUAcs5aa0mBr0Vr0rEhLGkMRtDZH122jMTUx433oVV9OLGjp1QhTRhUfyC2Q+OMoWz01sWruExe4niC5wyFU/J+rcDlZ5nSE1K5KjHguYZjsX78vafUJziDyxkeUzpzFrXSCF7rOaTKLO+LN6VygZkcfYsNiOn+et4/CDYhu3GhW3uTw85onDzKlMX+hGwJ3yffyE3Dgu71rLzpDnRAQ4Y2/vyZUMASHzAUe3eLJp01qWLHbnRGFClKTePckWp61cz33KJf/lzJg2G/fT8SX3TFUnErxzHSucnFjlexzXwaXFbT4x53fg4bqSxfOW4LLzInGFzstqnkedY8cqL86kZhF51IMF02yZ632ZFPH+nMgTbFw+k2mz1hFYrq/xi4Whfv6AQL/V7A4zpEaZyt2TW3Daep3cp5fwXz6DabPdOR1flNoy9xSK27M8Pr+JRVOnMMPRn8tJxeIqZPLg6BY8N21i7ZLFuJ+I1vtu5z9gx3cW1DExp8tkJ5xFoRNr6DDVqdfZ7boCx6ULWOpxlMhsfWYWituj6UQe28ASu6nYuxzjSYVKqvz8V98PYI3jRKwa1Objwb/itGIV/pdLT1/m82DHd1jUMcG8y2ScnEXxIUa0vPpUbnpFlKl3ObnFia3Xc3l6yZ/lM6Yx2/00xbIYRVwQ27y3sH3rZnx8f+dasj42JfPeeJy0796DQD9W7w4rUUfzY86zw8OVlYvnscRlJxeLKuBLxaksCk5Pbc+Ew+WehaxDnRnDzUO/MmnGXq7F5JT7zr4QQi7xNwM5Hhzz6oRzfixXjp3its4iriQpLJDDJ0JJepVKSZ1JzM1D/DppBnuvxZDzSjOlKii5bP8fhm4rx39efZ+ANY5MtGpA7Y8H86vTClb5XxbbOYHcuMvsWruTkOcRBDjbY+95RX+Ee34M53d44LpyMfOWuLDzYlzhu/BC/URFiPFbaVWHdkvDys6uaB7j2lWGfKAfb9I+IyFRFSRxW1Mo7+E54ANMa9XCrKU1c/fc0TdUxVDedKRD4374aEf5QgI+/c1ps+C62DyqiQveypT2Mmq3GszclR7sPCyK4AkWyN/rx/TlS1i77U9O7JtPD/P6WHvHohEyCNtjT/cmptRpN5LpdvNZvXYhIyzqYvpuX9bfM/SypcWtkMwR+zHMPxGPQpPBTafuNGjYBeewsj2OkB7G3lndaWxiRufv52NvN57On/fF9fY1HDs0pp+P9tQrgQSf/pi3WcB1MQjFk/OsH9UKU9kXjJiziHU797PJ1pJ69XriXnCUquIum0b0ZMLex2LaBbJCV9PH3KSYuM3kskN3Ok48SJyYDCHrFm4DmtKkmxNXxWSo44LZOqU9stqtGDx3JR47D4tCewIWooDrN305S9Zu488T+5jfw5z61t6F4q84LxKGJuEiG22taGTSiLF/aLsbBU/Or2dUK1NkX4xgzqJ17Ny/CVvLetTr6a6bgix7j4hO3Mp4z3Ig435eJoqnCXT+oDbyVuM5oDu5QMlNxw407uejO/lLSPChv3kbFmgzWFCScWkebeUtmXI0hYzMPF2nlHVtFd8MmkdgovhNFc4ySzmNB2zUx0EnbhtgNXo2i9x38/uWqXSob4bVyntlOzQdFec/qhwykvcztrEcK6dbPHueQbaidCYLKDMuMa+tnJZTjpKSkUlOSjn1KSKv/PQqnnB+/Shamcr4YsQcFq3byf5NtljWq0dPd71LBLkXmNVpNHt1lSeT83OGsvCqykjel41TnjKBixttsWpkQqOxfxSKiMzLDnTvOJGD+gzgltsAmjbphpM2A14iTkZR38OpU09cyvGjVSWcZo3ddBy3nyNEFOpeN+9zymUC3y46Rbl6uRoonxzkl2ETcD8bxeNLm3CY0AeLCX++pMjNJshjHadvudHvi4ms8nRj/9UQdk/8gi6O4YZrXgJVAqfX2DHdcTvnQsSBiddN7p9yYcK3izj1KjKlGmTvs+Fz2/L8tVXkZCSzf2xj5FZO3Hr2nIzsfFLD9jKre2NMzDrz/Xx77MZ35vO+rkSkX8ahe0cmHowT7xTbRjH/BjRtQjenq2KOvkA/YYhFuWTuZWTDJoz/08jASkjBp58Zjce/bF2QkKh5JHFbk4id3hGHb/i8Xi3+r5acFv2WcTqxqHnJPjWTjlZzCdK1I0rO/tySOn280K9HUBA4pRmytou4aegD1bcdaC8zZ8zBAtNvOlsHmVHP5gC6IDSxrO8pp+6QnTzX/V28J3o9veqa8q8pp/QddSlxqwyeTZsuS7kYGUVUVBSRwY50lZnSauZFMUZl0cR50EsmLzn9nH2KmR2tmKtPCMqzP9OyTh+8DAsrsncNxUzWA3fDHJyQovX7rcuIvdo4aHi8oQ/m3Vwp6svT8RfTVSBu1eHLsazbmTUPi/JOHbmaTmI6CgSZInAKzWRtWVSUWTiIjb75mIMU5tbWQZjVs+GAkXZby4uEoYl2pau8mFAVu5xdQ82QFU45CqT49ENedwS65IqUuccgbt//4XDhc7Iv2mNRuzYW82+InVo2p2Z2xGpukL6clWf5uWUd+ng9FUPXRtOBdvKPsCtwS1CHsezLVkw+WRCaQOLheYyesZ8nYpz04tYcm30FteQ527+ug9kgfzHny1KV/EdxlAnvyuniUsEiHm1+tpPzkV2RC4DR+lRJesUKxVAzWdE9uk5XrPcj9op3imFGiXFr1J3Vd/VdsObJSY7f0Zdpmbw3EiftUcKuXeVF4lYdznLLunRe87AojupIVneSY2a1knvaDHiJOJVBcYQfmg9hhxHHTfXjXYzpNBLfKG1sFZz38NT72wqJbBrwGVMKy9yAOoKt9qsIqtR3V4+QepgfW7dn1sUsww8pbO5fj44r75cd+FQn7Iw/cNl4H6VY3j3rtWPBNbFkxTzcZjcZ9+BSE+DVjLOYKewa04mRvlG6MlSc98BTnykkbhrAZ1NOFr5XetREbLVnldEHKHmWVsHMlSKFkF2LmesfUTY/DCgvzcRi4GbdjI9xFByd8C7yLi7F2jwNcR69kMmL2kltPMOXW1K38xqKXj01kas7ITezYqWu4r1AP1EBysv2fNpgIH7GIq8KZvbn7zJsp7TlmcTbjyRuXwP5T46xtF8LZLVq8c5/5nLe0G8UoEwKIcBvA/a9xNF8YYOn5MzUFsjbOXDb0Ipqol3oIn+XCUcLbAL5HLCpi9x6k/4sfyGeDb3kNBgTUDRtpYnDo5cMWee1+gayhLhVE7a0HfWtpuLl44NPsY/vSX1HURohcSPWojC1OVD4hCKUSYQE+LHBvheN5V0KLU95e4djJrdmY6KhSczZzTAzOV/5piGIcfbsXYdmovgusnQU97nVEO3aFVldUVAWNxeo77Oiowx57w3Ei8Eqz0ylhbwdDkWZhUsXOe9OOFoYbv4BG+qK8dhUjj/ci4ShiV1PzxLiNo+9w8W4W2+kKLnDxPR/ha/Bx6LMPcZ8blWhLGpbG3nhYEeLkqSQAPw22NOrcZGQLC1u1XcdRTHaB88E4+ks63Obz6Fx5siN+gBWLf9fVNxWWJ/KSa9YoRgu1h/rjYmGTraUj7YynDXdGmLasA02zieJKRZ0mbw3Km71g8QCcasTxDJtHEtkAPdXdBTFSG82aDPgJeJUBu378cE4DpW+RozXlkEtGbApTp8Pouj29gg0WNEUnJrcAstl4SVFl5DKrfO3qziNrOT6/DbU7e7G44JCVJ5jeqvWzA42IsSrEbaQ8YhHKRoy99vQxGoF90tEshTVirOG2C2DaDlgE/rlDaIg9PYg0FBUilOTaWG5jPCSmULqrfPcNvYA1Q0cZvobF6a5dzjkt4+ART1p/cuFovpSClXoYiy7FRekpTEmbkUhvtFaHASL71lBuesGWTLqiqK05Ku3go7igLD3hnjx2wv0E+Wi5s7y/1Kv53qjvsA5Z+1o89/5XCkeGQmJtxRJ3NYEmmQeRZca/Suj2T7yX5jWqstAv2TDbzEcWTSW8Y5Hic5TcG56S8xeSNwahJQxcSv+77dR9YqESwlxqyRoWgvq9PUuJqAqxrgYURJzZBFjxztyNDoPxbnptDSrorg1WC2bTDxWjrgVO6tl7UUR0Q+fEtOL6fgPNEMm5pd2qr06wrQwHqV4kTBqTNzqLGZyXTjaDkkZc4RFY8fjeDSaPIUoOFqalStulUHTaGFW0tJaHKPi9rvyxG3V8v9Vi9uK0lupkBQR0q/j/X17zE1NaPDFJHbrVoIbyfsqiFt1+DLai2Kin09yiXc63X8gZjKxnmsz4CXiVIbcvYx4bzQHS2aJOE7dQG/zwfin6gMUEraxfn+6/nniIHZD78YM9tf6WhagIis9q4TfcIWIwm6+RR2+dCpyT9Gm3bLZD5R1/61m2DoUBE39kE9mlC8Mqx2uLt3mYroN1kQhgW3r96Nf5qAhbkNvGg8uKVZVWelklfcAMQ+WzvCrwOoqkOY7CIuKxO3VubTtUXwmqjRVFLfi4GVZe3EA2c+npLtJuj8DzWTi+/BI/PIC/UR5aMV0t/p0W1f2HRYyL7PAehBud4paaQmJtxlJ3NYEqhAcxjlRsF6oAOX5X/jIVEanNQ/Fb2ruOv+PBoVbrujdEl65uBUbe68+7/DpLINwKmW5vetoiax+f3ziizdnamKCgnhQ0MMVw5gYUd915n8N2rHUsHeMzi2hquJW84i1nWXIOq4govB5JYVB5v5RoiB4n/GHipm8dcLTjBZTz+iE599O3Ory5R2+WByKSn0X5/81KFrkoZumLy1uPyyy3N5fSUdZHf7nXNKHNv9+CHfEYq+euK1a/ldH3H5YmbitJL2VCUkhNZzbuvqsIumiK8M+ktFoxB6dy0V54rZ4nEqLWzEDGGVuyvvjD1GUAxqiXbpg1mIqZ7QZ8BJxKoPyDFM/+Rr/Un9U33Gkw0fi8wwRzQzwwE/rZyKivO2I1acTOGywRgrPr7HTzYfdK7+lv5NYh3S/VkL+IcaZf8CPJwrqhUCCV1/Mv9pCsjqZkBuP9b++SNha1GEsbf8+Yw5q256yvFC46js4dviIqUWZgoffE309Ud7G0epTJhw2LO4SnnNtpxs+u1fybX8nQo094BWIW8WpKbQatrOC7cCqKG7FEPaPMsf0/fGUfPXEfsCshZhmbTm9OnGriV5Hd/PeeJRqBJTxp3D8YQpeoVmGui0h8fYjiduaQHiG36AmdHK4WqwzFDuKzQOob2bJcp3qzRY7v3cwbTWNM9q2PicC1771kVk6ckepEa9WEGjbXGy0ivYb1DxcQye5Od/9WdD65bF/5DvICyyvBnFbd8iOQp9bzRNPrJv3wSNKH4iQuoX+orj9Zoc+Zqqw5brtXd7rs5iAW4nk5CURsnUW032M+5QJT73oI6/DiL1FppxsUby9Y9qKafqEEOHal/oySxzvKNGI8crR+tyKgtC7oGXN3M7XohDov0VrbVFzf00X8f4W2OyI1ncYebdZ3lEUvF0N1o/cS8z5txmNh24vbJyFhM181bw7LoaFcopAW5qLwrRAYIuZxZpOcsy/+7NQ6OftH8k78r54l2OmfpEwNI+1U9b1+fb3gitydD63cmvvwrhmbv9aTH9/thgsbmXuMYjbVjOK/Jw10evp+9m37NU+J1scDLxjSqtpZ3T+mzkRrvStL8PS8Q5KMYM1Ufp6Mfp38a+KNFLT77OuRz1M6rfjJ9/LPEpJ5dFZD2YuP64TWurIVVjJzBn/Z1Hnd3C0WPcK8rs0Vch/nTBqJMPK+YHReqNDE6XPz9G/i+lQkJaaidpIfaosvWKFYqhWSHoXCMlMtn8t5nn/LWizWH1vDdNcCuKhIca9B+bfbNOlvUzeG4mTYFgVXv/b3w3lnsulOf/GrPFQthdlAJu/ak53l3t6EfYScSqD1hppbVU0yCpAcZV5ln1YpzeVc8HLWyfQhPQLLLS2ZtE5gxVXDP/xkYNczxVI3zWc1raniwkxgZTjCxnxrTMXSq9w1VoKO1hgf9lwdXYIyzs1wnK5mO/x23DdnST++IJhi+j8qxuJA2mjc+MvGq6Cq/Ms6bNOv3BPccELb32mcGGhNdaLzhmsuOITHh/h4PVc8U+7GN7altO6B6hIjbzJjevXua79XNnOT6MXc/Ka4fv1G9yOKS7qKhO34t/9vqb9vOsViHOtG1AjZFbOxQwIAk+9+iCvM4Lir0LupTn826wxQ7cX1CttP/IVzbu7oH/1XqCfMIrYDjtb8e7XW/WuC5osYkOO4uPwC9MddnCr2I4/EhJ/BSRxWyMoOfeLJf/pac03k+azaoM3bgtG8WXrbtjtixSbIy0anu4fz8dmJtRv2ZGBth4cWKEVhU347zhvTp33ZVIbGSbmPZn/WxjJqeEcXNCLxiamfGzjxplHaUQHrWPkx6aYNhuM84kHZKj14lb+eX8m2s5jtesyJg0Zw+rLesuFJukGexb25X0xjBZDnDkUnib+msvtjaOwaFibWrVqYVLvUwY7BRm1XAhpoeyZ24sm4v3NBixlT3CsLi2ap/sZ/7GZKKZa0nGgLR4HVujESJP/jmNjYBAuw1piatqcwStPEPkshiCnr2hqakrzwc6cjRW7CMUj9k8VG1azhnz4ZQ8Gfb+cqT3NadF5DEv23dE9W/FwP3Y9v6D7pFVs8V/PnPHf4RiYqO/Q4oLxndQGmYk5Pef/RlhyKuEHF9CrsQmmH9vgduYRadFBrBv5sRiPZgx2PsGDUp3ki4QRfucyu+Z0w1zMjw+Hr+FYRCrxF1wY1lIsk+aDWXkikmcxQTh91VSffuezPHx0pdQ9GdqM5fRiaz77rAe2KzzxdlvOtB/s8L9tWBCiecr+8R9jZlKflh0HYutxgBXagVCT/zJuyx1UqlCcOtZH3twKmzm7uJcndtmxh5nToynyWv9HLZMGtBkjCiFRKQqZEQTM6UojXT1ax7knGUSfXs1QMc4m5j2Yf0w71VmWivJfk3ST35yH0NK0FvU6TsP3qFhfjfaFKkKdOlJf3hwrmznsuHjZaH2qML0bAwlyGSY+S1t/VnIi8hkxQU581VSf585nY1FHrKLPvwcwy+cIQYE7WTB2ApvC88UyNpL3peK061YkV3bNoZu5WO4fDmfNsQhtjLQZwH67nnzRfRKrtvizfs54vnMMRLc+VBXPhReMk3HUhDl0YkjBVHsxcu/4YTdhNp4HxTBmO/PbDncWz3Hit/ulFpLpyOfklNbY7CkY6mrREOXZj2ZNP2HKwdK+BgJJR2Yw1HYzJ45ux2WFLwGeNvS09WPXWk+CSgic6oYt3nHkB5p3XUukNs/Kpfrhan1h/ewmMNvzIDsXzMb5tx24L56D02/3xaFmWfJPTqG1zR69AUDI4u7Rbfj7+eGn/WxZwhDribgXfPfzZ/cFsfx0d2qpTNxqt3HrwE/Hy3FM1SRx8zdnhojvW616HZnme1Rsa9Skhe5hbq8mmIhty4ClewiOLRh4Kni4346eX3Rn0qot+K+fw/jvHAnUVTwFccEv0E+UeTfVRO2YSHuxzsvMW9C6rSVdB47D3uUAN5ONp1JC4m1HErc1RF5ykqERUZERe4db9+LIMNJO5KfFEv/cMMYXckiKSSLXqDCoAsXcEnJykomJf16B9aAU6iyePo7lWf4LPjw/jdjC5wnkJMWQVM2EqLMTiY5OFtMv3p9l/CxzVWYCMUk5Rv/2l0eZQcKjh8RnGiu1fNJi4ymqKkliPuQWiR9FGnGJWcU6YS0CeSkxxKUriq57SV4+/xWkxSWSVcooWZZK0lsRghq1eKE2rg8fPSW70mdVNU4iqkwSxHc0p7oZUM04qe8702/0nnIWVSlIDXZinkeEOKA1/GQM1U0WWloXOyWxCCF5N77GtnsSUWclEBWdKj5Fi4ashCckl9bhLxK2WEeT0itpkV4wzloUqcE4zfMgouJM4eZCS6w3GBblleZl3RIUF5nVx46gV77oSkVmgtimVrviSUj8M5HE7d8JowvKJCQk/nIIKfw+eQwbjPqJQPZhT/zK+VsBmhh3+lgV+WIWIQq0w5s5UMLPvnrUVNgvFW72YTz9KvD51qKJwb2PEZePAioSt+qHnNi0nqUj/k3Trras9drLNYOrkR6BZwdtGeNl2NtYQkLijSGJ278TutNlZNQZvNX4QhUJCYm/DJrY3UyfecDIIiAll7w36ve3LRdRDO4Yzn8LFpIWQ0gNxM37is6f+cWoqbBfLlzlJW82VpwpCGk7GIeaeDMAAFfjSURBVP7fWRS4FZehUsttBWRdZPkUN24XeBRISEi8MSRx+3dBSOHG7hXM+HESkybPYe3OczwqfwZPQkLirUfgefAGlvjdLrX5voLoyCfGXY6U55jRYSxbQw5iP2wSe4xtf5GbVQVXDSPUVNivKFxFdCRPjGcK52Z0YOzWEA7aD2PSnuIHhpRCyOT+3Ziqu3MVoInj8ApnjupOFJSQkHjTSOJWQkJC4i1GmZNTDbGlIP7KH+z74wKPsl7E/FgRNRV2TcZZjyL+Cn/s+4MLj2pqO6t88iRfMAmJtwZJ3EpISEhISEhISPxtkMStxOtFEccZ9xn84nvX8IOEhISEhISExKtDErcSr428BzuZ1O5f/GecOxeeVturTUJCQkJCQkKiUiRxK/Fa0MTuZOS/3qWH0zUjm4hLSEhISEhISLwaJHErUfMISewc/i71e3sYP95VQkLiLUcg+8lVjgf8QWBYkuGAh782ysRQLoWnljr45GXQkB0bQnh89UIU0kMJefTqYiEhISGJW4nXgJC2ja/r1mHAlpQaWqksISFRcyi57/MDk9wvEuw7ho/lLbA9/VeXt3kEjGmEafMpBL6CpKjjL+E7szvvmpoxdFf1dvnN+nMDvtKoX0LilSKJW4kaR31/JVby95l0XNrdXELir4aQvh+bD7ri8kgrwPKIDr5E1IufAFEKgeQb13n8BgyXiqc3uRCWUv09bctBSPahn7y64lbJJS/vSg7kkJCQqC6SuJWocdT3V9BR3pwpr8JEIiEh8VpRXZ1L63d64G7scIWXRPnAi4EdZnC+vBPD/ko882NgdcWtOgIfz1PikEFCQuJVIolbiRrnVYjb/NgrHDt1mxSthUOZRFjgYU6EJpU5plNCQuJVoeZ+wBocJ1rRoPbHDP7ViRWr/Lmcpncuyo85zw4PV1YunscSl51cjCs6xUDIjePyrrXsDHlORIAz9vaeXCm1kjT/wQ6+s6iDiXkXJjs543kq1nByWC4Pj3niMHMq0xe6EXAn0+DOJJAbd5lda3cS8jyCAGd77D2vkKF6TtS5HazyOkNqViRHPRYwzXYu3pe1blA5RJ7YyPKZ05i1LpAid1g1zx8E4rd6N2E6q6mS1Lsn2eK0leu5T7nkv5wZ02bjfjq+mGVXIPPBUbZ4bmLT2iUsdj9BdPGDG6opbtWZMdw89CuTZuzlWkyOIY0SEhKvAkncStQ4Ly1us4PwWHeaW279+GLiKjzd9nM1ZDcTv+iCY7i0EENCoqZQ5WSQvH8sjeVWON16xvOMbBSiAs287ED3jhM5GCdKPyFLfDcH0LRJN5yuZiOkh7F3Vncam5jR+fv52NuNp/PnfXGNKPmuCsoMLs1ri7zlFI6mZJCZJ/5dSOaI/Rjmn4gXn5PBTafuNGjYBeew/0d62F5mdW+MiVlnvp9vj934znzedw2nL2xlSnsZtVsNZu5KD3YeFgXoBAvk7/Vj+vIlrN32Jyf2zaeHeX2svbUCWkPCxY3YWjXCpNFY/hAFquLJedaPaoWp7AtGzFnEup372WRrSb16PXHXuWOI8vemIx0a98MnSZShQgI+/c1ps+B60QC7iuJWlXCaNXbTcdx+jhC/1XjdvM8plwl8u+gUyZLClZB4JUjiVqLGeVlxm/GHCxvvK4nz6Em9dgu4liuGGbkNu8nuBJewBqmJ2GrPqqBMw3cJCYmXRXF0Au/Ku+BSsOhJHc5yy7p0XvPQYGkVUUeyupMcM6uV3BM1qibOg14yOT3cY4quKYOa2w7tkH9kV+iWoAyeTZsuS7kYGUVUVBSRwY50lZnSauZFUURqxDagFzJ5aRcJBYFTmiFru4ibBjOr+rYD7WXmjDmYo/+BdLYOMqOezQHE5kNEQ7RrV+QGcasle9dQzGRFYQspWh/auozYqxer2adm0tFqLkG6AJSc/bkldfp48bSgCaqCuFU/3sWYTiPxjdImWMF5D0+9v62QyKYBnzHlZEF8Dagj2Gq/CqNNmvIZaZnlqWEBRUoIuxbPxb/UoEJC4p+AJG4lapyXE7cCGY8ekaLJZL9NE6xW3K9g6x6B1Fvnuf1MMn9ISLwqSotbTbSrKDjrYnOguKeomvsrOorCszcb4gVRq23EWhSGNgeKz9uXprS4VRO2tB31rabi5eODT7GP78koUU4KJG60Rl7XhpLBKjkztQXydg7cNjQOmmgXusjfZcLRgjYnnwM2dZFbb0JreNWK29j1PUuI27y9wzGTW7Mx0dB+5OxmmJmcr3zTSrgMKJNCCPDbgH2vxsi7uBRtb1iZuNXEsmVQSwZsitMLfnGQ4O0RaPC3VXBqcgssl4WXbN+EVG6dv42xJk11w4GZ/sZ3oMm9cwi/fQEs6tmaXy5IzlsS/zwkcStR47ySBWWKIKZ++AkzKmioVVnpZBU5yElISLwCSotbdfgy2svk9PNJLiGs0v0HYiYTr3ukeUFxqyRoWgvq9PUusoaW4FWI243otesLiFtlDEcWjWW841Gi8xScm94Ss2qIW03cBnqbD8Y/VR++kLCN9fvT9WFr4tjQuzGDS4hVFVnpWeXu5qC6sZQZfhVsryik4TvIQhK3Ev9IJHFbwyjTH3P75m0ep2sbGIH0xCSxmf1n8SrErTpsKe3fH8NBY/2G8JxrO93w2b2Sb/s7ESoJXAmJV0YZt4TM/YwyN+X98YfI0v8ioiHapQtmLaZyRnzNqyVuPyyy3N51tERWvz8+8QWKUYuamKAgHqjfpLgV4+b8Pxq0W0qY7hl6t4TqiFv1HUc6fCTmj0FrZgZ44PdEf7PytiNWn07gsMFEKzy/xk43H3av/Jb+TqFGBa4kbiUkykcStzWFkMKZZf1pazkUu0ULsRvbj27du/FFdwdulZh3+vujjnhZcav3tWvU38cwpVgSzeMjHLyei5C+i+GtbTktteUSEq+M/EPjaCSzwvlBQcOVy6U5/8as8VC2FwhBIYHNXzWnu8s9nRATnnrRR16HEXv1Hq7G0RC1phNy89H8LupBRVoqaaHLsZSb8l6fxQTcSiQnL4mQrbOY7hMhykuBp159kNcZQclgFQTaNhfFbYHwFEN+uIZOcnO++7NABeexf+Q7yAutwhoeu3YVhfS3/G64JEfrcyuKW++CNGVu52tR3Pbfkio+OZvdw97BtNU0zmi1a04Ern3rI7N05I5SoxOYQuoW+ovi9psdRZK/BIqrzLPswzrdAjUFF7y8dQNxIf0CC62tWXTOYMXVxu3IQa7nCqTvGk5r29OilBZRpRJ58wbXr1/Xfa5s/4nRi09yzfD9+o3bxGQZ4q5FErcS/2AkcVtD5AXa0uKd3myIKxjWq0k8OZMvP/qRKp9lICRz4/pj8c6/Ni8vbvM58kNzuq6NFJv98sk/OYXWNnt4bvguISHxMmhIuvkbzkNaYlqrHh2n+XI0zOCKoHjIfrue4mB9Equ2+LN+zni+cwwkUXxBhbRQ9sztRRMTU5oNWMqe4FhRyhlHFepEx/pymlvZMGfXPVGC5nJ74ygsGtamVq1amNT7lMFOQaQIgih89zC3VxNMTJsxYOkegmO1oSqIC/ZlUhsZJuY9mf9bGMmp4Rxc0IvG4vM/tnHjzKM0ooPWMfJjU0ybDcb5RDh3Lu9iTjdzMawPGb7mGOF3z+EyTEynaXMGrzxB5LMYgpy+oqmpKc0HO3M2Np+n+8fzsZkJ9Vt2ZKCtBwdW9KW+rAn/HbeF23E32LOwL++Lz2wxxJlD4Wn6BJYi944fdhNm43lwJwtmO/PbDncWz3Hit/ulFpLpyOfklNbY7NG3aELWXY5u88fPz0/32bJkCNYT3Qu/+/nv5kJssd5CErcS/2AkcVsj6C0SMrM+eBaKWy25nLKbzNYqLXhS8sBrIB1mnNeP2v/CqEIX0Vbegp/PvnhKFGlJpFfobqDi5kJLrDcYFmtISEjUPKpMEmKSyHmJl06RFkdiVqkhvDqLp49jeZZflbby9ZGfFkv8c0NDJOSQJKY9t9pRVJAa7MQ8jwgyKrJcqG6y0NK6mIGkJJJbgoRE+UjitobI+m005iYmvG+9iqvpRc2POiGK6OKD9NyHHPN0YObU6Sx0C+CObmuXfB7s+A6LOiaYd5mMk7Mnp2LL6T0U8Vw/fpzrCSVtI8rMzLfk1BuBVP9B1K33FVsKpvtqAk0M7n2scChwupOQkJB4S8k+7IlfobOucTQx7vSxKvIjLk1F4lb98ASb1i9lxL+b0tV2LV57r2FYxyYh8Y9AErc1hfIengM+wLRWLcxaWjN3zx1KHdCDkHwE+zHzORGvQJNxE6fuDWjYxZkwpYAy4xLz2sppOeUoKRmiUDXWwKkf88f6rVyL3MyQtvZcKhigP/+N0c364plQzdZMnU1aUhKJiYkVf5KSSc+toqlGfQ/n/9Xlwx+P8bwGG1chbQfD/zuLy5KRQkJC4q1GySXvjfr9bctFIG3HcP4763K5M3eVWm4lJP7BSOK2JlE84YjDN3xerxb/V0tOi37LOK11StOhJHh2G7osvUhklHbD8kiCHbsiM23FzItic6a+jUM7OR/Zle+WkHXCDe8wFapbS2j/rx85YVgYoTg1mRat53ClwsazLHk3/Zj7yy/Y2dlV/PllBkv2RxruqgDhGWfnduCDL+cQVCN7zyo5N6MDY7eGcNB+GJP2VLRhvISEhMTbgILoyCfGt/hSnmNGh7FsDTmI/bBJ7ClxWEVJhMz73I2pZiMvIfEPQRK3r4H8J8dY2q8Fslq1eOc/czmvXUyrDmNpu/pYTfUqsVm5j48vJ7Wn11QqbrWHGzwkWaPi+rw2tPzxOHpvBxWhi/9Dsx+OGE7iMVDRSTc1gCb1Kl7jO9FxlBtXavBQBUX8Ff7Y9wcXHmVJFgwJCYm/OArir/zBvj8u8Kj4zgcSEhLVQhK3NYEmmUfRmSXFljKa7SP/hWmtugz0Sxa/BzGtRR36ej81LsqqYLnVobrKXIsPsQ00mG01sazvac7grdrta4pRwUk3rx6Bp/vG0br99/jfLpUPEv8gsom4cY+/Xx+dx92DPhx5+KK7fxRDHUNoWKl3VUJCQkLipZDEbU2gCsFhnBNhpWaMlOd/4SNTGZ3WPBQ7tbs4Wsqo39+HkvuVxxAU9KBQ3H5YibjV7ufYuckoDhTsG/58N8Mbd2bNw+KBVnzSTQG5V9z4YeQIhg8fXvFnhA22/vcMd5WHQPo1FwZ/1oZx2x784w6u+FuSF0fwXndWr12P+7o1OK/y4Ldbz8pxBckjbNM83K5UPLgR0kMJefQXWwSY+RvfNm7EN9uq6e8oZHB7vycenmtYu++eYWZFyQO/2TidLnnE69uHQPaTqxwP+IPAsCRegaz/56JMJPRSOKmvsNprsmMJCY+v3raRQjqhIY/+8ltNSkgYQxK3NYHwDL9BTejkcLXYCT4CCZsHUN/MkuU61asibLklctP36LM4gFuJOeQlhbB11nR8IsTmRhPFmk5yzEf/TrbYlaSlGhcJ2pO7/tu6YDGZQNpvY2huMZerBiVblZNuapL8W050Nv+MyUck69RfFxWxx5Zi89VE1l9IKBQ26sQzLOzVjuE+EWXETta5BUxwuVPxrINI1p8b8K1k1fjbRs6f39P0w8mcNH4QlXGEVE7N6s/4HTGohefsGdOHFXcNskITz05bW/YYP3P2LUDJfZ8fmOR+kWDfMXwsb4HtaUnevih5AWNoZPqSx5EXoI7nku9Mur9ritnQXWJfUQ2y/mSDb7S0TkHib4kkbmsEJed+seQ/Pa35ZtJ8Vm3wxm3BKL5s3Q27fZFFQiD3NhtHWdCwdi1q1TKh3qeDcQoqsAapCHXqSH15c6xs5rDrXjkbe6kesHG4NT/vPM3JvRuw/V9DPphw1LANWDkn3bxWFFz91QKztou4+bqVdZUQ8+i3LZyQ9skphzzubByKRQd7TqeVzSPtkaJfNuyOa1SxLlJ1G6ch0zhWqX+3kkte3pWsGn/byOPETx9h5XS3GhYvgae7bfj3EH/0G5gouWxvQS+3J4XCQnFtAQOmnuA1ucRXCyF9PzYfdMVFd7JWHtHBl4iqlop6S3lTh+QonnLzQhgpr6rei+nw6SevtrhVXvLC+6/18klIVBlJ3NYQeclJhq2/VGTE3uHWvTgyylGW6qynPI59Rtn9yhWkxSVSen/z4mhys8lT55HyKIq4Z6Ess2zK6N8zDH8toORJN68bnTuG3BLHAkvVW4WK4HljWFN4tKhEEQJpx6diYd6VNRHldILKC8z42AyrlfcNP4h1P3AaPewvlLHmlkEdgY/nKcNA7C+CIojp7Yazw9g50OWRfQrbVp9id67AOUfB8UlN+XxWcNFMijqSVdbD8K9OuK8J1dW5tH6nB+4VrNz/6/H3OSQHnuE3sLriVk2Ejyen/lIvn4RE1ZHE7V8Y4elWvjFvzLg/tC2UwPNjk2nfx5U7pVvrSk66qWn0x+/+C9vTL96N5Mde4dip23prhzKJsMDDnAhNegUd04uI21zirh/nzxMhxJdwJhbIzSl5lr4i5QHXL57mWGA4aYKKlDtnOBRwnGuxhpM8FEncPvMnf5y4TlyZY/hVpIYdY8/2Hew7FkpiscRqMp8S/SSWuNgYoh8lki1qIiErkejHMcTGPOZxUo5hBuAlyDnPL5/L+WT6WcNOHEbQ1q22Mt7/8YThBwWnp7ZnwuEyiSmBOjOGm4d+ZdKMvVyLeQVxfcUIufHcDDxOcEzJ3l95aQ7WM8+V3IlES34mmUbVvNYd6SsafVpsH2ohAc/edWm3NKyY1VBrzf0PQ7c9e4vyQs39gDU4TrSiQe2PGfyrEytW+XPZYMHPjznPDg9XVi6exxKXnVyMK3oZhNw4Lu9ay86Q50QEOGNv78mV0ht9i2lOvXuSLU5buZ77lEv+y5kxbTbup+OLRL+W/BjO7/DAdeVi5i1xYefFuCIffmUqd09uwWnrdXKfXsJ/+QymzXbndHxFFsnyD8nJfXgMT4eZTJ2+ELeAO+jO1NEiiO/85V2s3RnC84gAnO3t8bzyjPSoc+xY5cWZ1Cwij3qwYJotc70vkyLelxN5go3LZzJt1joC44tKWv38AYF+q9ldsCijKmkQMnlwdAuemzaxdsli3E9EF1vHUE1xq84k5uYhfp00g73XYsh5eyqchMQrQxK3f2GE1N+wn+zLg5xMHp1YxYSxyzidXLalquykm5pGfV8rbl/Cxyw7CI91p7nl1o8vJq7C020/V0N2M/GLLjiGv2yiqilu8+6wccQnmDdpQYvG72D+PweuGHoUIf04Xtsf6L/oEMgIP4THFCtR3EzGc4cX+6/EkvLkMFO/7Miio2fY5nWQG/GpPNr3A23EMrpRmEUq7npPxn7fI/IENcnnFjKgux1/PtV3wvlRp9i84jvaNahNi6H+RInRV95ZTddG5rQf9SvrA2Nf0pdOIGXbNzSQtWFhRf4k+Yf5/t3aul09dKjv4dSpJy7l+NGqEk6zxm46jtvPESJ28F4373PKZQLfLjqFkar7BlDy5OAvDJvgztmox1za5MCEPhZM+FMvcnNvn+Bs6UGiOhynDnWo22u94YdiaOLw6luXZpOOkJGfT7728/wg3zWpy+CtJReRZe+z4XPbwMot3q8RVU4GyfvH0lhuhdOtZzzPyEYhJj/zsgPdO07kYJxYN4Qs8d0cQNMm3XC6mi2+B2HsndWdxiZmdP5+PvZ24+n8eV9ctWsJiqF4cp71o1phKvuCEXMWsW7nfjbZWlKvXk/cdS4QIpmXcejekYkH48Q3QiDrlhsDmjahm9NV3VqEJ+fXM6qVKbIvRjBn0Tp27t+ErWU96vV0pyCIshg7JEcg+Yg9Y+afIF5MYMZNJ7o3aEgX5zCUQjphe2fRvbEJZp2/Z769HeM7f07vhTvxndIeWe1WDJ67Eo+dhzm6ZQIW8vfoN305S9ZuEwfA+5jfw5z61t5o9bMm4SIbbcX2wKQRY//QytOqpEHJTccONO7ng9awLyT40N+8DQuuF4yWqihuVQmcXmPHdMftnAvxY7XXTe6fcmHCt4s49Xa8fBISrwxJ3P7FyX1ykd937ePo1SflbLlU+Uk3Nc3LituMP1zYeF9JnEdP6rVbwLVcMczIbdhNdie4hDVITcRWe1ZVazPf6ojbXIKXj+HnXXf1ea1JJ2T9t4zfpD08Qk3kDm9OGDmGTXVzEV80as/8iwX2TyVBU1vQsONybhSYX/IPMa7Jf1gcahCSmie49zCj0ZgAw7R9JnuGm2O14n4xa5+GBFF4fNZuJkHic3Our2fRlrvVmOZX82i/E1tuFtmAishk78gG1P74Fyo6ml4Vuoi2MlGo+afqf1Ac4YfmQ9hhpAjUj3cxptNIfLX7OIud+nkPT72/rZDIpgGfMeVkKftwRXszK5+RVmhWK42AIiWEXYvn4l9KUFWMQOrhH2ndfhYXDStBhZTN9K/XkZX3Kwonh/A9K3A+WHxgYyBzDyMa1Mdy3EKWLFmi+ywc3Z53ZB1wulcyTOWlmVgM3Kyz+r1NKI5O4F15l6IBiyjml1vWpfOah0UDKHUkqzuJAstqJdpkaeI86CWT08O94oNVsncNxUxW5PIgpPjQT16XEXu1Mk1N+HJL6nZeQ9HmL+J7troTcjMrVuryL5tdQ82Q9XBHH4Q4KPPph7zuCHRBlEfprRaVwcxu04WlFyOJ0h6qExmMY1cZpq1moj1TRztI8eglQ174HD2KwCk0k7VlUcEAUBtuexnmYw4Wznakbx2EWT0bDhjM/ZpoV7rKC8StlsrSkM2pmR2xmhuknzFQnuXnlnXo41WwjWQVxK36MbvGdGKkb5QuvYrzHnjqXz4SNw3gsyknS83OVNSWKnmWVv4uKIIihZBdi5nrH1GsrZKQeL1I4vbvSjVOuqlpXk7cag+reESKJpP9Nk1KibvSiOLk1nlul7uZbz53D6zG0XE5y5cXfBz4qXs7+v+yrNhvy3F0cuPY41J5prjAFr87JadMNbH4OfkRmxWEx8ZQowMIVehiUdyKnVuh6tROQX/K+xOOFlnpFMeZ1OxTZhbOXYtXpcWSkKVBkfqAK6cDWN7/PVrNuFDyGcJzztq345Ovf2GRaxBG1nyVj+o689pZ4Xi7RIr0iMLSqYMMs0FbSTf8VBY1tx3aIzMfwvYCX9Gc3Qz7YByHSutlMZ+2DGrJgE1xerEjCiRvj0CDEFdwanILLJeFlyzbCvZmVt1wYKa/8a24cu8cwm9fAIt6tuaXipR5aZTXmd+mLt3dHhcKMuW56bRqPZtgI1lUFVTX52HxTg/WG6a9C/Kszn+Xc6dURdbWE8tuxYXc20FpcasTZ+KAxqaoQououb+iIzJ5bzbEC+J4ZSPWoki1OWBs4FRE3t7hmMmt2ZhYrP6YyfnKNw1BE42rKDDr2hwoMWDTtSeicO69IV78lsfe4WbIrTdSFMQwMcyv8NW+DJokws6c4tQpw+f0TeK1L10pcavddaZdfSumehU/UEf8+J5ENxYTB2AbreW6uBRPkfLMVFrI2+FQMC0mxtmli5x3i73b+QdsqCumcZPhHdHErqdnCXFbSRoKUZIUEoDfBnt6NZbTxaVgp4PKxK2G2C2DaDlgE/pJB3HQ4O1BoCFTdSdaWi6j5CRYBW2p6gYOM/2ND8Jy73DIbx8Bi3rS+pdSbZWExGtEErd/W96ek25e2i1BiyKIqR9+wowKxIoqK52sCkWIQE7Cfe6EhxNe+All56SBzDocVuy3cO7cfUhyxf2yAQ0PfTzYvmcDO54YVyVa0fKfd8dS2JfpxO1n/GvyqVLi9hP90cs6BNKve2M7YjRzvQ5zIzqBw5Nb0srYvscZAXz/r/exXn+/3M5EmZVVZsGi8vIcuo3/3fjBHqK4XdFRRsOxASU68xJknWByy3dot/BakfjI3cuI90ZzsNRNmrgN9DYfjL9hVwohYRvr96frxakmjg29GzO4hFiteG/mSs/VF9LwHWRRLXGrujEfizpfFrOoiiJgmSXNfjhc1se2iiiOT6Jpi6mcKYiGNl+tzOnrWSSgC9Au3Grbw5W3bWe00uJWHb6M9qK47OeTXCL/0/0HYiYTr3ukeTXiVhwALWsvQ97Pp6TLSro/A81korh7JH6pRBjmneTX7lZYWRk+XadzUPt7KXGrDJpGizp98S5vO7ZXIG4L0vgi4lYZc4RFY8fjeDSaPMU5prc0q7q41b1f5rrZFV1oQgLb1u8nXfdFQ9yG3jQeXFKsVtiWiuJ26Qy/CmYYBNJ8B2EhiVuJN4gkbiVqnFchbrWWlfbvj+GgsdZbeM61nW747F7Jt/2dKJjZrxovv1tC1t7Z9Jm3v9zG/kXErfB0O0Pf/5yfzxRMCyo4bduCj8XOOD/pHhEFW5cJ6Zxfv5pDV7dj8+mXzLtUtLOyFnXSGVZMnY33oSPsWPUTA77bovP904Z3fu4oVt0tL7PyOPFjM8x6exKve1Q2DwL3sONQqEEMZ3P513a818WJG8XnM5VnmPrJ1/iXMvdqtwzr8FGRyMsM8MDPMBhQ3nbE6tMJHDao7KrszVwT4jb/0DjMP/iREwWFIooAr77mfLUlGXVyCDceV7+OKP//7d0JUBPnHzdwORK8RW3/aj1rKx5VEfA+ilTbeitWtFqwVbRaBbF4K4d4IYigouKFqGjVqnihOAqeqAgMiKLgyD0c6iDwcrxJ3mTn+z6bBAiQcKgo0t9nJjMkIZt9NrvPfvfZZ5+99ie69CttFSu6vQQ9ui/CdTXrsejyXHSZ6FvnhgOr0C0hxx9T9XXw5cx/VcbxliF+yyDo8UGeLb8PEm7ZkvCfqg+dL2fiX5XVWha/BYP02mMe/0XVbvUsp9xNcqTRjjAUNMUo7+QyBx3ShCAE8XXDpwy30mi49G9WegGivFtCDcKtNAqORp3Y8irZ+ODhoxyGThwBR5OusDyrvJCxOnUphVvyGaBwS2rd+4dbGZI8RqDFKMUFFeXJXpzDydAClvMOY1I3a9RsUIb3D7f5R3/HLH/Nw6xJHq5Az5YWOKUSbkMWd0W7Py6phNvzsGrzNRYpwy0fdNo2noDDxTt1WSK8R+uj45/XkHdzD3zkaakQj/fYYWMIv0vj8PqSNQy6zsTJ4j2kNAau3xvDNkTR7pjrPxXd5l5W7JxlSTh37IZyuDr1xBHO6N96MDY9KULSKU8ciS2EJOEo9gYkI9xzInoPX4GrGapRgOFbicxMSnf2xUR3YW9oiq3yK2RECPbaId9xcm+CscLMDCuvK1tx2W+tdmxmSRZiH95HaGio/HHn4B+YtuoS7imfh96PQILqGQpN4ZbLxIUVk/GLS3CFsvMtkkYGNril/EjeAwcMaGEIhygxkg+4wk/TMF3yaZpjpscD5QuluAwfjDNeoehbLI7CxpH9YRP0VllWVSwQ+IxFH/tQja3Vnwof+lsITOBSso0U4KZdd+i1nICDxesaOxDY/WM7DN3yWD7/XKoXTIUNMflo5W3e+XyfWxb8dhRPJ+cgxrJwO2qPopWx4KYduuu1xISDacplphh9ot3QLXgsX1D58v6qQrMdJcEw5+BYNs1R2FPZ2NXlb5KTGox1hkLofGGKVaceIS2/EOkP9sN2gTfk3ba5VHiZCtFw8tEyrfiiQGu0Y+F2Tbhy2cieK6b765mSEFzoPwWNhKWtwrIXfLeOpvjln+L/qKIMeSzwN9JBl/lX5eE1P8YVI5sKYOgYBbGMvc9lYc8oFm7HHVI52FAlwl17Q5hujZMHWlGwF3YoNj4ErzCD2crrylZcft7U1aUSZMU+xP3ibe3OQfwxbRUu3VM+D72PiIRclXWawi359Cjcklr3/uG2COd+a4fBm2OVLRXqFV2ai27mR1Cz0XzfN9xK8cTNAYfVntvnkHndE3bmhmjV7BuM/tMJp54mItDNFhO/00dzg7FYtDEAcc/PYsNfbGfQXB/fTbKF2+UUyArCseOXATBbtA+Xgy/j2E5vnDu1FoP6TcEKpwO4dNEN88Ybok2TTrA4xv6ffVd6wHx817wRWveehEUuZ/Dktj169lqG+/IQIEbQnz0wxa8mS0eKpLNLMfr7afh1rhNuJL1A2MV1GG8yBot33UEGv8iK8pFfZtFJEb52AMYXnwJVURDlg4WWS+B50hfLl7jgxCF3rLJzwokn5S4kkys7NjOXG42AA/vg4+Mjf+xZPR5mVu4lz332+SE4UWVGNIVbFmo8f2iLNl/PxcnyuYtLx7lFE2C9+yICDm6B895T8DQfDmufw9jsGVQSACqQxsLD7Evo912lfEFVDm6s/A3L/C/AZ9kcLD/9UkN45YdQM8IfF1R7l35qMqQ/PAGX8R2go9UExvP3IiBc2RVB9Bz+C4ej19DZ2LBnH7bZzcSvjoFIYxso9yoMR5aOQGttHbQdvQZHbieWHsSpkCQHY8tENm2ddhiz/iJiXycgyOlHtNHRQbsxLriWyP92Ijz3X4jhvYZi9oY92LfNDjN/dUQg/0VsSSYHb8HEDjrQaTcG6y/G4nVCEJx+bKOYpss1yCehVsWb5BRE7MRUg+bQ1dKClnYTdB3jhCC+eZKtS2FHlmJEa23otB2NNUduI5EVSJR0G3tn94BAWx/Dl51AeEYWIk8ux4iW7P86m8PtahxexQdh65TObH7asvm5iMioWzhsNwT6bNl0nLQJ52Oyqi5DUSr8Z3aGnnZTdDD+CdYex+E8sikErftihvc13D6yAiO/ZN/Zfjxc/o1Ulq+cgij4LLTEEs+T8F2+BC4nDsF9lR2cTjwpdyGZQpm6lMtFdMAB7Cve1vasxngzK7gXP/fZB7/gREWrshyFW/LpUbglte5DdEsQvUrHG/WpQEmChysMYbZdecFStbFwu2z6u4dbLgXefznW2t3XuKIsvHiejBzl7MlYmCys5qzyp8S/meiraM0R34N97xFwi3uOgLMRGgKWBqJXeH7/Ck4dO45zl50xZkzx6dMC3N20AefKnQuVPnHBD9OOqO/Ly8JK1m0n2HvE4G1l5ahibOb365bAIcNvL86obVSUIjflGeKzlOuqLBcpLzPKnIpWT4Lww4eVf5dXiIz4FyiepFqiENiaLkRQXcq21SHJQUpCOvJrttG9AwlyUhKQ/kG/SN1Nctjvn/oCia+LNK9bn0QRXiUmI1u54XL56UhIL6jxPIqybsPJ3gMxlW98ldel1C2BfAYo3JJapwi3bd8r3FZJlgB3UzWnw6vE4e3jMDx/11Dx5gjmzD/zzhcc1aqiR3Cb/Se8/j2LI7vdsMBsLJbv88ThB1VHNY3eHsDY5t0wZc162FsMwOAlwRXLzmXinzkW2K7hyqi8s57wqeKqqarGZq4s3EqfX8SubWswuXsbDLbeDK+j91DmDDULvmd3H0fyh8xJspc4duCq8klNcXh90hoWXorTxoTUmryz8PQp7qurQVV1aWXhVvocF3dtw5rJ3dFmsDU2ex3Fvcq6hxBSSyjcklonS3DDUGFLzDr7HqGqCtyrQ5jU17akv+THIr66BH/sS69xC8rHI0F+bqFi/mQFyMl7zyZmySM4GDaElpYuWg9ZhxANnXZliX5YsPh4SR/CUmLc3LFT0QdVI67KsZmrbLnViENWoBt2FN9544PgkBm4E37R77jy5YbAYa4bImrx2I8QnvjmDuysfOOrui6tsuWWkE+Pwi2pfeJgLOosRPdloR/4NJUY1xcZYfr+BzhpMxGzj1Q+YHxtEEXcwG3159/rLS43EVFRiSVdJdTjkH17O1b7RJRr2RUhPlZDv9MajM3M5TxBdMK7BfWC3DyV/oEfRmF+/rute7IknHV2QUAKtdmS2ieKj8VL9Rtf9etSLgdPohPUb8OE1BEUbslHIMVTt+Fo8cUoeD39sPFWlHwHp4+dRnCc6tW6pK4Qs9BX/Z1g3Rmb+eMpQmHtndAgpNqoLiX1CYVb8nFIE3F8tgFadv8Nvk/qZA9VQgghhNQDFG7Jx8O9wUOf+RjyzXeYceCZ8kVCCCGEkA+Hwi356LjcJMQmf8gLegghhBBCFCjcEkII+c/jch/jjLcH3Devw7I1uxCc8mGvDyCEfDwUbgkhhPy3cek4sWIdArP5S6k4vDr/BwwM/sI1dbfvIoTUeRRuCSGE/LdJ7mNF355YWjy4a9EZzPyiF1aG0YBXhHyOKNwSQgghKiSR69CvoxUCcpQvEEI+KxRuCSGkWF4M7j+up+N81ueylSFFQlh42VsuK0kTwhBe1e1gC8LgMuYHrAh6ReO9EvKZonD7ueLy8PLuBZw6HYjwdLpvZ0WFSA2PRGLxNSHiNITdjETWh741VQ0VpoYjsmSmSJ1SGI5d9m64k/N5RJrCpNs46r4Rm7e5Y+smF2zwOIFHrzXcV6paZePwJuwB4j7xNlIj3FtE+HvCw3MTNh97XHI3PPFTHyxxuoJX5YsrfgqfJU64UuENpfxI9v5S7I/KAyfOR/7nvKkWpiI8MrHkrpDitDDcjMz64Hfnq//ESAu7iciPsfOQFSLzWTgePUlDPt208L1QuK0FRc8uwn2uCfS1G0C7lSEmzLCA+ZjhMDYagWnLDuDB+96uVfwE3r/NhnvIbey16Axhe2tcoXxbIu/Jaawe9RV09X7EXuVOrPCUBVrotMPcwE+0oPKe4PTqUfhKVw8/7qUWobonF9eXW2JL1GeQZiSJOL/GHD9abUNwSvH6LEXa1RUY0XsSvGPKr+PVLVsuzmzfi/jPZafKZeGy7SjMPJQAKZeNIxamcI4uDiAyJPtaw/pIaoVtTZbsC2vrI0gt/0ZeBPw2eOOmvGWXw6vjrtj74nNMGHl4cno1Rn2lC70f9yoDfiFOWbSATru5+FRV4Ger8BQsWuig3dxA1OaiEz09DOvv+6B37274sqEuWhrb4HwG7SneFYXb2pJ9AGP0GkBv7AG8Vb5UGOuDyV/poGGvpQh556twObzxN8f/Bm9BHF/vFsbj9s1nrDojqnIPjYOesDTcQpSKh8HhyPxg14dwyLgfihc1OZjPPYRxesI6Hm7foVwquIz7CH3XD39CkggnjJ9/HnW+i2VhFHZOMICRjZpWSRZwoxz7oflQVzxTyWTVLpv4Jrx2PKjB7ZI/JQ6pfuboPn4fUuTLQYxbNgYY4faSxVol0T0sHz0PFysUXIR7y0djnuobsufY/fP/oKurq3xoQ6e1JQI+2yCYi0Pj9CAsCbd8FfgQweGZtfz7vl/9USdwGbgf+kKlhVuE1IfBCP9wO4+KJBHYOnctrr9SrL0F0Vthpi9A9+Wfy/ZY91C4rS35fpgoD7cHVXYqEty27Qod7VawfOdaU4K7S7uh0TB3JHyOjQofSb7fxLLh9gMTP/XCT0aLcKMmDX3ydaJuh9t3Klcx8VN4/WSERe/04U+pEIHzh8EmuI4nGe4VLswzgP7gTYjRsMcTBy9CZz0TrH9SvGuuftmkMd7wvFyofFbH5V2GdZeuWHi9SPmCCBdmt8G3trdVwoAUsRvMMHFfeoXtTRq7AWYT9yG9rm6I7y0ffhPLhtuP4b3qjzpBjKdeP8Fo0Y2S7hwfA5cZjrBElSMCLgVepo3w7dK7FG7fEYXb2qIh3Iat7Ald7S9gdV65syl4jvOea7F43gKscDuFqOI+cVwBkm4dxmbfB8iOOQUXGxt4htzDP5scYWXSDLqdx+BvJ2ds2HerpPIqSriBQx6uWL/KHqu3+CIkqbji51CQdAuHN/viQXYMTrnYwMbzDt5KsvHs+iFs8LqKrNxYBHgsx3zrpdhxK5N9Ih+xF3fCYfF82G4NRHIlR+JczlME7PHErl2bsXqVOy7GF3+vBtIM3Dm0FS7rlmPlem+cConGy9R0vMpnX6Ku3HfeguNy8DRgDzx37cLm1avgfjEeZb9FirTbvtjq7ASnDXtxwXVMmXArzX6KQJ+N8AtXqSo0LXtWrWVFX8Iep/0ILUjFzX0OWDR/CdyvJMsrmqKnh/CrQUNo6w/CHCcXFggSS1uLypGm3YbvVmc4OW3A3guuGFM+3GqcB7a7TgrCgR17cHD/bnjv/Qf3VE5RSbNC4efqDMc1y7HGIwCxeaXv1Xq5REkIOrADew7ux27vvfjnXga4oqc49KsBGmrrY9AcJ7h4Xkai8sMFz8/Dc+1izFuwAm6nolA8O7KcZ7i6byMOh71F7PntWLXwT9hvPYunxR0nNdC8nrMSZkXj0h4n7A8tQOrNfXBYNB9L3K8gubI9hOgK5vWxxNkK3ytCcugFXAhNKXs6UpyDnE+QAfNv/IVvhV9jQSWDr0oerkBPwZf4/aJyjjWWTZUUOQkP8e/fs7Ho6D0k5KusS++N1T3JDxF44TYSarrMithyVpvJOaTs/hEtutrgZnECYWHA8/vG6L0mXKXFjf1Ut2zw3YQDqNATTHwLNt9NwIF37iLGIedpAPZ47sKuzauxyv0iylZ7UmSF+sHV2RFrlq+BR0AsVDdRtgEj1M8Vzo5rsHyNBwJi80rrBFazJdw4BA/X9VhlvxpbfENQuoprqMv5D0vTcNt3K5ydnLBh7wW4jlENt1JkPw2Ez0Y/FFeB1dtWpMi4cwhbXdZh+cr18D4VguiXqUh/lV9mOfM01x+VlUeDSupFNudIvukL9w0u2OCyEbsC7iH48FHcyWXHPM8vY++W9Vi//SJesi+XptyBn+dGrF/vjoD44jnW9NsV4emhX2HQUBv6g+bAycUTl/lKTJqNp4E+2OgXXiZoaq6HKq9nq4N7fRqzB5jj4GfZLaZuoHBbW9SF29zb+Lu3AIKuC3A1j63AGedgY7EMF5NFkL19CKehzdB8kAvC/+8bhB+1xdCW2tAbOAvLbBZi5sBvMdI1EjlvM+A/vSWEJk549Dobb/PYZ9mkc26txVBjK5xMYpsPl4tHbqPRpvUQON3NwZvwo7Ad2hLaegMxa5kNFs4ciG9HbsKV4P2Y20cA3S5jsHS9B3zPsg3e0gDCL37AAofV2HzgDC4eW4Zh+k1htkND0BE/hKNRS/zgzbeOsJ2O9yjo91iOUE2HvbJUNv8GMHN7DgmXh9BVRmio0wr9Z9jC9VKMhnJH4J6jEVr+4C1vaeFSvDFKvweWl3yJCNG7JmO45VG8YC9xuWHYaKoPbWW4laWEYKe1CVpot8D004oKSOOyZ58XvbyBbVO7QEfQC5PtVmKrrz92WRuiSZPhcI+TgRO/xU37nhB2mIuAzLcs6KhP/qLoXZg83BJHFTOFsI2m0NcuDbeVzQMKgmE7YBqOyvdMObhhNwEr7iqqxtx7GzDuZ3sEprHvlURinaEQLUfvlHdTqf1yFSDYdgCmHVWUIeeGHSasuMt+SzHe3rRHT2EHzA3IxFuW/qTsPzLO2cBi2UUki2R4+9AJQ5s1xyCXcPzft+E4YjMUrXUaoveUBVi4bCM2r5gMg8Y6aDVyGx5r2AtoXs/ZBiV6iRvbpqKLjgC9Jtth5VZf+O+yhmGTJhjuHqf5AOSxEwYM31Kur6kUL05vw/57sdg9vidsSlJUNk5Ma4uRninK5x8Jl4kD45pB0GMFHlayhyw6OwutdDthobLpTH3ZikmQcmUTFi5wxMHrD1jw8cLDJ5exxfIXrLzMDliU//XOxC9x8q+JsHS/hmcvbmLXWkuYGljiTHVCrjQSTkYN0XjENuULKmRJ8BrZGG1nn8PboiIU8Y/sk/i1dWOM2V/urEjeMZh/a62mn2kejpl/C+t37IAqfugIo5Y/wFtRIcF7lD56LA9Vtvbl4t6GcfjZPhCKTXQdDIUtMXqnch3MvYcN436GfWAaW8skiFxnCGHL0dgp72eWg1trh8LY6iQUq/gjuI1ug9ZDnHCXpWP1dbkrYgqisWvycFgefcHmgUNu2EaY6msrw60MKSE7YW3SAtotpkNeBVZrW5Eh1X86DMzc8FzCIS90FYwasu2z/wzYugZWaPVWX39UVh7F58qrtF5EIcK2/ACTGX6I43867g0uzmV1mtAMu+QzJMbtJd9A0H4erio3WfHdpejGDvhmX1D81pp/Ow7itzdh31OIDnMDkPk2B4XiFITstIZJC220mH66pEGlsnqoqnq2KkWJF7HOzABD/r5U+UE5qRSF29qiDLe6BlOw2mU91tlZwezbL9Fx+AIcjuGbUfiNsAcGrQlB7LNnePYsFrcdB0Og0wWLQ9hWySpwjxECCCt0PxAhwLIVhINUdlhsR+Bg2BgDNz0v3YFLY7FxgBB6JuvxWCpDkscICITD4F5mYiIEzm0LQc+VJTtMacRa9BHow+JkcevQG+z/WQ9NzI+XXIlcRt5lLDY2wdIgxbvia3+iQ0NTeFW4WkNBFr8Fg/Q64a9gRc3Dpe/GqEaNMPZgtvy5+nLn4fJiY5gsDVLMg/ga/uzQEKZeiotFZC+2s4p8CFxV9uBv9v1cpuVWFu+KwcLicFvFsmfyDk+AnqB0eXGZ3vhB2BiTj/I1shQRa3tD2Gmh5tNvshfYzgL2ENf40t/kzT78XNJyW/k8yJ5txIAWQ7ExWpEEZC8v4UIU+5Gk4VjXrwvmXCr+fTiknbXHtEX+eCn7GOV6xtarFhi6MZrtZvjnL3HpQpS8RYJfd3oLS4MVxLexpMcgrAmJZfPC5if2NhwHC6DTZTHkq3jiNgxn3z3eV/nbs++P3zYCjXW+wtzLxbsRFVWu5+x53mFM0BNgmHuC4n9YKPT+QYjGk49q7JcuOvcb2o0/VHoQysu9CLcd4ZBIHmF1n6/w+0Xl/IguY077brC7U3avI43ZD5sNQcpntSDnKKY000Xnv4LZmqOJ4syQoPEY7FMOd6W2bHIsvB+2wIApe/GMn6DoBjw8Ff37uLRdGP3NXJSsYnJSxOy3wYagilNSi8vC2d+7oY9tCIt68heQuXsUmhivR0mPCRUVl18+Io84w+XkU+VzFTlHMLlZUxjOWIHVq1fLHyum9UEjgRGc5CuBCvFNLDb4Cbszy9dHYtxcbICfdmcqn9dM3uXFMDZZCkW1J8a1PzugoamX/CI1afg69Osyp3T5cWk4az8Ni/z5/sBShK/rhy5zLrESFr99FvbTFsH/JXs30gGGjQdi0/OSNZyt4qwuEOrBZP1j9ml1dbkML7azA+chrioHMW+wj9XbpS23MsS7DoawONzyqtpWZPHYMkgPnYrXOS4du0c1QqOxB9khnjoV64+qy1Ne5XWYNMYF/fW/h4fKfozvgtawJNxKEe3UD0KVcCt94gxjYWm4rey3Y5UY1vYWotNClW4JbDm4DhaWhttq1EOV17OaFTw7B9elszGmdyvoagnQ2epftUPakapRuK0tynArHO6I63fv4t7DKMS/KpSHMTkWUtb0bgqTeV7w9vZWeezFJX5vwyrEnWasomGhsuxuvmK4lQc3QWOYH1dtEpHiibMxqwS/x/ZkKdJ2mkHY2BzHy0xMjKvz2kPYey0ilLWMPHwKVfsEF+G4eWMIzXZV3j9NnI4Hp3yw3WYEWgoHYYv6piJW0ayHiaApJvi+Ubwgvo4FHZthwmHlZXcay80TI/3BKfhst8GIlkIM2sIHRw7Jnt+jYdu5uKzSCFO+z60iSCnDbVXLnik8Ool93gw705SFLtNftuoQyCV74vuGbVlIKzNTpdOoah7Ekdg0pDl0mveAucslJCgXhjTake0sTOGpuIqmrI9QLv43iNw0BM11mqOHuQsuFc8YUz7cSsPXoHdTE8zzUp0X9th7SR6ouOTtGCFsBotTpdOQJXlghECAgZufK18pVfV6zspUeBSTWHnMdqYpt7Wq+x7y68r/ZvxbZn3j3sbheYYMklB79OjwOy4ok4gkbBW+a/sbzpU70uOyHuFGxGvls4pkiZfh4eQIBweHSh6OWO9zS/34rDFOMBLo4ef9yu1GHX7H3EcA/fEHS7ZVdWXjyRL34OcOo7ErSbGdSiN3wCNQuVzlAd4Q6yJVoweHrEc3EFHN0/ji0GXo0Xgo3EpOq4pxfUEXdFui2ie2VFXLTxX/mxg0GoZtxf1e5OttHzTs64Co8mlJEoZVhkPKhCsFdiCwyhBDWEB5H+L0Bzjlsx02I1oq62QWrhwN0djUU3mhWznSaDiyYGTqmaJcP1UpAqiAr6fLrOJP4GzMDvi/345kjh3Mlq/LuWR4ft8QbedeVuk+U369lyFx2/Cy4baqbYV973oTAZpO8GVRmcf/hh3RbMLhkoukyypff1SnPMrXilVahxUihm3rep0XyQ+OixX5m6NRDcJtsYq/HXtRbbhNxLbhpeG2OvVQ5fVsNUhT8M/MztBt+AO8i6dBaoTCbW1RhtuyfW5ViIMwv31DjNxRcagauRqEW2nkOvQRCPGDd9lTiW/2/cSOHlnQjPt/HyDc7oT6bUyMhHMrMX2mIwLiCyG6vgAd9DSHW8gS4GveES36r8adtzIURjhjpIkNrsjv6c5oKLc44RxWTp8Jx4B4FIpYIO6gpwy3Etz72wCC1lYo7sbMqzTcVrXsmfcNgZJ7f8NA0Lq0bzVPdRrVmAfuTSh2zOoDfR1tNOs1G37PxWzW56O9XtmWkBIfoVxy3BuE7piFPvo60G7WC7P9nst3BOXDrXxeG47EDg2t+OrCLYpOYGoTobw1qbyq13O2TN4h3BYcnYwvpp2sEAD5AHR3qQE6Wgcq31MEBP0x+8sGUEku3uSqi2wqRFmIi45CZGRkJY8oPH75Rm34k8awHbSgOaarLqtyci/OQYdGvbHiXulOV33ZZEja/j0rxz5lOTikHNgG/zeKQsmStuP7lmOwT6W1U5L7BlUVsZQE95cZoGE/J0VrOk/Kd59pi9/Udf6tzvJTIbowG21UwgtbOHA20cdIzxesZOVI7mJpz2Flzuoo8L9tTwxzjVc+ryFxAs6tnI6ZjgGILxSx0NcBevI6WYyg+e2hN3AT1G2iim1Ur2yrXwkpItf1YQGJBZoyQ0C9wb6f9CBg04+TqQm3knv420CA1lbnP2y4ZZ9J8DVHxxb9sfrOW8gKI+A80gQ2V7LLbH+lytcf1SmP8qVildZhyjON39pB9cRJjcOtxt+O/+eqw2116qH3DreMvCGokSEcS4a3IzVB4ba2VBVu5Ufw7Kh4lDeSVTdwaQKCgp5qDHnqwi1y/DGVBY0vZ/6rPAXIY0fNWwZBj9/IRWoqRLn3D7fSaBf0b9Yba8IVE5B3S6gs3DKytDNYOccG69ZvxvYDl/FM9fSnunKzZeXSv1npxSLybgnF4VaGuM0DIRAYwzmmtBKovOW2imXPVCsEdtQcAmVxmzFQIICxc4xinnmq06hiHrisSETI35AgPcQVEzsJ0GLyEWSyCs9Y0BD9Xcqe0it68gBR2bVfLv50c2REMlvqbM7SQ+A6sRMELSbjyBv2NfJw27G05ZZvZRY0xShvxf8XkyYEIeipVG245VK8YNqoK2yL7/Gvqsr1nD19h3ArvjoPX4/dp2ydUiF7jk0DW2Pq8eJTidnwm9RSJZhwyL7nCzdvP6z/ZRScwqof0Gqs8CJ+b6uH7z2TFeXKe4rAI4fwb9hr5fNb+Lv3FxjkdJ+VuJT6svFDhhmh07yryh14Dk55+MgvwOHrhAhHE3S1PKu4CIvLxj1fN3j7rccvo5xQvSIW4d8Z+vjf7xdLwhb/u47U/xF7MqTIeHC/+NV3Wn58HdOl3zoUNywX3V6CHt0X4bq6M76iy5jbZSJ8K1TCIlye2wUTK75RDSxAufRHs95roKj2FKe2FQFJiifrjSFo2B8uZbpIFOHJgyjk8a2hxgI07O9SGvx5RU/wICqPreJT2cHsl5j5b+kaziplefeA9uz3ErFlVqEul8Vh80ABBMbOKK0CP0S4ZWRpOLNyDmzWrcfm7QdwuUxlXV7F+qPq8pRTab0YJT9o0mUHzF4qTb5F/lMq75bw2AlGJeG2st+Of1sRbjtWEm6rUw99iHDLZXhjVJtfcOJdVlFC4bbWvNmHn/huCaN2o0J3LzkJwh0MIdT5AqarTuFRWj4K0x9gv+0CePM1FJcKL1MhGk4+Wq6vK7/jaAGBiQtYPlAqwE277tBrOQEHizcmLgW7f2yHoVses2/ikOplCmHDyThaZmLsSNi6HQu3xRs620Sfb8IAoT5+PVNSA8J/SiMIR+6oOOg5k8dCZCOdLpjPXyHHKscY15FoKmBHm1FiyNSVu/AOVg2bBPeINLzJK4Kk/P+oK3ceqxga6aDL/KvyvmD5Ma4Y2VQAQ8coiNmXSJ9swiD2fnvzQ4iX10iFiHBgOxjB4JIWG9kL/lRSU/zyD1+uKpY9k8/3mWKV047i5ZlzEGNZ5TRqTxZbmjI82zQAQv1p+IfNkOhVVskIACXYTmzToEbQaW+OQ4qZQmGEAwumAgyW98OtfB6kjzdh/panrCrmyZDgPgz64w7glSQWW4c1gXbT3vhj7y3EZWYh7poHFjtcYDukj1Gux9g0f0vJuidLcMcw/XE4wPaGsmeKdWea4sPIehUGB0MhdL4wxapTj5CWX4j0B/thu8BbvhNWhNvGGH+ouAefDC89zdDO1APPlNMvq6r1nMnn+xGyHfaO4h12Dg6OZTvsUXs09l3jWyrNTEoP8Erwp0j7diu5mIx7dQIW7QywVHlhH9+v+tzJUBRwb3B4UjdYXynZHdYCFjqd+6P14E14UpSEU55HEFsoQcLRvQhIDofnxN4YvuIqMlQDAaOpbKK79jA03apoORMFw2tHmLyeeBO8AmZmK3G9uBX3xTmcDC0A9+YwJnWzhmoRucwLWDH5F7gEv1Uu62J8i50RDGxuKQNCHh44DEALQwdEiZNxwNVP/mqly4/LxIUV5pjp8UD5QikuwwfjjFfgAf8ziKOwcWR/2ASVnwcF7pUPxvaxR2j53My9gs/YPrCv8EZ15LEQyLbtLvPlFwazCgmuI5tCYOjIyse27NitGNZEG017/4G9t+KQmRWHax6L4XBBcQAZu3UYmmg3Re8/9uJWXCay4q7BY7EDLvCJsuAm7LrroeWEgyWNCVzKbvzYbii2yK+yVFeXs0C9aRCrh9vD/FC8YpkXRsCBhWjB4OJ+uDK84LsINP0F8iqQV+W2Uog7q4ZhknsE0t7koahCZV2emvrj/1RVnvIqr8NEfHcXVod+Y/UPEviCSjJw5a9eEJSEW0X412s0HG5xbPpcLiK9xqOtTgtW9/PBvPLfjpM9w6YBQuhP+4f9pwivsnLYay/gOpgF7l/+UTa4VF0PVV7PqiFKwaM7T1B6g0H2e+2ciJHr7iuubSA1RuG2FhQ9v4zt1so7lDUzwh9ux3Ff3Z1GCiKwc6oBmutqQUtLG026joFTUCY4VvGGHVmKEa21odN2NNYcuY1E/qBTlo6HJ1wwvoMOtJoYY/7eAIQXT1f0HP4Lh6PX0NnYsGcfttnNxK+OgUhj4e9V2BEsHdEa2jptMXrNEdyWT0yEpNt7MbuHANr6w7HsRDgysiJxcvkItNTWQWdzN1yNe4X4oK2Y0lmHzccYuFx8qhhyRoUs1R8zO+uxsNUBxj9Zw+O4szx4tu47A3v4C6DKy7mKpX1bQFurARo0aAAtbV00atUVI/70RxwLROrLnQr/mZ2hx3YIHYx/grXHcTjzFVLrvpixh7+YSYQ4/3kwaaWH5h37YdjPs+Awbzj02w+ExepjeBh9C4fthrDfQwcdJ23C+Zi3mpc9+zpJcjC2TOwAHZ12GLP+ImJfJyDI6Ue00dFBuzEuuJYohiTMCcZNhWhnYg67w4/VVkCiOH/MM2kFveYd0W/Yz5jlMA/D9dtjoMVqHItih+OVzIM0ZgNMu4+Grfc5BAX6Yvl0S+yKVFStksSzsBvWBkK2DLW0m6GHxQ6E8RU1r7bLJY3BBtPuGG3rjXNBgfBdPh2WuyIVlb4kDE7GTSFsZwJzu8N4zD5cELETUw2aQ1eLzY92E3Qd44Qg5dGeItwK8e0oK1jbb4TrutkYb7ERtyrr16lxPWfvSZIRvGUiOsjLsx4XY18jIcgJP7Zh6287tv5eS1RMozwWYtcOGF9yEVYpCZ7unASzP31x5dJRtk33R/P/WSKg/EIpuoS53cxxRP1VNh+ONAlnl47G99N+xVynG0h6EYaL68bDZMxi7LqTIT8QKsovN0STxrIVIMpnISyXeOKk73IscTmBQ+6rYOd0Ak/UNM4VXZqLbuZHylxIJHvmiR/atsHXc0+WHogqcennsGiCNXZfDMDBLc7Ye8oT5sOt4XN4MzyDyrWRq1t+0lh4mH0J/b6rlC+oysGNlb9hmf8F+Cybg+WnX8oDhTqiK/Ng9MeFiusxP0Sa0R+4oG7DrRI/isBMdNZjAbaDMX6y9sBxZ/6gvjX6ztiDKIkEiWftMKyNEFoNtNg+oAcs2MFD8SbK32HurN0wtBFqoQHbRpv1sMCOkg2YX8X9sXB4LwydvQF79m2D3cxf4RiYxr5VU13OfygO/vNM0EqvOTr2G4afZzlg3nB9tB9ogdXHHiLpzmHYDdFnn+uISZvOIyYrsRrbSg6uLu2LFtpsPlldzc+rbqNW6DriT/jzwVENdfWH5vJoUEkdxneJuuk0Em0E2hC2/BpGY+3gu36MSsst+5fMc5jfowkE+h3Rc9BUuPzjglFfdIWp9TaEpEmq/O3CnIzRVNgOJuZ2OPwoFncO22GIPtsndZyETedj5N9RWT1UnXq2PGm4E4wa6aJln6lY7rYDXlud4LTrJjI1LiRSFQq3dYA0NxUvEl+jqJJ9erVJcpCSkP5x70td9AqJydnKHQyH/PQEpBeoL4ws7RJc1vjiUdJzRD24g5DrV3E5wB/b503A3/LzypoU4VViMrKVdSqXn46E9AJFhVdMmoe0+HhksO/m8nORV41l8D7LXvQqCWm5apsYVUiRlxaP+Aw2r1w+ctXMlNp54KSQsueSnBQ8j0tFXoWv4VCYmYCkN/yJyopqr1wcpIoZQ8rzOKSWnzF2gJKUlls2YLFnuakvkPi6qMy8lnZLyEd+RgKSi3/c6vig67kUT1x+wLQjylP8xWQFyCuUsuUch2dJrxG2zhBtpv1T4WIafmxZQ7PtUF6bVetEr57j/pVTOHb8HC47j8GY4tPKBXexacO50hAlp6FsxURZuO1kDw92wKd5TZbg4QpDmG1PqhhIuAz47T1TIdzKSXOR8iweWcrNWpabgpcZxc2GpTQvPwnCDx9W/l1eITLiX5RMWz0RQmxNsTCoYoIVhdjCdGGQ2oPS6ip6lVi6zrJtO52tj2WqPa4QmQlJeCNSu+TZ25lISHoDDW/Lt/2E9HzNIVANaV4a4uMz2Hywejg3r0afrUCWhksua+D7KAnPox7gTsh1XL0cAP/t8zDhbzVdCpQ01R81LU9ldZg0JxVJrxT1Sdk+t0p8/fAyBTn8bLDtOL+w7EQq/+1EeJWUhiqrdt4HrIdEWbF4EBqGZ2wZVeerSeUo3JKPh0vFvrHtMNG3fDzgkH1pG/ZWuNSZ1GdqLyj7RLjMfzDHYntpP3a2ru4fp4+WM07LAxCXfR5z+pjCNap8qwvfZcQUJmsjPskO6e2BsWjebQrWrLeHxYDBWBJcMWZWKFsZeTjr6aPhPSVZAtxNTbC2Qr8NNu1XZ7H7eNk+1TVTyfKTvcSxA1eVT2qOe30S1hZeFS9a4l7jpLUFvCq8QUpxSN03Fu0m+lY4mOOyL2Hb3qg6E8DUhlvyn0fhlnw8XBqOmLeBsM1AWK7ZBp9Dvti/ayvW2tlg3dEo9a0/pN5SDAvXEGMqG97qo5Eh0W8BFh9XtoJyWThhMwd7n+YjJ+4iNlhOx7oram5swL3CoUl91V8A9xFIHjnAsKEWtHRbY8i6kArdhhTKlU2V+CZ27Kz8/vXcq0OY1NcWFYrIllGg2w7cKdtUXDMalx+HzMCd8It+1+WaixCHuXCLqNi+mBvigLluERpbHgmPQ9oRc7QRtsFAyzXY5nMIvvt3YetaO9isO4qoOlNZK4aCFKqMKUsIj8It+bjEqbjrtwn2C+bC2nYttvqcxaPMTxMMyKfDZd6Hn/Mi/D57NubYbYbv9bhPf3DDZeP29tXwiVDOScFLhPxzGMcC7uJlbtlYKL6+CEbT9+PBSRtMnH2k3I1WPiYOuYlRiErMqbwlrXzZioniEftSXbQV4/oiI0zf/wAnbSZi9hHlQP9lFCC3Yn+ZaqnO8ivMr9kp+VIyJJ11hktASoXPy5LOwtklACmf7Pf6nIiRetcPm+wXYK61LdZu9cHZR5nKiwTrAC4XTy7swtoFs2E1ew7s3C4h7n36mZB6hcItIYSUECM/vxp9f0XJuHP6GE4Hx6Fc7q3Dqlk2JVHyHZw+dhrBcbkVW3zfVy0vv6JCDV1digqVV7wTQuozCreEEEIIIaTeoHD7AXBZMbgZHIxg/hESirgKg4OqyseL637w3LwJ7vsuIDqbzo8RQgghhHwoFG4/AO5NLII8pqC9TgM00OmMv4I19UrKRciyvmii0xqT9z+Cz8QW0DNYjGvvc0EGIYQQQggpQeH2A5Hf3lVQRbjNPQ7z5lpoIOiLdY8i4GwshFbzsdhPQ5gQQgghhHwQFG4/kOqEW1mCG4by/yMwhEOUFNLsl3iaXNm9ugkhhBBCSE38R8Mth+ywA1hmaYl5NvMxa9ZyHHvKD5EjRexxe1hNNYe5+TTYHonCo4NLYD7CCEams7AlRPW+0HmIkL9nDBOz3+F2fJ0iuGoIt1zWeawe+x1aarP/0dZHr9Hm+GPnI/n4kpKU6/BYbIXfFyzBgtmWWOQehGT5Rc0cMq9vgbXFVDY/U2HlGYqkQBfMHGmCgRZeCKfLfgkhhBBCyvhPhltx5GYMbaGDVtNPIgdFuL6wMwRfToIvP/ihNAbOxgI0aKCNL/rPwCqvY/Cx7i2/j79Oe2sEysfRk+CxuykLqlpoYrIU5yMf4uTSQdDng6umlltZEV7fXIbe8pbb72Afko7XeWLIkv0xo7MAgl4r8ZB9TPxgBXoKBOg0w185FmMujk5uKr9HeeNeIzDebAA66WmhgW4vrHpU/WF9CCGEEEL+C/6D4TYXp3/9AtoNBOi/IRYycEjh73CiJcQIjyQWQl/CbSgfbnXwtc0t+YDVklB7GOjyobQ/Nj5jiTM/AFZttNFAqxF+3Jspb82VJbhjWBXdEqTRTuin0i2Bvz/6FesO0GFButWss4rxF4vOYGZLNm02nYXX+VdEODNTn4XbBhAYOiBKKkVS4DY4bgtEMg20QAghhBBSxn8v3EruYum3uvLw2mbAVFhZWWGGWXd82eoL9LS9rhJuddFt6V1Ft4GwVeglD7dGcHosheT+MnTnn2t/BesriiBbnT63FcKt5B7+NlDMS+e/ghV3fhHfwMJOOvLv/271I/ZCabjVG3eIRXNCCCGEEKLJfy/ciq/hzw58eCxtmS2jGuFWHDRfOexXJyy88R7hViXIfmt3R3F/d/Et2HZVzF9X21vsBZVwO96Xwi0hhBBCSCX+e+FW9gJbhwjkfVgbme1AssooXBzHnlQj3MqebUR/PqRq6WPGacXNrN8p3HLp2D26EZsXHbT/85qy5fYKrL9i4VarCcbsz2QvULglhBBCCKmu/2CfWxkSvEfLL/7SEnTBjAPRyC7IQrivLay9otnb8XAdrAi33yxRtKZKHq5AD3m47QenaBZKpbFwHdJYHkq/XnAN+WyaacctFK252m0x57L6YQykkQ7oy4db/mKwMH7KHLIvzEFnXRa0f/JBFsvWXMZujNLTguDreQjM4T9VhH9ntJCHWyH7n9f8S4QQQgghRK3/YLhlpMk4YzMIXwq0WIjVgrbwfxiy9AJSZVLEHvsdhs215a8Lu/2CA5FPcNyyJxpqsVCq1RRG807jhQwQPfeDVc8m0Ba0gsGA7zHF9jeYCAVo3q4bBk51wpW0cld75T7Enhm90Eg+HQG+HrcS++/wF6PlI2L3LPRp1xeWHgex7bc+aGdoiX3R/NBkHDKuOeGHdnw3hQbQbt4Pv229SheSEUIIIYRo8N8Mt0rSvBQ8fhiGpxmKrgU1xhUg9fEDPHr5FlJZNtIzCuQjJ7wTaR5SYsLxOCUP/DgKhBBCCCGk5v7T4ZYQQgghhNQvFG4JIYQQQki9QeGWEEIIIYTUGxRuCSGEEEJIvUHhlhBCCCGE1Bv1PtxyWTG4GRyMYP4REoq4nMrGM8jHi+t+8Ny8Ce77LiA6m8bcIoQQQgj5nNT/cPsmFkEeU5S3y9V89zAgFyHL+qKJTmtM3v8IPhNbQM9gMa7lKd8mhBBCCCF13n+iW0J1bo2L3OMwb66FBoK+WPcoAs7GQmg1H4v96e88ci0hhBBCCPnIKNwqyRLcMJT/H4EhHKKkkGa/xNPkfOW7hBBCCCHkc1AHwy2H7LADWGZpiXk28zFr1nIce8rfilaK2OP2sJpqDnPzabA9EoVHB5fAfIQRjExnYUtIlsrdwfIQIX/PGCZmv8Pt+DpFcNUQbrms81g99ju01Gb/o62PXqPN8cfOR5Cw9yQp1+Gx2Aq/L1iCBbMtscg9CMn8G+zbMq9vgbXFVDY/U2HlGYqkQBfMHGmCgRZeCC/i/4cQQgghhHxMdS7ciiM3Y2gLHbSafhI5KML1hZ0h+HISfFNkLN/GwNlYgAYNtPFF/xlY5XUMPta9IdRqAJ321giU30VXgsfupiyoaqGJyVKcj3yIk0sHQZ8PrppabmVFeH1zGXrLW26/g31IOl7niSFL9seMzgIIeq3EQ/Yx8YMV6CkQoNMMf/Czw/fTPTq5KbQaaKFxrxEYbzYAnfS00EC3F1Y9kidgQgghhBDyEdWxcJuL079+Ae0GAvTfEAsZOKR4fs/CqxAjPJJYCH0Jt6F8uNXB1za3wMdUSag9DHT5UNofG5+xxJkfAKs22mig1Qg/7s2Ut+bKEtwxrIpuCdJoJ/RT6ZYAFOKKdQfosCDdatZZFrOZojOY2ZJNm01n4XX+FRHOzNRn4bYBBIYOiJJKkRS4DY7bApFMAy0QQgghhHx0dSvcSu5i6be68vDaZsBUWFlZYYZZd3zZ6gv0tL2uEm510W3pXUW3gbBV6CUPt0ZweiyF5P4ydOefa38F6yuKIFudPrcVwq3kHv42UMxL57+C5UEa4htY2ElH/v3frX7EXigNt3rjDrFoTgghhBBCPqW6FW7F1/BnBz48lrbMllGNcCsOmq8c9qsTFt54j3CrEmS/tbsj/y6Ib8G2q2L+utreYi+ohNvxvhRuCSGEEEI+sboVbmUvsHWIQN6HtZHZDiSrjMLFcexJNcKt7NlG9OdDqpY+ZpyWd8J9t3DLpWP36EZsXnTQ/s9rypbbK7D+ioVbrSYYsz+TvUDhlhBCCCGkLqljfW5lSPAeLb/4S0vQBTMORCO7IAvhvraw9opmb8fDdbAi3H6zRNGaKnm4Aj3k4bYfnKJZKJXGwnVIY3ko/XrBNeSzaaYdt1C05mq3xZzL6ocxkEY6oC8fbvmLwcL4KXPIvjAHnXVZ0P7JB1ksW3MZuzFKTwuCr+chMIf/VBH+ndFCHm6F7H9e8y8RQgghhJBPpo6FW0aajDM2g/ClQIuFWC1oC/+HIUsvIFUmReyx32HYXFv+urDbLzgQ+QTHLXuioRYLpVpNYTTvNF7IANFzP1j1bAJtQSsYDPgeU2x/g4lQgObtumHgVCdcSSt3tVfuQ+yZ0QuN5NMR4OtxK7H/Dn8xWj4ids9Cn3Z9YelxENt+64N2hpbYF80PTcYh45oTfmjHd1NoAO3m/fDb1qt0IRkhhBBCyCdU98KtkjQvBY8fhuFphqJrQY1xBUh9/ACPXr6FVJaN9IwC+cgJ70Sah5SYcDxOyQM/jgIhhBBCCKmb6my4JYQQQgghpKYo3BJCCCGEkHqDwi0hhBBCCKk3KNwSQgghhJB6g8ItIYQQQgipNz5ouI2OjkZoaCg96EEPetCDHvSgBz3o8U4PPk++jw8abq2srDB06FB60IMe9KAHPehBD3rQ450es2fPVibLd0PdEgghhBBCSL1B4ZYQQgghhNQbFG4JIYQQQki9QeGWEEIIIYTUGxRuCSGEEEJIvUHhlhBCCCGE1BsUbgkhhBBCSL1B4ZYQQgghhNQbFG4JIYQQQki9QeGWEEIIIYTUGxRuCSGEEEJIvUHhlhBCCCGE1BsUbgkhhBBCSD0B/H9gA3MuhjJXkAAAAABJRU5ErkJggg==)"
      ],
      "metadata": {
        "id": "tcO9KnVUWHQT"
      },
      "id": "tcO9KnVUWHQT"
    },
    {
      "cell_type": "markdown",
      "source": [
        "*Note: The intial idea, libraries, optimal hyperparameters are taken from PyTorch Tutorial (see references), however the code is implemented based on my explanation and interpretation of the algorithm displayed above.*"
      ],
      "metadata": {
        "id": "exVJ-ztxB8TK"
      },
      "id": "exVJ-ztxB8TK"
    },
    {
      "cell_type": "markdown",
      "source": [
        "#### Importing Dependencies"
      ],
      "metadata": {
        "id": "V2x5M0fwWWRa"
      },
      "id": "V2x5M0fwWWRa"
    },
    {
      "cell_type": "code",
      "source": [
        "import torch\n",
        "import torch.nn as nn\n",
        "import torch.optim as optim\n",
        "from collections import deque"
      ],
      "metadata": {
        "id": "h7BjOhfQV2VT"
      },
      "id": "h7BjOhfQV2VT",
      "execution_count": null,
      "outputs": []
    },
    {
      "cell_type": "markdown",
      "source": [
        "#### DQN Class\n",
        "\n",
        "- Intialize the NN with the input being a 4-dimensional observation (cart position, cart velocity, pole angle, pole angular velocity) and output 2 Q-Values (left, right).\n",
        "- `nn.Sequential` contains the layers of the NN in order: Input → \"Blackbox\" replacing Q table used in Q-Learning (Hidden Layers) → Output.\n",
        "- The `forward()` method returns Q(s, :), i.e., a Q-value for each action given a state s.\n",
        "- The hidden layer applies a `Linear()` transformation followed by a `ReLU()` activation, enabling the network to model complex non-linear mappings between states and Q-values.\n",
        "- In the code when `agent(observation_tensor)` is called `forward()` is executed implicitly."
      ],
      "metadata": {
        "id": "aNO2tJVXV9Aa"
      },
      "id": "aNO2tJVXV9Aa"
    },
    {
      "cell_type": "code",
      "source": [
        "class DQN(nn.Module):\n",
        "  def __init__(self, observation_dimension, action_dimension):\n",
        "    super(DQN, self).__init__()\n",
        "    self.model = nn.Sequential (\n",
        "      nn.Linear(observation_dimension, 128),\n",
        "      nn.ReLU(),\n",
        "      nn.Linear(128, 128),\n",
        "      nn.ReLU(),\n",
        "      nn.Linear(128, action_dimension))\n",
        "  def forward(self, x):\n",
        "    return self.model(x)"
      ],
      "metadata": {
        "id": "Z4DHiXhTV7Yz"
      },
      "id": "Z4DHiXhTV7Yz",
      "execution_count": null,
      "outputs": []
    },
    {
      "cell_type": "markdown",
      "source": [
        "#### Implementation & Training of DQN Agent"
      ],
      "metadata": {
        "id": "BE-SmZQljHfO"
      },
      "id": "BE-SmZQljHfO"
    },
    {
      "cell_type": "markdown",
      "source": [
        "##### Hyperparameters\n",
        "\n",
        "- `EPISODE_CNT` Total number of episodes to train the agent\n",
        "- `GAMMA` Discount factor for future rewards\n",
        "- `LR` Learning rate for optimizer\n",
        "- `EPSILON` Initial exploration rate (90% random at start)\n",
        "- `EPSILON_DECAY` Rate at which epsilon decays per episode\n",
        "- `EPSILON_MIN` Minimum exploration rate (ensures continued exploration)\n",
        "- `TRANSITION_SIZE` Transition size required for training\n",
        "- `MEMORY_LIMIT` Maximum size of replay memory (older transitions get removed)"
      ],
      "metadata": {
        "id": "kMV-Tgycth74"
      },
      "id": "kMV-Tgycth74"
    },
    {
      "cell_type": "code",
      "source": [
        "EPISODE_CNT = 600\n",
        "GAMMA = 0.99\n",
        "LR = 1e-4\n",
        "EPSILON = 0.9\n",
        "EPSILON_DECAY = 0.999\n",
        "EPSILON_MIN = 0.01\n",
        "TRANSITION_SIZE = 128\n",
        "MEMORY_LIMIT = 10000"
      ],
      "metadata": {
        "id": "12MCwZRIthVD"
      },
      "id": "12MCwZRIthVD",
      "execution_count": null,
      "outputs": []
    },
    {
      "cell_type": "markdown",
      "source": [
        "##### DQN Agent Setup\n",
        "\n",
        "- Building a neural network with:\n",
        "  - `observation_dimension` input Layer: 4 neurons (1 for each observation value)\n",
        "  - `action_dimension` output Layer: 2 neurons (2 Q-values for left, right)\n",
        "- `agent` instantiation\n",
        "- `optimizer` instantiation\n",
        "- `memory` collection for storing transitions (replay memory)\n",
        "- `loss_fn` MSE between TD target and predicted Q-Values"
      ],
      "metadata": {
        "id": "oH_GTiyi2qtu"
      },
      "id": "oH_GTiyi2qtu"
    },
    {
      "cell_type": "code",
      "source": [
        "observation = env.reset()\n",
        "observation_dimension = 4\n",
        "action_dimension = 2\n",
        "agent = DQN(observation_dimension, action_dimension)\n",
        "optimizer = torch.optim.Adam(agent.parameters(), lr = LR)\n",
        "memory = deque(maxlen=MEMORY_LIMIT)\n",
        "loss_fn = nn.MSELoss()"
      ],
      "metadata": {
        "id": "ZF07hz19tz-a"
      },
      "id": "ZF07hz19tz-a",
      "execution_count": null,
      "outputs": []
    },
    {
      "cell_type": "markdown",
      "source": [
        "##### Epsilon-Greedy Action Selection\n",
        "\n",
        "- Exploration Step\n",
        "  - With probability `EPSILON`, take a random action\n",
        "  - Encourages exploring the environment early in training\n",
        "- Exploitation Step\n",
        "  - Use the trained DQN to select the best action\n",
        "  - `observation_tensor` observation array converted into a PyTorch Tensor so it can be input into the DQN model.\n",
        "  - `q_values` estimating Q-Values for all actions\n",
        "  - `action` picking the action with the highest Q-value"
      ],
      "metadata": {
        "id": "nXedv1yeuWbj"
      },
      "id": "nXedv1yeuWbj"
    },
    {
      "cell_type": "code",
      "source": [
        "def select_action(observation, EPSILON):\n",
        "  if random.random() < EPSILON:\n",
        "    action = random.randint(0, 1)\n",
        "    return action\n",
        "  with torch.no_grad():\n",
        "    observation_tensor = torch.FloatTensor(observation)\n",
        "    # Get Q-Values learnt in previous training steps\n",
        "    # Q(s[t], a[t])\n",
        "    q_values = agent(observation_tensor)\n",
        "    # Select best action from Q-Values\n",
        "    # PI(s) = argmax Q(s[t], a[t])\n",
        "    action = torch.argmax(q_values).item()\n",
        "    return action"
      ],
      "metadata": {
        "id": "htiYkomJuSIE"
      },
      "id": "htiYkomJuSIE",
      "execution_count": null,
      "outputs": []
    },
    {
      "cell_type": "markdown",
      "source": [
        "##### Prioritized Experience Replay\n",
        "\n",
        "- PER's goal is to sample and replay events according to their importance in enhancing the learning process, presents a priority system.\n",
        "- PER prioritizes each experience according to the size of the TD error instead of randomly selecting all experiences."
      ],
      "metadata": {
        "id": "zQnMM_MKQDmm"
      },
      "id": "zQnMM_MKQDmm"
    },
    {
      "cell_type": "code",
      "source": [
        "def PER_sample(memory, TRANSITION_SIZE):\n",
        "  # Extract priorities from memory\n",
        "  priorities = np.array([transition[5] for transition in memory])\n",
        "  # Probability of choosing a transition has to be a number between 0 and 1 inclusive\n",
        "  probabilities = priorities / priorities.sum()\n",
        "  # Choose 128 (TRANSITION_SIZE) transitions randomly from the memory, prioritizing those with highest priorities\n",
        "  indices = np.random.choice(len(memory), TRANSITION_SIZE, p = probabilities)\n",
        "  transitions = [memory[i] for i in indices]\n",
        "  return transitions, indices"
      ],
      "metadata": {
        "id": "DUnI3FCjYrxo"
      },
      "id": "DUnI3FCjYrxo",
      "execution_count": null,
      "outputs": []
    },
    {
      "cell_type": "markdown",
      "source": [
        "##### Training Loop"
      ],
      "metadata": {
        "id": "KaPnu5kLujwQ"
      },
      "id": "KaPnu5kLujwQ"
    },
    {
      "cell_type": "code",
      "source": [
        "episode_rewards = []\n",
        "\n",
        "for episode in range(EPISODE_CNT):\n",
        "  observation = env.reset()\n",
        "  done = False\n",
        "  cumulative_reward = 0\n",
        "\n",
        "  while not done:\n",
        "    # Select action a[t]\n",
        "    action = select_action(observation, EPSILON)\n",
        "    # Observe next state, reward, done flag\n",
        "    # s[t + 1], r[t], done[t] = s[t], a[t]\n",
        "    next_observation, reward, done, _ = env.step(action)\n",
        "    # Store transition in replay memory\n",
        "    # (s[t], a[t], r[t], s[t + 1], done[t], priority[t]) into D\n",
        "    memory.append((observation, action, reward, next_observation, done, 1.0))\n",
        "\n",
        "    observation = next_observation\n",
        "    cumulative_reward += reward\n",
        "\n",
        "    # Start training if enough transitions are stored in the memory\n",
        "    if len(memory) >= TRANSITION_SIZE:\n",
        "      # Sample previously stored transition data from memory\n",
        "      # Sample transition data count: 128 (TRANSITION_SIZE)\n",
        "      # (s[j], a[j], r[j], s[j + 1], done[j], priority[j]) from D\n",
        "      transitions, indicies = PER_sample(memory, TRANSITION_SIZE)\n",
        "      transition_observations, transition_actions, transition_rewards, transition_next_observations, transition_done_flags, transition_priorities = zip(*transitions)\n",
        "\n",
        "      # Convert into PyTorch Tensors so they can be input into the DQN model\n",
        "      # Tensors with shape: [128]\n",
        "      transition_observations = torch.FloatTensor(transition_observations)\n",
        "      transition_actions = torch.LongTensor(transition_actions)\n",
        "      transition_rewards = torch.FloatTensor(transition_rewards)\n",
        "      transition_next_observations = torch.FloatTensor(transition_next_observations)\n",
        "      transition_done_flags = torch.FloatTensor(transition_done_flags)\n",
        "\n",
        "      # Get the predicted Q-Values\n",
        "      # Select Q-values for the taken actions only, shape: [128]\n",
        "      # Q(s[j], a[j])\n",
        "      predicted_q_values = agent(transition_observations).gather(1, transition_actions.unsqueeze(1)).squeeze(1)\n",
        "\n",
        "      # TD target\n",
        "      # y[j] = r[j] + GAMMA * max(Q(s[j + 1], a[t])\n",
        "      with torch.no_grad():\n",
        "        # V(s[j + 1]) = max(Q(s[j + 1], a[t])\n",
        "        next_q_value = agent(transition_next_observations).max(1)[0]\n",
        "        td_targets = transition_rewards + GAMMA * next_q_value * (1 - transition_done_flags)\n",
        "\n",
        "      # Compute Mean Squared Error loss between predicted Q-values and target TDs\n",
        "      # loss = (y[j] - Q(s[j], a[j]))^2\n",
        "      loss = loss_fn(td_targets, predicted_q_values)\n",
        "      # Apply gradient descent, i.e., minimize loss function\n",
        "      optimizer.zero_grad()\n",
        "      loss.backward()\n",
        "      optimizer.step()\n",
        "\n",
        "      # Compute the TD Errors\n",
        "      # td_errors = (y[j] - Q(s[j], a[j])) + 1e-6 (Prevent 0 priority)\n",
        "      td_errors = torch.abs(td_targets - predicted_q_values).detach().numpy()\n",
        "\n",
        "      # Update priorities in the memory\n",
        "      for index, td_error in zip(indicies, td_errors):\n",
        "        memory[index] = (*memory[index][:5], td_error + 1e-6)\n",
        "\n",
        "  EPSILON = max(EPSILON_MIN, EPSILON * EPSILON_DECAY)\n",
        "  episode_rewards.append(cumulative_reward)\n",
        "  print(f\"(Episode {episode:>3}), (Reward: {cumulative_reward:>5}), (Epsilon: {EPSILON:>4.3f})\")"
      ],
      "metadata": {
        "id": "DKv-Z5MqtbzH",
        "outputId": "195c3985-812b-406a-bbfb-bee4cb7b4f7f",
        "colab": {
          "base_uri": "https://localhost:8080/"
        }
      },
      "id": "DKv-Z5MqtbzH",
      "execution_count": null,
      "outputs": [
        {
          "output_type": "stream",
          "name": "stdout",
          "text": [
            "(Episode   0), (Reward:  32.0), (Epsilon: 0.899)\n",
            "(Episode   1), (Reward:  26.0), (Epsilon: 0.898)\n",
            "(Episode   2), (Reward:  21.0), (Epsilon: 0.897)\n",
            "(Episode   3), (Reward:  16.0), (Epsilon: 0.896)\n",
            "(Episode   4), (Reward:  19.0), (Epsilon: 0.896)\n",
            "(Episode   5), (Reward:  14.0), (Epsilon: 0.895)\n"
          ]
        },
        {
          "output_type": "stream",
          "name": "stderr",
          "text": [
            "<ipython-input-15-3123c1c87996>:31: UserWarning: Creating a tensor from a list of numpy.ndarrays is extremely slow. Please consider converting the list to a single numpy.ndarray with numpy.array() before converting to a tensor. (Triggered internally at /pytorch/torch/csrc/utils/tensor_new.cpp:254.)\n",
            "  transition_observations = torch.FloatTensor(transition_observations)\n"
          ]
        },
        {
          "output_type": "stream",
          "name": "stdout",
          "text": [
            "(Episode   6), (Reward:  34.0), (Epsilon: 0.894)\n",
            "(Episode   7), (Reward:  28.0), (Epsilon: 0.893)\n",
            "(Episode   8), (Reward:  25.0), (Epsilon: 0.892)\n",
            "(Episode   9), (Reward:  21.0), (Epsilon: 0.891)\n",
            "(Episode  10), (Reward:  17.0), (Epsilon: 0.890)\n",
            "(Episode  11), (Reward:  20.0), (Epsilon: 0.889)\n",
            "(Episode  12), (Reward:  11.0), (Epsilon: 0.888)\n",
            "(Episode  13), (Reward:  19.0), (Epsilon: 0.887)\n",
            "(Episode  14), (Reward:  21.0), (Epsilon: 0.887)\n",
            "(Episode  15), (Reward:  36.0), (Epsilon: 0.886)\n",
            "(Episode  16), (Reward:  22.0), (Epsilon: 0.885)\n",
            "(Episode  17), (Reward:  14.0), (Epsilon: 0.884)\n",
            "(Episode  18), (Reward:  16.0), (Epsilon: 0.883)\n",
            "(Episode  19), (Reward:  35.0), (Epsilon: 0.882)\n",
            "(Episode  20), (Reward:  16.0), (Epsilon: 0.881)\n",
            "(Episode  21), (Reward:  17.0), (Epsilon: 0.880)\n",
            "(Episode  22), (Reward:  12.0), (Epsilon: 0.880)\n",
            "(Episode  23), (Reward:  20.0), (Epsilon: 0.879)\n",
            "(Episode  24), (Reward:   9.0), (Epsilon: 0.878)\n",
            "(Episode  25), (Reward:  23.0), (Epsilon: 0.877)\n",
            "(Episode  26), (Reward:  20.0), (Epsilon: 0.876)\n",
            "(Episode  27), (Reward:  13.0), (Epsilon: 0.875)\n",
            "(Episode  28), (Reward:  13.0), (Epsilon: 0.874)\n",
            "(Episode  29), (Reward:  15.0), (Epsilon: 0.873)\n",
            "(Episode  30), (Reward:  46.0), (Epsilon: 0.873)\n",
            "(Episode  31), (Reward:  10.0), (Epsilon: 0.872)\n",
            "(Episode  32), (Reward:  14.0), (Epsilon: 0.871)\n",
            "(Episode  33), (Reward:  38.0), (Epsilon: 0.870)\n",
            "(Episode  34), (Reward:  11.0), (Epsilon: 0.869)\n",
            "(Episode  35), (Reward:  16.0), (Epsilon: 0.868)\n",
            "(Episode  36), (Reward:  28.0), (Epsilon: 0.867)\n",
            "(Episode  37), (Reward:  52.0), (Epsilon: 0.866)\n",
            "(Episode  38), (Reward:  14.0), (Epsilon: 0.866)\n",
            "(Episode  39), (Reward:  28.0), (Epsilon: 0.865)\n",
            "(Episode  40), (Reward:  12.0), (Epsilon: 0.864)\n",
            "(Episode  41), (Reward:  13.0), (Epsilon: 0.863)\n",
            "(Episode  42), (Reward:  30.0), (Epsilon: 0.862)\n",
            "(Episode  43), (Reward:  26.0), (Epsilon: 0.861)\n",
            "(Episode  44), (Reward:  14.0), (Epsilon: 0.860)\n",
            "(Episode  45), (Reward:  18.0), (Epsilon: 0.860)\n",
            "(Episode  46), (Reward:  13.0), (Epsilon: 0.859)\n",
            "(Episode  47), (Reward:  12.0), (Epsilon: 0.858)\n",
            "(Episode  48), (Reward:  13.0), (Epsilon: 0.857)\n",
            "(Episode  49), (Reward:  17.0), (Epsilon: 0.856)\n",
            "(Episode  50), (Reward:  17.0), (Epsilon: 0.855)\n",
            "(Episode  51), (Reward:  29.0), (Epsilon: 0.854)\n",
            "(Episode  52), (Reward:  20.0), (Epsilon: 0.854)\n",
            "(Episode  53), (Reward:  12.0), (Epsilon: 0.853)\n",
            "(Episode  54), (Reward:  20.0), (Epsilon: 0.852)\n",
            "(Episode  55), (Reward:  12.0), (Epsilon: 0.851)\n",
            "(Episode  56), (Reward:  19.0), (Epsilon: 0.850)\n",
            "(Episode  57), (Reward:  16.0), (Epsilon: 0.849)\n",
            "(Episode  58), (Reward:  13.0), (Epsilon: 0.848)\n",
            "(Episode  59), (Reward:  32.0), (Epsilon: 0.848)\n",
            "(Episode  60), (Reward:  41.0), (Epsilon: 0.847)\n",
            "(Episode  61), (Reward:  17.0), (Epsilon: 0.846)\n",
            "(Episode  62), (Reward:  16.0), (Epsilon: 0.845)\n",
            "(Episode  63), (Reward:  22.0), (Epsilon: 0.844)\n",
            "(Episode  64), (Reward:  32.0), (Epsilon: 0.843)\n",
            "(Episode  65), (Reward:  43.0), (Epsilon: 0.842)\n",
            "(Episode  66), (Reward:  16.0), (Epsilon: 0.842)\n",
            "(Episode  67), (Reward:  38.0), (Epsilon: 0.841)\n",
            "(Episode  68), (Reward:  11.0), (Epsilon: 0.840)\n",
            "(Episode  69), (Reward:  15.0), (Epsilon: 0.839)\n",
            "(Episode  70), (Reward:  22.0), (Epsilon: 0.838)\n",
            "(Episode  71), (Reward:  24.0), (Epsilon: 0.837)\n",
            "(Episode  72), (Reward:  21.0), (Epsilon: 0.837)\n",
            "(Episode  73), (Reward:  24.0), (Epsilon: 0.836)\n",
            "(Episode  74), (Reward:  14.0), (Epsilon: 0.835)\n",
            "(Episode  75), (Reward:  26.0), (Epsilon: 0.834)\n",
            "(Episode  76), (Reward:  27.0), (Epsilon: 0.833)\n",
            "(Episode  77), (Reward:  29.0), (Epsilon: 0.832)\n",
            "(Episode  78), (Reward:  12.0), (Epsilon: 0.832)\n",
            "(Episode  79), (Reward:  10.0), (Epsilon: 0.831)\n",
            "(Episode  80), (Reward:  15.0), (Epsilon: 0.830)\n",
            "(Episode  81), (Reward:  18.0), (Epsilon: 0.829)\n",
            "(Episode  82), (Reward:  65.0), (Epsilon: 0.828)\n",
            "(Episode  83), (Reward:  23.0), (Epsilon: 0.827)\n",
            "(Episode  84), (Reward:  55.0), (Epsilon: 0.827)\n",
            "(Episode  85), (Reward:  32.0), (Epsilon: 0.826)\n",
            "(Episode  86), (Reward:  34.0), (Epsilon: 0.825)\n",
            "(Episode  87), (Reward:  46.0), (Epsilon: 0.824)\n",
            "(Episode  88), (Reward:  44.0), (Epsilon: 0.823)\n",
            "(Episode  89), (Reward:  81.0), (Epsilon: 0.823)\n",
            "(Episode  90), (Reward:  16.0), (Epsilon: 0.822)\n",
            "(Episode  91), (Reward:  53.0), (Epsilon: 0.821)\n",
            "(Episode  92), (Reward:  11.0), (Epsilon: 0.820)\n",
            "(Episode  93), (Reward:  45.0), (Epsilon: 0.819)\n",
            "(Episode  94), (Reward:  35.0), (Epsilon: 0.818)\n",
            "(Episode  95), (Reward:  42.0), (Epsilon: 0.818)\n",
            "(Episode  96), (Reward:  14.0), (Epsilon: 0.817)\n",
            "(Episode  97), (Reward:  12.0), (Epsilon: 0.816)\n",
            "(Episode  98), (Reward:  27.0), (Epsilon: 0.815)\n",
            "(Episode  99), (Reward:  20.0), (Epsilon: 0.814)\n",
            "(Episode 100), (Reward:  22.0), (Epsilon: 0.813)\n",
            "(Episode 101), (Reward:  59.0), (Epsilon: 0.813)\n",
            "(Episode 102), (Reward:  33.0), (Epsilon: 0.812)\n",
            "(Episode 103), (Reward:  16.0), (Epsilon: 0.811)\n",
            "(Episode 104), (Reward:  10.0), (Epsilon: 0.810)\n",
            "(Episode 105), (Reward:  94.0), (Epsilon: 0.809)\n",
            "(Episode 106), (Reward:  30.0), (Epsilon: 0.809)\n",
            "(Episode 107), (Reward:  40.0), (Epsilon: 0.808)\n",
            "(Episode 108), (Reward:  24.0), (Epsilon: 0.807)\n",
            "(Episode 109), (Reward:  39.0), (Epsilon: 0.806)\n",
            "(Episode 110), (Reward:  14.0), (Epsilon: 0.805)\n",
            "(Episode 111), (Reward:  60.0), (Epsilon: 0.805)\n",
            "(Episode 112), (Reward:  46.0), (Epsilon: 0.804)\n",
            "(Episode 113), (Reward:  49.0), (Epsilon: 0.803)\n",
            "(Episode 114), (Reward:  31.0), (Epsilon: 0.802)\n",
            "(Episode 115), (Reward:  53.0), (Epsilon: 0.801)\n",
            "(Episode 116), (Reward:  63.0), (Epsilon: 0.801)\n",
            "(Episode 117), (Reward:  40.0), (Epsilon: 0.800)\n",
            "(Episode 118), (Reward:  12.0), (Epsilon: 0.799)\n",
            "(Episode 119), (Reward:  26.0), (Epsilon: 0.798)\n",
            "(Episode 120), (Reward:  43.0), (Epsilon: 0.797)\n",
            "(Episode 121), (Reward:  23.0), (Epsilon: 0.797)\n",
            "(Episode 122), (Reward:  53.0), (Epsilon: 0.796)\n",
            "(Episode 123), (Reward:  69.0), (Epsilon: 0.795)\n",
            "(Episode 124), (Reward:  13.0), (Epsilon: 0.794)\n",
            "(Episode 125), (Reward: 111.0), (Epsilon: 0.793)\n",
            "(Episode 126), (Reward:  10.0), (Epsilon: 0.793)\n",
            "(Episode 127), (Reward:  54.0), (Epsilon: 0.792)\n",
            "(Episode 128), (Reward:  71.0), (Epsilon: 0.791)\n",
            "(Episode 129), (Reward:  14.0), (Epsilon: 0.790)\n",
            "(Episode 130), (Reward:  24.0), (Epsilon: 0.789)\n",
            "(Episode 131), (Reward:  26.0), (Epsilon: 0.789)\n",
            "(Episode 132), (Reward:  22.0), (Epsilon: 0.788)\n",
            "(Episode 133), (Reward:  22.0), (Epsilon: 0.787)\n",
            "(Episode 134), (Reward:  29.0), (Epsilon: 0.786)\n",
            "(Episode 135), (Reward:  20.0), (Epsilon: 0.786)\n",
            "(Episode 136), (Reward:  17.0), (Epsilon: 0.785)\n",
            "(Episode 137), (Reward:  20.0), (Epsilon: 0.784)\n",
            "(Episode 138), (Reward:  32.0), (Epsilon: 0.783)\n",
            "(Episode 139), (Reward:  27.0), (Epsilon: 0.782)\n",
            "(Episode 140), (Reward:  45.0), (Epsilon: 0.782)\n",
            "(Episode 141), (Reward:  78.0), (Epsilon: 0.781)\n",
            "(Episode 142), (Reward:  15.0), (Epsilon: 0.780)\n",
            "(Episode 143), (Reward:  44.0), (Epsilon: 0.779)\n",
            "(Episode 144), (Reward:  24.0), (Epsilon: 0.778)\n",
            "(Episode 145), (Reward:  37.0), (Epsilon: 0.778)\n",
            "(Episode 146), (Reward:  27.0), (Epsilon: 0.777)\n",
            "(Episode 147), (Reward:  48.0), (Epsilon: 0.776)\n",
            "(Episode 148), (Reward: 168.0), (Epsilon: 0.775)\n",
            "(Episode 149), (Reward:  44.0), (Epsilon: 0.775)\n",
            "(Episode 150), (Reward:  26.0), (Epsilon: 0.774)\n",
            "(Episode 151), (Reward:  33.0), (Epsilon: 0.773)\n",
            "(Episode 152), (Reward:  17.0), (Epsilon: 0.772)\n",
            "(Episode 153), (Reward:  66.0), (Epsilon: 0.771)\n",
            "(Episode 154), (Reward:  19.0), (Epsilon: 0.771)\n",
            "(Episode 155), (Reward:  74.0), (Epsilon: 0.770)\n",
            "(Episode 156), (Reward:  17.0), (Epsilon: 0.769)\n",
            "(Episode 157), (Reward:  33.0), (Epsilon: 0.768)\n",
            "(Episode 158), (Reward:  33.0), (Epsilon: 0.768)\n",
            "(Episode 159), (Reward:  59.0), (Epsilon: 0.767)\n",
            "(Episode 160), (Reward:  13.0), (Epsilon: 0.766)\n",
            "(Episode 161), (Reward:  14.0), (Epsilon: 0.765)\n",
            "(Episode 162), (Reward:  70.0), (Epsilon: 0.765)\n",
            "(Episode 163), (Reward:  35.0), (Epsilon: 0.764)\n",
            "(Episode 164), (Reward:  54.0), (Epsilon: 0.763)\n",
            "(Episode 165), (Reward:  57.0), (Epsilon: 0.762)\n",
            "(Episode 166), (Reward:  16.0), (Epsilon: 0.762)\n",
            "(Episode 167), (Reward:  29.0), (Epsilon: 0.761)\n",
            "(Episode 168), (Reward:  50.0), (Epsilon: 0.760)\n",
            "(Episode 169), (Reward:  64.0), (Epsilon: 0.759)\n",
            "(Episode 170), (Reward:  25.0), (Epsilon: 0.758)\n",
            "(Episode 171), (Reward:  56.0), (Epsilon: 0.758)\n",
            "(Episode 172), (Reward:  11.0), (Epsilon: 0.757)\n",
            "(Episode 173), (Reward:  34.0), (Epsilon: 0.756)\n",
            "(Episode 174), (Reward: 154.0), (Epsilon: 0.755)\n",
            "(Episode 175), (Reward:  45.0), (Epsilon: 0.755)\n",
            "(Episode 176), (Reward:  41.0), (Epsilon: 0.754)\n",
            "(Episode 177), (Reward:  22.0), (Epsilon: 0.753)\n",
            "(Episode 178), (Reward:  18.0), (Epsilon: 0.752)\n",
            "(Episode 179), (Reward:  18.0), (Epsilon: 0.752)\n",
            "(Episode 180), (Reward:  58.0), (Epsilon: 0.751)\n",
            "(Episode 181), (Reward:  28.0), (Epsilon: 0.750)\n",
            "(Episode 182), (Reward:  55.0), (Epsilon: 0.749)\n",
            "(Episode 183), (Reward:  49.0), (Epsilon: 0.749)\n",
            "(Episode 184), (Reward:  15.0), (Epsilon: 0.748)\n",
            "(Episode 185), (Reward: 114.0), (Epsilon: 0.747)\n",
            "(Episode 186), (Reward:  37.0), (Epsilon: 0.746)\n",
            "(Episode 187), (Reward:  58.0), (Epsilon: 0.746)\n",
            "(Episode 188), (Reward:  11.0), (Epsilon: 0.745)\n",
            "(Episode 189), (Reward:  28.0), (Epsilon: 0.744)\n",
            "(Episode 190), (Reward:  45.0), (Epsilon: 0.743)\n",
            "(Episode 191), (Reward:  74.0), (Epsilon: 0.743)\n",
            "(Episode 192), (Reward:  39.0), (Epsilon: 0.742)\n",
            "(Episode 193), (Reward:  40.0), (Epsilon: 0.741)\n",
            "(Episode 194), (Reward: 117.0), (Epsilon: 0.740)\n",
            "(Episode 195), (Reward:  11.0), (Epsilon: 0.740)\n",
            "(Episode 196), (Reward:  37.0), (Epsilon: 0.739)\n",
            "(Episode 197), (Reward:  11.0), (Epsilon: 0.738)\n",
            "(Episode 198), (Reward:  13.0), (Epsilon: 0.738)\n",
            "(Episode 199), (Reward:  17.0), (Epsilon: 0.737)\n",
            "(Episode 200), (Reward:  26.0), (Epsilon: 0.736)\n",
            "(Episode 201), (Reward:  41.0), (Epsilon: 0.735)\n",
            "(Episode 202), (Reward:  34.0), (Epsilon: 0.735)\n",
            "(Episode 203), (Reward: 108.0), (Epsilon: 0.734)\n",
            "(Episode 204), (Reward:  13.0), (Epsilon: 0.733)\n",
            "(Episode 205), (Reward:  16.0), (Epsilon: 0.732)\n",
            "(Episode 206), (Reward:  15.0), (Epsilon: 0.732)\n",
            "(Episode 207), (Reward:  21.0), (Epsilon: 0.731)\n",
            "(Episode 208), (Reward:  49.0), (Epsilon: 0.730)\n",
            "(Episode 209), (Reward:  16.0), (Epsilon: 0.729)\n",
            "(Episode 210), (Reward:  49.0), (Epsilon: 0.729)\n",
            "(Episode 211), (Reward: 127.0), (Epsilon: 0.728)\n",
            "(Episode 212), (Reward:  76.0), (Epsilon: 0.727)\n",
            "(Episode 213), (Reward:  72.0), (Epsilon: 0.727)\n",
            "(Episode 214), (Reward:  42.0), (Epsilon: 0.726)\n",
            "(Episode 215), (Reward:  41.0), (Epsilon: 0.725)\n",
            "(Episode 216), (Reward:  51.0), (Epsilon: 0.724)\n",
            "(Episode 217), (Reward:  65.0), (Epsilon: 0.724)\n",
            "(Episode 218), (Reward:  15.0), (Epsilon: 0.723)\n",
            "(Episode 219), (Reward:  67.0), (Epsilon: 0.722)\n",
            "(Episode 220), (Reward:  54.0), (Epsilon: 0.721)\n",
            "(Episode 221), (Reward:  28.0), (Epsilon: 0.721)\n",
            "(Episode 222), (Reward:  21.0), (Epsilon: 0.720)\n",
            "(Episode 223), (Reward:  23.0), (Epsilon: 0.719)\n",
            "(Episode 224), (Reward:  29.0), (Epsilon: 0.719)\n",
            "(Episode 225), (Reward:  49.0), (Epsilon: 0.718)\n",
            "(Episode 226), (Reward:  71.0), (Epsilon: 0.717)\n",
            "(Episode 227), (Reward:  20.0), (Epsilon: 0.716)\n",
            "(Episode 228), (Reward:  36.0), (Epsilon: 0.716)\n",
            "(Episode 229), (Reward:  91.0), (Epsilon: 0.715)\n",
            "(Episode 230), (Reward: 130.0), (Epsilon: 0.714)\n",
            "(Episode 231), (Reward:  18.0), (Epsilon: 0.714)\n",
            "(Episode 232), (Reward:  20.0), (Epsilon: 0.713)\n",
            "(Episode 233), (Reward:  40.0), (Epsilon: 0.712)\n",
            "(Episode 234), (Reward:  55.0), (Epsilon: 0.711)\n",
            "(Episode 235), (Reward:  37.0), (Epsilon: 0.711)\n",
            "(Episode 236), (Reward:  70.0), (Epsilon: 0.710)\n",
            "(Episode 237), (Reward:  35.0), (Epsilon: 0.709)\n",
            "(Episode 238), (Reward:  22.0), (Epsilon: 0.709)\n",
            "(Episode 239), (Reward:  15.0), (Epsilon: 0.708)\n",
            "(Episode 240), (Reward:  27.0), (Epsilon: 0.707)\n",
            "(Episode 241), (Reward: 167.0), (Epsilon: 0.706)\n",
            "(Episode 242), (Reward:  50.0), (Epsilon: 0.706)\n",
            "(Episode 243), (Reward:  38.0), (Epsilon: 0.705)\n",
            "(Episode 244), (Reward:  41.0), (Epsilon: 0.704)\n",
            "(Episode 245), (Reward:  25.0), (Epsilon: 0.704)\n",
            "(Episode 246), (Reward:  76.0), (Epsilon: 0.703)\n",
            "(Episode 247), (Reward:  48.0), (Epsilon: 0.702)\n",
            "(Episode 248), (Reward:  95.0), (Epsilon: 0.702)\n",
            "(Episode 249), (Reward:  23.0), (Epsilon: 0.701)\n",
            "(Episode 250), (Reward:  49.0), (Epsilon: 0.700)\n",
            "(Episode 251), (Reward:  88.0), (Epsilon: 0.699)\n",
            "(Episode 252), (Reward:  96.0), (Epsilon: 0.699)\n",
            "(Episode 253), (Reward:  94.0), (Epsilon: 0.698)\n",
            "(Episode 254), (Reward:  22.0), (Epsilon: 0.697)\n",
            "(Episode 255), (Reward:  16.0), (Epsilon: 0.697)\n",
            "(Episode 256), (Reward: 141.0), (Epsilon: 0.696)\n",
            "(Episode 257), (Reward:  28.0), (Epsilon: 0.695)\n",
            "(Episode 258), (Reward:  53.0), (Epsilon: 0.695)\n",
            "(Episode 259), (Reward: 126.0), (Epsilon: 0.694)\n",
            "(Episode 260), (Reward:  13.0), (Epsilon: 0.693)\n",
            "(Episode 261), (Reward:  58.0), (Epsilon: 0.692)\n",
            "(Episode 262), (Reward:  27.0), (Epsilon: 0.692)\n",
            "(Episode 263), (Reward:  69.0), (Epsilon: 0.691)\n",
            "(Episode 264), (Reward:  36.0), (Epsilon: 0.690)\n",
            "(Episode 265), (Reward:  40.0), (Epsilon: 0.690)\n",
            "(Episode 266), (Reward:  21.0), (Epsilon: 0.689)\n",
            "(Episode 267), (Reward:  38.0), (Epsilon: 0.688)\n",
            "(Episode 268), (Reward:  25.0), (Epsilon: 0.688)\n",
            "(Episode 269), (Reward:  61.0), (Epsilon: 0.687)\n",
            "(Episode 270), (Reward:  29.0), (Epsilon: 0.686)\n",
            "(Episode 271), (Reward:  57.0), (Epsilon: 0.686)\n",
            "(Episode 272), (Reward:  78.0), (Epsilon: 0.685)\n",
            "(Episode 273), (Reward:  23.0), (Epsilon: 0.684)\n",
            "(Episode 274), (Reward: 100.0), (Epsilon: 0.684)\n",
            "(Episode 275), (Reward: 171.0), (Epsilon: 0.683)\n",
            "(Episode 276), (Reward: 203.0), (Epsilon: 0.682)\n",
            "(Episode 277), (Reward:  49.0), (Epsilon: 0.681)\n",
            "(Episode 278), (Reward:  12.0), (Epsilon: 0.681)\n",
            "(Episode 279), (Reward:  41.0), (Epsilon: 0.680)\n",
            "(Episode 280), (Reward:  33.0), (Epsilon: 0.679)\n",
            "(Episode 281), (Reward:  43.0), (Epsilon: 0.679)\n",
            "(Episode 282), (Reward:  70.0), (Epsilon: 0.678)\n",
            "(Episode 283), (Reward:  49.0), (Epsilon: 0.677)\n",
            "(Episode 284), (Reward:  13.0), (Epsilon: 0.677)\n",
            "(Episode 285), (Reward:  52.0), (Epsilon: 0.676)\n",
            "(Episode 286), (Reward:  85.0), (Epsilon: 0.675)\n",
            "(Episode 287), (Reward: 114.0), (Epsilon: 0.675)\n",
            "(Episode 288), (Reward: 126.0), (Epsilon: 0.674)\n",
            "(Episode 289), (Reward:  32.0), (Epsilon: 0.673)\n",
            "(Episode 290), (Reward: 164.0), (Epsilon: 0.673)\n",
            "(Episode 291), (Reward:  33.0), (Epsilon: 0.672)\n",
            "(Episode 292), (Reward:  60.0), (Epsilon: 0.671)\n",
            "(Episode 293), (Reward: 135.0), (Epsilon: 0.671)\n",
            "(Episode 294), (Reward:  56.0), (Epsilon: 0.670)\n",
            "(Episode 295), (Reward: 120.0), (Epsilon: 0.669)\n",
            "(Episode 296), (Reward:  66.0), (Epsilon: 0.669)\n",
            "(Episode 297), (Reward:  76.0), (Epsilon: 0.668)\n",
            "(Episode 298), (Reward:  44.0), (Epsilon: 0.667)\n",
            "(Episode 299), (Reward:  28.0), (Epsilon: 0.667)\n",
            "(Episode 300), (Reward:  64.0), (Epsilon: 0.666)\n",
            "(Episode 301), (Reward:  60.0), (Epsilon: 0.665)\n",
            "(Episode 302), (Reward:  22.0), (Epsilon: 0.665)\n",
            "(Episode 303), (Reward:  31.0), (Epsilon: 0.664)\n",
            "(Episode 304), (Reward:  79.0), (Epsilon: 0.663)\n",
            "(Episode 305), (Reward: 119.0), (Epsilon: 0.663)\n",
            "(Episode 306), (Reward:  19.0), (Epsilon: 0.662)\n",
            "(Episode 307), (Reward:  84.0), (Epsilon: 0.661)\n",
            "(Episode 308), (Reward:  11.0), (Epsilon: 0.661)\n",
            "(Episode 309), (Reward: 157.0), (Epsilon: 0.660)\n",
            "(Episode 310), (Reward: 171.0), (Epsilon: 0.659)\n",
            "(Episode 311), (Reward:  93.0), (Epsilon: 0.659)\n",
            "(Episode 312), (Reward:  26.0), (Epsilon: 0.658)\n",
            "(Episode 313), (Reward:  20.0), (Epsilon: 0.657)\n",
            "(Episode 314), (Reward: 168.0), (Epsilon: 0.657)\n",
            "(Episode 315), (Reward: 209.0), (Epsilon: 0.656)\n",
            "(Episode 316), (Reward:  27.0), (Epsilon: 0.655)\n",
            "(Episode 317), (Reward:  26.0), (Epsilon: 0.655)\n",
            "(Episode 318), (Reward:  37.0), (Epsilon: 0.654)\n",
            "(Episode 319), (Reward:  36.0), (Epsilon: 0.653)\n",
            "(Episode 320), (Reward:  60.0), (Epsilon: 0.653)\n",
            "(Episode 321), (Reward:  18.0), (Epsilon: 0.652)\n",
            "(Episode 322), (Reward:  25.0), (Epsilon: 0.651)\n",
            "(Episode 323), (Reward:  46.0), (Epsilon: 0.651)\n",
            "(Episode 324), (Reward:  14.0), (Epsilon: 0.650)\n",
            "(Episode 325), (Reward:  30.0), (Epsilon: 0.650)\n",
            "(Episode 326), (Reward: 108.0), (Epsilon: 0.649)\n",
            "(Episode 327), (Reward:  78.0), (Epsilon: 0.648)\n",
            "(Episode 328), (Reward:  87.0), (Epsilon: 0.648)\n",
            "(Episode 329), (Reward:  27.0), (Epsilon: 0.647)\n",
            "(Episode 330), (Reward:  13.0), (Epsilon: 0.646)\n",
            "(Episode 331), (Reward:  54.0), (Epsilon: 0.646)\n",
            "(Episode 332), (Reward:  17.0), (Epsilon: 0.645)\n",
            "(Episode 333), (Reward: 135.0), (Epsilon: 0.644)\n",
            "(Episode 334), (Reward: 161.0), (Epsilon: 0.644)\n",
            "(Episode 335), (Reward:  35.0), (Epsilon: 0.643)\n",
            "(Episode 336), (Reward:  99.0), (Epsilon: 0.642)\n",
            "(Episode 337), (Reward:  65.0), (Epsilon: 0.642)\n",
            "(Episode 338), (Reward:  77.0), (Epsilon: 0.641)\n",
            "(Episode 339), (Reward:  33.0), (Epsilon: 0.640)\n",
            "(Episode 340), (Reward:  56.0), (Epsilon: 0.640)\n",
            "(Episode 341), (Reward:  82.0), (Epsilon: 0.639)\n",
            "(Episode 342), (Reward:  40.0), (Epsilon: 0.639)\n",
            "(Episode 343), (Reward:  70.0), (Epsilon: 0.638)\n",
            "(Episode 344), (Reward: 114.0), (Epsilon: 0.637)\n",
            "(Episode 345), (Reward:  57.0), (Epsilon: 0.637)\n",
            "(Episode 346), (Reward:  41.0), (Epsilon: 0.636)\n",
            "(Episode 347), (Reward:  18.0), (Epsilon: 0.635)\n",
            "(Episode 348), (Reward: 104.0), (Epsilon: 0.635)\n",
            "(Episode 349), (Reward: 247.0), (Epsilon: 0.634)\n",
            "(Episode 350), (Reward:  12.0), (Epsilon: 0.633)\n",
            "(Episode 351), (Reward: 117.0), (Epsilon: 0.633)\n",
            "(Episode 352), (Reward: 102.0), (Epsilon: 0.632)\n",
            "(Episode 353), (Reward:  84.0), (Epsilon: 0.632)\n",
            "(Episode 354), (Reward:  62.0), (Epsilon: 0.631)\n",
            "(Episode 355), (Reward:  47.0), (Epsilon: 0.630)\n",
            "(Episode 356), (Reward:  45.0), (Epsilon: 0.630)\n",
            "(Episode 357), (Reward:  18.0), (Epsilon: 0.629)\n",
            "(Episode 358), (Reward:  55.0), (Epsilon: 0.628)\n",
            "(Episode 359), (Reward:  84.0), (Epsilon: 0.628)\n",
            "(Episode 360), (Reward:  27.0), (Epsilon: 0.627)\n",
            "(Episode 361), (Reward:  95.0), (Epsilon: 0.627)\n",
            "(Episode 362), (Reward:  18.0), (Epsilon: 0.626)\n",
            "(Episode 363), (Reward: 145.0), (Epsilon: 0.625)\n",
            "(Episode 364), (Reward:  48.0), (Epsilon: 0.625)\n",
            "(Episode 365), (Reward:  36.0), (Epsilon: 0.624)\n",
            "(Episode 366), (Reward:  19.0), (Epsilon: 0.623)\n",
            "(Episode 367), (Reward:  23.0), (Epsilon: 0.623)\n",
            "(Episode 368), (Reward:  32.0), (Epsilon: 0.622)\n",
            "(Episode 369), (Reward:  34.0), (Epsilon: 0.622)\n",
            "(Episode 370), (Reward: 106.0), (Epsilon: 0.621)\n",
            "(Episode 371), (Reward: 196.0), (Epsilon: 0.620)\n",
            "(Episode 372), (Reward:  76.0), (Epsilon: 0.620)\n",
            "(Episode 373), (Reward:  48.0), (Epsilon: 0.619)\n",
            "(Episode 374), (Reward:  44.0), (Epsilon: 0.618)\n",
            "(Episode 375), (Reward: 305.0), (Epsilon: 0.618)\n",
            "(Episode 376), (Reward:  22.0), (Epsilon: 0.617)\n",
            "(Episode 377), (Reward:  92.0), (Epsilon: 0.617)\n",
            "(Episode 378), (Reward:  46.0), (Epsilon: 0.616)\n",
            "(Episode 379), (Reward:  73.0), (Epsilon: 0.615)\n",
            "(Episode 380), (Reward:  89.0), (Epsilon: 0.615)\n",
            "(Episode 381), (Reward:  81.0), (Epsilon: 0.614)\n",
            "(Episode 382), (Reward:  30.0), (Epsilon: 0.614)\n",
            "(Episode 383), (Reward:  30.0), (Epsilon: 0.613)\n",
            "(Episode 384), (Reward:  46.0), (Epsilon: 0.612)\n",
            "(Episode 385), (Reward:  30.0), (Epsilon: 0.612)\n",
            "(Episode 386), (Reward: 106.0), (Epsilon: 0.611)\n",
            "(Episode 387), (Reward:  20.0), (Epsilon: 0.610)\n",
            "(Episode 388), (Reward:  33.0), (Epsilon: 0.610)\n",
            "(Episode 389), (Reward: 150.0), (Epsilon: 0.609)\n",
            "(Episode 390), (Reward: 143.0), (Epsilon: 0.609)\n",
            "(Episode 391), (Reward:  25.0), (Epsilon: 0.608)\n",
            "(Episode 392), (Reward:  25.0), (Epsilon: 0.607)\n",
            "(Episode 393), (Reward: 205.0), (Epsilon: 0.607)\n",
            "(Episode 394), (Reward:  44.0), (Epsilon: 0.606)\n",
            "(Episode 395), (Reward:  92.0), (Epsilon: 0.606)\n",
            "(Episode 396), (Reward:  89.0), (Epsilon: 0.605)\n",
            "(Episode 397), (Reward:  54.0), (Epsilon: 0.604)\n",
            "(Episode 398), (Reward:  25.0), (Epsilon: 0.604)\n",
            "(Episode 399), (Reward:  57.0), (Epsilon: 0.603)\n",
            "(Episode 400), (Reward:  43.0), (Epsilon: 0.603)\n",
            "(Episode 401), (Reward:  38.0), (Epsilon: 0.602)\n",
            "(Episode 402), (Reward:  34.0), (Epsilon: 0.601)\n",
            "(Episode 403), (Reward: 140.0), (Epsilon: 0.601)\n",
            "(Episode 404), (Reward:  70.0), (Epsilon: 0.600)\n",
            "(Episode 405), (Reward:  67.0), (Epsilon: 0.600)\n",
            "(Episode 406), (Reward: 166.0), (Epsilon: 0.599)\n",
            "(Episode 407), (Reward: 123.0), (Epsilon: 0.598)\n",
            "(Episode 408), (Reward:  76.0), (Epsilon: 0.598)\n",
            "(Episode 409), (Reward: 107.0), (Epsilon: 0.597)\n",
            "(Episode 410), (Reward:  18.0), (Epsilon: 0.597)\n",
            "(Episode 411), (Reward:  85.0), (Epsilon: 0.596)\n",
            "(Episode 412), (Reward: 239.0), (Epsilon: 0.595)\n",
            "(Episode 413), (Reward:  79.0), (Epsilon: 0.595)\n",
            "(Episode 414), (Reward:  54.0), (Epsilon: 0.594)\n",
            "(Episode 415), (Reward:  53.0), (Epsilon: 0.594)\n",
            "(Episode 416), (Reward:  17.0), (Epsilon: 0.593)\n",
            "(Episode 417), (Reward:  83.0), (Epsilon: 0.592)\n",
            "(Episode 418), (Reward:  68.0), (Epsilon: 0.592)\n",
            "(Episode 419), (Reward:  96.0), (Epsilon: 0.591)\n",
            "(Episode 420), (Reward: 116.0), (Epsilon: 0.591)\n",
            "(Episode 421), (Reward: 120.0), (Epsilon: 0.590)\n",
            "(Episode 422), (Reward:  42.0), (Epsilon: 0.589)\n",
            "(Episode 423), (Reward: 186.0), (Epsilon: 0.589)\n",
            "(Episode 424), (Reward:  95.0), (Epsilon: 0.588)\n",
            "(Episode 425), (Reward:  41.0), (Epsilon: 0.588)\n",
            "(Episode 426), (Reward: 292.0), (Epsilon: 0.587)\n",
            "(Episode 427), (Reward:  57.0), (Epsilon: 0.587)\n",
            "(Episode 428), (Reward:  35.0), (Epsilon: 0.586)\n",
            "(Episode 429), (Reward:  98.0), (Epsilon: 0.585)\n",
            "(Episode 430), (Reward:  71.0), (Epsilon: 0.585)\n",
            "(Episode 431), (Reward: 114.0), (Epsilon: 0.584)\n",
            "(Episode 432), (Reward:  37.0), (Epsilon: 0.584)\n",
            "(Episode 433), (Reward:  52.0), (Epsilon: 0.583)\n",
            "(Episode 434), (Reward:  27.0), (Epsilon: 0.582)\n",
            "(Episode 435), (Reward:  73.0), (Epsilon: 0.582)\n",
            "(Episode 436), (Reward:  43.0), (Epsilon: 0.581)\n",
            "(Episode 437), (Reward:  95.0), (Epsilon: 0.581)\n",
            "(Episode 438), (Reward:  34.0), (Epsilon: 0.580)\n",
            "(Episode 439), (Reward: 110.0), (Epsilon: 0.580)\n",
            "(Episode 440), (Reward:  28.0), (Epsilon: 0.579)\n",
            "(Episode 441), (Reward:  71.0), (Epsilon: 0.578)\n",
            "(Episode 442), (Reward: 118.0), (Epsilon: 0.578)\n",
            "(Episode 443), (Reward:  33.0), (Epsilon: 0.577)\n",
            "(Episode 444), (Reward:  52.0), (Epsilon: 0.577)\n",
            "(Episode 445), (Reward:  59.0), (Epsilon: 0.576)\n",
            "(Episode 446), (Reward: 124.0), (Epsilon: 0.575)\n",
            "(Episode 447), (Reward:  40.0), (Epsilon: 0.575)\n",
            "(Episode 448), (Reward: 107.0), (Epsilon: 0.574)\n",
            "(Episode 449), (Reward:  44.0), (Epsilon: 0.574)\n",
            "(Episode 450), (Reward: 146.0), (Epsilon: 0.573)\n",
            "(Episode 451), (Reward:  22.0), (Epsilon: 0.573)\n",
            "(Episode 452), (Reward: 115.0), (Epsilon: 0.572)\n",
            "(Episode 453), (Reward:  70.0), (Epsilon: 0.571)\n",
            "(Episode 454), (Reward:  60.0), (Epsilon: 0.571)\n",
            "(Episode 455), (Reward:  42.0), (Epsilon: 0.570)\n",
            "(Episode 456), (Reward:  83.0), (Epsilon: 0.570)\n",
            "(Episode 457), (Reward:  77.0), (Epsilon: 0.569)\n",
            "(Episode 458), (Reward: 223.0), (Epsilon: 0.569)\n",
            "(Episode 459), (Reward:  82.0), (Epsilon: 0.568)\n",
            "(Episode 460), (Reward:  55.0), (Epsilon: 0.567)\n",
            "(Episode 461), (Reward:  38.0), (Epsilon: 0.567)\n",
            "(Episode 462), (Reward: 319.0), (Epsilon: 0.566)\n",
            "(Episode 463), (Reward: 205.0), (Epsilon: 0.566)\n",
            "(Episode 464), (Reward: 144.0), (Epsilon: 0.565)\n",
            "(Episode 465), (Reward:  84.0), (Epsilon: 0.565)\n",
            "(Episode 466), (Reward:  26.0), (Epsilon: 0.564)\n",
            "(Episode 467), (Reward:  83.0), (Epsilon: 0.563)\n",
            "(Episode 468), (Reward: 105.0), (Epsilon: 0.563)\n",
            "(Episode 469), (Reward: 179.0), (Epsilon: 0.562)\n",
            "(Episode 470), (Reward:  37.0), (Epsilon: 0.562)\n",
            "(Episode 471), (Reward: 290.0), (Epsilon: 0.561)\n",
            "(Episode 472), (Reward: 303.0), (Epsilon: 0.561)\n",
            "(Episode 473), (Reward: 277.0), (Epsilon: 0.560)\n",
            "(Episode 474), (Reward:  80.0), (Epsilon: 0.560)\n",
            "(Episode 475), (Reward:  33.0), (Epsilon: 0.559)\n",
            "(Episode 476), (Reward:  67.0), (Epsilon: 0.558)\n",
            "(Episode 477), (Reward: 156.0), (Epsilon: 0.558)\n",
            "(Episode 478), (Reward: 183.0), (Epsilon: 0.557)\n",
            "(Episode 479), (Reward: 123.0), (Epsilon: 0.557)\n",
            "(Episode 480), (Reward:  62.0), (Epsilon: 0.556)\n",
            "(Episode 481), (Reward: 100.0), (Epsilon: 0.556)\n",
            "(Episode 482), (Reward: 129.0), (Epsilon: 0.555)\n",
            "(Episode 483), (Reward:  17.0), (Epsilon: 0.555)\n",
            "(Episode 484), (Reward: 145.0), (Epsilon: 0.554)\n",
            "(Episode 485), (Reward: 176.0), (Epsilon: 0.553)\n",
            "(Episode 486), (Reward:  99.0), (Epsilon: 0.553)\n",
            "(Episode 487), (Reward:  13.0), (Epsilon: 0.552)\n",
            "(Episode 488), (Reward: 114.0), (Epsilon: 0.552)\n",
            "(Episode 489), (Reward: 308.0), (Epsilon: 0.551)\n",
            "(Episode 490), (Reward:  46.0), (Epsilon: 0.551)\n",
            "(Episode 491), (Reward: 304.0), (Epsilon: 0.550)\n",
            "(Episode 492), (Reward:  66.0), (Epsilon: 0.550)\n",
            "(Episode 493), (Reward:  26.0), (Epsilon: 0.549)\n",
            "(Episode 494), (Reward: 196.0), (Epsilon: 0.548)\n",
            "(Episode 495), (Reward: 136.0), (Epsilon: 0.548)\n",
            "(Episode 496), (Reward:  86.0), (Epsilon: 0.547)\n",
            "(Episode 497), (Reward:  38.0), (Epsilon: 0.547)\n",
            "(Episode 498), (Reward: 116.0), (Epsilon: 0.546)\n",
            "(Episode 499), (Reward: 378.0), (Epsilon: 0.546)\n",
            "(Episode 500), (Reward:  35.0), (Epsilon: 0.545)\n",
            "(Episode 501), (Reward: 212.0), (Epsilon: 0.545)\n",
            "(Episode 502), (Reward: 180.0), (Epsilon: 0.544)\n",
            "(Episode 503), (Reward: 139.0), (Epsilon: 0.544)\n",
            "(Episode 504), (Reward:  24.0), (Epsilon: 0.543)\n",
            "(Episode 505), (Reward:  52.0), (Epsilon: 0.542)\n",
            "(Episode 506), (Reward: 164.0), (Epsilon: 0.542)\n",
            "(Episode 507), (Reward:  37.0), (Epsilon: 0.541)\n",
            "(Episode 508), (Reward:  41.0), (Epsilon: 0.541)\n",
            "(Episode 509), (Reward: 192.0), (Epsilon: 0.540)\n",
            "(Episode 510), (Reward: 112.0), (Epsilon: 0.540)\n",
            "(Episode 511), (Reward: 110.0), (Epsilon: 0.539)\n",
            "(Episode 512), (Reward: 148.0), (Epsilon: 0.539)\n",
            "(Episode 513), (Reward: 240.0), (Epsilon: 0.538)\n",
            "(Episode 514), (Reward: 154.0), (Epsilon: 0.538)\n",
            "(Episode 515), (Reward:  95.0), (Epsilon: 0.537)\n",
            "(Episode 516), (Reward: 177.0), (Epsilon: 0.537)\n",
            "(Episode 517), (Reward: 204.0), (Epsilon: 0.536)\n",
            "(Episode 518), (Reward:  29.0), (Epsilon: 0.535)\n",
            "(Episode 519), (Reward:  16.0), (Epsilon: 0.535)\n",
            "(Episode 520), (Reward: 218.0), (Epsilon: 0.534)\n",
            "(Episode 521), (Reward:  90.0), (Epsilon: 0.534)\n",
            "(Episode 522), (Reward:  22.0), (Epsilon: 0.533)\n",
            "(Episode 523), (Reward: 142.0), (Epsilon: 0.533)\n",
            "(Episode 524), (Reward:  15.0), (Epsilon: 0.532)\n",
            "(Episode 525), (Reward: 136.0), (Epsilon: 0.532)\n",
            "(Episode 526), (Reward: 166.0), (Epsilon: 0.531)\n",
            "(Episode 527), (Reward:  77.0), (Epsilon: 0.531)\n",
            "(Episode 528), (Reward: 134.0), (Epsilon: 0.530)\n",
            "(Episode 529), (Reward: 223.0), (Epsilon: 0.530)\n",
            "(Episode 530), (Reward: 324.0), (Epsilon: 0.529)\n",
            "(Episode 531), (Reward: 270.0), (Epsilon: 0.529)\n",
            "(Episode 532), (Reward:  96.0), (Epsilon: 0.528)\n",
            "(Episode 533), (Reward: 152.0), (Epsilon: 0.527)\n",
            "(Episode 534), (Reward:  19.0), (Epsilon: 0.527)\n",
            "(Episode 535), (Reward: 122.0), (Epsilon: 0.526)\n",
            "(Episode 536), (Reward: 241.0), (Epsilon: 0.526)\n",
            "(Episode 537), (Reward: 130.0), (Epsilon: 0.525)\n",
            "(Episode 538), (Reward: 178.0), (Epsilon: 0.525)\n",
            "(Episode 539), (Reward: 187.0), (Epsilon: 0.524)\n",
            "(Episode 540), (Reward:  89.0), (Epsilon: 0.524)\n",
            "(Episode 541), (Reward: 134.0), (Epsilon: 0.523)\n",
            "(Episode 542), (Reward: 201.0), (Epsilon: 0.523)\n",
            "(Episode 543), (Reward: 200.0), (Epsilon: 0.522)\n",
            "(Episode 544), (Reward: 175.0), (Epsilon: 0.522)\n",
            "(Episode 545), (Reward:  79.0), (Epsilon: 0.521)\n",
            "(Episode 546), (Reward: 258.0), (Epsilon: 0.521)\n",
            "(Episode 547), (Reward:  19.0), (Epsilon: 0.520)\n",
            "(Episode 548), (Reward:  65.0), (Epsilon: 0.520)\n",
            "(Episode 549), (Reward: 138.0), (Epsilon: 0.519)\n",
            "(Episode 550), (Reward:  63.0), (Epsilon: 0.519)\n",
            "(Episode 551), (Reward: 313.0), (Epsilon: 0.518)\n",
            "(Episode 552), (Reward: 128.0), (Epsilon: 0.518)\n",
            "(Episode 553), (Reward:  66.0), (Epsilon: 0.517)\n",
            "(Episode 554), (Reward: 163.0), (Epsilon: 0.517)\n",
            "(Episode 555), (Reward: 138.0), (Epsilon: 0.516)\n",
            "(Episode 556), (Reward: 140.0), (Epsilon: 0.515)\n",
            "(Episode 557), (Reward:  58.0), (Epsilon: 0.515)\n",
            "(Episode 558), (Reward: 143.0), (Epsilon: 0.514)\n",
            "(Episode 559), (Reward: 173.0), (Epsilon: 0.514)\n",
            "(Episode 560), (Reward:  80.0), (Epsilon: 0.513)\n",
            "(Episode 561), (Reward: 304.0), (Epsilon: 0.513)\n",
            "(Episode 562), (Reward: 119.0), (Epsilon: 0.512)\n",
            "(Episode 563), (Reward: 252.0), (Epsilon: 0.512)\n",
            "(Episode 564), (Reward:  80.0), (Epsilon: 0.511)\n",
            "(Episode 565), (Reward:  12.0), (Epsilon: 0.511)\n",
            "(Episode 566), (Reward: 312.0), (Epsilon: 0.510)\n",
            "(Episode 567), (Reward: 287.0), (Epsilon: 0.510)\n",
            "(Episode 568), (Reward: 250.0), (Epsilon: 0.509)\n",
            "(Episode 569), (Reward: 222.0), (Epsilon: 0.509)\n",
            "(Episode 570), (Reward:  32.0), (Epsilon: 0.508)\n",
            "(Episode 571), (Reward: 109.0), (Epsilon: 0.508)\n",
            "(Episode 572), (Reward: 183.0), (Epsilon: 0.507)\n",
            "(Episode 573), (Reward: 307.0), (Epsilon: 0.507)\n",
            "(Episode 574), (Reward: 251.0), (Epsilon: 0.506)\n",
            "(Episode 575), (Reward: 299.0), (Epsilon: 0.506)\n",
            "(Episode 576), (Reward: 225.0), (Epsilon: 0.505)\n",
            "(Episode 577), (Reward: 333.0), (Epsilon: 0.505)\n",
            "(Episode 578), (Reward: 380.0), (Epsilon: 0.504)\n",
            "(Episode 579), (Reward:  39.0), (Epsilon: 0.504)\n",
            "(Episode 580), (Reward:  17.0), (Epsilon: 0.503)\n",
            "(Episode 581), (Reward: 159.0), (Epsilon: 0.503)\n",
            "(Episode 582), (Reward: 135.0), (Epsilon: 0.502)\n",
            "(Episode 583), (Reward: 166.0), (Epsilon: 0.502)\n",
            "(Episode 584), (Reward: 144.0), (Epsilon: 0.501)\n",
            "(Episode 585), (Reward:  81.0), (Epsilon: 0.501)\n",
            "(Episode 586), (Reward: 389.0), (Epsilon: 0.500)\n",
            "(Episode 587), (Reward:  57.0), (Epsilon: 0.500)\n",
            "(Episode 588), (Reward: 261.0), (Epsilon: 0.499)\n",
            "(Episode 589), (Reward:  56.0), (Epsilon: 0.499)\n",
            "(Episode 590), (Reward: 206.0), (Epsilon: 0.498)\n",
            "(Episode 591), (Reward: 288.0), (Epsilon: 0.498)\n",
            "(Episode 592), (Reward:  50.0), (Epsilon: 0.497)\n",
            "(Episode 593), (Reward: 155.0), (Epsilon: 0.497)\n",
            "(Episode 594), (Reward:  23.0), (Epsilon: 0.496)\n",
            "(Episode 595), (Reward: 321.0), (Epsilon: 0.496)\n",
            "(Episode 596), (Reward: 112.0), (Epsilon: 0.495)\n",
            "(Episode 597), (Reward:  30.0), (Epsilon: 0.495)\n",
            "(Episode 598), (Reward:  33.0), (Epsilon: 0.494)\n",
            "(Episode 599), (Reward: 238.0), (Epsilon: 0.494)\n"
          ]
        }
      ]
    },
    {
      "cell_type": "markdown",
      "source": [
        "#### Output for Task 1 after Training of Agent is completed"
      ],
      "metadata": {
        "id": "0EnHNZUT24R5"
      },
      "id": "0EnHNZUT24R5"
    },
    {
      "cell_type": "code",
      "source": [
        "observation_tensor = torch.FloatTensor(observation)\n",
        "q_values = agent(observation_tensor)\n",
        "print(f\"(Action : Q-Values): (0 : {q_values[0].item()}), (1 : {q_values[1].item()})\")\n",
        "\n",
        "# For training following was used:\n",
        "# action = select_action(observation, EPSILON)\n",
        "# Code rewritten so printing of q_values is possible\n",
        "action = torch.argmax(q_values).item()\n",
        "\n",
        "print(\"Observation:\", observation)\n",
        "print(\"Chosen action by DQN agent:\", action)"
      ],
      "metadata": {
        "id": "WPxEYH4U2Eh3",
        "outputId": "39df155a-72cf-42be-cde8-988850f4309d",
        "colab": {
          "base_uri": "https://localhost:8080/"
        }
      },
      "id": "WPxEYH4U2Eh3",
      "execution_count": null,
      "outputs": [
        {
          "output_type": "stream",
          "name": "stdout",
          "text": [
            "(Action : Q-Values): (0 : -1166.7760009765625), (1 : 1253.422119140625)\n",
            "Observation: [-1.8324368  -1.8780123   0.21347854  1.3196428 ]\n",
            "Chosen action by DQN agent: 1\n"
          ]
        }
      ]
    },
    {
      "cell_type": "markdown",
      "source": [
        "## Task 2: Demonstrate the effectiveness of the RL Agent"
      ],
      "metadata": {
        "id": "DMHwBYzMq36C"
      },
      "id": "DMHwBYzMq36C"
    },
    {
      "cell_type": "code",
      "source": [
        "TEST_EPISODE_CNT = 100\n",
        "test_episode_rewards = []\n",
        "\n",
        "for episode in range(TEST_EPISODE_CNT):\n",
        "  observation = env.reset()\n",
        "  done = False\n",
        "  cumulative_reward = 0\n",
        "\n",
        "  while not done:\n",
        "    action = select_action(observation, 0.0)\n",
        "    observation, reward, done, _ = env.step(action)\n",
        "    cumulative_reward += reward\n",
        "\n",
        "  test_episode_rewards.append(cumulative_reward)\n",
        "  print(f\"(Episode {episode:>2}), (Reward: {cumulative_reward:>4})\")"
      ],
      "metadata": {
        "id": "fGCbypcvXD52",
        "outputId": "e5905bba-a2e4-4e29-f061-3fceb10c1306",
        "colab": {
          "base_uri": "https://localhost:8080/"
        }
      },
      "id": "fGCbypcvXD52",
      "execution_count": null,
      "outputs": [
        {
          "output_type": "stream",
          "name": "stdout",
          "text": [
            "(Episode  0), (Reward: 487.0)\n",
            "(Episode  1), (Reward: 500.0)\n",
            "(Episode  2), (Reward: 306.0)\n",
            "(Episode  3), (Reward: 500.0)\n",
            "(Episode  4), (Reward: 500.0)\n",
            "(Episode  5), (Reward: 500.0)\n",
            "(Episode  6), (Reward: 425.0)\n",
            "(Episode  7), (Reward: 500.0)\n",
            "(Episode  8), (Reward: 500.0)\n",
            "(Episode  9), (Reward: 438.0)\n",
            "(Episode 10), (Reward: 301.0)\n",
            "(Episode 11), (Reward: 463.0)\n",
            "(Episode 12), (Reward: 500.0)\n",
            "(Episode 13), (Reward: 500.0)\n",
            "(Episode 14), (Reward: 324.0)\n",
            "(Episode 15), (Reward: 493.0)\n",
            "(Episode 16), (Reward: 500.0)\n",
            "(Episode 17), (Reward: 421.0)\n",
            "(Episode 18), (Reward: 500.0)\n",
            "(Episode 19), (Reward: 500.0)\n",
            "(Episode 20), (Reward: 500.0)\n",
            "(Episode 21), (Reward: 417.0)\n",
            "(Episode 22), (Reward: 359.0)\n",
            "(Episode 23), (Reward: 500.0)\n",
            "(Episode 24), (Reward: 500.0)\n",
            "(Episode 25), (Reward: 344.0)\n",
            "(Episode 26), (Reward: 500.0)\n",
            "(Episode 27), (Reward: 500.0)\n",
            "(Episode 28), (Reward: 500.0)\n",
            "(Episode 29), (Reward: 500.0)\n",
            "(Episode 30), (Reward: 325.0)\n",
            "(Episode 31), (Reward: 357.0)\n",
            "(Episode 32), (Reward: 481.0)\n",
            "(Episode 33), (Reward: 500.0)\n",
            "(Episode 34), (Reward: 500.0)\n",
            "(Episode 35), (Reward: 500.0)\n",
            "(Episode 36), (Reward: 320.0)\n",
            "(Episode 37), (Reward: 317.0)\n",
            "(Episode 38), (Reward: 450.0)\n",
            "(Episode 39), (Reward: 328.0)\n",
            "(Episode 40), (Reward: 500.0)\n",
            "(Episode 41), (Reward: 332.0)\n",
            "(Episode 42), (Reward: 500.0)\n",
            "(Episode 43), (Reward: 500.0)\n",
            "(Episode 44), (Reward: 440.0)\n",
            "(Episode 45), (Reward: 330.0)\n",
            "(Episode 46), (Reward: 500.0)\n",
            "(Episode 47), (Reward: 500.0)\n",
            "(Episode 48), (Reward: 440.0)\n",
            "(Episode 49), (Reward: 500.0)\n",
            "(Episode 50), (Reward: 371.0)\n",
            "(Episode 51), (Reward: 500.0)\n",
            "(Episode 52), (Reward: 437.0)\n",
            "(Episode 53), (Reward: 500.0)\n",
            "(Episode 54), (Reward: 438.0)\n",
            "(Episode 55), (Reward: 440.0)\n",
            "(Episode 56), (Reward: 399.0)\n",
            "(Episode 57), (Reward: 497.0)\n",
            "(Episode 58), (Reward: 365.0)\n",
            "(Episode 59), (Reward: 330.0)\n",
            "(Episode 60), (Reward: 396.0)\n",
            "(Episode 61), (Reward: 500.0)\n",
            "(Episode 62), (Reward: 489.0)\n",
            "(Episode 63), (Reward: 470.0)\n",
            "(Episode 64), (Reward: 469.0)\n",
            "(Episode 65), (Reward: 486.0)\n",
            "(Episode 66), (Reward: 406.0)\n",
            "(Episode 67), (Reward: 350.0)\n",
            "(Episode 68), (Reward: 500.0)\n",
            "(Episode 69), (Reward: 421.0)\n",
            "(Episode 70), (Reward: 445.0)\n",
            "(Episode 71), (Reward: 500.0)\n",
            "(Episode 72), (Reward: 500.0)\n",
            "(Episode 73), (Reward: 499.0)\n",
            "(Episode 74), (Reward: 392.0)\n",
            "(Episode 75), (Reward: 500.0)\n",
            "(Episode 76), (Reward: 500.0)\n",
            "(Episode 77), (Reward: 500.0)\n",
            "(Episode 78), (Reward: 347.0)\n",
            "(Episode 79), (Reward: 500.0)\n",
            "(Episode 80), (Reward: 493.0)\n",
            "(Episode 81), (Reward: 500.0)\n",
            "(Episode 82), (Reward: 376.0)\n",
            "(Episode 83), (Reward: 481.0)\n",
            "(Episode 84), (Reward: 457.0)\n",
            "(Episode 85), (Reward: 435.0)\n",
            "(Episode 86), (Reward: 500.0)\n",
            "(Episode 87), (Reward: 500.0)\n",
            "(Episode 88), (Reward: 485.0)\n",
            "(Episode 89), (Reward: 500.0)\n",
            "(Episode 90), (Reward: 355.0)\n",
            "(Episode 91), (Reward: 397.0)\n",
            "(Episode 92), (Reward: 325.0)\n",
            "(Episode 93), (Reward: 442.0)\n",
            "(Episode 94), (Reward: 500.0)\n",
            "(Episode 95), (Reward: 421.0)\n",
            "(Episode 96), (Reward: 382.0)\n",
            "(Episode 97), (Reward: 500.0)\n",
            "(Episode 98), (Reward: 395.0)\n",
            "(Episode 99), (Reward: 495.0)\n"
          ]
        }
      ]
    },
    {
      "cell_type": "code",
      "source": [
        "mean_test_reward = np.mean(test_episode_rewards)\n",
        "plt.plot(test_episode_rewards)\n",
        "plt.xlabel(\"Episode\")\n",
        "plt.ylabel(\"Total Reward\")\n",
        "plt.title(\"DQN Training Rewards per Episode\")\n",
        "plt.grid(True)\n",
        "plt.show()"
      ],
      "metadata": {
        "id": "RGpCfN2X3Mcc",
        "outputId": "c1ca3151-2e2c-42ce-e2ff-bedb53e17260",
        "colab": {
          "base_uri": "https://localhost:8080/",
          "height": 472
        }
      },
      "id": "RGpCfN2X3Mcc",
      "execution_count": null,
      "outputs": [
        {
          "output_type": "display_data",
          "data": {
            "text/plain": [
              "<Figure size 640x480 with 1 Axes>"
            ],
            "image/png": "[encoded data removed]"
          },
          "metadata": {}
        }
      ]
    },
    {
      "cell_type": "code",
      "source": [
        "print(\"Average cumulative reward:\", mean_test_reward)\n",
        "print(\"Is my agent good enough?\", mean_test_reward > 195)"
      ],
      "metadata": {
        "id": "ItrDM9qdrNVT",
        "outputId": "edacd50c-6c8c-40ff-fb48-2d439598c41b",
        "colab": {
          "base_uri": "https://localhost:8080/"
        }
      },
      "id": "ItrDM9qdrNVT",
      "execution_count": null,
      "outputs": [
        {
          "output_type": "stream",
          "name": "stdout",
          "text": [
            "Average cumulative reward: 447.84\n",
            "Is my agent good enough? True\n"
          ]
        }
      ]
    },
    {
      "cell_type": "markdown",
      "source": [
        "## Task 3: Render an Episode played by the Agent"
      ],
      "metadata": {
        "id": "GimD8oJKE-Bk"
      },
      "id": "GimD8oJKE-Bk"
    },
    {
      "cell_type": "code",
      "source": [
        "# Numpy attribute error fix\n",
        "if not hasattr(np, \"bool8\"):\n",
        "  np.bool8 = np.bool_\n",
        "\n",
        "# Video Rendering will only work if the following directory exists,\n",
        "# \"MyDrive/ColabNotebooks\" in your Google Drive.\n",
        "# Ensure access is given to Google Drive Desktop to write to your Google Drive.\n",
        "# from google.colab import drive\n",
        "\n",
        "# If the Notebook is saved in your Google Drive uncomment these two lines and\n",
        "# comment out second video_path\n",
        "# drive.mount(\"/content/drive\")\n",
        "# video_path = \"/content/drive/MyDrive/ColabNotebooks\"\n",
        "\n",
        "video_path = \"./video\"\n",
        "\n",
        "env = RecordVideo(gym.make(\"CartPole-v1\"), video_path)\n",
        "observation = env.reset()\n",
        "done = False\n",
        "\n",
        "while not done:\n",
        "  env.render()\n",
        "  action = select_action(observation, 0.0)\n",
        "  observation, reward, done, _ = env.step(action)\n",
        "\n",
        "env.close()"
      ],
      "metadata": {
        "id": "JvVjox3MFLc6"
      },
      "id": "JvVjox3MFLc6",
      "execution_count": null,
      "outputs": []
    },
    {
      "cell_type": "code",
      "source": [
        "show_video()"
      ],
      "metadata": {
        "id": "KMBix0WFZFNZ",
        "outputId": "e4244c68-67c3-453b-8174-d7e81cc53001",
        "colab": {
          "base_uri": "https://localhost:8080/",
          "height": 421
        }
      },
      "id": "KMBix0WFZFNZ",
      "execution_count": null,
      "outputs": [
        {
          "output_type": "display_data",
          "data": {
            "text/plain": [
              "<IPython.core.display.HTML object>"
            ],
            "text/html": [
              "\n",
              "    <video alt=\"test\" autoplay loop controls style=\"height: 400px;\">\n",
              "      <source src=\"data:video/mp4;base64,AAAAIGZ0eXBpc29tAAACAGlzb21pc28yYXZjMW1wNDEAAAAIZnJlZQAASkJtZGF0AAACrgYF//+q3EXpvebZSLeWLNgg2SPu73gyNjQgLSBjb3JlIDE2MyByMzA2MCA1ZGI2YWE2IC0gSC4yNjQvTVBFRy00IEFWQyBjb2RlYyAtIENvcHlsZWZ0IDIwMDMtMjAyMSAtIGh0dHA6Ly93d3cudmlkZW9sYW4ub3JnL3gyNjQuaHRtbCAtIG9wdGlvbnM6IGNhYmFjPTEgcmVmPTMgZGVibG9jaz0xOjA6MCBhbmFseXNlPTB4MzoweDExMyBtZT1oZXggc3VibWU9NyBwc3k9MSBwc3lfcmQ9MS4wMDowLjAwIG1peGVkX3JlZj0xIG1lX3JhbmdlPTE2IGNocm9tYV9tZT0xIHRyZWxsaXM9MSA4eDhkY3Q9MSBjcW09MCBkZWFkem9uZT0yMSwxMSBmYXN0X3Bza2lwPTEgY2hyb21hX3FwX29mZnNldD0tMiB0aHJlYWRzPTMgbG9va2FoZWFkX3RocmVhZHM9MSBzbGljZWRfdGhyZWFkcz0wIG5yPTAgZGVjaW1hdGU9MSBpbnRlcmxhY2VkPTAgYmx1cmF5X2NvbXBhdD0wIGNvbnN0cmFpbmVkX2ludHJhPTAgYmZyYW1lcz0zIGJfcHlyYW1pZD0yIGJfYWRhcHQ9MSBiX2JpYXM9MCBkaXJlY3Q9MSB3ZWlnaHRiPTEgb3Blbl9nb3A9MCB3ZWlnaHRwPTIga2V5aW50PTI1MCBrZXlpbnRfbWluPTI1IHNjZW5lY3V0PTQwIGludHJhX3JlZnJlc2g9MCByY19sb29rYWhlYWQ9NDAgcmM9Y3JmIG1idHJlZT0xIGNyZj0yMy4wIHFjb21wPTAuNjAgcXBtaW49MCBxcG1heD02OSBxcHN0ZXA9NCBpcF9yYXRpbz0xLjQwIGFxPTE6MS4wMACAAAAB2WWIhAAz//727L4FNf2f0JcRLMXaSnA+KqSAgHc0wAAAAwAAAwAAFgn0I7DkqgN3QAAAHGAFBCwCPCVC2EhH2Olf8H/B4gYATgG6VZZk1iFW7oPjzHInN/xDA09GNRRFanQtEFeUkkYjm/WF6bBIooX9K3fWNTuS4vehf3K4+3Idfk2oHz4Et0ZFhhTzJ4njsHYqYPR/D1HPOKvtXzJ0k7m5u4PbC5bl/uK65U8nOP6Z8riehN+510ifhPcKufyxuLD9lGK5OCqDUSM+QH4BByMbz6N6QQMHFqdgS8JGFExMfUhmBOV++ImNPUnFSMa8OUALDVdlm2Tzk0R+iMfTWnNNyFU/XZ65u2zrPSyqnQYk4/fE+ER9LSd6cIVoYOoyX9j24M9xoMsCS1WMobrRX0UQzkHxTh00FzJMzrEnWLOYSOTPjQ/xTX0qROPJ4+W3U+6/LQWa6Aa8g3ke8V5XeMOWYGHVGxiksVz9xhr5KaKFwuPobjDu1zo4VFjuSGtyYN2UDG78Sbuvvab5wAs+cwLPZuJpRRIkAKCfNnJZOEKmFFnoU2QnaX2pz6gapBpjwTHGfeC7BvuYcviZhwpxAiy9kpZ8lhzlMhA0EDL7AzigAAADAAADAAEtAAAAcUGaJGxDP/6eEAAACfhT1A6KyPp6gno+Q4ACby6h7xXN/5E+BDvSyspbQ3sQCGH7JD9dLv2q60Jb7DQwoVSLayQ/ZmSAkS7i1CAhpQ5nZPLmnuB3Vo1LRLZGYhXjGprcFTjMmrnpS/7VEavnvd++oWEsAAAAN0GeQniEfwAAAwM5cZSmQBmer/rle5kRGGFSJVErl/P6gETE6KjnX8YHHSYfiM0i/2+5MlJr7YEAAAAdAZ5hdEf/AAADAENYfRyHXXdocDI+tiWz/iKXGzAAAAAdAZ5jakf/AAAFHzHxyXLTP+3T/KUh+5HUEdgyKCEAAABFQZpoSahBaJlMCGf//p4QAAAJ7QcMPk2fvACO6wv2G/c+vzzIyjOz067F7GWSA+E+0nbS5XsisS0QEQJodIANhBzr3ZjBAAAAKEGehkURLCP/AAADAHOumDOWFzjWqXp8ALX2HmvCZ5JVSIwb2zqX7JkAAAASAZ6ldEf/AAADABr8KJ3fiRQRAAAAGwGep2pH/wAAAwC6ZhLPfQntl9Sa5ltv02zW3AAAAExBmqxJqEFsmUwIZ//+nhAAAEVFJczjwDUPm42ZATlg7yD7xju5eygP7ahEt4jS7VNeyYwdoqa4Bw9W5V15aMw2xZvMHo2f7OwFJGthAAAAK0GeykUVLCP/AAAWvEPNHLIOsA3sxh+kMAaU73S92aIFfpbN0Qm1Wf16wgMAAAAdAZ7pdEf/AAAjuK/cVXu5U4w3dVzXiA+1smuOGNAAAAAhAZ7rakf/AAAjscwJb8HC7Dgh8utLsQljs80+ql2LX+STAAAAV0Ga8EmoQWyZTAhn//6eEAAACageljVN2KgAAnbfmOLqM1Es27OktW2XAMsd8jpf06c0zJCHInr02oJAJzR7wSxjAjhs7izjmb54NaqYzjxwDNTmPlQGYQAAAB9Bnw5FFSwj/wAAAwMlMc2jt5ZxI71LOdTaKVtHTEBBAAAADgGfLXRH/wAAAwAAAwGpAAAAGwGfL2pH/wAABPs01d7biGqCSBvo8OgkcJGTkgAAAGVBmzRJqEFsmUwIZ//+nhAAABnQ6zCiD7QAP5vzjE3kPpF7eeZtsHD6z1lCKUP3aqeczAVLdCggHUVJ8qrrndQz3pfwo/3LFZcyd+r9lhvUrZcw3L0SQGhyP9bQe66XhRK84p+XNgAAACBBn1JFFSwj/wAAAwM5MHm24ryWyyJEfvFpEBLSsURFtwAAABABn3F0R/8AAAMAuiFDnAcsAAAAHQGfc2pH/wAABR8g5aY421cJ2lO40T8sNS3MnXJMAAAAL0GbeEmoQWyZTAhn//6eEAAACe+nqqa3iNYVwvfQM7AJXIJ71VoShkh7AFrmjby/AAAAIEGflkUVLCP/AAADAzkwebbiuZWWnnqAORJp7GBM77ZgAAAADgGftXRH/wAAAwAAAwGpAAAAGwGft2pH/wAABR8wlnuJLTNXCs96Gh8AgpUyTQAAADJBm7xJqEFsmUwIZ//+nhAAAEVkn9GAOidv12usXl9YS2cv2TVeR+t2tvO4wNEwVeALKAAAACNBn9pFFSwj/wAAFrxDzRyyE+CvN30wg2m7Lu3SINAHcjhnJQAAACABn/l0R/8AACO4r9xVe6qsnmCK0zq3HTyKqJDkxLMfBgAAACQBn/tqR/8AACOxzAlvqr3qXxrqApokp5egkTwmwysIZPJS+zEAAAAXQZvgSahBbJlMCGf//p4QAAADAAADAz8AAAAmQZ4eRRUsI/8AAAMDI6580MNJLumSX4NZIWu4TaQpVf4pQPB0iwYAAAAbAZ49dEf/AAAE+9DCGG1xHpURNnvtKLn1he24AAAAGwGeP2pH/wAABPs01d7biGqCSBvo8OgkcJGTkwAAABdBmiRJqEFsmUwIZ//+nhAAAAMAAAMDPgAAACJBnkJFFSwj/wAAAwMjrm1wszav16FnW8nf2f1Wo4lSNAyTAAAAGwGeYXRH/wAABPvQwhhtcR6VETZ77Si59YXtuAAAABsBnmNqR/8AAAT7NNXe24hqgkgb6PDoJHCRk5MAAAA0QZpoSahBbJlMCGf//p4QAAAJqkDOa3BRYQRNg5A9w0QygApIoPtMqcSLUBrENooc4mSY4QAAAB1BnoZFFSwj/wAAAwMkUwrl69Eb9c/O06sCJPCtmQAAABsBnqV0R/8AAAT70MIYbXEelRE2e+0oufWF7bkAAAAOAZ6nakf/AAADAAADAakAAABPQZqsSahBbJlMCGf//p4QAABFRSXM48Aiwcn4KBbw8Vx3RMZkmpg0J88lLJ7XfdD9DztNtndvOo9mS7/vcDZfRYq7gfmyk+MJ5QrS0c8v3AAAAB9BnspFFSwj/wAAFrxDzbcVzKyZST4HQorLh57/1HJNAAAADgGe6XRH/wAAAwAAAwGpAAAAHQGe62pH/wAAI78EJxLJaZq4VlMfKjt+L62NBJJgAAAAR0Ga8EmoQWyZTAhn//6eEAAARVH19XC96Xmx7gM9EAONN2FxsTqv4r4bz7Toe8vIcjjN8zzDfcHB5xcuIgBMSwThDeJ2NfFhAAAAHUGfDkUVLCP/AAAWtSs3a1peuKKDwjCwOdzHmoclAAAAJgGfLXRH/wAAI8MXaKmX2FyWgBKwtr0zjFEvav/oNfOAEL2h9P+DAAAADgGfL2pH/wAAAwAAAwGpAAAAF0GbNEmoQWyZTAhn//6eEAAAAwAAAwM+AAAAEEGfUkUVLCP/AAADAAADAQcAAAAOAZ9xdEf/AAADAAADAakAAAAOAZ9zakf/AAADAAADAakAAAAXQZt4SahBbJlMCGf//p4QAAADAAADAz8AAAAuQZ+WRRUsI/8AAAMDG+5BBH4N1Inu4u5RJk5IYADhP2tMeoMtCRIjYHEz0O77ZgAAABoBn7V0R/8AAAT70MIYbXEem569eS0eZpYSAwAAABwBn7dqR/8AAAT7NNXe24hqgk8Tj5Bw/mRliO8HAAAAF0GbvEmoQWyZTAhn//6eEAAAAwAAAwM+AAAAIUGf2kUVLCP/AAADAyW77JiDfHzOYx9i+eJ8BnbYdAr9swAAABoBn/l0R/8AAAT70MIYbXEem569eS0eZpYSAgAAABsBn/tqR/8AAAT7NNXe24hqgkgb6PDoJHCRk5MAAABIQZvgSahBbJlMCGf//p4QAABFRSXM48Aiwcn4KBbw8Vz2Bq/FIkzXSRoTy+/KE+TBpU4JabHyt/wxXZLHOOEitzAZXUvkK4nBAAAAIUGeHkUVLCP/AAAWvEPNtxXOWheUuzYcriWq07vJ9aqSYAAAABoBnj10R/8AAAT70MIYbXEem569eS0eZpYSAgAAABcBnj9qR/8AACO/BCcSyWmauFZrKWWGNQAAAC5BmiRJqEFsmUwIZ//+nhAAAEVR9fVwvel6IWgjsEDpcUSblws2Lw269jVwv/iwAAAAIUGeQkUVLCP/AAAWtSs3a1sV+no9MLhmMyqvhDV7BeIckQAAABkBnmF0R/8AACPDF2ipl+awXjztIRk8OCFgAAAAGwGeY2pH/wAABPs01d7biGqCSBvo8OgkcJGTkwAAABpBmmhJqEFsmUwIZ//+nhAAAAMAAsTHD0eZ6QAAACBBnoZFFSwj/wAAAwMlu+yYg3x8zmMaGIitJOGd/DiICQAAABoBnqV0R/8AAAT70MIYbXEem569eS0eZpYSAwAAABsBnqdqR/8AAAT7NNXe24hqgkgb6PDoJHCRk5IAAAAXQZqsSahBbJlMCGf//p4QAAADAAADAz4AAAAgQZ7KRRUsI/8AAAMDJbvsmIN8fM5jGhiIrSThnfw4iAkAAAAaAZ7pdEf/AAAE+9DCGG1xHpuevXktHmaWEgIAAAAbAZ7rakf/AAAE+zTV3tuIaoJIG+jw6CRwkZOSAAAANUGa8EmoQWyZTAhn//6eEAAACapAzmtwUWEETcUAAQpyQmbhnEZCEe+89etaei1J/MKTomOBAAAAHUGfDkUVLCP/AAADAyRTCuXr0Rv1z87TqwIk8K2ZAAAAGgGfLXRH/wAABPvQwhhtcR6bnr15LR5mlhIDAAAADgGfL2pH/wAAAwAAAwGpAAAALEGbNEmoQWyZTAhn//6eEAAACagemBFze+o9GBQYWnqvoJmQR82p+kuFMhMcAAAAH0GfUkUVLCP/AAADAyUxzaO3lnEjvUs51NopW0dMQEEAAAAOAZ9xdEf/AAADAAADAakAAAAbAZ9zakf/AAAE+zTV3tuIaoJIG+jw6CRwkZOSAAAASEGbeEmoQWyZTAhn//6eEAAAAwAT31cH5RUKHDFyACwKeYTp9Av6uWE4eI2bIy38PjXPMEa6Iz8aZ64yJYDpovzKNMGg4KyswQAAACFBn5ZFFSwj/wAAAwMlu+yYg3x8zmMaGJW0TxgLUET/wYAAAAAaAZ+1dEf/AAAE+9DCGG1xHpuevXktHmaWEgMAAAAYAZ+3akf/AAAE+zTV3tuIaoJIBuSCt+DhAAAAMUGbvEmoQWyZTAhn//6eEAAACapAzmtwUWEETYOQNFIlDgBWUD11aMo6c4HAG1UBWUAAAAAaQZ/aRRUsI/8AAAMDJFMK5evRG/XMLlZX/HEAAAAXAZ/5dEf/AAAE+9DCGG1xHpucJr0XTBgAAAAOAZ/7akf/AAADAAADAakAAAA2QZvgSahBbJlMCGf//p4QAAADA7OizCAVGtMhrbPSH5SglHe+7iDHAkAPzdfdWs/C1AqfRCVnAAAAHUGeHkUVLCP/AAADATXk5rwv+3VrYb4QRY8f9j2zAAAADgGePXRH/wAAAwAAAwGpAAAAGwGeP2pH/wAAAwHmf9VJfxNx1fZ3GIeGpyY7cQAAAC5BmiRJqEFsmUwIZ//+nhAAAAMDtIHnNGpyFzOtRcAAuHlsAFGqL5YVWskz+bnwAAAAHEGeQkUVLCP/AAADATWBQ2mZfMHFb+nQuAZRbcEAAAAcAZ5hdEf/AAAFGmurpKI0PpFQ/vo//AVyq4XgwAAAAA4BnmNqR/8AAAMAAAMBqQAAABdBmmhJqEFsmUwIZ//+nhAAAAMAAAMDPwAAABBBnoZFFSwj/wAAAwAAAwEHAAAADgGepXRH/wAAAwAAAwGpAAAADgGep2pH/wAAAwAAAwGpAAAAF0GarEmoQWyZTAhn//6eEAAAAwAAAwM+AAAAEEGeykUVLCP/AAADAAADAQcAAAAOAZ7pdEf/AAADAAADAakAAAAOAZ7rakf/AAADAAADAakAAAA7QZrwSahBbJlMCGf//p4QAAADA7OizCAVGtMhrbO5XUcF9ppdC8xAAgW647lsqpbgOa7UpbhnM1hhAEEAAAAdQZ8ORRUsI/8AAAMBNeTmvC/7dWthvhBFjx/2PbMAAAAOAZ8tdEf/AAADAAADAakAAAAbAZ8vakf/AAADAeZ/1Ul/E3HV9ncYh4anJjtwAAAAKEGbNEmoQWyZTAhn//6eEAAAAwO0gec0anIXM60oqaYpF9gNMKenc+AAAAAcQZ9SRRUsI/8AAAMBNYFDaZl8wcVv6dC4BlFtwQAAABwBn3F0R/8AAAUaa6ukojQ+kVD++j/8BXKrheDAAAAADgGfc2pH/wAAAwAAAwGpAAAAN0GbeEmoQWyZTAhn//6eEAAARUUE9y5wFv9lRVi6jWZqf4adQerpDo7dFV0f3Ev8FLeZix/VIeEAAAAaQZ+WRRUsI/8AABa8Q823FcysmUk+dp/ucpoAAAAOAZ+1dEf/AAADAAADAakAAAAYAZ+3akf/AAAjvwQnEslpmrhWVRbO8VLxAAAATUGbvEmoQWyZTAhf//6MsAAARhGsEOSf1XfcvN97Yf92P4KAALn3ATnVzJqk9L4E80eMx4XKCGtYvg6JkQ4HdAG9qNjdak5Ut4pCkZDXAAAAIUGf2kUVLCP/AAAWtSs3a3AodzrZYdo5xJEA4FtnYHetuQAAABYBn/l0R/8AACPDF2ippVPU/KYj/QS8AAAAGwGf+2pH/wAABR801bGTC8/rwBUNX82QRbDtwQAAACFBm/9JqEFsmUwIZ//+nhAAAAMBYjat4fQ6sYADo6BFakEAAAASQZ4dRRUsI/8AAAMAcUByAIuAAAAAJAGePmpH/wAABQ4Rx+YlnEb/4LAx4CeB4aWuIcQuzfby/Jv/gwAAADVBmiNJqEFsmUwIZ//+nhAAAEVFBPcucBb/ZUVYuo1maRc1zZsimN/zKb5raXvAZCv+CtoaEQAAAC5BnkFFFSwj/wAAFrUrN2tasvjUAdiqwDX6VHWgkgAHGZautGLUygLzTcBCXeDAAAAAHQGeYHRH/wAAI6v4W3gSnWjL+fRN5NSIeKByrEBBAAAAGgGeYmpH/wAABPk+YbdkZ20XCcm+/tu1akmAAAAAF0GaZ0moQWyZTAhn//6eEAAAAwAAAwM/AAAAHEGehUUVLCP/AAAWvqOd/l1KxRsPldN7Os1F4Y0AAAAYAZ6kdEf/AAAjq/hbeBKdaClpEwEHzDGhAAAAFgGepmpH/wAAI7HMCW+pb7IVltssMaEAAAAXQZqrSahBbJlMCGf//p4QAAADAAADAz4AAAAwQZ7JRRUsI/8AAAMDI6580PJnk3MNgAi+tR2M+1gcv9u4bDcmKlEuIF7twV49czbcAAAAGwGe6HRH/wAAAwHaih56+jYWko9u2N/Q8LCAgQAAABoBnupqR/8AAAT5PmG3ZGdtFwnJvv7btWpJgAAAABdBmu9JqEFsmUwIZ//+nhAAAAMAAAMDPgAAAClBnw1FFSwj/wAAFrNHtw3DigBbTOzu+ndapMiaNP85gHldbLtdhcFCkwAAABkBnyx0R/8AACOr+Ft4Ep1qqjzDkj04sMaBAAAAFgGfLmpH/wAAI7HMCW+pb7IVltssMaEAAAAXQZszSahBbJlMCGf//p4QAAADAAADAz4AAAAxQZ9RRRUsI/8AAAMDI655bn9MMzGEmQAOLUo7E5jVnQQD7Fp4CIcDfpBdpzMmUb0bZgAAABsBn3B0R/8AAAMB2ooeevo2FpKPbtjf0PCwgIEAAAAaAZ9yakf/AAAE+T5ht2RnbRcJyb7+27VqSYAAAAAXQZt3SahBbJlMCGf//p4QAAADAAADAz4AAAAQQZ+VRRUsI/8AAAMAAAMBBwAAAA4Bn7R0R/8AAAMAAAMBqQAAAA4Bn7ZqR/8AAAMAAAMBqQAAABdBm7tJqEFsmUwIZ//+nhAAAAMAAAMDPwAAABBBn9lFFSwj/wAAAwAAAwEHAAAADgGf+HRH/wAAAwAAAwGpAAAADgGf+mpH/wAAAwAAAwGpAAAAF0Gb/0moQWyZTAhn//6eEAAAAwAAAwM/AAAAMEGeHUUVLCP/AAADAyOufNDyZ5NzDYAIvrUdjPtYHL/buGw3JipRLiBe7cFePXM23QAAABsBnjx0R/8AAAMB2ooeevo2FpKPbtjf0PCwgIAAAAAaAZ4+akf/AAAE+T5ht2RnbRcJyb7+27VqSYAAAAAXQZojSahBbJlMCGf//p4QAAADAAADAz8AAAAQQZ5BRRUsI/8AAAMAAAMBBwAAAA4BnmB0R/8AAAMAAAMBqQAAAA4BnmJqR/8AAAMAAAMBqQAAABdBmmdJqEFsmUwIZ//+nhAAAAMAAAMDPwAAADVBnoVFFSwj/wAAAwMjrnzQ8meTcw2ACL61HYz7WBy/27hsIHIcMqdhLeWmxBxfJgGiN4EwYQAAACABnqR0R/8AAAMB2ooeevo2FpKWETW7D0fIxjbSyuyfiwAAABYBnqZqR/8AAAT5PmG3ZGdtFuX2XXFBAAAAF0Gaq0moQWyZTAhn//6eEAAAAwAAAwM+AAAAJkGeyUUVLCP/AAADAzdw+e2OiATdwjOegqwcgESPccFhHywukbZgAAAAGgGe6HRH/wAAAwHlih4ZqHirW6mW/Me0G9+DAAAAGQGe6mpH/wAABR0+YOBt2/E/ERn5KLRzHbgAAAAXQZrvSahBbJlMCGf//p4QAAADAAADAz4AAAAhQZ8NRRUsI/8AAAMDNiPxHRQt0XsBhUOH7Eivm3hoyfBhAAAAGgGfLHRH/wAAAwHlih4ZqHirW6mW/Me0G9+DAAAAGQGfLmpH/wAABR0+YOBt2/E/ERn5KLRzHbkAAAAXQZszSahBbJlMCGf//p4QAAADAAADAz4AAAAQQZ9RRRUsI/8AAAMAAAMBBwAAAA4Bn3B0R/8AAAMAAAMBqQAAAA4Bn3JqR/8AAAMAAAMBqQAAABdBm3dJqEFsmUwIZ//+nhAAAAMAAAMDPgAAACZBn5VFFSwj/wAAAwM3cPntjogE3cIznoKsHIBEj3HBYR8sLpG2YQAAABoBn7R0R/8AAAMB5YoeGah4q1uplvzHtBvfgwAAABkBn7ZqR/8AAAUdPmDgbdvxPxEZ+Si0cx25AAAAF0Gbu0moQWyZTAhn//6eEAAAAwAAAwM/AAAAIEGf2UUVLCP/AAAWsyu1BbTjqLAk+F6TvtWixtLEgyGfAAAAGAGf+HRH/wAAI6v4W3gSnWgjiLFRCJw9YQAAABYBn/pqR/8AACOxzAlvqW+yFVKFrBLwAAAAF0Gb/0moQWyZTAhn//6eEAAAAwAAAwM/AAAAJkGeHUUVLCP/AAADAzdw+e2OiATdwjOegqwcgESPccFhHywukbZhAAAAGgGePHRH/wAAAwHlih4ZqHirW6mW/Me0G9+DAAAAGQGePmpH/wAABR0+YOBt2/E/ERn5KLRzHbgAAABWQZojSahBbJlMCGf//p4QAABFRQg0AVshSHKYjWGUHRO00l35tKuzdhb49gU7a3xEzbdIUDCjB1Xf58FBLKW++DnwkHvwH7v2bMobkMip0gmwoPOyLKEAAAAZQZ5BRRUsI/8AABa1KzdrWl64rBHLJGaLKAAAABkBnmB0R/8AACOr+Ft4Ep1oJFhEgVBR3SbhAAAAGQGeYmpH/wAAI8e9ixm/yyR2lvm/8D0X8+4AAAAaQZpnSahBbJlMCGf//p4QAAADAWsA6IzAHdEAAAAyQZ6FRRUsI/8AABa+o53+XUrrmsPjK3yjoqDfgjVDlbUACg2oxP8Q1QOQAl4t2eBrNs0AAAAcAZ6kdEf/AAAjq/hbeBKdaCOIEZ65GgPdC/MrZwAAABsBnqZqR/8AACOxzAlvqW+yFUj7/AYoyD53nJEAAAAXQZqrSahBbJlMCGf//p4QAAADAAADAz4AAAAhQZ7JRRUsI/8AABbAmz9h/YZByEVo3cKkfpr8PD6dRSSYAAAAHAGe6HRH/wAAI6v4W3gSnWgjiBGeuRoD3QvzK2cAAAAbAZ7qakf/AAAjscwJb6lvshVI+/wGKMg+d5yQAAAATEGa70moQWyZTAhn//6eEAAAGd9RWK1gaZwfKecDdkvn6pbgaYJyogDfBIIq+wBImlKCUQBcZyPWbdTb5Zfu3ESSBOleWT/ksC88DI0AAAAhQZ8NRRUsI/8AABbAmz9h/YZByEVo3fyAp//gkr07qm25AAAAHAGfLHRH/wAAI6v4W3gSnWgjiBGeuRoD3QvzK2cAAAAWAZ8uakf/AAAjscwJb6lvshWW2ywxoQAAABdBmzNJqEFsmUwIZ//+nhAAAAMAAAMDPgAAACFBn1FFFSwj/wAAAwMjrpFgw5XFTu5LvvQcTx1XHnjvnJAAAAAbAZ9wdEf/AAAE+Ft56+jYWi8lcE5v1a+cItmBAAAAGgGfcmpH/wAABPk+YbdkZ20XCcm+/tu1akmAAAAAF0Gbd0moQWyZTAhn//6eEAAAAwAAAwM+AAAAEEGflUUVLCP/AAADAAADAQcAAAAOAZ+0dEf/AAADAAADAakAAAAOAZ+2akf/AAADAAADAakAAAAXQZu7SahBbJlMCGf//p4QAAADAAADAz8AAAAQQZ/ZRRUsI/8AAAMAAAMBBwAAAA4Bn/h0R/8AAAMAAAMBqQAAAA4Bn/pqR/8AAAMAAAMBqQAAABdBm/9JqEFsmUwIZ//+nhAAAAMAAAMDPwAAABBBnh1FFSwj/wAAAwAAAwEHAAAADgGePHRH/wAAAwAAAwGpAAAADgGePmpH/wAAAwAAAwGpAAAAF0GaI0moQWyZTAhn//6eEAAAAwAAAwM/AAAAEEGeQUUVLCP/AAADAAADAQcAAAAOAZ5gdEf/AAADAAADAakAAAAOAZ5iakf/AAADAAADAakAAAAXQZpnSahBbJlMCGf//p4QAAADAAADAz8AAAAkQZ6FRRUsI/8AAAMDI6580PJnk2h7O15RLkGNSF1nIAmGqvwZAAAAGwGepHRH/wAABPhbeevo2pPLXjwQmp/cb2C9mQAAABoBnqZqR/8AAAT5PmG3ZGdtFwnJvv7btWpJgQAAABdBmqtJqEFsmUwIZ//+nhAAAAMAAAMDPgAAABBBnslFFSwj/wAAAwAAAwEHAAAADgGe6HRH/wAAAwAAAwGpAAAADgGe6mpH/wAAAwAAAwGpAAAAF0Ga70moQWyZTAhn//6eEAAAAwAAAwM+AAAAEEGfDUUVLCP/AAADAAADAQcAAAAOAZ8sdEf/AAADAAADAakAAAAOAZ8uakf/AAADAAADAakAAAAXQZszSahBbJlMCGf//p4QAAADAAADAz4AAAAQQZ9RRRUsI/8AAAMAAAMBBwAAAA4Bn3B0R/8AAAMAAAMBqQAAAA4Bn3JqR/8AAAMAAAMBqQAAABdBm3dJqEFsmUwIZ//+nhAAAAMAAAMDPgAAAD5Bn5VFFSwj/wAAAwM2aGt4WtCkPQKiIgCtH5FkawZvKEh0wo3LEsqaKnYgxura+rpmewiFD5fJxpZKkfb2zQAAABsBn7R0R/8AAAMB5YoeIdPYQ7sa0jyrRFU4/gwAAAAZAZ+2akf/AAAFHT5g4G3b8T8RGfkotHMduQAAADBBm7lJqEFsmUwUTCP//eEAAAMAOIXBr1vIgSM8md2WHOXJMT7nzyynbMagMoGoRIEAAAAbAZ/Yakf/AAAFIIHhW9LGOyXmj8xM7FOrD23AAAABwmWIggAP//73aJ8Cm1pDeoDklcUl20+B/6tncHyP6QMAAAMAAAMAABW3pGWGQnQv8mIAAAV8ALIF2ESEgFLG8KgSvJn8PNpwAG2H+yGrB2ueXlmYvbOt4K7mRrXAeD+LdpC/79XfyvS0+m8H+Zqv4eNizcQEUXUGpav1IYGoFL+k/tgYEHbWJTLWUAMLAcVkInX78lZx0KrEeTKNDEr6QSmLpPlBl3U9igK9bHH0CjPim+d1f1avabt8lK/ljvehcMgaA+V9OsPiLMPLW7hyWLs2ACK4dgkO4SGbxbQIFR67MCYlRk80BHJ1kQs0JsuE4dJlzK82YXSUnjeOsi+kK/3UGjmVWyXp02zTTJu1PDWE6Ej98YldLm6wOdjwY3JLCxA6Txx5V92Devc9GanBg6gl31aIIBToVHzXlA0P4V52YvZsUFN2p83DOK7xhNiSl/+H9492aJfZmte1ME/y4eFf+InEGl0/WAd/nQ4yMmJQPSEeJUOgWdIABfOwhtPwNmlP8dvfZmrQHIYW1tR7Mu+thcjOV+aYXYaTLbQRO6C5YsAHJXy1cGBb3a7jvcAAzlAKvL2AAAADAAADAAADAAAFbQAAABFBmiRsQz/+nhAAAAMAAAMDPgAAADVBnkJ4hH8AABazKdJRGU+vHbsERstb3oTLYz0aJ51D6e/3FPpn5PegzZQqi/734RyYFsRDPwAAABcBnmF0R/8AACPDF2ippVPU+8J2xxDZgQAAABcBnmNqR/8AACO/BCcSyWmauFexsjGBrQAAAE9BmmhJqEFomUwIZ//+nhAAAEWAHYohroj7oOsL8s9jqIHmllcpNfT/sUW23yvSg7Y/7PuA+ZSdMNBlvx4dN8YpwZMIybVUVDBrBwuwKI+AAAAAQ0GehkURLCP/AAAWvEPNtxWydGp35iVpepAP+gCNv+hbJHtRhw2YEfFT9kzD/cO+gJnCLmdYLt2TIpudCEtgCBqfO2cAAAAaAZ6ldEf/AAAFH9DBzraNw1fYEVoInGZXbMAAAAAdAZ6nakf/AAAjvwQnEslpnTBYDASFtfEk5LGXUk0AAAAbQZqsSahBbJlMCGf//p4QAAAZt09QdsfMABqQAAAAIUGeykUVLCP/AAAWwJs/Yf2GQcsYZDcQjxg5dgoPEH21swAAABwBnul0R/8AACPDF2ippVPU+8IJjrAYLdbrsEBBAAAAHQGe62pH/wAAI78EJxLJaZq4VlMfKjt+L62NBJJhAAAAF0Ga8EmoQWyZTAhn//6eEAAAAwAAAwM/AAAAIUGfDkUVLCP/AAAWwJs/Yf2GQchFaN3CpH6a/Dw+nUUkmAAAABwBny10R/8AACPDF2ippVPU+8IJjrAYLdbrsEBAAAAAHQGfL2pH/wAAI78EJxLJaZq4VlMfKjt+L62NBJJhAAAAF0GbNEmoQWyZTAhn//6eEAAAAwAAAwM+AAAAMEGfUkUVLCP/AAAIKwBt4Df0d6ypMgYHvnb+2/g4j6tZSFdl1kDgANPVmyQwB77ZgAAAAB0Bn3F0R/8AAA0164eM9pkgVQbif51OBbkU8Z224QAAABwBn3NqR/8AAA00natjatIsH1n5OihhR6xM8FsxAAAAIUGbeEmoQWyZTAhn//6eEAAAAwAGx55CCc/KPYWYESzGVQAAACBBn5ZFFSwj/wAACDFPslhdnc5/+B3q02QEFAvqOMJJgAAAAB0Bn7V0R/8AAA0164eM9pkgVQbif51OBbkU8Z224AAAABwBn7dqR/8AAA00natjatIsH1n5OihhR6xM8FsxAAAAF0GbvEmoQWyZTAhn//6eEAAAAwAAAwM+AAAAIEGf2kUVLCP/AAAIMU+yWF2dzn/4HerTZAQUC+o4wkmAAAAAHQGf+XRH/wAADTXrh4z2mSBVBuJ/nU4FuRTxnbbhAAAAHAGf+2pH/wAADTSdq2Nq0iwfWfk6KGFHrEzwWzAAAABKQZvgSahBbJlMCGf//p4QAAADABPfVwflFQb3D+DS6MAK3PC5lKjNOrX2zLjSYwSSWgHIFO1VBKRoZNGY6lTH+1X6pK8oN8wDZYEAAAAgQZ4eRRUsI/8AAAgxT7JYXZ3Of/gd6tN9gaYsT+iyO28AAAAdAZ49dEf/AAANNeuHjPaZIFUG4n+dTgW5FPGdtuAAAAAZAZ4/akf/AAANNJ2rY2rSLB9Z+Os7T1iggQAAAHhBmiRJqEFsmUwIZ//+nhAAABm6Vl0WpHrWIWNwAccEtk6zP6WdIJg2EFxJOdLdcBKe65iPCtnPozVnV5O+OgE+glXj82/gfDof4NENNhig4fYmN+Ct4DuKn/V88c4tnLCI9QPBs2SnQOJBOljsxOZruA8PHTmy5GAAAAAiQZ5CRRUsI/8AAAgsDLb+7F2cvXpWuEZxsL7oG1ca0g8NswAAABsBnmF0R/8AAA0164eM9pkgVQbifzFdJJvNbcMAAAAaAZ5jakf/AAAFHzTVsaywKoCYnECyxjArJbMAAAAaQZpoSahBbJlMCGf//p4QAAADAAKf4XHrOTgAAAAgQZ6GRRUsI/8AAAMDObvslhcg4M6mOsNl6n4CiQGaioEAAAAaAZ6ldEf/AAAFH9DBzxsJ+AX8UbtS0ygh5IAAAAAaAZ6nakf/AAAFHzTVsaywKoCYnEC3gzHKCAkAAAAXQZqsSahBbJlMCGf//p4QAAADAAADAz4AAAAgQZ7KRRUsI/8AAAMDObvslhcg4M6mOsNl6n4CiQGaioEAAAAZAZ7pdEf/AAAFH9DBzxsJ+AX8UbtS0oiGzQAAABoBnutqR/8AAAUfNNWxrLAqgJicQLeDMcoICQAAABdBmvBJqEFsmUwIX//+jLAAAAMAAAMDQwAAACBBnw5FFSwj/wAAAwM5u+yWFyDgzqY6w2XqfgKJAZqKgAAAABkBny10R/8AAAUf0MHPGwn4BfxRu1LSiIbMAAAAGgGfL2pH/wAABR801bGssCqAmJxAt4MxyggJAAAAF0GbNEmoQWyZTAhf//6MsAAAAwAAAwNCAAAAM0GfUkUVLCP/AAAWsyyLxJkTfEOBf3IqJqwAtmsTDGlK437/vojaYZ96hvsa0eOYin18WAAAABoBn3F0R/8AACPDPg542E9CrFsBmWYkW0RpJwAAAB0Bn3NqR/8AACO/Gs573gqay2Vq8m6Y55UJmulJMQAAABdBm3hJqEFsmUwIX//+jLAAAAMAAAMDQwAAACRBn5ZFFSwj/wAAFsCfZLC5BwnwTVhJMvNb8eHWxcYXfEBYpbQAAAAaAZ+1dEf/AAAjwz4OeNhPQqxbAZlmJFtEaSYAAAAcAZ+3akf/AAAjvxrOe94KmtLzZSholYGe8zokmQAAADVBm7lJqEFsmUwIZ//+nhAAAEVSBnNazjB8epJX9ZoACc+0s+3jHpVF3BgEDwI9bFoYFQ3pCwAAABZBm91J4QpSZTAhn/6eEAAAAwAAAwM+AAAAIkGf+0U0TCP/AAADAzl80rqDzsdG4Te90hdTX6TYgUmG7MEAAAAZAZ4adEf/AAAFHFt5ksfH/0VqiHzVXRsrJgAAABkBnhxqR/8AAAUdPmDiZxyCNBp19v+TvsmBAAAAF0GaAUmoQWiZTAhn//6eEAAAAwAAAwM/AAAAIEGeP0URLCP/AAADAzm77JYXIODOpjrDZep+AokBmoqAAAAAGQGeXnRH/wAABRxbeZLHx/9Faoh81V0bKycAAAAZAZ5Aakf/AAAFHT5g4mccgjQadfb/k77JgAAAACJBmkVJqEFsmUwIZ//+nhAAAAMAB5+eQhLyM9snvmsCej0hAAAAIEGeY0UVLCP/AAADAzm77JYXIODOpjrDZep+AokBmoqBAAAAGQGegnRH/wAABRxbeZLHx/9Faoh81V0bKyYAAAAZAZ6Eakf/AAAFHT5g4mccgjQadfb/k77JgAAAABdBmolJqEFsmUwIZ//+nhAAAAMAAAMDPwAAACBBnqdFFSwj/wAAAwM5u+yWFyDgzqY6w2XqfgKJAZqKgAAAABkBnsZ0R/8AAAUcW3mSx8f/RWqIfNVdGysnAAAAGQGeyGpH/wAABR0+YOJnHII0GnX2/5O+yYAAAAAXQZrNSahBbJlMCGf//p4QAAADAAADAz8AAAA4QZ7rRRUsI/8AAAMBNMSEmkAzSAFehggApUWnaevu+VF1FNkmbjXvtP7vwawMqwChaz3BWaXhn1UAAAAYAZ8KdEf/AAADAeWKEdfG29BDIC79X/crAAAAFAGfDGpH/wAAAwHlzUaYmccNSfVRAAAAF0GbEUmoQWyZTAhn//6eEAAAAwAAAwM+AAAAJUGfL0UVLCP/AAADATYp9ppAXhiog48kuq0eQcgPml/pM6zgbMAAAAAaAZ9OdEf/AAADAeWKHmSx9rxZRR341jsXhs0AAAAZAZ9Qakf/AAADAeXNRpiZ3hNbiozRKapBswAAAD9Bm1VJqEFsmUwIZ//+nhAAAEVFCDQBPhhjmf8BrtGjt+7ffo58Ux1YYn5Zt8B+EK1jijWitGuBfeAjh0nVpCwAAAAlQZ9zRRUsI/8AABdMQ89fmeu9rS6Pcq8gaPXMZLhMOdNgoBypgQAAABoBn5J0R/8AAAMB5YoeZLH2vFlFHfjWOxeGzQAAAB4Bn5RqR/8AACS++KYjNGcDqpyaNk9iwNhJpxbA9IEAAAAaQZuZSahBbJlMCGf//p4QAAADAIt8WLvQGzAAAAAmQZ+3RRUsI/8AAAMDL+5BBHhV0mcUZKLPeQhshyBvp8Dg8fgj9IAAAAAnAZ/WdEf/AAAjwLmhu+yOCNY+YhdIidNQV/+8oygIVNYCbUiLP5BxAAAAGgGf2GpH/wAAAwHkWwf2PAhqfG19Uv3++L7YAAAAO0Gb3UmoQWyZTAhn//6eEAAAGn/kQQAtgVetkLuVxWllxPOy5vys/4AJjn5C1DmbSxiVAP9KV80gSruBAAAAHkGf+0UVLCP/AAADAzm77JYXIODO6zI2U7BSjzrtiwAAABoBnhp0R/8AAAUcW3mSx8f/xi6iIQ3SNgdswAAAABEBnhxqR/8AAA2HkHtQr/Wb8QAAACxBmgFJqEFsmUwIZ//+nhAAABpqEqhACwSVg8eNKEq70zWdMKNdh4KVGzAlYQAAABhBnj9FFSwj/wAACGwKHkVnIAN+mcBj7oAAAAAUAZ5edEf/AAANfhLzJY+P8+1Z248AAAAQAZ5Aakf/AAADAAOg/8VswAAAABpBmkVJqEFsmUwIZ//+nhAAAAMAM76isWYO6QAAABRBnmNFFSwj/wAAAwAQWBcME+ah4QAAABIBnoJ0R/8AAAMAGlwpIu34h4AAAAAQAZ6Eakf/AAADAAOg/8VswAAAABdBmolJqEFsmUwIZ//+nhAAAAMAAAMDPwAAABJBnqdFFSwj/wAAAwACTFPyGzAAAAAQAZ7GdEf/AAADAAOfFHuFgQAAABABnshqR/8AAAMAA6D/xWzAAAAAGUGazUmoQWyZTAhn//6eEAAAAwAHEQPT0g8AAAASQZ7rRRUsI/8AAAMAAksCuIWBAAAAEAGfCnRH/wAAAwADnxR7hYEAAAAOAZ8Makf/AAADAAADAakAAABbQZsRSahBbJlMCGf//p4QAABFRQg0AUA+r+NoqqaiQRm/wJEvI/cwkxvEpRaHFS/4MN9FK6ktXQRbvIhj9iRC8J4x0YHa4vi5EN2Z0i5l6SOATR0rLHrBXXDggAAAAB1Bny9FFSwj/wAAFrVXfqZuzFJq8vjgJee78v6FBAAAABUBn050R/8AACOsOQWuTyKIfRyAgYEAAAAaAZ9Qakf/AAAjx8a6cItCTIUl44ScU3Iwr4AAAAAhQZtVSahBbJlMCGf//p4QAAAJqkDOa3BVDVrnM6jSMBdwAAAAQ0Gfc0UVLCP/AAAWvqaVzBvszgUsTiki69PfgA2jxzRtDUOME25s12akYQfryGR/9/ssuiHPFs1mdlNqhPY6DkmJWxcAAAAfAZ+SdEf/AAAjrDkFrk3aa+z9ON0RdCOJ/Eta7NQcCQAAAB8Bn5RqR/8AACOyHSKlDD6Dp5vQgOag2WsW84lXW4GzAAAARkGbmUmoQWyZTAhn//6eEAAAAwAUb1b4HqvTW53M47y8ADapZcXPffAc9U81JMl5d3t/1+/lWrDwviMuQR1Xc1WMPhOoALMAAAAnQZ+3RRUsI/8AAAhScJH92fT16yKsdK00zdlAZF/HrOiKBja9MVioAAAAGwGf1nRH/wAADX4UKqoszFTcigM4Uqqu8I0JgQAAABYBn9hqR/8AAAMAuifMHEzunAGHkmDAAAAALUGb3UmoQWyZTAhn//6eEAAAGlpWVh+MImAMeY7Wpu+MTYAoIU11BeHjB2LWpAAAABlBn/tFFSwj/wAACGwKHkVnH+xQiGoar3vdAAAAFwGeGnRH/wAADX4S8yWPj+ryTpVcFFQQAAAAEQGeHGpH/wAAAwADzQPnEFMPAAAAF0GaAUmoQWyZTAhn//6eEAAAAwAAAwM/AAAAEkGeP0UVLCP/AAADAAJsU/IZ8AAAABABnl50R/8AAAMAA8sUe35BAAAAEAGeQGpH/wAAAwADzP/FZ8AAAABjQZpFSahBbJlMCGf//p4QAAADA7Usr/KJRgA2fedAjOvWQKTEVoiIUC7riMD4DIAq5uD7AezWguaEyV5AZSVKnUcuf2n87ZeVZa83e3QWWGs7gufDbxxPXejBhskoL9U6VOZhAAAAIEGeY0UVLCP/AAADATXk5swthSZprbY4XXMDNVAkaQmBAAAAEAGegnRH/wAAAwADyxR7fkAAAAAdAZ6Eakf/AAADAeXNUmWLvb1BWwCprbHAVhSo8hMAAAAfQZqJSahBbJlMCGf//p4QAAADAWrh28QRUuqHPYSdMQAAACxBnqdFFSwj/wAAFrMsi8SbfZ7Z49mIUd/iqsgbsJk3eiED5diZE7hUV/aEwAAAABsBnsZ0R/8AACOsOQWuTx8/FaaneW/AOGT7mYEAAAAcAZ7Iakf/AAAjsisFsRcvVSXIm3G41gm3OJ5CYAAAAEFBms1JqEFsmUwIZ//+nhAAAEVSJcAIrGfqfMgmFI4KorOnjngogzYkFASiCxThhJKeUMb59G/45t///G/epokqHwAAACtBnutFFSwj/wAAFrVYZ8AAbqPBVy2PGNEUj4f+1RH47B+TdoACK/6PQ2zBAAAAHwGfCnRH/wAAI6w6KbpLj0ESAH1R4CTV0ZgAI0hrjAkAAAAbAZ8Makf/AAAFHT5g4M2zWR/6w5+zYjdUNi3BAAAAIUGbEUmoQWyZTAhn//6eEAAAAwAS1JBkEtwmnff4VvytgAAAABJBny9FFSwj/wAAAwACbFPyGfAAAAAQAZ9OdEf/AAADAAPLFHt+QQAAABABn1BqR/8AAAMAA8z/xWfAAAAAIEGbVUmoQWyZTAhn//6eEAAAAwAS2TczKuQTQJStmKSAAAAAEkGfc0UVLCP/AAADAAJsU/IZ8QAAABABn5J0R/8AAAMAA8sUe35BAAAAEAGflGpH/wAAAwADzP/FZ8EAAABJQZuZSahBbJlMCGf//p4QAABFRQkgAE2q3skPSWjZiEF5UC4z78/nH/0lssANB4ywtafy68j1MvXoK0riyYU88sJPUPZP401rPgAAACJBn7dFFSwj/wAAFrxObMLp9K030eIkw5uollXDzaV8GKaAAAAAEAGf1nRH/wAAAwADyxR7fkEAAAAaAZ/Yakf/AAAjsisHF35DGQcdmUb14MjBj7gAAABBQZvdSahBbJlMCGf//p4QAABHum9JMP+xoyBeH71YJfiEANSCf1Vxg16af6P4IVD1twirJl6jIfnxu2LPfO/i8OAAAAAkQZ/7RRUsI/8AABdFWv6+IIsE0RKfMOSD6fltIgFVT0mcZ9alAAAAFgGeGnRH/wAAJKw9HroccZO0dknA1YAAAAAlAZ4cakf/AAAjrl/7N+fIlW+th3J9zEZzBQC7dMIXD5hO9Pj49wAAABdBmgFJqEFsmUwIZ//+nhAAAAMAAAMDPwAAAB9Bnj9FFSwj/wAAAwM5u+yWFyDgzuZUnwzrzqD+H8eAAAAAGQGeXnRH/wAABRxbeZLHx//GJ7C/vZxx/j0AAAAZAZ5Aakf/AAADAeXNRpiZ3hNNSG2D7gBe9wAAABdBmkVJqEFsmUwIX//+jLAAAAMAAAMDQwAAABJBnmNFFSwj/wAAAwACbFPyGfEAAAAQAZ6CdEf/AAADAAPLFHt+QAAAABABnoRqR/8AAAMAA8z/xWfAAAAAVUGaiUmoQWyZTAhf//6MsAAASALPV6FAHJGeJU4rckQgZg/49tqwlDrfAGjqk+ZYAqOg2aiNBeiQbdZWMlqdTJ12aVBb4YEBy8zgSdeQ2zu1UiTnCHkAAAAbQZ6nRRUsI/8AABdMQ823FcysmUk+dp/oquXBAAAAEAGexnRH/wAAAwADyxR7fkEAAAAZAZ7Iakf/AAAkvwQnEslpmrhWVRbOuRqHgAAAABtBmstJqEFsmUwUTDP//p4QAAADAXSvzAOzAQcAAAAaAZ7qakf/AAAkx72LGb/LJHaW+b/wPQzF1NEAAABRQZrvSeEKUmUwIZ/+nhAAAAMAFGs2/OHAr1bRlrIXVAQR8lZNnOBm1/T1NFoUTyracIrnw2pyk9aS9+FYDoH1myAxdrk34kPsqXkl4c16/HTBAAAAOEGfDUU0TCP/AAAXTqOd2x3F3Jd/V1q5AKLMCW9riil1zvXanKzFPxWb1oP6r2JQw2w9AOOiLEdfAAAAHgGfLHRH/wAAJKv4W3gSnWgjiCQgaUan0O0dJmx7gAAAAB8Bny5qR/8AACSxzAlvqW+yFUj7/FAZOg1m4JznW2pAAAAARUGbM0moQWiZTAhn//6eEAAACe+F5oACBA9+18zRraWd89RdRexo2VNURlkMY5Fe7x942ogZaQ3EQ3xTQ7VBmxvvqUCTgQAAABxBn1FFESwj/wAAAwM4Uwrl69EjFhU66jdCApeQAAAAFwGfcHRH/wAABRxbeevo2FovI/b1Rn96AAAADgGfcmpH/wAAAwAAAwGpAAAAV0Gbd0moQWyZTAhn//6eEAAAAwPJos4IZOS8sQqegAlezst+jlWw9in89SR+AtAb2i7cCQdM2IuGpAO4TXc44pp1n6k2cKs2cOAbI/wet5gWimx8RHmvQQAAAB5Bn5VFFSwj/wAAAwE+xOa8L/81WZer5GNu6M6qbUkAAAAOAZ+0dEf/AAADAAADAakAAAAZAZ+2akf/AAAFP2Hq8mAFgAsRZrXz0mwrXgAAADdBm7tJqEFsmUwIZ//+nhAAAEdFCDQCuFNfw+GmCakka4laYkKH9cz3g+/qZHIXldcu8uxP8qPTAAAAJUGf2UUVLCP/AAAXRSs3a1qy+NYpJWaVVRbuEfHQQ9B90DXlPLAAAAAhAZ/4dEf/AAAkwxdoqaVUNTi1G6IXV6JVgADnsQ7Na73AAAAAIAGf+mpH/wAAJMe9ixnABL4hHSrJOnq9WTYAerZ+/Ja9AAAAF0Gb/0moQWyZTAhn//6eEAAAAwAAAwM+AAAALEGeHUUVLCP/AAADAy9rK/W/eZu4AiYLoiuB7GhLiBrNSjZpX/7sEADiRLWpAAAAHAGePHRH/wAAAwHlinhvdF+iz7qIbrPqidNctSEAAAAaAZ4+akf/AAAFHT5ht2RnbRcJyb7+27VqRYAAAAAXQZojSahBbJlMCGf//p4QAAADAAADAz8AAAAQQZ5BRRUsI/8AAAMAAAMBBwAAAA4BnmB0R/8AAAMAAAMBqQAAAA4BnmJqR/8AAAMAAAMBqQAAAEpBmmdJqEFsmUwIZ//+nhAAAAMDyaLOCH3JEg9Y+/1bPE9erkck0ml4gDPfbpF4XvNbmLIt5opMQG+RxA+EwCDA1smDhOkKDLxjSAAAAB1BnoVFFSwj/wAAAwE+xOa8L/t1a2G+EEWPH/Y9qQAAAA4BnqR0R/8AAAMAAAMBqQAAAB8BnqZqR/8AAAU/Yeryv1hFGPRoASypvB94z4uyCdeAAAAAQEGaq0moQWyZTAhn//6eEAAAR0UEy0zpyABKuEmpNgdtNebPT0w8RXvhz+bN4xeJZ63kusN4GEzHuR5uxGIxMekAAAAqQZ7JRRUsI/8AABdFKzdrbU0dgYKwV9DUzpmjWr/PNKegiZdfI8kIDdqQAAAAHQGe6HRH/wAAJKv4W3gSnWd9PbYbLHhRQhh58lODAAAAIgGe6mpH/wAABUMuZmSG2TYZo+6UJWgBLOMUKFaenvRBWpEAAAAhQZrvSahBbJlMCGf//p4QAAADAXX8IoADjGopxFmfqZrjAAAAIkGfDUUVLCP/AAADA027Z/II+Q71wXJQLSot6lwbxB+9IsEAAAAeAZ8sdEf/AAAFQFJrm3DTxjfnQV9aR16QUFNo2M4IAAAAHgGfLmpH/wAABUMuZmSG2TYThtUwqbW69/Y5bFVD3AAAAElBmzNJqEFsmUwIZ//+nhAAAAo3J9YOqc+Ksaisxvs7UVPAAgU0RxkH2CUzn/NSDg1ttkljgf79iG6j//FZkcXnL7WuCk4/IydRAAAAIkGfUUUVLCP/AAADA0277jfXg+FSPcrPWlsQkfyMOM1WrakAAAATAZ9wdEf/AAAFQFxK+3HYGLC8gAAAABkBn3JqR/8AAAVBPmDgbd64DyA78/xeMOdfAAAAKkGbd0moQWyZTAhn//6eEAAAR0UE9xxhv+zfoAPnkXgPSCur+b9lHfSFgQAAACZBn5VFFSwj/wAAF0UrN2taKtQelgTlx5r3dMg1r4kV2DqYROq2vQAAAB0Bn7R0R/8AACSr+Ft4Ep1ozQhSmhkeX4MV80QlFgAAABoBn7ZqR/8AAAUdPmG3ZGdtFwnJvv7btWpFgAAAABdBm7tJqEFsmUwIZ//+nhAAAAMAAAMDPwAAACFBn9lFFSwj/wAAAwM5u+unWIKy3koXt7INySPiI9WuHuAAAAAbAZ/4dEf/AAAFHFt56+jYWi8lcE5v1a+cItSAAAAAGgGf+mpH/wAABR0+YbdkZ20XCcm+/tu1akWBAAAAKkGb/0moQWyZTAhn//6eEAAAR0UE9y5wB0jWd4G9WdVH6pCdg3wYO5LTZgAAABpBnh1FFSwj/wAAF0xDzbcVzKyZST52n+5yhwAAAA4Bnjx0R/8AAAMAAAMBqQAAABcBnj5qR/8AACSxzAlvq+aXFw68DEsPCAAAAD9BmiNJqEFsmUwIZ//+nhAAAAMDtHcg0ADzJxMPmKUd3IQo+hI3MtBDniHW/Fcz/iu0n3LCBY9cszJ8wxHJ34EAAAAeQZ5BRRUsI/8AAAMDN66OWjmdiTRvkAMlL5SG9BSLAAAADgGeYHRH/wAAAwAAAwGpAAAAGQGeYmpH/wAABR0+YOLuNuxUN9ar3+9FUi0AAAAXQZpnSahBbJlMCGf//p4QAAADAAADAz4AAAAQQZ6FRRUsI/8AAAMAAAMBBwAAAA4BnqR0R/8AAAMAAAMBqQAAAA4BnqZqR/8AAAMAAAMBqQAAADVBmqtJqEFsmUwIX//+jLAAAEgC094BFJxmRGUzQaidEV1NJUls7xZ4+OByP52QdLcPkWyEPQAAABpBnslFFSwj/wAAF0xDzbcVzKyZST4HQnJj5gAAAA4Bnuh0R/8AAAMAAAMBqQAAABgBnupqR/8AACSxzAlvqW+yG2XNMrPQLKEAAAA2QZrvSahBbJlMCF///oywAAADAXj8V4ACdckeqTBYYdHxAUVj1KyjAY1tTZGxUpM2WTp4KFw9AAAAHkGfDUUVLCP/AAADAHQYV8Uq9+H3ymNxIdw2J2l3uQAAABEBnyx0R/8AAAMARVhyDJhdwAAAABwBny5qR/8AAAUOEcfmM1rb5JzkFUGe8lvq2siwAAAAMUGbM0moQWyZTAhf//6MsAAASALQegZADORuotHFs9lT/9AdPl8aG2xopeeHUGJtg6cAAAAcQZ9RRRUsI/8AABdMQ823FcnZDUH4dAKnPaxRWwAAABABn3B0R/8AAAUcW3mugIeAAAAAFwGfcmpH/wAAJL8EJxLJaZq4VlUW5oJPAAAAO0Gbd0moQWyZTAhX//44QAAAZ3+NtAC2fAvGBYyrdXhTTc3aiFsxCw4b9h+Kivk4pDLH+2MpgzA8vejhAAAAH0GflUUVLCP/AAADATVH/THCAvfJvZA86oI1RlyucEEAAAAOAZ+0dEf/AAADAAADAakAAAAaAZ+2akf/AAAFHT5ht2RnbRcJyb7+27VqRYAAAAAnQZu5SahBbJlMFEx//IQAAAMA3MJn40Z5azHW/ez+KpQAEyOnsHpBAAAAGgGf2GpH/wAABSCB4XbqdW0Gd2Dp3fv3M8PcAAABKGWIhAAr//72c3wKa0czlS4Fdvdmo+XQkuX7EGD60AAAAwAAAwAATcVEzosKY8TZAAADAFxAEeCwCPCVC2EhH2OplPAzV6AAOFyNkl7k7PGdpr1Jfpyv8mOl3RWouBscHiRx+tJNwuHFHTnh+fNQPJfOe4Ab6L9sFJaaVAWzYLM8gDruvQN1U6rTI3nirKP/rx96lt4JU8timuRB00Sj+86vre+EjIGAAN0O030AHRzJQNLXssIq6I+EEJYESfxhNaaLhq0b9Inv92AlHkrQZG6kSxLrOkdDqCD5HsGW+xJ7yDIZnqenB51n+xpxvL4GSCQ9Leu3AFzRJ5JZos7yKzcKuwM5qaoyZ86dv+SWhdr6zLx1d4AEAKEA2sEIADkQAd4AAAMAABAQAAAap21vb3YAAABsbXZoZAAAAAAAAAAAAAAAAAAAA+gAACckAAEAAAEAAAAAAAAAAAAAAAABAAAAAAAAAAAAAAAAAAAAAQAAAAAAAAAAAAAAAAAAQAAAAAAAAAAAAAAAAAAAAAAAAAAAAAAAAAAAAAAAAAIAABnRdHJhawAAAFx0a2hkAAAAAwAAAAAAAAAAAAAAAQAAAAAAACckAAAAAAAAAAAAAAAAAAAAAAABAAAAAAAAAAAAAAAAAAAAAQAAAAAAAAAAAAAAAAAAQAAAAAJYAAABkAAAAAAAJGVkdHMAAAAcZWxzdAAAAAAAAAABAAAnJAAAAgAAAQAAAAAZSW1kaWEAAAAgbWRoZAAAAAAAAAAAAAAAAAAAMgAAAfUAVcQAAAAAAC1oZGxyAAAAAAAAAAB2aWRlAAAAAAAAAAAAAAAAVmlkZW9IYW5kbGVyAAAAGPRtaW5mAAAAFHZtaGQAAAABAAAAAAAAAAAAAAAkZGluZgAAABxkcmVmAAAAAAAAAAEAAAAMdXJsIAAAAAEAABi0c3RibAAAALBzdHNkAAAAAAAAAAEAAACgYXZjMQAAAAAAAAABAAAAAAAAAAAAAAAAAAAAAAJYAZAASAAAAEgAAAAAAAAAAQAAAAAAAAAAAAAAAAAAAAAAAAAAAAAAAAAAAAAAAAAAABj//wAAADZhdmNDAWQAH//hABlnZAAfrNlAmDPl4QAAAwABAAADAGQPGDGWAQAGaOvjyyLA/fj4AAAAABRidHJ0AAAAAAAAO0MAADtDAAAAGHN0dHMAAAAAAAAAAQAAAfUAAAEAAAAAHHN0c3MAAAAAAAAAAwAAAAEAAAD7AAAB9QAAD7BjdHRzAAAAAAAAAfQAAAABAAACAAAAAAEAAAUAAAAAAQAAAgAAAAABAAAAAAAAAAEAAAEAAAAAAQAABQAAAAABAAACAAAAAAEAAAAAAAAAAQAAAQAAAAABAAAFAAAAAAEAAAIAAAAAAQAAAAAAAAABAAABAAAAAAEAAAUAAAAAAQAAAgAAAAABAAAAAAAAAAEAAAEAAAAAAQAABQAAAAABAAACAAAAAAEAAAAAAAAAAQAAAQAAAAABAAAFAAAAAAEAAAIAAAAAAQAAAAAAAAABAAABAAAAAAEAAAUAAAAAAQAAAgAAAAABAAAAAAAAAAEAAAEAAAAAAQAABQAAAAABAAACAAAAAAEAAAAAAAAAAQAAAQAAAAABAAAFAAAAAAEAAAIAAAAAAQAAAAAAAAABAAABAAAAAAEAAAUAAAAAAQAAAgAAAAABAAAAAAAAAAEAAAEAAAAAAQAABQAAAAABAAACAAAAAAEAAAAAAAAAAQAAAQAAAAABAAAFAAAAAAEAAAIAAAAAAQAAAAAAAAABAAABAAAAAAEAAAUAAAAAAQAAAgAAAAABAAAAAAAAAAEAAAEAAAAAAQAABQAAAAABAAACAAAAAAEAAAAAAAAAAQAAAQAAAAABAAAFAAAAAAEAAAIAAAAAAQAAAAAAAAABAAABAAAAAAEAAAUAAAAAAQAAAgAAAAABAAAAAAAAAAEAAAEAAAAAAQAABQAAAAABAAACAAAAAAEAAAAAAAAAAQAAAQAAAAABAAAFAAAAAAEAAAIAAAAAAQAAAAAAAAABAAABAAAAAAEAAAUAAAAAAQAAAgAAAAABAAAAAAAAAAEAAAEAAAAAAQAABQAAAAABAAACAAAAAAEAAAAAAAAAAQAAAQAAAAABAAAFAAAAAAEAAAIAAAAAAQAAAAAAAAABAAABAAAAAAEAAAUAAAAAAQAAAgAAAAABAAAAAAAAAAEAAAEAAAAAAQAABQAAAAABAAACAAAAAAEAAAAAAAAAAQAAAQAAAAABAAAFAAAAAAEAAAIAAAAAAQAAAAAAAAABAAABAAAAAAEAAAUAAAAAAQAAAgAAAAABAAAAAAAAAAEAAAEAAAAAAQAABQAAAAABAAACAAAAAAEAAAAAAAAAAQAAAQAAAAABAAAFAAAAAAEAAAIAAAAAAQAAAAAAAAABAAABAAAAAAEAAAUAAAAAAQAAAgAAAAABAAAAAAAAAAEAAAEAAAAAAQAABQAAAAABAAACAAAAAAEAAAAAAAAAAQAAAQAAAAABAAAFAAAAAAEAAAIAAAAAAQAAAAAAAAABAAABAAAAAAEAAAUAAAAAAQAAAgAAAAABAAAAAAAAAAEAAAEAAAAAAQAABAAAAAACAAABAAAAAAEAAAUAAAAAAQAAAgAAAAABAAAAAAAAAAEAAAEAAAAAAQAABQAAAAABAAACAAAAAAEAAAAAAAAAAQAAAQAAAAABAAAFAAAAAAEAAAIAAAAAAQAAAAAAAAABAAABAAAAAAEAAAUAAAAAAQAAAgAAAAABAAAAAAAAAAEAAAEAAAAAAQAABQAAAAABAAACAAAAAAEAAAAAAAAAAQAAAQAAAAABAAAFAAAAAAEAAAIAAAAAAQAAAAAAAAABAAABAAAAAAEAAAUAAAAAAQAAAgAAAAABAAAAAAAAAAEAAAEAAAAAAQAABQAAAAABAAACAAAAAAEAAAAAAAAAAQAAAQAAAAABAAAFAAAAAAEAAAIAAAAAAQAAAAAAAAABAAABAAAAAAEAAAUAAAAAAQAAAgAAAAABAAAAAAAAAAEAAAEAAAAAAQAABQAAAAABAAACAAAAAAEAAAAAAAAAAQAAAQAAAAABAAAFAAAAAAEAAAIAAAAAAQAAAAAAAAABAAABAAAAAAEAAAUAAAAAAQAAAgAAAAABAAAAAAAAAAEAAAEAAAAAAQAABQAAAAABAAACAAAAAAEAAAAAAAAAAQAAAQAAAAABAAAFAAAAAAEAAAIAAAAAAQAAAAAAAAABAAABAAAAAAEAAAUAAAAAAQAAAgAAAAABAAAAAAAAAAEAAAEAAAAAAQAABQAAAAABAAACAAAAAAEAAAAAAAAAAQAAAQAAAAABAAAFAAAAAAEAAAIAAAAAAQAAAAAAAAABAAABAAAAAAEAAAUAAAAAAQAAAgAAAAABAAAAAAAAAAEAAAEAAAAAAQAABQAAAAABAAACAAAAAAEAAAAAAAAAAQAAAQAAAAABAAAFAAAAAAEAAAIAAAAAAQAAAAAAAAABAAABAAAAAAEAAAUAAAAAAQAAAgAAAAABAAAAAAAAAAEAAAEAAAAAAQAABQAAAAABAAACAAAAAAEAAAAAAAAAAQAAAQAAAAABAAAFAAAAAAEAAAIAAAAAAQAAAAAAAAABAAABAAAAAAEAAAUAAAAAAQAAAgAAAAABAAAAAAAAAAEAAAEAAAAAAQAABQAAAAABAAACAAAAAAEAAAAAAAAAAQAAAQAAAAABAAAFAAAAAAEAAAIAAAAAAQAAAAAAAAABAAABAAAAAAEAAAUAAAAAAQAAAgAAAAABAAAAAAAAAAEAAAEAAAAAAQAABQAAAAABAAACAAAAAAEAAAAAAAAAAQAAAQAAAAABAAAFAAAAAAEAAAIAAAAAAQAAAAAAAAABAAABAAAAAAEAAAMAAAAAAQAAAQAAAAABAAACAAAAAAEAAAUAAAAAAQAAAgAAAAABAAAAAAAAAAEAAAEAAAAAAQAABQAAAAABAAACAAAAAAEAAAAAAAAAAQAAAQAAAAABAAAFAAAAAAEAAAIAAAAAAQAAAAAAAAABAAABAAAAAAEAAAUAAAAAAQAAAgAAAAABAAAAAAAAAAEAAAEAAAAAAQAABQAAAAABAAACAAAAAAEAAAAAAAAAAQAAAQAAAAABAAAFAAAAAAEAAAIAAAAAAQAAAAAAAAABAAABAAAAAAEAAAUAAAAAAQAAAgAAAAABAAAAAAAAAAEAAAEAAAAAAQAABQAAAAABAAACAAAAAAEAAAAAAAAAAQAAAQAAAAABAAAFAAAAAAEAAAIAAAAAAQAAAAAAAAABAAABAAAAAAEAAAUAAAAAAQAAAgAAAAABAAAAAAAAAAEAAAEAAAAAAQAABQAAAAABAAACAAAAAAEAAAAAAAAAAQAAAQAAAAABAAAFAAAAAAEAAAIAAAAAAQAAAAAAAAABAAABAAAAAAEAAAUAAAAAAQAAAgAAAAABAAAAAAAAAAEAAAEAAAAAAQAABQAAAAABAAACAAAAAAEAAAAAAAAAAQAAAQAAAAABAAACAAAAAAEAAAUAAAAAAQAAAgAAAAABAAAAAAAAAAEAAAEAAAAAAQAABQAAAAABAAACAAAAAAEAAAAAAAAAAQAAAQAAAAABAAAFAAAAAAEAAAIAAAAAAQAAAAAAAAABAAABAAAAAAEAAAUAAAAAAQAAAgAAAAABAAAAAAAAAAEAAAEAAAAAAQAABQAAAAABAAACAAAAAAEAAAAAAAAAAQAAAQAAAAABAAAFAAAAAAEAAAIAAAAAAQAAAAAAAAABAAABAAAAAAEAAAUAAAAAAQAAAgAAAAABAAAAAAAAAAEAAAEAAAAAAQAABQAAAAABAAACAAAAAAEAAAAAAAAAAQAAAQAAAAABAAAFAAAAAAEAAAIAAAAAAQAAAAAAAAABAAABAAAAAAEAAAUAAAAAAQAAAgAAAAABAAAAAAAAAAEAAAEAAAAAAQAABQAAAAABAAACAAAAAAEAAAAAAAAAAQAAAQAAAAABAAAFAAAAAAEAAAIAAAAAAQAAAAAAAAABAAABAAAAAAEAAAUAAAAAAQAAAgAAAAABAAAAAAAAAAEAAAEAAAAAAQAABQAAAAABAAACAAAAAAEAAAAAAAAAAQAAAQAAAAABAAAFAAAAAAEAAAIAAAAAAQAAAAAAAAABAAABAAAAAAEAAAUAAAAAAQAAAgAAAAABAAAAAAAAAAEAAAEAAAAAAQAABQAAAAABAAACAAAAAAEAAAAAAAAAAQAAAQAAAAABAAAFAAAAAAEAAAIAAAAAAQAAAAAAAAABAAABAAAAAAEAAAUAAAAAAQAAAgAAAAABAAAAAAAAAAEAAAEAAAAAAQAABQAAAAABAAACAAAAAAEAAAAAAAAAAQAAAQAAAAABAAAFAAAAAAEAAAIAAAAAAQAAAAAAAAABAAABAAAAAAEAAAUAAAAAAQAAAgAAAAABAAAAAAAAAAEAAAEAAAAAAQAABQAAAAABAAACAAAAAAEAAAAAAAAAAQAAAQAAAAABAAAFAAAAAAEAAAIAAAAAAQAAAAAAAAABAAABAAAAAAEAAAUAAAAAAQAAAgAAAAABAAAAAAAAAAEAAAEAAAAAAQAABQAAAAABAAACAAAAAAEAAAAAAAAAAQAAAQAAAAABAAAFAAAAAAEAAAIAAAAAAQAAAAAAAAABAAABAAAAAAEAAAUAAAAAAQAAAgAAAAABAAAAAAAAAAEAAAEAAAAAAQAAAwAAAAABAAABAAAAAAEAAAUAAAAAAQAAAgAAAAABAAAAAAAAAAEAAAEAAAAAAQAABQAAAAABAAACAAAAAAEAAAAAAAAAAQAAAQAAAAABAAAFAAAAAAEAAAIAAAAAAQAAAAAAAAABAAABAAAAAAEAAAUAAAAAAQAAAgAAAAABAAAAAAAAAAEAAAEAAAAAAQAABQAAAAABAAACAAAAAAEAAAAAAAAAAQAAAQAAAAABAAAFAAAAAAEAAAIAAAAAAQAAAAAAAAABAAABAAAAAAEAAAUAAAAAAQAAAgAAAAABAAAAAAAAAAEAAAEAAAAAAQAABQAAAAABAAACAAAAAAEAAAAAAAAAAQAAAQAAAAABAAAFAAAAAAEAAAIAAAAAAQAAAAAAAAABAAABAAAAAAEAAAUAAAAAAQAAAgAAAAABAAAAAAAAAAEAAAEAAAAAAQAABQAAAAABAAACAAAAAAEAAAAAAAAAAQAAAQAAAAABAAAFAAAAAAEAAAIAAAAAAQAAAAAAAAABAAABAAAAAAEAAAUAAAAAAQAAAgAAAAABAAAAAAAAAAEAAAEAAAAAAQAABQAAAAABAAACAAAAAAEAAAAAAAAAAQAAAQAAAAABAAAFAAAAAAEAAAIAAAAAAQAAAAAAAAABAAABAAAAAAEAAAUAAAAAAQAAAgAAAAABAAAAAAAAAAEAAAEAAAAAAQAABQAAAAABAAACAAAAAAEAAAAAAAAAAQAAAQAAAAABAAAFAAAAAAEAAAIAAAAAAQAAAAAAAAABAAABAAAAAAEAAAUAAAAAAQAAAgAAAAABAAAAAAAAAAEAAAEAAAAAAQAAAwAAAAABAAABAAAAAAEAAAIAAAAAHHN0c2MAAAAAAAAAAQAAAAEAAAH1AAAAAQAAB+hzdHN6AAAAAAAAAAAAAAH1AAAEjwAAAHUAAAA7AAAAIQAAACEAAABJAAAALAAAABYAAAAfAAAAUAAAAC8AAAAhAAAAJQAAAFsAAAAjAAAAEgAAAB8AAABpAAAAJAAAABQAAAAhAAAAMwAAACQAAAASAAAAHwAAADYAAAAnAAAAJAAAACgAAAAbAAAAKgAAAB8AAAAfAAAAGwAAACYAAAAfAAAAHwAAADgAAAAhAAAAHwAAABIAAABTAAAAIwAAABIAAAAhAAAASwAAACEAAAAqAAAAEgAAABsAAAAUAAAAEgAAABIAAAAbAAAAMgAAAB4AAAAgAAAAGwAAACUAAAAeAAAAHwAAAEwAAAAlAAAAHgAAABsAAAAyAAAAJQAAAB0AAAAfAAAAHgAAACQAAAAeAAAAHwAAABsAAAAkAAAAHgAAAB8AAAA5AAAAIQAAAB4AAAASAAAAMAAAACMAAAASAAAAHwAAAEwAAAAlAAAAHgAAABwAAAA1AAAAHgAAABsAAAASAAAAOgAAACEAAAASAAAAHwAAADIAAAAgAAAAIAAAABIAAAAbAAAAFAAAABIAAAASAAAAGwAAABQAAAASAAAAEgAAAD8AAAAhAAAAEgAAAB8AAAAsAAAAIAAAACAAAAASAAAAOwAAAB4AAAASAAAAHAAAAFEAAAAlAAAAGgAAAB8AAAAlAAAAFgAAACgAAAA5AAAAMgAAACEAAAAeAAAAGwAAACAAAAAcAAAAGgAAABsAAAA0AAAAHwAAAB4AAAAbAAAALQAAAB0AAAAaAAAAGwAAADUAAAAfAAAAHgAAABsAAAAUAAAAEgAAABIAAAAbAAAAFAAAABIAAAASAAAAGwAAADQAAAAfAAAAHgAAABsAAAAUAAAAEgAAABIAAAAbAAAAOQAAACQAAAAaAAAAGwAAACoAAAAeAAAAHQAAABsAAAAlAAAAHgAAAB0AAAAbAAAAFAAAABIAAAASAAAAGwAAACoAAAAeAAAAHQAAABsAAAAkAAAAHAAAABoAAAAbAAAAKgAAAB4AAAAdAAAAWgAAAB0AAAAdAAAAHQAAAB4AAAA2AAAAIAAAAB8AAAAbAAAAJQAAACAAAAAfAAAAUAAAACUAAAAgAAAAGgAAABsAAAAlAAAAHwAAAB4AAAAbAAAAFAAAABIAAAASAAAAGwAAABQAAAASAAAAEgAAABsAAAAUAAAAEgAAABIAAAAbAAAAFAAAABIAAAASAAAAGwAAACgAAAAfAAAAHgAAABsAAAAUAAAAEgAAABIAAAAbAAAAFAAAABIAAAASAAAAGwAAABQAAAASAAAAEgAAABsAAABCAAAAHwAAAB0AAAA0AAAAHwAAAcYAAAAVAAAAOQAAABsAAAAbAAAAUwAAAEcAAAAeAAAAIQAAAB8AAAAlAAAAIAAAACEAAAAbAAAAJQAAACAAAAAhAAAAGwAAADQAAAAhAAAAIAAAACUAAAAkAAAAIQAAACAAAAAbAAAAJAAAACEAAAAgAAAATgAAACQAAAAhAAAAHQAAAHwAAAAmAAAAHwAAAB4AAAAeAAAAJAAAAB4AAAAeAAAAGwAAACQAAAAdAAAAHgAAABsAAAAkAAAAHQAAAB4AAAAbAAAANwAAAB4AAAAhAAAAGwAAACgAAAAeAAAAIAAAADkAAAAaAAAAJgAAAB0AAAAdAAAAGwAAACQAAAAdAAAAHQAAACYAAAAkAAAAHQAAAB0AAAAbAAAAJAAAAB0AAAAdAAAAGwAAADwAAAAcAAAAGAAAABsAAAApAAAAHgAAAB0AAABDAAAAKQAAAB4AAAAiAAAAHgAAACoAAAArAAAAHgAAAD8AAAAiAAAAHgAAABUAAAAwAAAAHAAAABgAAAAUAAAAHgAAABgAAAAWAAAAFAAAABsAAAAWAAAAFAAAABQAAAAdAAAAFgAAABQAAAASAAAAXwAAACEAAAAZAAAAHgAAACUAAABHAAAAIwAAACMAAABKAAAAKwAAAB8AAAAaAAAAMQAAAB0AAAAbAAAAFQAAABsAAAAWAAAAFAAAABQAAABnAAAAJAAAABQAAAAhAAAAIwAAADAAAAAfAAAAIAAAAEUAAAAvAAAAIwAAAB8AAAAlAAAAFgAAABQAAAAUAAAAJAAAABYAAAAUAAAAFAAAAE0AAAAmAAAAFAAAAB4AAABFAAAAKAAAABoAAAApAAAAGwAAACMAAAAdAAAAHQAAABsAAAAWAAAAFAAAABQAAABZAAAAHwAAABQAAAAdAAAAHwAAAB4AAABVAAAAPAAAACIAAAAjAAAASQAAACAAAAAbAAAAEgAAAFsAAAAiAAAAEgAAAB0AAAA7AAAAKQAAACUAAAAkAAAAGwAAADAAAAAgAAAAHgAAABsAAAAUAAAAEgAAABIAAABOAAAAIQAAABIAAAAjAAAARAAAAC4AAAAhAAAAJgAAACUAAAAmAAAAIgAAACIAAABNAAAAJgAAABcAAAAdAAAALgAAACoAAAAhAAAAHgAAABsAAAAlAAAAHwAAAB4AAAAuAAAAHgAAABIAAAAbAAAAQwAAACIAAAASAAAAHQAAABsAAAAUAAAAEgAAABIAAAA5AAAAHgAAABIAAAAcAAAAOgAAACIAAAAVAAAAIAAAADUAAAAgAAAAFAAAABsAAAA/AAAAIwAAABIAAAAeAAAAKwAAAB4AAAEsAAAAFHN0Y28AAAAAAAAAAQAAADAAAABidWR0YQAAAFptZXRhAAAAAAAAACFoZGxyAAAAAAAAAABtZGlyYXBwbAAAAAAAAAAAAAAAAC1pbHN0AAAAJal0b28AAAAdZGF0YQAAAAEAAAAATGF2ZjU4Ljc2LjEwMA==\" type=\"video/mp4\" />\n",
              "    </video>\n",
              "    "
            ]
          },
          "metadata": {}
        }
      ]
    },
    {
      "cell_type": "markdown",
      "source": [
        "## References:\n",
        "> https://arxiv.org/abs/2007.06700<br>\n",
        "> https://arxiv.org/abs/1312.5602<br>\n",
        "> https://pytorch.org/tutorials/intermediate/reinforcement_q_learning.html<br>\n",
        "> https://www.geeksforgeeks.org/understanding-prioritized-experience-replay/<br>\n",
        "> https://github.com/philtabor/Deep-Q-Learning-Paper-To-Code<br>"
      ],
      "metadata": {
        "id": "VG8APIuZDBtd"
      },
      "id": "VG8APIuZDBtd"
    }
  ],
  "metadata": {
    "kernelspec": {
      "display_name": "Python 3 (ipykernel)",
      "language": "python",
      "name": "python3"
    },
    "language_info": {
      "codemirror_mode": {
        "name": "ipython",
        "version": 3
      },
      "file_extension": ".py",
      "mimetype": "text/x-python",
      "name": "python",
      "nbconvert_exporter": "python",
      "pygments_lexer": "ipython3",
      "version": "3.12.7"
    },
    "colab": {
      "provenance": [],
      "include_colab_link": true
    }
  },
  "nbformat": 4,
  "nbformat_minor": 5
}